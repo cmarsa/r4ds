{
 "cells": [
  {
   "cell_type": "markdown",
   "metadata": {},
   "source": [
    "# __08 Data Import with readr__"
   ]
  },
  {
   "cell_type": "code",
   "execution_count": 1,
   "metadata": {},
   "outputs": [
    {
     "name": "stderr",
     "output_type": "stream",
     "text": [
      "── \u001b[1mAttaching packages\u001b[22m ─────────────────────────────────────── tidyverse 1.3.0 ──\n",
      "\n",
      "\u001b[32m✔\u001b[39m \u001b[34mggplot2\u001b[39m 3.3.2     \u001b[32m✔\u001b[39m \u001b[34mpurrr  \u001b[39m 0.3.4\n",
      "\u001b[32m✔\u001b[39m \u001b[34mtibble \u001b[39m 3.0.3     \u001b[32m✔\u001b[39m \u001b[34mdplyr  \u001b[39m 1.0.1\n",
      "\u001b[32m✔\u001b[39m \u001b[34mtidyr  \u001b[39m 1.1.1     \u001b[32m✔\u001b[39m \u001b[34mstringr\u001b[39m 1.4.0\n",
      "\u001b[32m✔\u001b[39m \u001b[34mreadr  \u001b[39m 1.3.1     \u001b[32m✔\u001b[39m \u001b[34mforcats\u001b[39m 0.5.0\n",
      "\n",
      "── \u001b[1mConflicts\u001b[22m ────────────────────────────────────────── tidyverse_conflicts() ──\n",
      "\u001b[31m✖\u001b[39m \u001b[34mdplyr\u001b[39m::\u001b[32mfilter()\u001b[39m masks \u001b[34mstats\u001b[39m::filter()\n",
      "\u001b[31m✖\u001b[39m \u001b[34mdplyr\u001b[39m::\u001b[32mlag()\u001b[39m    masks \u001b[34mstats\u001b[39m::lag()\n",
      "\n"
     ]
    }
   ],
   "source": [
    "# libraries\n",
    "library(tidyverse)\n",
    "\n",
    "# config\n",
    "repr_html.tbl_df <- function(obj, ..., rows = 6) repr:::repr_html.data.frame(obj, ..., rows = rows)\n",
    "options(dplyr.summarise.inform = FALSE)"
   ]
  },
  {
   "cell_type": "markdown",
   "metadata": {},
   "source": [
    "Most of readr’s functions are concerned with turning flat files into\n",
    "data frames:\n",
    "* `read_csv()` reads comma-delimited files, `read_csv2()` reads\n",
    "semicolon-separated files (common in countries where , is used\n",
    "as the decimal place), `read_tsv()` reads tab-delimited files, and\n",
    "`read_delim()` reads in files with any delimiter."
   ]
  },
  {
   "cell_type": "markdown",
   "metadata": {},
   "source": [
    "* `read_fwf()` reads fixed-width files. You can specify fields either\n",
    "by their widths with `fwf_widths()` or their position with\n",
    "`fwf_positions()` . `read_table()` reads a common variation of\n",
    "fixed-width files where columns are separated by white space.\n",
    "\n",
    "* `read_log()` reads Apache style log files. (But also check out\n",
    "webreadr, which is built on top of `read_log()` and provides\n",
    "many more helpful tools.)"
   ]
  },
  {
   "cell_type": "code",
   "execution_count": 3,
   "metadata": {},
   "outputs": [
    {
     "name": "stderr",
     "output_type": "stream",
     "text": [
      "Parsed with column specification:\n",
      "cols(\n",
      "  earn = \u001b[32mcol_double()\u001b[39m,\n",
      "  height = \u001b[32mcol_double()\u001b[39m,\n",
      "  sex = \u001b[31mcol_character()\u001b[39m,\n",
      "  ed = \u001b[32mcol_double()\u001b[39m,\n",
      "  age = \u001b[32mcol_double()\u001b[39m,\n",
      "  race = \u001b[31mcol_character()\u001b[39m\n",
      ")\n",
      "\n"
     ]
    }
   ],
   "source": [
    "heights <- read_csv('data/heights.csv')"
   ]
  },
  {
   "cell_type": "markdown",
   "metadata": {},
   "source": [
    "You can also supply an inline CSV file. This is useful for experimenting with readr and for creating reproducible examples to share\n",
    "with others:"
   ]
  },
  {
   "cell_type": "code",
   "execution_count": 4,
   "metadata": {},
   "outputs": [
    {
     "data": {
      "text/html": [
       "<table>\n",
       "<caption>A spec_tbl_df: 2 × 3</caption>\n",
       "<thead>\n",
       "\t<tr><th scope=col>a</th><th scope=col>b</th><th scope=col>c</th></tr>\n",
       "\t<tr><th scope=col>&lt;dbl&gt;</th><th scope=col>&lt;dbl&gt;</th><th scope=col>&lt;dbl&gt;</th></tr>\n",
       "</thead>\n",
       "<tbody>\n",
       "\t<tr><td>1</td><td>2</td><td>3</td></tr>\n",
       "\t<tr><td>4</td><td>5</td><td>6</td></tr>\n",
       "</tbody>\n",
       "</table>\n"
      ],
      "text/latex": [
       "A spec\\_tbl\\_df: 2 × 3\n",
       "\\begin{tabular}{lll}\n",
       " a & b & c\\\\\n",
       " <dbl> & <dbl> & <dbl>\\\\\n",
       "\\hline\n",
       "\t 1 & 2 & 3\\\\\n",
       "\t 4 & 5 & 6\\\\\n",
       "\\end{tabular}\n"
      ],
      "text/markdown": [
       "\n",
       "A spec_tbl_df: 2 × 3\n",
       "\n",
       "| a &lt;dbl&gt; | b &lt;dbl&gt; | c &lt;dbl&gt; |\n",
       "|---|---|---|\n",
       "| 1 | 2 | 3 |\n",
       "| 4 | 5 | 6 |\n",
       "\n"
      ],
      "text/plain": [
       "  a b c\n",
       "1 1 2 3\n",
       "2 4 5 6"
      ]
     },
     "metadata": {},
     "output_type": "display_data"
    }
   ],
   "source": [
    "read_csv(\n",
    "    'a, b, c\n",
    "    1, 2, 3\n",
    "    4, 5, 6'\n",
    ")"
   ]
  },
  {
   "cell_type": "markdown",
   "metadata": {},
   "source": [
    "The data might not have column names. You can use `col_names = FALSE` to tell `read_csv()` not to treat the first row as headings,\n",
    "and instead label them sequentially from X1 to Xn :"
   ]
  },
  {
   "cell_type": "code",
   "execution_count": 5,
   "metadata": {},
   "outputs": [
    {
     "data": {
      "text/html": [
       "<table>\n",
       "<caption>A spec_tbl_df: 2 × 3</caption>\n",
       "<thead>\n",
       "\t<tr><th scope=col>X1</th><th scope=col>X2</th><th scope=col>X3</th></tr>\n",
       "\t<tr><th scope=col>&lt;dbl&gt;</th><th scope=col>&lt;dbl&gt;</th><th scope=col>&lt;dbl&gt;</th></tr>\n",
       "</thead>\n",
       "<tbody>\n",
       "\t<tr><td>1</td><td>2</td><td>3</td></tr>\n",
       "\t<tr><td>4</td><td>5</td><td>6</td></tr>\n",
       "</tbody>\n",
       "</table>\n"
      ],
      "text/latex": [
       "A spec\\_tbl\\_df: 2 × 3\n",
       "\\begin{tabular}{lll}\n",
       " X1 & X2 & X3\\\\\n",
       " <dbl> & <dbl> & <dbl>\\\\\n",
       "\\hline\n",
       "\t 1 & 2 & 3\\\\\n",
       "\t 4 & 5 & 6\\\\\n",
       "\\end{tabular}\n"
      ],
      "text/markdown": [
       "\n",
       "A spec_tbl_df: 2 × 3\n",
       "\n",
       "| X1 &lt;dbl&gt; | X2 &lt;dbl&gt; | X3 &lt;dbl&gt; |\n",
       "|---|---|---|\n",
       "| 1 | 2 | 3 |\n",
       "| 4 | 5 | 6 |\n",
       "\n"
      ],
      "text/plain": [
       "  X1 X2 X3\n",
       "1 1  2  3 \n",
       "2 4  5  6 "
      ]
     },
     "metadata": {},
     "output_type": "display_data"
    }
   ],
   "source": [
    "read_csv('1,2,3\\n4,5,6', col_names = FALSE)"
   ]
  },
  {
   "cell_type": "markdown",
   "metadata": {},
   "source": [
    "Alternatively you can pass `col_names` a character vector, which\n",
    "will be used as the column names:"
   ]
  },
  {
   "cell_type": "code",
   "execution_count": 6,
   "metadata": {},
   "outputs": [
    {
     "data": {
      "text/html": [
       "<table>\n",
       "<caption>A spec_tbl_df: 2 × 3</caption>\n",
       "<thead>\n",
       "\t<tr><th scope=col>x</th><th scope=col>y</th><th scope=col>z</th></tr>\n",
       "\t<tr><th scope=col>&lt;dbl&gt;</th><th scope=col>&lt;dbl&gt;</th><th scope=col>&lt;dbl&gt;</th></tr>\n",
       "</thead>\n",
       "<tbody>\n",
       "\t<tr><td>1</td><td>2</td><td>3</td></tr>\n",
       "\t<tr><td>4</td><td>5</td><td>6</td></tr>\n",
       "</tbody>\n",
       "</table>\n"
      ],
      "text/latex": [
       "A spec\\_tbl\\_df: 2 × 3\n",
       "\\begin{tabular}{lll}\n",
       " x & y & z\\\\\n",
       " <dbl> & <dbl> & <dbl>\\\\\n",
       "\\hline\n",
       "\t 1 & 2 & 3\\\\\n",
       "\t 4 & 5 & 6\\\\\n",
       "\\end{tabular}\n"
      ],
      "text/markdown": [
       "\n",
       "A spec_tbl_df: 2 × 3\n",
       "\n",
       "| x &lt;dbl&gt; | y &lt;dbl&gt; | z &lt;dbl&gt; |\n",
       "|---|---|---|\n",
       "| 1 | 2 | 3 |\n",
       "| 4 | 5 | 6 |\n",
       "\n"
      ],
      "text/plain": [
       "  x y z\n",
       "1 1 2 3\n",
       "2 4 5 6"
      ]
     },
     "metadata": {},
     "output_type": "display_data"
    }
   ],
   "source": [
    "read_csv(\"1,2,3\\n4,5,6\", col_names = c(\"x\", \"y\", \"z\"))"
   ]
  },
  {
   "cell_type": "markdown",
   "metadata": {},
   "source": [
    "Another option that commonly needs tweaking is na . This specifies\n",
    "the value (or values) that are used to represent missing values in\n",
    "your file:"
   ]
  },
  {
   "cell_type": "code",
   "execution_count": 7,
   "metadata": {},
   "outputs": [
    {
     "data": {
      "text/html": [
       "<table>\n",
       "<caption>A spec_tbl_df: 1 × 3</caption>\n",
       "<thead>\n",
       "\t<tr><th scope=col>a</th><th scope=col>b</th><th scope=col>c</th></tr>\n",
       "\t<tr><th scope=col>&lt;dbl&gt;</th><th scope=col>&lt;dbl&gt;</th><th scope=col>&lt;lgl&gt;</th></tr>\n",
       "</thead>\n",
       "<tbody>\n",
       "\t<tr><td>1</td><td>2</td><td>NA</td></tr>\n",
       "</tbody>\n",
       "</table>\n"
      ],
      "text/latex": [
       "A spec\\_tbl\\_df: 1 × 3\n",
       "\\begin{tabular}{lll}\n",
       " a & b & c\\\\\n",
       " <dbl> & <dbl> & <lgl>\\\\\n",
       "\\hline\n",
       "\t 1 & 2 & NA\\\\\n",
       "\\end{tabular}\n"
      ],
      "text/markdown": [
       "\n",
       "A spec_tbl_df: 1 × 3\n",
       "\n",
       "| a &lt;dbl&gt; | b &lt;dbl&gt; | c &lt;lgl&gt; |\n",
       "|---|---|---|\n",
       "| 1 | 2 | NA |\n",
       "\n"
      ],
      "text/plain": [
       "  a b c \n",
       "1 1 2 NA"
      ]
     },
     "metadata": {},
     "output_type": "display_data"
    }
   ],
   "source": [
    "read_csv(\"a,b,c\\n1,2,.\", na = \".\")"
   ]
  },
  {
   "cell_type": "markdown",
   "metadata": {},
   "source": [
    "## __Parsing a Vector__"
   ]
  },
  {
   "cell_type": "markdown",
   "metadata": {},
   "source": [
    "Before we get into the details of how readr reads files from disk, we\n",
    "need to take a little detour to talk about the `parse_*()` functions.\n",
    "These functions take a character vector and return a more special‐\n",
    "ized vector like a logical, integer, or date:"
   ]
  },
  {
   "cell_type": "code",
   "execution_count": 8,
   "metadata": {},
   "outputs": [
    {
     "name": "stdout",
     "output_type": "stream",
     "text": [
      " logi [1:3] TRUE FALSE NA\n"
     ]
    }
   ],
   "source": [
    "str(parse_logical(c('TRUE', 'FALSE', 'NA')))"
   ]
  },
  {
   "cell_type": "code",
   "execution_count": 9,
   "metadata": {},
   "outputs": [
    {
     "name": "stdout",
     "output_type": "stream",
     "text": [
      " int [1:3] 1 2 3\n"
     ]
    }
   ],
   "source": [
    "str(parse_integer(c('1', '2', '3')))"
   ]
  },
  {
   "cell_type": "code",
   "execution_count": 10,
   "metadata": {},
   "outputs": [
    {
     "name": "stdout",
     "output_type": "stream",
     "text": [
      " Date[1:2], format: \"2010-01-01\" \"1979-10-14\"\n"
     ]
    }
   ],
   "source": [
    "str(parse_date(c('2010-01-01', '1979-10-14')))"
   ]
  },
  {
   "cell_type": "markdown",
   "metadata": {},
   "source": [
    "Like all functions in the tidyverse, the `parse_*()` functions are uni‐\n",
    "form; the first argument is a character vector to parse, and the na\n",
    "argument specifies which strings should be treated as missing:"
   ]
  },
  {
   "cell_type": "code",
   "execution_count": 11,
   "metadata": {},
   "outputs": [
    {
     "data": {
      "text/html": [
       "<style>\n",
       ".list-inline {list-style: none; margin:0; padding: 0}\n",
       ".list-inline>li {display: inline-block}\n",
       ".list-inline>li:not(:last-child)::after {content: \"\\00b7\"; padding: 0 .5ex}\n",
       "</style>\n",
       "<ol class=list-inline><li>1</li><li>231</li><li>&lt;NA&gt;</li><li>456</li></ol>\n"
      ],
      "text/latex": [
       "\\begin{enumerate*}\n",
       "\\item 1\n",
       "\\item 231\n",
       "\\item <NA>\n",
       "\\item 456\n",
       "\\end{enumerate*}\n"
      ],
      "text/markdown": [
       "1. 1\n",
       "2. 231\n",
       "3. &lt;NA&gt;\n",
       "4. 456\n",
       "\n",
       "\n"
      ],
      "text/plain": [
       "[1]   1 231  NA 456"
      ]
     },
     "metadata": {},
     "output_type": "display_data"
    }
   ],
   "source": [
    "parse_integer(c('1', '231', '.', '456'), na = '.')"
   ]
  },
  {
   "cell_type": "code",
   "execution_count": 12,
   "metadata": {},
   "outputs": [
    {
     "name": "stderr",
     "output_type": "stream",
     "text": [
      "Warning message:\n",
      "“2 parsing failures.\n",
      "row col               expected actual\n",
      "  3  -- an integer                abc\n",
      "  4  -- no trailing characters    .45\n",
      "”\n"
     ]
    }
   ],
   "source": [
    "# if parsing fails, you'll get a warning\n",
    "x <- parse_integer(c('123', '345', 'abc', '123.45'))"
   ]
  },
  {
   "cell_type": "code",
   "execution_count": 13,
   "metadata": {},
   "outputs": [
    {
     "data": {
      "text/html": [
       "<style>\n",
       ".list-inline {list-style: none; margin:0; padding: 0}\n",
       ".list-inline>li {display: inline-block}\n",
       ".list-inline>li:not(:last-child)::after {content: \"\\00b7\"; padding: 0 .5ex}\n",
       "</style>\n",
       "<ol class=list-inline><li>123</li><li>345</li><li>&lt;NA&gt;</li><li>&lt;NA&gt;</li></ol>\n"
      ],
      "text/latex": [
       "\\begin{enumerate*}\n",
       "\\item 123\n",
       "\\item 345\n",
       "\\item <NA>\n",
       "\\item <NA>\n",
       "\\end{enumerate*}\n"
      ],
      "text/markdown": [
       "1. 123\n",
       "2. 345\n",
       "3. &lt;NA&gt;\n",
       "4. &lt;NA&gt;\n",
       "\n",
       "\n"
      ],
      "text/plain": [
       "[1] 123 345  NA  NA\n",
       "attr(,\"problems\")\n",
       "\u001b[38;5;246m# A tibble: 2 x 4\u001b[39m\n",
       "    row   col expected               actual\n",
       "  \u001b[3m\u001b[38;5;246m<int>\u001b[39m\u001b[23m \u001b[3m\u001b[38;5;246m<int>\u001b[39m\u001b[23m \u001b[3m\u001b[38;5;246m<chr>\u001b[39m\u001b[23m                  \u001b[3m\u001b[38;5;246m<chr>\u001b[39m\u001b[23m \n",
       "\u001b[38;5;250m1\u001b[39m     3    \u001b[31mNA\u001b[39m an integer             abc   \n",
       "\u001b[38;5;250m2\u001b[39m     4    \u001b[31mNA\u001b[39m no trailing characters .45   "
      ]
     },
     "metadata": {},
     "output_type": "display_data"
    }
   ],
   "source": [
    "x"
   ]
  },
  {
   "cell_type": "code",
   "execution_count": 14,
   "metadata": {},
   "outputs": [
    {
     "data": {
      "text/html": [
       "<table>\n",
       "<caption>A tibble: 2 × 4</caption>\n",
       "<thead>\n",
       "\t<tr><th scope=col>row</th><th scope=col>col</th><th scope=col>expected</th><th scope=col>actual</th></tr>\n",
       "\t<tr><th scope=col>&lt;int&gt;</th><th scope=col>&lt;int&gt;</th><th scope=col>&lt;chr&gt;</th><th scope=col>&lt;chr&gt;</th></tr>\n",
       "</thead>\n",
       "<tbody>\n",
       "\t<tr><td>3</td><td>NA</td><td>an integer            </td><td>abc</td></tr>\n",
       "\t<tr><td>4</td><td>NA</td><td>no trailing characters</td><td>.45</td></tr>\n",
       "</tbody>\n",
       "</table>\n"
      ],
      "text/latex": [
       "A tibble: 2 × 4\n",
       "\\begin{tabular}{llll}\n",
       " row & col & expected & actual\\\\\n",
       " <int> & <int> & <chr> & <chr>\\\\\n",
       "\\hline\n",
       "\t 3 & NA & an integer             & abc\\\\\n",
       "\t 4 & NA & no trailing characters & .45\\\\\n",
       "\\end{tabular}\n"
      ],
      "text/markdown": [
       "\n",
       "A tibble: 2 × 4\n",
       "\n",
       "| row &lt;int&gt; | col &lt;int&gt; | expected &lt;chr&gt; | actual &lt;chr&gt; |\n",
       "|---|---|---|---|\n",
       "| 3 | NA | an integer             | abc |\n",
       "| 4 | NA | no trailing characters | .45 |\n",
       "\n"
      ],
      "text/plain": [
       "  row col expected               actual\n",
       "1 3   NA  an integer             abc   \n",
       "2 4   NA  no trailing characters .45   "
      ]
     },
     "metadata": {},
     "output_type": "display_data"
    }
   ],
   "source": [
    "problems(x)"
   ]
  },
  {
   "cell_type": "markdown",
   "metadata": {},
   "source": [
    "Using parsers is mostly a matter of understanding what’s available\n",
    "and how they deal with different types of input. There are eight particularly important parsers:"
   ]
  },
  {
   "cell_type": "markdown",
   "metadata": {},
   "source": [
    "* `parse_logical()` and parse_integer() parse logicals and inte‐\n",
    "gers, respectively. There’s basically nothing that can go wrong\n",
    "with these parsers so I won’t describe them here further.\n",
    "* `parse_double()` is a strict numeric parser, and parse_number()\n",
    "is a flexible numeric parser. These are more complicated than\n",
    "you might expect because different parts of the world write\n",
    "numbers in different ways.\n",
    "* `parse_character()` seems so simple that it shouldn’t be neces‐\n",
    "sary. But one complication makes it quite important: character\n",
    "encodings.\n",
    "* `parse_factor()` creates factors, the data structure that R uses to\n",
    "represent categorical variables with fixed and known values.\n",
    "* `parse_datetime()` , `parse_date()` , `and parse_time()` allow\n",
    "you to parse various date and time specifications. These are the\n",
    "most complicated because there are so many different ways of\n",
    "writing dates."
   ]
  },
  {
   "cell_type": "markdown",
   "metadata": {},
   "source": [
    "### __Numbers__"
   ]
  },
  {
   "cell_type": "markdown",
   "metadata": {},
   "source": [
    "It seems like it should be straightforward to parse a number, but\n",
    "three problems make it tricky:\n",
    "* People write numbers differently in different parts of the world.\n",
    "For example, some countries use . in between the integer and\n",
    "fractional parts of a real number, while others use , .\n",
    "* Numbers are often surrounded by other characters that provide\n",
    "some context, like “$1000” or “10%”.\n",
    "* Numbers often contain “grouping” characters to make them\n",
    "easier to read, like “1,000,000”, and these grouping characters\n",
    "vary around the world."
   ]
  },
  {
   "cell_type": "markdown",
   "metadata": {},
   "source": [
    "To address the first problem, readr has the notion of a “locale,” an\n",
    "object that specifies parsing options that differ from place to place.\n",
    "When parsing numbers, the most important option is the character\n",
    "you use for the decimal mark. You can override the default value\n",
    "of . by creating a new locale and setting the `decimal_mark` argument:"
   ]
  },
  {
   "cell_type": "code",
   "execution_count": 15,
   "metadata": {},
   "outputs": [
    {
     "data": {
      "text/html": [
       "1.23"
      ],
      "text/latex": [
       "1.23"
      ],
      "text/markdown": [
       "1.23"
      ],
      "text/plain": [
       "[1] 1.23"
      ]
     },
     "metadata": {},
     "output_type": "display_data"
    }
   ],
   "source": [
    "parse_double('1.23')"
   ]
  },
  {
   "cell_type": "code",
   "execution_count": 16,
   "metadata": {},
   "outputs": [
    {
     "data": {
      "text/html": [
       "1.23"
      ],
      "text/latex": [
       "1.23"
      ],
      "text/markdown": [
       "1.23"
      ],
      "text/plain": [
       "[1] 1.23"
      ]
     },
     "metadata": {},
     "output_type": "display_data"
    }
   ],
   "source": [
    "parse_double('1,23', locale = locale(decimal_mark = ','))"
   ]
  },
  {
   "cell_type": "markdown",
   "metadata": {},
   "source": [
    "`parse_number()` addresses the second problem: it ignores non-\n",
    "numeric characters before and after the number. This is particularly\n",
    "useful for currencies and percentages, but also works to extract\n",
    "numbers embedded in text:"
   ]
  },
  {
   "cell_type": "code",
   "execution_count": 17,
   "metadata": {},
   "outputs": [
    {
     "data": {
      "text/html": [
       "100"
      ],
      "text/latex": [
       "100"
      ],
      "text/markdown": [
       "100"
      ],
      "text/plain": [
       "[1] 100"
      ]
     },
     "metadata": {},
     "output_type": "display_data"
    }
   ],
   "source": [
    "parse_number('$100')"
   ]
  },
  {
   "cell_type": "code",
   "execution_count": 18,
   "metadata": {},
   "outputs": [
    {
     "data": {
      "text/html": [
       "20"
      ],
      "text/latex": [
       "20"
      ],
      "text/markdown": [
       "20"
      ],
      "text/plain": [
       "[1] 20"
      ]
     },
     "metadata": {},
     "output_type": "display_data"
    }
   ],
   "source": [
    "parse_number('20%')"
   ]
  },
  {
   "cell_type": "code",
   "execution_count": 19,
   "metadata": {},
   "outputs": [
    {
     "data": {
      "text/html": [
       "123.45"
      ],
      "text/latex": [
       "123.45"
      ],
      "text/markdown": [
       "123.45"
      ],
      "text/plain": [
       "[1] 123.45"
      ]
     },
     "metadata": {},
     "output_type": "display_data"
    }
   ],
   "source": [
    "parse_number('It cost $123.45')"
   ]
  },
  {
   "cell_type": "markdown",
   "metadata": {},
   "source": [
    "The final problem is addressed by the combination of `parse_number()` and the locale as `parse_number()` will ignore the “grouping\n",
    "mark”:"
   ]
  },
  {
   "cell_type": "code",
   "execution_count": 20,
   "metadata": {},
   "outputs": [
    {
     "data": {
      "text/html": [
       "123456789"
      ],
      "text/latex": [
       "123456789"
      ],
      "text/markdown": [
       "123456789"
      ],
      "text/plain": [
       "[1] 123456789"
      ]
     },
     "metadata": {},
     "output_type": "display_data"
    }
   ],
   "source": [
    "parse_number('$123,456,789')"
   ]
  },
  {
   "cell_type": "code",
   "execution_count": 21,
   "metadata": {},
   "outputs": [
    {
     "data": {
      "text/html": [
       "123456789"
      ],
      "text/latex": [
       "123456789"
      ],
      "text/markdown": [
       "123456789"
      ],
      "text/plain": [
       "[1] 123456789"
      ]
     },
     "metadata": {},
     "output_type": "display_data"
    }
   ],
   "source": [
    "parse_number('123.456.789',\n",
    "             locale = locale(grouping_mark = '.'))"
   ]
  },
  {
   "cell_type": "code",
   "execution_count": 23,
   "metadata": {},
   "outputs": [
    {
     "data": {
      "text/html": [
       "123456789"
      ],
      "text/latex": [
       "123456789"
      ],
      "text/markdown": [
       "123456789"
      ],
      "text/plain": [
       "[1] 123456789"
      ]
     },
     "metadata": {},
     "output_type": "display_data"
    }
   ],
   "source": [
    "parse_number(\"123'456'789\",\n",
    "             locale = locale(grouping_mark = \"'\"))"
   ]
  },
  {
   "cell_type": "markdown",
   "metadata": {},
   "source": [
    "### __Strings__"
   ]
  },
  {
   "cell_type": "markdown",
   "metadata": {},
   "source": [
    "It seems like parse_character() should be really simple—it could\n",
    "just return its input. Unfortunately life isn’t so simple, as there are\n",
    "multiple ways to represent the same string. To understand what’s\n",
    "going on, we need to dive into the details of how computers represent strings. In R, we can get at the underlying representation of a\n",
    "string using `charToRaw()` :"
   ]
  },
  {
   "cell_type": "code",
   "execution_count": 25,
   "metadata": {},
   "outputs": [
    {
     "data": {
      "text/plain": [
       "[1] 48 61 64 6c 65 79"
      ]
     },
     "metadata": {},
     "output_type": "display_data"
    }
   ],
   "source": [
    "charToRaw('Hadley')"
   ]
  },
  {
   "cell_type": "markdown",
   "metadata": {},
   "source": [
    "Each hexadecimal number represents a byte of information: 48 is H,\n",
    "61 is a, and so on. The mapping from hexadecimal number to character is called the encoding, and in this case the encoding is called\n",
    "ASCII. ASCII does a great job of representing English characters,\n",
    "because it’s the American Standard Code for Information Interchange."
   ]
  },
  {
   "cell_type": "markdown",
   "metadata": {},
   "source": [
    "readr uses UTF-8 everywhere: it assumes your data is UTF-8 enco‐\n",
    "ded when you read it, and always uses it when writing. This is a\n",
    "good default, but will fail for data produced by older systems that\n",
    "don’t understand UTF-8. If this happens to you, your strings will\n",
    "look weird when you print them. Sometimes just one or two charac‐\n",
    "ters might be messed up; other times you’ll get complete gibberish.\n",
    "For example:"
   ]
  },
  {
   "cell_type": "code",
   "execution_count": 26,
   "metadata": {},
   "outputs": [],
   "source": [
    "x1 <- \"El Ni\\xf1o was particularly bad this year\"\n",
    "x2 <- \"\\x82\\xb1\\x82\\xf1\\x82\\xc9\\x82\\xbf\\x82\\xcd\""
   ]
  },
  {
   "cell_type": "markdown",
   "metadata": {},
   "source": [
    "To fix the problem you need to specify the encoding in `parse_character()` :"
   ]
  },
  {
   "cell_type": "code",
   "execution_count": 27,
   "metadata": {},
   "outputs": [
    {
     "data": {
      "text/html": [
       "'El Niño was particularly bad this year'"
      ],
      "text/latex": [
       "'El Niño was particularly bad this year'"
      ],
      "text/markdown": [
       "'El Niño was particularly bad this year'"
      ],
      "text/plain": [
       "[1] \"El Niño was particularly bad this year\""
      ]
     },
     "metadata": {},
     "output_type": "display_data"
    }
   ],
   "source": [
    "parse_character(x1, locale = locale(encoding = 'Latin1'))"
   ]
  },
  {
   "cell_type": "code",
   "execution_count": 28,
   "metadata": {},
   "outputs": [
    {
     "data": {
      "text/html": [
       "'こんにちは'"
      ],
      "text/latex": [
       "'こんにちは'"
      ],
      "text/markdown": [
       "'こんにちは'"
      ],
      "text/plain": [
       "[1] \"こんにちは\""
      ]
     },
     "metadata": {},
     "output_type": "display_data"
    }
   ],
   "source": [
    "parse_character(x2, locale = locale(encoding = 'Shift-JIS'))"
   ]
  },
  {
   "cell_type": "markdown",
   "metadata": {},
   "source": [
    "How do you find the correct encoding? If you’re lucky, it’ll be\n",
    "included somewhere in the data documentation. Unfortunately,\n",
    "that’s rarely the case, so readr provides guess_encoding() to help\n",
    "you figure it out. It’s not foolproof, and it works better when you\n",
    "have lots of text (unlike here), but it’s a reasonable place to start.\n",
    "Expect to try a few different encodings before you find the right one:"
   ]
  },
  {
   "cell_type": "code",
   "execution_count": 29,
   "metadata": {},
   "outputs": [
    {
     "data": {
      "text/html": [
       "<table>\n",
       "<caption>A tibble: 2 × 2</caption>\n",
       "<thead>\n",
       "\t<tr><th scope=col>encoding</th><th scope=col>confidence</th></tr>\n",
       "\t<tr><th scope=col>&lt;chr&gt;</th><th scope=col>&lt;dbl&gt;</th></tr>\n",
       "</thead>\n",
       "<tbody>\n",
       "\t<tr><td>ISO-8859-1</td><td>0.46</td></tr>\n",
       "\t<tr><td>ISO-8859-9</td><td>0.23</td></tr>\n",
       "</tbody>\n",
       "</table>\n"
      ],
      "text/latex": [
       "A tibble: 2 × 2\n",
       "\\begin{tabular}{ll}\n",
       " encoding & confidence\\\\\n",
       " <chr> & <dbl>\\\\\n",
       "\\hline\n",
       "\t ISO-8859-1 & 0.46\\\\\n",
       "\t ISO-8859-9 & 0.23\\\\\n",
       "\\end{tabular}\n"
      ],
      "text/markdown": [
       "\n",
       "A tibble: 2 × 2\n",
       "\n",
       "| encoding &lt;chr&gt; | confidence &lt;dbl&gt; |\n",
       "|---|---|\n",
       "| ISO-8859-1 | 0.46 |\n",
       "| ISO-8859-9 | 0.23 |\n",
       "\n"
      ],
      "text/plain": [
       "  encoding   confidence\n",
       "1 ISO-8859-1 0.46      \n",
       "2 ISO-8859-9 0.23      "
      ]
     },
     "metadata": {},
     "output_type": "display_data"
    }
   ],
   "source": [
    "guess_encoding(charToRaw(x1))"
   ]
  },
  {
   "cell_type": "code",
   "execution_count": 30,
   "metadata": {},
   "outputs": [
    {
     "data": {
      "text/html": [
       "<table>\n",
       "<caption>A tibble: 1 × 2</caption>\n",
       "<thead>\n",
       "\t<tr><th scope=col>encoding</th><th scope=col>confidence</th></tr>\n",
       "\t<tr><th scope=col>&lt;chr&gt;</th><th scope=col>&lt;dbl&gt;</th></tr>\n",
       "</thead>\n",
       "<tbody>\n",
       "\t<tr><td>KOI8-R</td><td>0.42</td></tr>\n",
       "</tbody>\n",
       "</table>\n"
      ],
      "text/latex": [
       "A tibble: 1 × 2\n",
       "\\begin{tabular}{ll}\n",
       " encoding & confidence\\\\\n",
       " <chr> & <dbl>\\\\\n",
       "\\hline\n",
       "\t KOI8-R & 0.42\\\\\n",
       "\\end{tabular}\n"
      ],
      "text/markdown": [
       "\n",
       "A tibble: 1 × 2\n",
       "\n",
       "| encoding &lt;chr&gt; | confidence &lt;dbl&gt; |\n",
       "|---|---|\n",
       "| KOI8-R | 0.42 |\n",
       "\n"
      ],
      "text/plain": [
       "  encoding confidence\n",
       "1 KOI8-R   0.42      "
      ]
     },
     "metadata": {},
     "output_type": "display_data"
    }
   ],
   "source": [
    "guess_encoding(charToRaw(x2))"
   ]
  },
  {
   "cell_type": "markdown",
   "metadata": {},
   "source": [
    "### __Factors__"
   ]
  },
  {
   "cell_type": "markdown",
   "metadata": {},
   "source": [
    "R uses factors to represent categorical variables that have a known\n",
    "set of possible values. Give `parse_factor()` a vector of known\n",
    "levels to generate a warning whenever an unexpected value is\n",
    "present:"
   ]
  },
  {
   "cell_type": "code",
   "execution_count": 31,
   "metadata": {},
   "outputs": [
    {
     "name": "stderr",
     "output_type": "stream",
     "text": [
      "Warning message:\n",
      "“1 parsing failure.\n",
      "row col           expected   actual\n",
      "  3  -- value in level set bananana\n",
      "”\n"
     ]
    },
    {
     "data": {
      "text/html": [
       "<style>\n",
       ".list-inline {list-style: none; margin:0; padding: 0}\n",
       ".list-inline>li {display: inline-block}\n",
       ".list-inline>li:not(:last-child)::after {content: \"\\00b7\"; padding: 0 .5ex}\n",
       "</style>\n",
       "<ol class=list-inline><li>apple</li><li>banana</li><li>&lt;NA&gt;</li></ol>\n",
       "\n",
       "<details>\n",
       "\t<summary style=display:list-item;cursor:pointer>\n",
       "\t\t<strong>Levels</strong>:\n",
       "\t</summary>\n",
       "\t<style>\n",
       "\t.list-inline {list-style: none; margin:0; padding: 0}\n",
       "\t.list-inline>li {display: inline-block}\n",
       "\t.list-inline>li:not(:last-child)::after {content: \"\\00b7\"; padding: 0 .5ex}\n",
       "\t</style>\n",
       "\t<ol class=list-inline><li>'apple'</li><li>'banana'</li></ol>\n",
       "</details>"
      ],
      "text/latex": [
       "\\begin{enumerate*}\n",
       "\\item apple\n",
       "\\item banana\n",
       "\\item <NA>\n",
       "\\end{enumerate*}\n",
       "\n",
       "\\emph{Levels}: \\begin{enumerate*}\n",
       "\\item 'apple'\n",
       "\\item 'banana'\n",
       "\\end{enumerate*}\n"
      ],
      "text/markdown": [
       "1. apple\n",
       "2. banana\n",
       "3. &lt;NA&gt;\n",
       "\n",
       "\n",
       "\n",
       "**Levels**: 1. 'apple'\n",
       "2. 'banana'\n",
       "\n",
       "\n"
      ],
      "text/plain": [
       "[1] apple  banana <NA>  \n",
       "attr(,\"problems\")\n",
       "\u001b[38;5;246m# A tibble: 1 x 4\u001b[39m\n",
       "    row   col expected           actual  \n",
       "  \u001b[3m\u001b[38;5;246m<int>\u001b[39m\u001b[23m \u001b[3m\u001b[38;5;246m<int>\u001b[39m\u001b[23m \u001b[3m\u001b[38;5;246m<chr>\u001b[39m\u001b[23m              \u001b[3m\u001b[38;5;246m<chr>\u001b[39m\u001b[23m   \n",
       "\u001b[38;5;250m1\u001b[39m     3    \u001b[31mNA\u001b[39m value in level set bananana\n",
       "Levels: apple banana"
      ]
     },
     "metadata": {},
     "output_type": "display_data"
    }
   ],
   "source": [
    "fruit <- c('apple', 'banana')\n",
    "parse_factor(c('apple', 'banana', 'bananana'), levels = fruit)"
   ]
  },
  {
   "cell_type": "markdown",
   "metadata": {},
   "source": [
    "### __Dates, Date-Times, and Times__"
   ]
  },
  {
   "cell_type": "markdown",
   "metadata": {},
   "source": [
    "You pick between three parsers depending on whether you want a\n",
    "date (the number of days since 1970-01-01), a date-time (the number of seconds since midnight 1970-01-01), or a time (the number of\n",
    "seconds since midnight). When called without any additional arguments:"
   ]
  },
  {
   "cell_type": "markdown",
   "metadata": {},
   "source": [
    "* `parse_datetime()` expects an ISO8601 date-time. ISO8601 is\n",
    "an international standard in which the components of a date are\n",
    "organized from biggest to smallest: year, month, day, hour,\n",
    "minute, second:"
   ]
  },
  {
   "cell_type": "code",
   "execution_count": 32,
   "metadata": {},
   "outputs": [
    {
     "data": {
      "text/plain": [
       "[1] \"2010-10-01 20:10:00 UTC\""
      ]
     },
     "metadata": {},
     "output_type": "display_data"
    }
   ],
   "source": [
    "parse_datetime('2010-10-01T2010')"
   ]
  },
  {
   "cell_type": "code",
   "execution_count": 33,
   "metadata": {},
   "outputs": [
    {
     "data": {
      "text/plain": [
       "[1] \"2010-10-10 UTC\""
      ]
     },
     "metadata": {},
     "output_type": "display_data"
    }
   ],
   "source": [
    "# if time is omitted, it will be set to midnight\n",
    "parse_datetime('20101010')"
   ]
  },
  {
   "cell_type": "markdown",
   "metadata": {},
   "source": [
    "* `parse_date()` expects a four-digit year, a - or / , the month, a -\n",
    "or / , then the day:"
   ]
  },
  {
   "cell_type": "code",
   "execution_count": 34,
   "metadata": {},
   "outputs": [
    {
     "data": {
      "text/html": [
       "<time datetime=\"2010-10-01\">2010-10-01</time>"
      ],
      "text/latex": [
       "2010-10-01"
      ],
      "text/markdown": [
       "2010-10-01"
      ],
      "text/plain": [
       "[1] \"2010-10-01\""
      ]
     },
     "metadata": {},
     "output_type": "display_data"
    }
   ],
   "source": [
    "parse_date('2010-10-01')"
   ]
  },
  {
   "cell_type": "code",
   "execution_count": 36,
   "metadata": {},
   "outputs": [
    {
     "data": {
      "text/html": [
       "<time datetime=\"1999-03-03\">1999-03-03</time>"
      ],
      "text/latex": [
       "1999-03-03"
      ],
      "text/markdown": [
       "1999-03-03"
      ],
      "text/plain": [
       "[1] \"1999-03-03\""
      ]
     },
     "metadata": {},
     "output_type": "display_data"
    }
   ],
   "source": [
    "parse_date('03/03/1999', format = '%m/%d/%Y')"
   ]
  },
  {
   "cell_type": "markdown",
   "metadata": {},
   "source": [
    "* `parse_time()` expects the hour, : , minutes, optionally : and\n",
    "seconds, and an optional a.m./p.m. specifier:"
   ]
  },
  {
   "cell_type": "code",
   "execution_count": 38,
   "metadata": {},
   "outputs": [
    {
     "data": {
      "text/plain": [
       "01:10:00"
      ]
     },
     "metadata": {},
     "output_type": "display_data"
    }
   ],
   "source": [
    "library(hms)\n",
    "parse_time('01:10 am')"
   ]
  },
  {
   "cell_type": "code",
   "execution_count": 39,
   "metadata": {},
   "outputs": [
    {
     "data": {
      "text/plain": [
       "20:20:01"
      ]
     },
     "metadata": {},
     "output_type": "display_data"
    }
   ],
   "source": [
    "parse_time('20:20:01')"
   ]
  },
  {
   "cell_type": "markdown",
   "metadata": {},
   "source": [
    "If these defaults don’t work for your data you can supply your own\n",
    "date-time format , built up of the following pieces:\n",
    "\n",
    "* _Year_\n",
    "    - `%Y` (4 digits).\n",
    "    - `%y` (2 digits; 00-69 → 2000-2069, 70-99 → 1970-1999).\n",
    "* _Month_ \n",
    "    - `%m` (2 digits).\n",
    "    - `%b` (abbreviated name, like “Jan”).\n",
    "    - `%B` (full name, “January”).\n",
    "\n",
    "* Day\n",
    "    - `%d` (2 digits).\n",
    "    - `%e` (optional leading space).\n",
    "\n",
    "* Time\n",
    "    - `%H` (0-23 hour format).\n",
    "    - `%I` (0-12, must be used with %p ).\n",
    "    - `%p` (a.m./p.m. indicator).\n",
    "    - `%M` (minutes).\n",
    "    - `%S` (integer seconds).\n",
    "    - `%OS` (real seconds).\n",
    "    - `%Z` (time zone [a name, e.g., America/Chicago ]). Note: beware\n",
    "    of abbreviations. If you’re American, note that “EST” is a Cana‐\n",
    "    dian time zone that does not have daylight saving time. It is\n",
    "    Eastern Standard Time! We’ll come back to this in “Time\n",
    "    Zones” on page 254.\n",
    "    - `%z` (as offset from UTC, e.g., +0800 ).\n",
    "\n",
    "* Nondigits\n",
    "    - `%.` (skips one nondigit character).\n",
    "    - `%*` (skips any number of nondigits)."
   ]
  },
  {
   "cell_type": "markdown",
   "metadata": {},
   "source": [
    "If you’re using `%b` or `%B` with non-English month names, you’ll need\n",
    "to set the lang argument to `locale()` . See the list of built-in lan‐\n",
    "guages in `date_names_langs()` , or if your language is not already\n",
    "included, create your own with `date_names()` :"
   ]
  },
  {
   "cell_type": "code",
   "execution_count": 40,
   "metadata": {},
   "outputs": [
    {
     "data": {
      "text/html": [
       "<time datetime=\"2015-01-01\">2015-01-01</time>"
      ],
      "text/latex": [
       "2015-01-01"
      ],
      "text/markdown": [
       "2015-01-01"
      ],
      "text/plain": [
       "[1] \"2015-01-01\""
      ]
     },
     "metadata": {},
     "output_type": "display_data"
    }
   ],
   "source": [
    "parse_date('1 janvier 2015', '%d %B %Y', locale = locale('fr'))"
   ]
  },
  {
   "cell_type": "markdown",
   "metadata": {},
   "source": [
    "### __Parsing a File__"
   ]
  },
  {
   "cell_type": "code",
   "execution_count": 41,
   "metadata": {},
   "outputs": [
    {
     "name": "stderr",
     "output_type": "stream",
     "text": [
      "Parsed with column specification:\n",
      "cols(\n",
      "  x = \u001b[32mcol_double()\u001b[39m,\n",
      "  y = \u001b[33mcol_logical()\u001b[39m\n",
      ")\n",
      "\n",
      "Warning message:\n",
      "“1000 parsing failures.\n",
      " row col           expected     actual                                                                           file\n",
      "1001   y 1/0/T/F/TRUE/FALSE 2015-01-16 '/home/concerta/R/x86_64-pc-linux-gnu-library/4.0/readr/extdata/challenge.csv'\n",
      "1002   y 1/0/T/F/TRUE/FALSE 2018-05-18 '/home/concerta/R/x86_64-pc-linux-gnu-library/4.0/readr/extdata/challenge.csv'\n",
      "1003   y 1/0/T/F/TRUE/FALSE 2015-09-05 '/home/concerta/R/x86_64-pc-linux-gnu-library/4.0/readr/extdata/challenge.csv'\n",
      "1004   y 1/0/T/F/TRUE/FALSE 2012-11-28 '/home/concerta/R/x86_64-pc-linux-gnu-library/4.0/readr/extdata/challenge.csv'\n",
      "1005   y 1/0/T/F/TRUE/FALSE 2020-01-13 '/home/concerta/R/x86_64-pc-linux-gnu-library/4.0/readr/extdata/challenge.csv'\n",
      ".... ... .................. .......... ..............................................................................\n",
      "See problems(...) for more details.\n",
      "”\n"
     ]
    }
   ],
   "source": [
    "challenge <- read_csv(readr_example('challenge.csv'))"
   ]
  },
  {
   "cell_type": "code",
   "execution_count": 42,
   "metadata": {},
   "outputs": [
    {
     "data": {
      "text/html": [
       "<table>\n",
       "<caption>A tibble: 1000 × 5</caption>\n",
       "<thead>\n",
       "\t<tr><th scope=col>row</th><th scope=col>col</th><th scope=col>expected</th><th scope=col>actual</th><th scope=col>file</th></tr>\n",
       "\t<tr><th scope=col>&lt;int&gt;</th><th scope=col>&lt;chr&gt;</th><th scope=col>&lt;chr&gt;</th><th scope=col>&lt;chr&gt;</th><th scope=col>&lt;chr&gt;</th></tr>\n",
       "</thead>\n",
       "<tbody>\n",
       "\t<tr><td>1001</td><td>y</td><td>1/0/T/F/TRUE/FALSE</td><td>2015-01-16</td><td>'/home/concerta/R/x86_64-pc-linux-gnu-library/4.0/readr/extdata/challenge.csv'</td></tr>\n",
       "\t<tr><td>1002</td><td>y</td><td>1/0/T/F/TRUE/FALSE</td><td>2018-05-18</td><td>'/home/concerta/R/x86_64-pc-linux-gnu-library/4.0/readr/extdata/challenge.csv'</td></tr>\n",
       "\t<tr><td>1003</td><td>y</td><td>1/0/T/F/TRUE/FALSE</td><td>2015-09-05</td><td>'/home/concerta/R/x86_64-pc-linux-gnu-library/4.0/readr/extdata/challenge.csv'</td></tr>\n",
       "\t<tr><td>⋮</td><td>⋮</td><td>⋮</td><td>⋮</td><td>⋮</td></tr>\n",
       "\t<tr><td>1998</td><td>y</td><td>1/0/T/F/TRUE/FALSE</td><td>2015-08-16</td><td>'/home/concerta/R/x86_64-pc-linux-gnu-library/4.0/readr/extdata/challenge.csv'</td></tr>\n",
       "\t<tr><td>1999</td><td>y</td><td>1/0/T/F/TRUE/FALSE</td><td>2020-02-04</td><td>'/home/concerta/R/x86_64-pc-linux-gnu-library/4.0/readr/extdata/challenge.csv'</td></tr>\n",
       "\t<tr><td>2000</td><td>y</td><td>1/0/T/F/TRUE/FALSE</td><td>2019-01-06</td><td>'/home/concerta/R/x86_64-pc-linux-gnu-library/4.0/readr/extdata/challenge.csv'</td></tr>\n",
       "</tbody>\n",
       "</table>\n"
      ],
      "text/latex": [
       "A tibble: 1000 × 5\n",
       "\\begin{tabular}{lllll}\n",
       " row & col & expected & actual & file\\\\\n",
       " <int> & <chr> & <chr> & <chr> & <chr>\\\\\n",
       "\\hline\n",
       "\t 1001 & y & 1/0/T/F/TRUE/FALSE & 2015-01-16 & '/home/concerta/R/x86\\_64-pc-linux-gnu-library/4.0/readr/extdata/challenge.csv'\\\\\n",
       "\t 1002 & y & 1/0/T/F/TRUE/FALSE & 2018-05-18 & '/home/concerta/R/x86\\_64-pc-linux-gnu-library/4.0/readr/extdata/challenge.csv'\\\\\n",
       "\t 1003 & y & 1/0/T/F/TRUE/FALSE & 2015-09-05 & '/home/concerta/R/x86\\_64-pc-linux-gnu-library/4.0/readr/extdata/challenge.csv'\\\\\n",
       "\t 1004 & y & 1/0/T/F/TRUE/FALSE & 2012-11-28 & '/home/concerta/R/x86\\_64-pc-linux-gnu-library/4.0/readr/extdata/challenge.csv'\\\\\n",
       "\t 1005 & y & 1/0/T/F/TRUE/FALSE & 2020-01-13 & '/home/concerta/R/x86\\_64-pc-linux-gnu-library/4.0/readr/extdata/challenge.csv'\\\\\n",
       "\t 1006 & y & 1/0/T/F/TRUE/FALSE & 2016-04-17 & '/home/concerta/R/x86\\_64-pc-linux-gnu-library/4.0/readr/extdata/challenge.csv'\\\\\n",
       "\t 1007 & y & 1/0/T/F/TRUE/FALSE & 2011-05-14 & '/home/concerta/R/x86\\_64-pc-linux-gnu-library/4.0/readr/extdata/challenge.csv'\\\\\n",
       "\t 1008 & y & 1/0/T/F/TRUE/FALSE & 2020-07-18 & '/home/concerta/R/x86\\_64-pc-linux-gnu-library/4.0/readr/extdata/challenge.csv'\\\\\n",
       "\t 1009 & y & 1/0/T/F/TRUE/FALSE & 2011-04-30 & '/home/concerta/R/x86\\_64-pc-linux-gnu-library/4.0/readr/extdata/challenge.csv'\\\\\n",
       "\t 1010 & y & 1/0/T/F/TRUE/FALSE & 2010-05-11 & '/home/concerta/R/x86\\_64-pc-linux-gnu-library/4.0/readr/extdata/challenge.csv'\\\\\n",
       "\t 1011 & y & 1/0/T/F/TRUE/FALSE & 2014-11-02 & '/home/concerta/R/x86\\_64-pc-linux-gnu-library/4.0/readr/extdata/challenge.csv'\\\\\n",
       "\t 1012 & y & 1/0/T/F/TRUE/FALSE & 2014-06-23 & '/home/concerta/R/x86\\_64-pc-linux-gnu-library/4.0/readr/extdata/challenge.csv'\\\\\n",
       "\t 1013 & y & 1/0/T/F/TRUE/FALSE & 2017-05-31 & '/home/concerta/R/x86\\_64-pc-linux-gnu-library/4.0/readr/extdata/challenge.csv'\\\\\n",
       "\t 1014 & y & 1/0/T/F/TRUE/FALSE & 2017-11-18 & '/home/concerta/R/x86\\_64-pc-linux-gnu-library/4.0/readr/extdata/challenge.csv'\\\\\n",
       "\t 1015 & y & 1/0/T/F/TRUE/FALSE & 2013-04-20 & '/home/concerta/R/x86\\_64-pc-linux-gnu-library/4.0/readr/extdata/challenge.csv'\\\\\n",
       "\t 1016 & y & 1/0/T/F/TRUE/FALSE & 2010-12-11 & '/home/concerta/R/x86\\_64-pc-linux-gnu-library/4.0/readr/extdata/challenge.csv'\\\\\n",
       "\t 1017 & y & 1/0/T/F/TRUE/FALSE & 2022-10-10 & '/home/concerta/R/x86\\_64-pc-linux-gnu-library/4.0/readr/extdata/challenge.csv'\\\\\n",
       "\t 1018 & y & 1/0/T/F/TRUE/FALSE & 2010-11-11 & '/home/concerta/R/x86\\_64-pc-linux-gnu-library/4.0/readr/extdata/challenge.csv'\\\\\n",
       "\t 1019 & y & 1/0/T/F/TRUE/FALSE & 2015-03-22 & '/home/concerta/R/x86\\_64-pc-linux-gnu-library/4.0/readr/extdata/challenge.csv'\\\\\n",
       "\t 1020 & y & 1/0/T/F/TRUE/FALSE & 2013-12-25 & '/home/concerta/R/x86\\_64-pc-linux-gnu-library/4.0/readr/extdata/challenge.csv'\\\\\n",
       "\t 1021 & y & 1/0/T/F/TRUE/FALSE & 2011-02-27 & '/home/concerta/R/x86\\_64-pc-linux-gnu-library/4.0/readr/extdata/challenge.csv'\\\\\n",
       "\t 1022 & y & 1/0/T/F/TRUE/FALSE & 2015-12-14 & '/home/concerta/R/x86\\_64-pc-linux-gnu-library/4.0/readr/extdata/challenge.csv'\\\\\n",
       "\t 1023 & y & 1/0/T/F/TRUE/FALSE & 2021-02-10 & '/home/concerta/R/x86\\_64-pc-linux-gnu-library/4.0/readr/extdata/challenge.csv'\\\\\n",
       "\t 1024 & y & 1/0/T/F/TRUE/FALSE & 2012-11-28 & '/home/concerta/R/x86\\_64-pc-linux-gnu-library/4.0/readr/extdata/challenge.csv'\\\\\n",
       "\t 1025 & y & 1/0/T/F/TRUE/FALSE & 2020-04-04 & '/home/concerta/R/x86\\_64-pc-linux-gnu-library/4.0/readr/extdata/challenge.csv'\\\\\n",
       "\t 1026 & y & 1/0/T/F/TRUE/FALSE & 2021-04-08 & '/home/concerta/R/x86\\_64-pc-linux-gnu-library/4.0/readr/extdata/challenge.csv'\\\\\n",
       "\t 1027 & y & 1/0/T/F/TRUE/FALSE & 2022-03-13 & '/home/concerta/R/x86\\_64-pc-linux-gnu-library/4.0/readr/extdata/challenge.csv'\\\\\n",
       "\t 1028 & y & 1/0/T/F/TRUE/FALSE & 2010-03-28 & '/home/concerta/R/x86\\_64-pc-linux-gnu-library/4.0/readr/extdata/challenge.csv'\\\\\n",
       "\t 1029 & y & 1/0/T/F/TRUE/FALSE & 2023-01-04 & '/home/concerta/R/x86\\_64-pc-linux-gnu-library/4.0/readr/extdata/challenge.csv'\\\\\n",
       "\t 1030 & y & 1/0/T/F/TRUE/FALSE & 2012-04-02 & '/home/concerta/R/x86\\_64-pc-linux-gnu-library/4.0/readr/extdata/challenge.csv'\\\\\n",
       "\t ⋮ & ⋮ & ⋮ & ⋮ & ⋮\\\\\n",
       "\t 1971 & y & 1/0/T/F/TRUE/FALSE & 2020-06-10 & '/home/concerta/R/x86\\_64-pc-linux-gnu-library/4.0/readr/extdata/challenge.csv'\\\\\n",
       "\t 1972 & y & 1/0/T/F/TRUE/FALSE & 2013-11-08 & '/home/concerta/R/x86\\_64-pc-linux-gnu-library/4.0/readr/extdata/challenge.csv'\\\\\n",
       "\t 1973 & y & 1/0/T/F/TRUE/FALSE & 2017-07-12 & '/home/concerta/R/x86\\_64-pc-linux-gnu-library/4.0/readr/extdata/challenge.csv'\\\\\n",
       "\t 1974 & y & 1/0/T/F/TRUE/FALSE & 2016-08-12 & '/home/concerta/R/x86\\_64-pc-linux-gnu-library/4.0/readr/extdata/challenge.csv'\\\\\n",
       "\t 1975 & y & 1/0/T/F/TRUE/FALSE & 2022-05-12 & '/home/concerta/R/x86\\_64-pc-linux-gnu-library/4.0/readr/extdata/challenge.csv'\\\\\n",
       "\t 1976 & y & 1/0/T/F/TRUE/FALSE & 2020-08-11 & '/home/concerta/R/x86\\_64-pc-linux-gnu-library/4.0/readr/extdata/challenge.csv'\\\\\n",
       "\t 1977 & y & 1/0/T/F/TRUE/FALSE & 2011-10-26 & '/home/concerta/R/x86\\_64-pc-linux-gnu-library/4.0/readr/extdata/challenge.csv'\\\\\n",
       "\t 1978 & y & 1/0/T/F/TRUE/FALSE & 2015-12-09 & '/home/concerta/R/x86\\_64-pc-linux-gnu-library/4.0/readr/extdata/challenge.csv'\\\\\n",
       "\t 1979 & y & 1/0/T/F/TRUE/FALSE & 2012-09-27 & '/home/concerta/R/x86\\_64-pc-linux-gnu-library/4.0/readr/extdata/challenge.csv'\\\\\n",
       "\t 1980 & y & 1/0/T/F/TRUE/FALSE & 2013-02-04 & '/home/concerta/R/x86\\_64-pc-linux-gnu-library/4.0/readr/extdata/challenge.csv'\\\\\n",
       "\t 1981 & y & 1/0/T/F/TRUE/FALSE & 2010-11-29 & '/home/concerta/R/x86\\_64-pc-linux-gnu-library/4.0/readr/extdata/challenge.csv'\\\\\n",
       "\t 1982 & y & 1/0/T/F/TRUE/FALSE & 2013-10-16 & '/home/concerta/R/x86\\_64-pc-linux-gnu-library/4.0/readr/extdata/challenge.csv'\\\\\n",
       "\t 1983 & y & 1/0/T/F/TRUE/FALSE & 2015-04-26 & '/home/concerta/R/x86\\_64-pc-linux-gnu-library/4.0/readr/extdata/challenge.csv'\\\\\n",
       "\t 1984 & y & 1/0/T/F/TRUE/FALSE & 2011-04-12 & '/home/concerta/R/x86\\_64-pc-linux-gnu-library/4.0/readr/extdata/challenge.csv'\\\\\n",
       "\t 1985 & y & 1/0/T/F/TRUE/FALSE & 2017-01-30 & '/home/concerta/R/x86\\_64-pc-linux-gnu-library/4.0/readr/extdata/challenge.csv'\\\\\n",
       "\t 1986 & y & 1/0/T/F/TRUE/FALSE & 2014-06-08 & '/home/concerta/R/x86\\_64-pc-linux-gnu-library/4.0/readr/extdata/challenge.csv'\\\\\n",
       "\t 1987 & y & 1/0/T/F/TRUE/FALSE & 2016-10-19 & '/home/concerta/R/x86\\_64-pc-linux-gnu-library/4.0/readr/extdata/challenge.csv'\\\\\n",
       "\t 1988 & y & 1/0/T/F/TRUE/FALSE & 2023-09-01 & '/home/concerta/R/x86\\_64-pc-linux-gnu-library/4.0/readr/extdata/challenge.csv'\\\\\n",
       "\t 1989 & y & 1/0/T/F/TRUE/FALSE & 2010-01-09 & '/home/concerta/R/x86\\_64-pc-linux-gnu-library/4.0/readr/extdata/challenge.csv'\\\\\n",
       "\t 1990 & y & 1/0/T/F/TRUE/FALSE & 2020-01-11 & '/home/concerta/R/x86\\_64-pc-linux-gnu-library/4.0/readr/extdata/challenge.csv'\\\\\n",
       "\t 1991 & y & 1/0/T/F/TRUE/FALSE & 2016-12-16 & '/home/concerta/R/x86\\_64-pc-linux-gnu-library/4.0/readr/extdata/challenge.csv'\\\\\n",
       "\t 1992 & y & 1/0/T/F/TRUE/FALSE & 2010-01-03 & '/home/concerta/R/x86\\_64-pc-linux-gnu-library/4.0/readr/extdata/challenge.csv'\\\\\n",
       "\t 1993 & y & 1/0/T/F/TRUE/FALSE & 2016-04-23 & '/home/concerta/R/x86\\_64-pc-linux-gnu-library/4.0/readr/extdata/challenge.csv'\\\\\n",
       "\t 1994 & y & 1/0/T/F/TRUE/FALSE & 2016-08-10 & '/home/concerta/R/x86\\_64-pc-linux-gnu-library/4.0/readr/extdata/challenge.csv'\\\\\n",
       "\t 1995 & y & 1/0/T/F/TRUE/FALSE & 2019-11-21 & '/home/concerta/R/x86\\_64-pc-linux-gnu-library/4.0/readr/extdata/challenge.csv'\\\\\n",
       "\t 1996 & y & 1/0/T/F/TRUE/FALSE & 2018-03-29 & '/home/concerta/R/x86\\_64-pc-linux-gnu-library/4.0/readr/extdata/challenge.csv'\\\\\n",
       "\t 1997 & y & 1/0/T/F/TRUE/FALSE & 2014-08-04 & '/home/concerta/R/x86\\_64-pc-linux-gnu-library/4.0/readr/extdata/challenge.csv'\\\\\n",
       "\t 1998 & y & 1/0/T/F/TRUE/FALSE & 2015-08-16 & '/home/concerta/R/x86\\_64-pc-linux-gnu-library/4.0/readr/extdata/challenge.csv'\\\\\n",
       "\t 1999 & y & 1/0/T/F/TRUE/FALSE & 2020-02-04 & '/home/concerta/R/x86\\_64-pc-linux-gnu-library/4.0/readr/extdata/challenge.csv'\\\\\n",
       "\t 2000 & y & 1/0/T/F/TRUE/FALSE & 2019-01-06 & '/home/concerta/R/x86\\_64-pc-linux-gnu-library/4.0/readr/extdata/challenge.csv'\\\\\n",
       "\\end{tabular}\n"
      ],
      "text/markdown": [
       "\n",
       "A tibble: 1000 × 5\n",
       "\n",
       "| row &lt;int&gt; | col &lt;chr&gt; | expected &lt;chr&gt; | actual &lt;chr&gt; | file &lt;chr&gt; |\n",
       "|---|---|---|---|---|\n",
       "| 1001 | y | 1/0/T/F/TRUE/FALSE | 2015-01-16 | '/home/concerta/R/x86_64-pc-linux-gnu-library/4.0/readr/extdata/challenge.csv' |\n",
       "| 1002 | y | 1/0/T/F/TRUE/FALSE | 2018-05-18 | '/home/concerta/R/x86_64-pc-linux-gnu-library/4.0/readr/extdata/challenge.csv' |\n",
       "| 1003 | y | 1/0/T/F/TRUE/FALSE | 2015-09-05 | '/home/concerta/R/x86_64-pc-linux-gnu-library/4.0/readr/extdata/challenge.csv' |\n",
       "| 1004 | y | 1/0/T/F/TRUE/FALSE | 2012-11-28 | '/home/concerta/R/x86_64-pc-linux-gnu-library/4.0/readr/extdata/challenge.csv' |\n",
       "| 1005 | y | 1/0/T/F/TRUE/FALSE | 2020-01-13 | '/home/concerta/R/x86_64-pc-linux-gnu-library/4.0/readr/extdata/challenge.csv' |\n",
       "| 1006 | y | 1/0/T/F/TRUE/FALSE | 2016-04-17 | '/home/concerta/R/x86_64-pc-linux-gnu-library/4.0/readr/extdata/challenge.csv' |\n",
       "| 1007 | y | 1/0/T/F/TRUE/FALSE | 2011-05-14 | '/home/concerta/R/x86_64-pc-linux-gnu-library/4.0/readr/extdata/challenge.csv' |\n",
       "| 1008 | y | 1/0/T/F/TRUE/FALSE | 2020-07-18 | '/home/concerta/R/x86_64-pc-linux-gnu-library/4.0/readr/extdata/challenge.csv' |\n",
       "| 1009 | y | 1/0/T/F/TRUE/FALSE | 2011-04-30 | '/home/concerta/R/x86_64-pc-linux-gnu-library/4.0/readr/extdata/challenge.csv' |\n",
       "| 1010 | y | 1/0/T/F/TRUE/FALSE | 2010-05-11 | '/home/concerta/R/x86_64-pc-linux-gnu-library/4.0/readr/extdata/challenge.csv' |\n",
       "| 1011 | y | 1/0/T/F/TRUE/FALSE | 2014-11-02 | '/home/concerta/R/x86_64-pc-linux-gnu-library/4.0/readr/extdata/challenge.csv' |\n",
       "| 1012 | y | 1/0/T/F/TRUE/FALSE | 2014-06-23 | '/home/concerta/R/x86_64-pc-linux-gnu-library/4.0/readr/extdata/challenge.csv' |\n",
       "| 1013 | y | 1/0/T/F/TRUE/FALSE | 2017-05-31 | '/home/concerta/R/x86_64-pc-linux-gnu-library/4.0/readr/extdata/challenge.csv' |\n",
       "| 1014 | y | 1/0/T/F/TRUE/FALSE | 2017-11-18 | '/home/concerta/R/x86_64-pc-linux-gnu-library/4.0/readr/extdata/challenge.csv' |\n",
       "| 1015 | y | 1/0/T/F/TRUE/FALSE | 2013-04-20 | '/home/concerta/R/x86_64-pc-linux-gnu-library/4.0/readr/extdata/challenge.csv' |\n",
       "| 1016 | y | 1/0/T/F/TRUE/FALSE | 2010-12-11 | '/home/concerta/R/x86_64-pc-linux-gnu-library/4.0/readr/extdata/challenge.csv' |\n",
       "| 1017 | y | 1/0/T/F/TRUE/FALSE | 2022-10-10 | '/home/concerta/R/x86_64-pc-linux-gnu-library/4.0/readr/extdata/challenge.csv' |\n",
       "| 1018 | y | 1/0/T/F/TRUE/FALSE | 2010-11-11 | '/home/concerta/R/x86_64-pc-linux-gnu-library/4.0/readr/extdata/challenge.csv' |\n",
       "| 1019 | y | 1/0/T/F/TRUE/FALSE | 2015-03-22 | '/home/concerta/R/x86_64-pc-linux-gnu-library/4.0/readr/extdata/challenge.csv' |\n",
       "| 1020 | y | 1/0/T/F/TRUE/FALSE | 2013-12-25 | '/home/concerta/R/x86_64-pc-linux-gnu-library/4.0/readr/extdata/challenge.csv' |\n",
       "| 1021 | y | 1/0/T/F/TRUE/FALSE | 2011-02-27 | '/home/concerta/R/x86_64-pc-linux-gnu-library/4.0/readr/extdata/challenge.csv' |\n",
       "| 1022 | y | 1/0/T/F/TRUE/FALSE | 2015-12-14 | '/home/concerta/R/x86_64-pc-linux-gnu-library/4.0/readr/extdata/challenge.csv' |\n",
       "| 1023 | y | 1/0/T/F/TRUE/FALSE | 2021-02-10 | '/home/concerta/R/x86_64-pc-linux-gnu-library/4.0/readr/extdata/challenge.csv' |\n",
       "| 1024 | y | 1/0/T/F/TRUE/FALSE | 2012-11-28 | '/home/concerta/R/x86_64-pc-linux-gnu-library/4.0/readr/extdata/challenge.csv' |\n",
       "| 1025 | y | 1/0/T/F/TRUE/FALSE | 2020-04-04 | '/home/concerta/R/x86_64-pc-linux-gnu-library/4.0/readr/extdata/challenge.csv' |\n",
       "| 1026 | y | 1/0/T/F/TRUE/FALSE | 2021-04-08 | '/home/concerta/R/x86_64-pc-linux-gnu-library/4.0/readr/extdata/challenge.csv' |\n",
       "| 1027 | y | 1/0/T/F/TRUE/FALSE | 2022-03-13 | '/home/concerta/R/x86_64-pc-linux-gnu-library/4.0/readr/extdata/challenge.csv' |\n",
       "| 1028 | y | 1/0/T/F/TRUE/FALSE | 2010-03-28 | '/home/concerta/R/x86_64-pc-linux-gnu-library/4.0/readr/extdata/challenge.csv' |\n",
       "| 1029 | y | 1/0/T/F/TRUE/FALSE | 2023-01-04 | '/home/concerta/R/x86_64-pc-linux-gnu-library/4.0/readr/extdata/challenge.csv' |\n",
       "| 1030 | y | 1/0/T/F/TRUE/FALSE | 2012-04-02 | '/home/concerta/R/x86_64-pc-linux-gnu-library/4.0/readr/extdata/challenge.csv' |\n",
       "| ⋮ | ⋮ | ⋮ | ⋮ | ⋮ |\n",
       "| 1971 | y | 1/0/T/F/TRUE/FALSE | 2020-06-10 | '/home/concerta/R/x86_64-pc-linux-gnu-library/4.0/readr/extdata/challenge.csv' |\n",
       "| 1972 | y | 1/0/T/F/TRUE/FALSE | 2013-11-08 | '/home/concerta/R/x86_64-pc-linux-gnu-library/4.0/readr/extdata/challenge.csv' |\n",
       "| 1973 | y | 1/0/T/F/TRUE/FALSE | 2017-07-12 | '/home/concerta/R/x86_64-pc-linux-gnu-library/4.0/readr/extdata/challenge.csv' |\n",
       "| 1974 | y | 1/0/T/F/TRUE/FALSE | 2016-08-12 | '/home/concerta/R/x86_64-pc-linux-gnu-library/4.0/readr/extdata/challenge.csv' |\n",
       "| 1975 | y | 1/0/T/F/TRUE/FALSE | 2022-05-12 | '/home/concerta/R/x86_64-pc-linux-gnu-library/4.0/readr/extdata/challenge.csv' |\n",
       "| 1976 | y | 1/0/T/F/TRUE/FALSE | 2020-08-11 | '/home/concerta/R/x86_64-pc-linux-gnu-library/4.0/readr/extdata/challenge.csv' |\n",
       "| 1977 | y | 1/0/T/F/TRUE/FALSE | 2011-10-26 | '/home/concerta/R/x86_64-pc-linux-gnu-library/4.0/readr/extdata/challenge.csv' |\n",
       "| 1978 | y | 1/0/T/F/TRUE/FALSE | 2015-12-09 | '/home/concerta/R/x86_64-pc-linux-gnu-library/4.0/readr/extdata/challenge.csv' |\n",
       "| 1979 | y | 1/0/T/F/TRUE/FALSE | 2012-09-27 | '/home/concerta/R/x86_64-pc-linux-gnu-library/4.0/readr/extdata/challenge.csv' |\n",
       "| 1980 | y | 1/0/T/F/TRUE/FALSE | 2013-02-04 | '/home/concerta/R/x86_64-pc-linux-gnu-library/4.0/readr/extdata/challenge.csv' |\n",
       "| 1981 | y | 1/0/T/F/TRUE/FALSE | 2010-11-29 | '/home/concerta/R/x86_64-pc-linux-gnu-library/4.0/readr/extdata/challenge.csv' |\n",
       "| 1982 | y | 1/0/T/F/TRUE/FALSE | 2013-10-16 | '/home/concerta/R/x86_64-pc-linux-gnu-library/4.0/readr/extdata/challenge.csv' |\n",
       "| 1983 | y | 1/0/T/F/TRUE/FALSE | 2015-04-26 | '/home/concerta/R/x86_64-pc-linux-gnu-library/4.0/readr/extdata/challenge.csv' |\n",
       "| 1984 | y | 1/0/T/F/TRUE/FALSE | 2011-04-12 | '/home/concerta/R/x86_64-pc-linux-gnu-library/4.0/readr/extdata/challenge.csv' |\n",
       "| 1985 | y | 1/0/T/F/TRUE/FALSE | 2017-01-30 | '/home/concerta/R/x86_64-pc-linux-gnu-library/4.0/readr/extdata/challenge.csv' |\n",
       "| 1986 | y | 1/0/T/F/TRUE/FALSE | 2014-06-08 | '/home/concerta/R/x86_64-pc-linux-gnu-library/4.0/readr/extdata/challenge.csv' |\n",
       "| 1987 | y | 1/0/T/F/TRUE/FALSE | 2016-10-19 | '/home/concerta/R/x86_64-pc-linux-gnu-library/4.0/readr/extdata/challenge.csv' |\n",
       "| 1988 | y | 1/0/T/F/TRUE/FALSE | 2023-09-01 | '/home/concerta/R/x86_64-pc-linux-gnu-library/4.0/readr/extdata/challenge.csv' |\n",
       "| 1989 | y | 1/0/T/F/TRUE/FALSE | 2010-01-09 | '/home/concerta/R/x86_64-pc-linux-gnu-library/4.0/readr/extdata/challenge.csv' |\n",
       "| 1990 | y | 1/0/T/F/TRUE/FALSE | 2020-01-11 | '/home/concerta/R/x86_64-pc-linux-gnu-library/4.0/readr/extdata/challenge.csv' |\n",
       "| 1991 | y | 1/0/T/F/TRUE/FALSE | 2016-12-16 | '/home/concerta/R/x86_64-pc-linux-gnu-library/4.0/readr/extdata/challenge.csv' |\n",
       "| 1992 | y | 1/0/T/F/TRUE/FALSE | 2010-01-03 | '/home/concerta/R/x86_64-pc-linux-gnu-library/4.0/readr/extdata/challenge.csv' |\n",
       "| 1993 | y | 1/0/T/F/TRUE/FALSE | 2016-04-23 | '/home/concerta/R/x86_64-pc-linux-gnu-library/4.0/readr/extdata/challenge.csv' |\n",
       "| 1994 | y | 1/0/T/F/TRUE/FALSE | 2016-08-10 | '/home/concerta/R/x86_64-pc-linux-gnu-library/4.0/readr/extdata/challenge.csv' |\n",
       "| 1995 | y | 1/0/T/F/TRUE/FALSE | 2019-11-21 | '/home/concerta/R/x86_64-pc-linux-gnu-library/4.0/readr/extdata/challenge.csv' |\n",
       "| 1996 | y | 1/0/T/F/TRUE/FALSE | 2018-03-29 | '/home/concerta/R/x86_64-pc-linux-gnu-library/4.0/readr/extdata/challenge.csv' |\n",
       "| 1997 | y | 1/0/T/F/TRUE/FALSE | 2014-08-04 | '/home/concerta/R/x86_64-pc-linux-gnu-library/4.0/readr/extdata/challenge.csv' |\n",
       "| 1998 | y | 1/0/T/F/TRUE/FALSE | 2015-08-16 | '/home/concerta/R/x86_64-pc-linux-gnu-library/4.0/readr/extdata/challenge.csv' |\n",
       "| 1999 | y | 1/0/T/F/TRUE/FALSE | 2020-02-04 | '/home/concerta/R/x86_64-pc-linux-gnu-library/4.0/readr/extdata/challenge.csv' |\n",
       "| 2000 | y | 1/0/T/F/TRUE/FALSE | 2019-01-06 | '/home/concerta/R/x86_64-pc-linux-gnu-library/4.0/readr/extdata/challenge.csv' |\n",
       "\n"
      ],
      "text/plain": [
       "     row  col expected           actual    \n",
       "1    1001 y   1/0/T/F/TRUE/FALSE 2015-01-16\n",
       "2    1002 y   1/0/T/F/TRUE/FALSE 2018-05-18\n",
       "3    1003 y   1/0/T/F/TRUE/FALSE 2015-09-05\n",
       "4    1004 y   1/0/T/F/TRUE/FALSE 2012-11-28\n",
       "5    1005 y   1/0/T/F/TRUE/FALSE 2020-01-13\n",
       "6    1006 y   1/0/T/F/TRUE/FALSE 2016-04-17\n",
       "7    1007 y   1/0/T/F/TRUE/FALSE 2011-05-14\n",
       "8    1008 y   1/0/T/F/TRUE/FALSE 2020-07-18\n",
       "9    1009 y   1/0/T/F/TRUE/FALSE 2011-04-30\n",
       "10   1010 y   1/0/T/F/TRUE/FALSE 2010-05-11\n",
       "11   1011 y   1/0/T/F/TRUE/FALSE 2014-11-02\n",
       "12   1012 y   1/0/T/F/TRUE/FALSE 2014-06-23\n",
       "13   1013 y   1/0/T/F/TRUE/FALSE 2017-05-31\n",
       "14   1014 y   1/0/T/F/TRUE/FALSE 2017-11-18\n",
       "15   1015 y   1/0/T/F/TRUE/FALSE 2013-04-20\n",
       "16   1016 y   1/0/T/F/TRUE/FALSE 2010-12-11\n",
       "17   1017 y   1/0/T/F/TRUE/FALSE 2022-10-10\n",
       "18   1018 y   1/0/T/F/TRUE/FALSE 2010-11-11\n",
       "19   1019 y   1/0/T/F/TRUE/FALSE 2015-03-22\n",
       "20   1020 y   1/0/T/F/TRUE/FALSE 2013-12-25\n",
       "21   1021 y   1/0/T/F/TRUE/FALSE 2011-02-27\n",
       "22   1022 y   1/0/T/F/TRUE/FALSE 2015-12-14\n",
       "23   1023 y   1/0/T/F/TRUE/FALSE 2021-02-10\n",
       "24   1024 y   1/0/T/F/TRUE/FALSE 2012-11-28\n",
       "25   1025 y   1/0/T/F/TRUE/FALSE 2020-04-04\n",
       "26   1026 y   1/0/T/F/TRUE/FALSE 2021-04-08\n",
       "27   1027 y   1/0/T/F/TRUE/FALSE 2022-03-13\n",
       "28   1028 y   1/0/T/F/TRUE/FALSE 2010-03-28\n",
       "29   1029 y   1/0/T/F/TRUE/FALSE 2023-01-04\n",
       "30   1030 y   1/0/T/F/TRUE/FALSE 2012-04-02\n",
       "⋮    ⋮    ⋮   ⋮                  ⋮         \n",
       "971  1971 y   1/0/T/F/TRUE/FALSE 2020-06-10\n",
       "972  1972 y   1/0/T/F/TRUE/FALSE 2013-11-08\n",
       "973  1973 y   1/0/T/F/TRUE/FALSE 2017-07-12\n",
       "974  1974 y   1/0/T/F/TRUE/FALSE 2016-08-12\n",
       "975  1975 y   1/0/T/F/TRUE/FALSE 2022-05-12\n",
       "976  1976 y   1/0/T/F/TRUE/FALSE 2020-08-11\n",
       "977  1977 y   1/0/T/F/TRUE/FALSE 2011-10-26\n",
       "978  1978 y   1/0/T/F/TRUE/FALSE 2015-12-09\n",
       "979  1979 y   1/0/T/F/TRUE/FALSE 2012-09-27\n",
       "980  1980 y   1/0/T/F/TRUE/FALSE 2013-02-04\n",
       "981  1981 y   1/0/T/F/TRUE/FALSE 2010-11-29\n",
       "982  1982 y   1/0/T/F/TRUE/FALSE 2013-10-16\n",
       "983  1983 y   1/0/T/F/TRUE/FALSE 2015-04-26\n",
       "984  1984 y   1/0/T/F/TRUE/FALSE 2011-04-12\n",
       "985  1985 y   1/0/T/F/TRUE/FALSE 2017-01-30\n",
       "986  1986 y   1/0/T/F/TRUE/FALSE 2014-06-08\n",
       "987  1987 y   1/0/T/F/TRUE/FALSE 2016-10-19\n",
       "988  1988 y   1/0/T/F/TRUE/FALSE 2023-09-01\n",
       "989  1989 y   1/0/T/F/TRUE/FALSE 2010-01-09\n",
       "990  1990 y   1/0/T/F/TRUE/FALSE 2020-01-11\n",
       "991  1991 y   1/0/T/F/TRUE/FALSE 2016-12-16\n",
       "992  1992 y   1/0/T/F/TRUE/FALSE 2010-01-03\n",
       "993  1993 y   1/0/T/F/TRUE/FALSE 2016-04-23\n",
       "994  1994 y   1/0/T/F/TRUE/FALSE 2016-08-10\n",
       "995  1995 y   1/0/T/F/TRUE/FALSE 2019-11-21\n",
       "996  1996 y   1/0/T/F/TRUE/FALSE 2018-03-29\n",
       "997  1997 y   1/0/T/F/TRUE/FALSE 2014-08-04\n",
       "998  1998 y   1/0/T/F/TRUE/FALSE 2015-08-16\n",
       "999  1999 y   1/0/T/F/TRUE/FALSE 2020-02-04\n",
       "1000 2000 y   1/0/T/F/TRUE/FALSE 2019-01-06\n",
       "     file                                                                          \n",
       "1    '/home/concerta/R/x86_64-pc-linux-gnu-library/4.0/readr/extdata/challenge.csv'\n",
       "2    '/home/concerta/R/x86_64-pc-linux-gnu-library/4.0/readr/extdata/challenge.csv'\n",
       "3    '/home/concerta/R/x86_64-pc-linux-gnu-library/4.0/readr/extdata/challenge.csv'\n",
       "4    '/home/concerta/R/x86_64-pc-linux-gnu-library/4.0/readr/extdata/challenge.csv'\n",
       "5    '/home/concerta/R/x86_64-pc-linux-gnu-library/4.0/readr/extdata/challenge.csv'\n",
       "6    '/home/concerta/R/x86_64-pc-linux-gnu-library/4.0/readr/extdata/challenge.csv'\n",
       "7    '/home/concerta/R/x86_64-pc-linux-gnu-library/4.0/readr/extdata/challenge.csv'\n",
       "8    '/home/concerta/R/x86_64-pc-linux-gnu-library/4.0/readr/extdata/challenge.csv'\n",
       "9    '/home/concerta/R/x86_64-pc-linux-gnu-library/4.0/readr/extdata/challenge.csv'\n",
       "10   '/home/concerta/R/x86_64-pc-linux-gnu-library/4.0/readr/extdata/challenge.csv'\n",
       "11   '/home/concerta/R/x86_64-pc-linux-gnu-library/4.0/readr/extdata/challenge.csv'\n",
       "12   '/home/concerta/R/x86_64-pc-linux-gnu-library/4.0/readr/extdata/challenge.csv'\n",
       "13   '/home/concerta/R/x86_64-pc-linux-gnu-library/4.0/readr/extdata/challenge.csv'\n",
       "14   '/home/concerta/R/x86_64-pc-linux-gnu-library/4.0/readr/extdata/challenge.csv'\n",
       "15   '/home/concerta/R/x86_64-pc-linux-gnu-library/4.0/readr/extdata/challenge.csv'\n",
       "16   '/home/concerta/R/x86_64-pc-linux-gnu-library/4.0/readr/extdata/challenge.csv'\n",
       "17   '/home/concerta/R/x86_64-pc-linux-gnu-library/4.0/readr/extdata/challenge.csv'\n",
       "18   '/home/concerta/R/x86_64-pc-linux-gnu-library/4.0/readr/extdata/challenge.csv'\n",
       "19   '/home/concerta/R/x86_64-pc-linux-gnu-library/4.0/readr/extdata/challenge.csv'\n",
       "20   '/home/concerta/R/x86_64-pc-linux-gnu-library/4.0/readr/extdata/challenge.csv'\n",
       "21   '/home/concerta/R/x86_64-pc-linux-gnu-library/4.0/readr/extdata/challenge.csv'\n",
       "22   '/home/concerta/R/x86_64-pc-linux-gnu-library/4.0/readr/extdata/challenge.csv'\n",
       "23   '/home/concerta/R/x86_64-pc-linux-gnu-library/4.0/readr/extdata/challenge.csv'\n",
       "24   '/home/concerta/R/x86_64-pc-linux-gnu-library/4.0/readr/extdata/challenge.csv'\n",
       "25   '/home/concerta/R/x86_64-pc-linux-gnu-library/4.0/readr/extdata/challenge.csv'\n",
       "26   '/home/concerta/R/x86_64-pc-linux-gnu-library/4.0/readr/extdata/challenge.csv'\n",
       "27   '/home/concerta/R/x86_64-pc-linux-gnu-library/4.0/readr/extdata/challenge.csv'\n",
       "28   '/home/concerta/R/x86_64-pc-linux-gnu-library/4.0/readr/extdata/challenge.csv'\n",
       "29   '/home/concerta/R/x86_64-pc-linux-gnu-library/4.0/readr/extdata/challenge.csv'\n",
       "30   '/home/concerta/R/x86_64-pc-linux-gnu-library/4.0/readr/extdata/challenge.csv'\n",
       "⋮    ⋮                                                                             \n",
       "971  '/home/concerta/R/x86_64-pc-linux-gnu-library/4.0/readr/extdata/challenge.csv'\n",
       "972  '/home/concerta/R/x86_64-pc-linux-gnu-library/4.0/readr/extdata/challenge.csv'\n",
       "973  '/home/concerta/R/x86_64-pc-linux-gnu-library/4.0/readr/extdata/challenge.csv'\n",
       "974  '/home/concerta/R/x86_64-pc-linux-gnu-library/4.0/readr/extdata/challenge.csv'\n",
       "975  '/home/concerta/R/x86_64-pc-linux-gnu-library/4.0/readr/extdata/challenge.csv'\n",
       "976  '/home/concerta/R/x86_64-pc-linux-gnu-library/4.0/readr/extdata/challenge.csv'\n",
       "977  '/home/concerta/R/x86_64-pc-linux-gnu-library/4.0/readr/extdata/challenge.csv'\n",
       "978  '/home/concerta/R/x86_64-pc-linux-gnu-library/4.0/readr/extdata/challenge.csv'\n",
       "979  '/home/concerta/R/x86_64-pc-linux-gnu-library/4.0/readr/extdata/challenge.csv'\n",
       "980  '/home/concerta/R/x86_64-pc-linux-gnu-library/4.0/readr/extdata/challenge.csv'\n",
       "981  '/home/concerta/R/x86_64-pc-linux-gnu-library/4.0/readr/extdata/challenge.csv'\n",
       "982  '/home/concerta/R/x86_64-pc-linux-gnu-library/4.0/readr/extdata/challenge.csv'\n",
       "983  '/home/concerta/R/x86_64-pc-linux-gnu-library/4.0/readr/extdata/challenge.csv'\n",
       "984  '/home/concerta/R/x86_64-pc-linux-gnu-library/4.0/readr/extdata/challenge.csv'\n",
       "985  '/home/concerta/R/x86_64-pc-linux-gnu-library/4.0/readr/extdata/challenge.csv'\n",
       "986  '/home/concerta/R/x86_64-pc-linux-gnu-library/4.0/readr/extdata/challenge.csv'\n",
       "987  '/home/concerta/R/x86_64-pc-linux-gnu-library/4.0/readr/extdata/challenge.csv'\n",
       "988  '/home/concerta/R/x86_64-pc-linux-gnu-library/4.0/readr/extdata/challenge.csv'\n",
       "989  '/home/concerta/R/x86_64-pc-linux-gnu-library/4.0/readr/extdata/challenge.csv'\n",
       "990  '/home/concerta/R/x86_64-pc-linux-gnu-library/4.0/readr/extdata/challenge.csv'\n",
       "991  '/home/concerta/R/x86_64-pc-linux-gnu-library/4.0/readr/extdata/challenge.csv'\n",
       "992  '/home/concerta/R/x86_64-pc-linux-gnu-library/4.0/readr/extdata/challenge.csv'\n",
       "993  '/home/concerta/R/x86_64-pc-linux-gnu-library/4.0/readr/extdata/challenge.csv'\n",
       "994  '/home/concerta/R/x86_64-pc-linux-gnu-library/4.0/readr/extdata/challenge.csv'\n",
       "995  '/home/concerta/R/x86_64-pc-linux-gnu-library/4.0/readr/extdata/challenge.csv'\n",
       "996  '/home/concerta/R/x86_64-pc-linux-gnu-library/4.0/readr/extdata/challenge.csv'\n",
       "997  '/home/concerta/R/x86_64-pc-linux-gnu-library/4.0/readr/extdata/challenge.csv'\n",
       "998  '/home/concerta/R/x86_64-pc-linux-gnu-library/4.0/readr/extdata/challenge.csv'\n",
       "999  '/home/concerta/R/x86_64-pc-linux-gnu-library/4.0/readr/extdata/challenge.csv'\n",
       "1000 '/home/concerta/R/x86_64-pc-linux-gnu-library/4.0/readr/extdata/challenge.csv'"
      ]
     },
     "metadata": {},
     "output_type": "display_data"
    }
   ],
   "source": [
    "problems(challenge)"
   ]
  },
  {
   "cell_type": "markdown",
   "metadata": {},
   "source": [
    "A good strategy is to work column by column until there are no\n",
    "problems remaining. Here we can see that there are a lot of parsing\n",
    "problems with the x column—there are trailing characters after the\n",
    "integer value. That suggests we need to use a double parser instead.\n",
    "To fix the call, start by copying and pasting the column specification\n",
    "into your original call:"
   ]
  },
  {
   "cell_type": "code",
   "execution_count": 44,
   "metadata": {},
   "outputs": [],
   "source": [
    "challenge <- readr_example('challenge.csv') %>%\n",
    "    read_csv(col_types = cols(x = col_double(),\n",
    "                              y = col_character()))"
   ]
  },
  {
   "cell_type": "markdown",
   "metadata": {},
   "source": [
    "That fixes the first problem, but if we look at the last few rows, you’ll\n",
    "see that they’re dates stored in a character vector:"
   ]
  },
  {
   "cell_type": "code",
   "execution_count": 45,
   "metadata": {},
   "outputs": [
    {
     "data": {
      "text/html": [
       "<table>\n",
       "<caption>A tibble: 6 × 2</caption>\n",
       "<thead>\n",
       "\t<tr><th scope=col>x</th><th scope=col>y</th></tr>\n",
       "\t<tr><th scope=col>&lt;dbl&gt;</th><th scope=col>&lt;chr&gt;</th></tr>\n",
       "</thead>\n",
       "<tbody>\n",
       "\t<tr><td>0.8052743</td><td>2019-11-21</td></tr>\n",
       "\t<tr><td>0.1635163</td><td>2018-03-29</td></tr>\n",
       "\t<tr><td>0.4719390</td><td>2014-08-04</td></tr>\n",
       "\t<tr><td>0.7183186</td><td>2015-08-16</td></tr>\n",
       "\t<tr><td>0.2698786</td><td>2020-02-04</td></tr>\n",
       "\t<tr><td>0.6082372</td><td>2019-01-06</td></tr>\n",
       "</tbody>\n",
       "</table>\n"
      ],
      "text/latex": [
       "A tibble: 6 × 2\n",
       "\\begin{tabular}{ll}\n",
       " x & y\\\\\n",
       " <dbl> & <chr>\\\\\n",
       "\\hline\n",
       "\t 0.8052743 & 2019-11-21\\\\\n",
       "\t 0.1635163 & 2018-03-29\\\\\n",
       "\t 0.4719390 & 2014-08-04\\\\\n",
       "\t 0.7183186 & 2015-08-16\\\\\n",
       "\t 0.2698786 & 2020-02-04\\\\\n",
       "\t 0.6082372 & 2019-01-06\\\\\n",
       "\\end{tabular}\n"
      ],
      "text/markdown": [
       "\n",
       "A tibble: 6 × 2\n",
       "\n",
       "| x &lt;dbl&gt; | y &lt;chr&gt; |\n",
       "|---|---|\n",
       "| 0.8052743 | 2019-11-21 |\n",
       "| 0.1635163 | 2018-03-29 |\n",
       "| 0.4719390 | 2014-08-04 |\n",
       "| 0.7183186 | 2015-08-16 |\n",
       "| 0.2698786 | 2020-02-04 |\n",
       "| 0.6082372 | 2019-01-06 |\n",
       "\n"
      ],
      "text/plain": [
       "  x         y         \n",
       "1 0.8052743 2019-11-21\n",
       "2 0.1635163 2018-03-29\n",
       "3 0.4719390 2014-08-04\n",
       "4 0.7183186 2015-08-16\n",
       "5 0.2698786 2020-02-04\n",
       "6 0.6082372 2019-01-06"
      ]
     },
     "metadata": {},
     "output_type": "display_data"
    }
   ],
   "source": [
    "tail(challenge)"
   ]
  },
  {
   "cell_type": "markdown",
   "metadata": {},
   "source": [
    "You can fix that by specifying that y is a date column:"
   ]
  },
  {
   "cell_type": "code",
   "execution_count": 46,
   "metadata": {},
   "outputs": [],
   "source": [
    "challenge <- readr_example('challenge.csv') %>%\n",
    "    read_csv(col_types = cols(x = col_double(),\n",
    "                              y = col_date()))"
   ]
  },
  {
   "cell_type": "code",
   "execution_count": 47,
   "metadata": {},
   "outputs": [
    {
     "data": {
      "text/html": [
       "<table>\n",
       "<caption>A tibble: 6 × 2</caption>\n",
       "<thead>\n",
       "\t<tr><th scope=col>x</th><th scope=col>y</th></tr>\n",
       "\t<tr><th scope=col>&lt;dbl&gt;</th><th scope=col>&lt;date&gt;</th></tr>\n",
       "</thead>\n",
       "<tbody>\n",
       "\t<tr><td>0.8052743</td><td>2019-11-21</td></tr>\n",
       "\t<tr><td>0.1635163</td><td>2018-03-29</td></tr>\n",
       "\t<tr><td>0.4719390</td><td>2014-08-04</td></tr>\n",
       "\t<tr><td>0.7183186</td><td>2015-08-16</td></tr>\n",
       "\t<tr><td>0.2698786</td><td>2020-02-04</td></tr>\n",
       "\t<tr><td>0.6082372</td><td>2019-01-06</td></tr>\n",
       "</tbody>\n",
       "</table>\n"
      ],
      "text/latex": [
       "A tibble: 6 × 2\n",
       "\\begin{tabular}{ll}\n",
       " x & y\\\\\n",
       " <dbl> & <date>\\\\\n",
       "\\hline\n",
       "\t 0.8052743 & 2019-11-21\\\\\n",
       "\t 0.1635163 & 2018-03-29\\\\\n",
       "\t 0.4719390 & 2014-08-04\\\\\n",
       "\t 0.7183186 & 2015-08-16\\\\\n",
       "\t 0.2698786 & 2020-02-04\\\\\n",
       "\t 0.6082372 & 2019-01-06\\\\\n",
       "\\end{tabular}\n"
      ],
      "text/markdown": [
       "\n",
       "A tibble: 6 × 2\n",
       "\n",
       "| x &lt;dbl&gt; | y &lt;date&gt; |\n",
       "|---|---|\n",
       "| 0.8052743 | 2019-11-21 |\n",
       "| 0.1635163 | 2018-03-29 |\n",
       "| 0.4719390 | 2014-08-04 |\n",
       "| 0.7183186 | 2015-08-16 |\n",
       "| 0.2698786 | 2020-02-04 |\n",
       "| 0.6082372 | 2019-01-06 |\n",
       "\n"
      ],
      "text/plain": [
       "  x         y         \n",
       "1 0.8052743 2019-11-21\n",
       "2 0.1635163 2018-03-29\n",
       "3 0.4719390 2014-08-04\n",
       "4 0.7183186 2015-08-16\n",
       "5 0.2698786 2020-02-04\n",
       "6 0.6082372 2019-01-06"
      ]
     },
     "metadata": {},
     "output_type": "display_data"
    }
   ],
   "source": [
    "tail(challenge)"
   ]
  },
  {
   "cell_type": "markdown",
   "metadata": {},
   "source": [
    "Every `parse_xyz()` function has a corresponding col_xyz() func‐\n",
    "tion. You use `parse_xyz()` when the data is in a character vector in\n",
    "R already; you use `col_xyz()` when you want to tell readr how to\n",
    "load the data."
   ]
  },
  {
   "cell_type": "markdown",
   "metadata": {},
   "source": [
    "### __Writing to a File__"
   ]
  },
  {
   "cell_type": "markdown",
   "metadata": {},
   "source": [
    "readr also comes with two useful functions for writing data back to\n",
    "disk: write_csv() and write_tsv() . Both functions increase the\n",
    "chances of the output file being read back in correctly by:\n",
    "- Always encoding strings in UTF-8.\n",
    "- Saving dates and date-times in ISO8601 format so they are\n",
    "easily parsed elsewhere.\n",
    "If you want to export a CSV file to Excel, use `write_excel_csv()` —\n",
    "this writes a special character (a “byte order mark”) at the start of\n",
    "the file, which tells Excel that you’re using the UTF-8 encoding.\n",
    "The most important arguments are x (the data frame to save) and\n",
    "path (the location to save it). You can also specify how missing val‐\n",
    "ues are written with na , and if you want to append to an existing file:\n",
    "`write_csv(challenge, \"challenge.csv\")`\n",
    "Note that the type information is lost when you save to CSV:"
   ]
  },
  {
   "cell_type": "markdown",
   "metadata": {},
   "source": [
    "- `write_rds()` and `read_rds()` are uniform wrappers around the\n",
    "base functions `readRDS()` and `saveRDS()` . These store data in\n",
    "R’s custom binary format called RDS:"
   ]
  },
  {
   "cell_type": "markdown",
   "metadata": {},
   "source": [
    "The feather package implements a fast binary file format that\n",
    "can be shared across programming languages:"
   ]
  },
  {
   "cell_type": "markdown",
   "metadata": {},
   "source": [
    "```r\n",
    "library(feather)\n",
    "write_feather(challenge, 'challenge.feather')\n",
    "read_feather('challenge.feather')\n",
    "```"
   ]
  },
  {
   "cell_type": "code",
   "execution_count": null,
   "metadata": {},
   "outputs": [],
   "source": []
  }
 ],
 "metadata": {
  "kernelspec": {
   "display_name": "R",
   "language": "R",
   "name": "ir"
  },
  "language_info": {
   "codemirror_mode": "r",
   "file_extension": ".r",
   "mimetype": "text/x-r-source",
   "name": "R",
   "pygments_lexer": "r",
   "version": "4.0.2"
  }
 },
 "nbformat": 4,
 "nbformat_minor": 4
}
