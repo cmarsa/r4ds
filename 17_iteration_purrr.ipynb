{
 "cells": [
  {
   "cell_type": "markdown",
   "metadata": {},
   "source": [
    "# <div style=\"text-align: right\"> Chapter __17__</div>"
   ]
  },
  {
   "cell_type": "markdown",
   "metadata": {},
   "source": [
    "# __Iteration with purrr__"
   ]
  },
  {
   "cell_type": "code",
   "execution_count": 1,
   "metadata": {},
   "outputs": [],
   "source": [
    "# config\n",
    "repr_html.tbl_df <- function(obj, ..., rows = 6) repr:::repr_html.data.frame(obj, ..., rows = rows)\n",
    "options(dplyr.summarise.inform = FALSE)"
   ]
  },
  {
   "cell_type": "markdown",
   "metadata": {},
   "source": [
    "One tool for reducing duplication is functions, which reduce duplication by identifying repeated patterns of code and extracting them\n",
    "out into independent pieces that can be easily reused and updated.\n",
    "Another tool for reducing duplication is iteration, which helps you\n",
    "when you need to do the same thing to multiple inputs: repeating\n",
    "the same operation on different columns, or on different datasets. In\n",
    "this chapter you’ll learn about two important iteration paradigms:\n",
    "imperative programming and functional programming. On the\n",
    "imperative side you have tools like for loops and while loops, which\n",
    "are a great place to start because they make iteration very explicit, so\n",
    "it’s obvious what’s happening. However, for loops are quite verbose,\n",
    "and require quite a bit of bookkeeping code that is duplicated for\n",
    "every for loop. Functional programming (FP) offers tools to extract\n",
    "out this duplicated code, so each common for loop pattern gets its\n",
    "own function. Once you master the vocabulary of FP, you can solve\n",
    "many common iteration problems with less code, more ease, and\n",
    "fewer errors."
   ]
  },
  {
   "cell_type": "code",
   "execution_count": 2,
   "metadata": {},
   "outputs": [
    {
     "name": "stderr",
     "output_type": "stream",
     "text": [
      "── \u001b[1mAttaching packages\u001b[22m ─────────────────────────────────────── tidyverse 1.3.0 ──\n",
      "\n",
      "\u001b[32m✔\u001b[39m \u001b[34mggplot2\u001b[39m 3.3.2     \u001b[32m✔\u001b[39m \u001b[34mpurrr  \u001b[39m 0.3.4\n",
      "\u001b[32m✔\u001b[39m \u001b[34mtibble \u001b[39m 3.0.3     \u001b[32m✔\u001b[39m \u001b[34mdplyr  \u001b[39m 1.0.1\n",
      "\u001b[32m✔\u001b[39m \u001b[34mtidyr  \u001b[39m 1.1.1     \u001b[32m✔\u001b[39m \u001b[34mstringr\u001b[39m 1.4.0\n",
      "\u001b[32m✔\u001b[39m \u001b[34mreadr  \u001b[39m 1.3.1     \u001b[32m✔\u001b[39m \u001b[34mforcats\u001b[39m 0.5.0\n",
      "\n",
      "── \u001b[1mConflicts\u001b[22m ────────────────────────────────────────── tidyverse_conflicts() ──\n",
      "\u001b[31m✖\u001b[39m \u001b[34mdplyr\u001b[39m::\u001b[32mfilter()\u001b[39m masks \u001b[34mstats\u001b[39m::filter()\n",
      "\u001b[31m✖\u001b[39m \u001b[34mdplyr\u001b[39m::\u001b[32mlag()\u001b[39m    masks \u001b[34mstats\u001b[39m::lag()\n",
      "\n"
     ]
    }
   ],
   "source": [
    "library(tidyverse)"
   ]
  },
  {
   "cell_type": "markdown",
   "metadata": {},
   "source": [
    "## __For loops__"
   ]
  },
  {
   "cell_type": "markdown",
   "metadata": {},
   "source": [
    "Imagine we have this simple tibble:"
   ]
  },
  {
   "cell_type": "code",
   "execution_count": 4,
   "metadata": {},
   "outputs": [],
   "source": [
    "df <- tibble(\n",
    "    a = rnorm(10),\n",
    "    b = rnorm(10),\n",
    "    c = rnorm(10),\n",
    "    d = rnorm(10)\n",
    ")"
   ]
  },
  {
   "cell_type": "markdown",
   "metadata": {},
   "source": [
    "We want to compute the median of each column. You could do it\n",
    "with copy-and-paste:"
   ]
  },
  {
   "cell_type": "code",
   "execution_count": 9,
   "metadata": {},
   "outputs": [
    {
     "data": {
      "text/html": [
       "0.0774465106038641"
      ],
      "text/latex": [
       "0.0774465106038641"
      ],
      "text/markdown": [
       "0.0774465106038641"
      ],
      "text/plain": [
       "[1] 0.07744651"
      ]
     },
     "metadata": {},
     "output_type": "display_data"
    }
   ],
   "source": [
    "median(df$a)"
   ]
  },
  {
   "cell_type": "code",
   "execution_count": 10,
   "metadata": {},
   "outputs": [
    {
     "data": {
      "text/html": [
       "0.764256597131457"
      ],
      "text/latex": [
       "0.764256597131457"
      ],
      "text/markdown": [
       "0.764256597131457"
      ],
      "text/plain": [
       "[1] 0.7642566"
      ]
     },
     "metadata": {},
     "output_type": "display_data"
    }
   ],
   "source": [
    "median(df$b)"
   ]
  },
  {
   "cell_type": "code",
   "execution_count": 11,
   "metadata": {},
   "outputs": [
    {
     "data": {
      "text/html": [
       "-0.597841214106739"
      ],
      "text/latex": [
       "-0.597841214106739"
      ],
      "text/markdown": [
       "-0.597841214106739"
      ],
      "text/plain": [
       "[1] -0.5978412"
      ]
     },
     "metadata": {},
     "output_type": "display_data"
    }
   ],
   "source": [
    "median(df$c)"
   ]
  },
  {
   "cell_type": "code",
   "execution_count": 12,
   "metadata": {},
   "outputs": [
    {
     "data": {
      "text/html": [
       "0.0612788922472276"
      ],
      "text/latex": [
       "0.0612788922472276"
      ],
      "text/markdown": [
       "0.0612788922472276"
      ],
      "text/plain": [
       "[1] 0.06127889"
      ]
     },
     "metadata": {},
     "output_type": "display_data"
    }
   ],
   "source": [
    "median(df$d)"
   ]
  },
  {
   "cell_type": "markdown",
   "metadata": {},
   "source": [
    "But that breaks our rule of thumb: never copy and paste more than\n",
    "twice. Instead, we could use a for loop:"
   ]
  },
  {
   "cell_type": "code",
   "execution_count": 13,
   "metadata": {},
   "outputs": [
    {
     "data": {
      "text/html": [
       "<style>\n",
       ".list-inline {list-style: none; margin:0; padding: 0}\n",
       ".list-inline>li {display: inline-block}\n",
       ".list-inline>li:not(:last-child)::after {content: \"\\00b7\"; padding: 0 .5ex}\n",
       "</style>\n",
       "<ol class=list-inline><li>0.0774465106038641</li><li>0.764256597131457</li><li>-0.597841214106739</li><li>0.0612788922472276</li></ol>\n"
      ],
      "text/latex": [
       "\\begin{enumerate*}\n",
       "\\item 0.0774465106038641\n",
       "\\item 0.764256597131457\n",
       "\\item -0.597841214106739\n",
       "\\item 0.0612788922472276\n",
       "\\end{enumerate*}\n"
      ],
      "text/markdown": [
       "1. 0.0774465106038641\n",
       "2. 0.764256597131457\n",
       "3. -0.597841214106739\n",
       "4. 0.0612788922472276\n",
       "\n",
       "\n"
      ],
      "text/plain": [
       "[1]  0.07744651  0.76425660 -0.59784121  0.06127889"
      ]
     },
     "metadata": {},
     "output_type": "display_data"
    }
   ],
   "source": [
    "output <- vector('double', ncol(df))\n",
    "for (i in seq_along(df)) {\n",
    "    output[[i]] <- median(df[[i]])\n",
    "}\n",
    "output"
   ]
  },
  {
   "cell_type": "markdown",
   "metadata": {},
   "source": [
    "Excercise\n",
    "\n",
    "Write for-loops to:\n",
    "\n",
    "    Compute the mean of every column in mtcars.\n",
    "    Determine the type of each column in nycflights13::flights.\n",
    "    Compute the number of unique values in each column of iris.\n",
    "    Generate 10 random normals for each of μ = -10, 0, 10, and 100."
   ]
  },
  {
   "cell_type": "code",
   "execution_count": 18,
   "metadata": {},
   "outputs": [
    {
     "data": {
      "text/html": [
       "<style>\n",
       ".dl-inline {width: auto; margin:0; padding: 0}\n",
       ".dl-inline>dt, .dl-inline>dd {float: none; width: auto; display: inline-block}\n",
       ".dl-inline>dt::after {content: \":\\0020\"; padding-right: .5ex}\n",
       ".dl-inline>dt:not(:first-of-type) {padding-left: .5ex}\n",
       "</style><dl class=dl-inline><dt>mpg</dt><dd>20.090625</dd><dt>cyl</dt><dd>6.1875</dd><dt>disp</dt><dd>230.721875</dd><dt>hp</dt><dd>146.6875</dd><dt>drat</dt><dd>3.5965625</dd><dt>wt</dt><dd>3.21725</dd><dt>qsec</dt><dd>17.84875</dd><dt>vs</dt><dd>0.4375</dd><dt>am</dt><dd>0.40625</dd><dt>gear</dt><dd>3.6875</dd><dt>carb</dt><dd>2.8125</dd></dl>\n"
      ],
      "text/latex": [
       "\\begin{description*}\n",
       "\\item[mpg] 20.090625\n",
       "\\item[cyl] 6.1875\n",
       "\\item[disp] 230.721875\n",
       "\\item[hp] 146.6875\n",
       "\\item[drat] 3.5965625\n",
       "\\item[wt] 3.21725\n",
       "\\item[qsec] 17.84875\n",
       "\\item[vs] 0.4375\n",
       "\\item[am] 0.40625\n",
       "\\item[gear] 3.6875\n",
       "\\item[carb] 2.8125\n",
       "\\end{description*}\n"
      ],
      "text/markdown": [
       "mpg\n",
       ":   20.090625cyl\n",
       ":   6.1875disp\n",
       ":   230.721875hp\n",
       ":   146.6875drat\n",
       ":   3.5965625wt\n",
       ":   3.21725qsec\n",
       ":   17.84875vs\n",
       ":   0.4375am\n",
       ":   0.40625gear\n",
       ":   3.6875carb\n",
       ":   2.8125\n",
       "\n"
      ],
      "text/plain": [
       "       mpg        cyl       disp         hp       drat         wt       qsec \n",
       " 20.090625   6.187500 230.721875 146.687500   3.596563   3.217250  17.848750 \n",
       "        vs         am       gear       carb \n",
       "  0.437500   0.406250   3.687500   2.812500 "
      ]
     },
     "metadata": {},
     "output_type": "display_data"
    }
   ],
   "source": [
    "# compute the mean of every column in mtcars\n",
    "output <- vector('double', ncol(mtcars))\n",
    "names(output) <- names(mtcars)\n",
    "for (i in names(mtcars)) {\n",
    "    output[i] <- mean(mtcars[[i]])\n",
    "}\n",
    "\n",
    "output"
   ]
  },
  {
   "cell_type": "code",
   "execution_count": 19,
   "metadata": {},
   "outputs": [
    {
     "data": {
      "text/html": [
       "<dl>\n",
       "\t<dt>$year</dt>\n",
       "\t\t<dd>'integer'</dd>\n",
       "\t<dt>$month</dt>\n",
       "\t\t<dd>'integer'</dd>\n",
       "\t<dt>$day</dt>\n",
       "\t\t<dd>'integer'</dd>\n",
       "\t<dt>$dep_time</dt>\n",
       "\t\t<dd>'integer'</dd>\n",
       "\t<dt>$sched_dep_time</dt>\n",
       "\t\t<dd>'integer'</dd>\n",
       "\t<dt>$dep_delay</dt>\n",
       "\t\t<dd>'numeric'</dd>\n",
       "\t<dt>$arr_time</dt>\n",
       "\t\t<dd>'integer'</dd>\n",
       "\t<dt>$sched_arr_time</dt>\n",
       "\t\t<dd>'integer'</dd>\n",
       "\t<dt>$arr_delay</dt>\n",
       "\t\t<dd>'numeric'</dd>\n",
       "\t<dt>$carrier</dt>\n",
       "\t\t<dd>'character'</dd>\n",
       "\t<dt>$flight</dt>\n",
       "\t\t<dd>'integer'</dd>\n",
       "\t<dt>$tailnum</dt>\n",
       "\t\t<dd>'character'</dd>\n",
       "\t<dt>$origin</dt>\n",
       "\t\t<dd>'character'</dd>\n",
       "\t<dt>$dest</dt>\n",
       "\t\t<dd>'character'</dd>\n",
       "\t<dt>$air_time</dt>\n",
       "\t\t<dd>'numeric'</dd>\n",
       "\t<dt>$distance</dt>\n",
       "\t\t<dd>'numeric'</dd>\n",
       "\t<dt>$hour</dt>\n",
       "\t\t<dd>'numeric'</dd>\n",
       "\t<dt>$minute</dt>\n",
       "\t\t<dd>'numeric'</dd>\n",
       "\t<dt>$time_hour</dt>\n",
       "\t\t<dd><style>\n",
       ".list-inline {list-style: none; margin:0; padding: 0}\n",
       ".list-inline>li {display: inline-block}\n",
       ".list-inline>li:not(:last-child)::after {content: \"\\00b7\"; padding: 0 .5ex}\n",
       "</style>\n",
       "<ol class=list-inline><li>'POSIXct'</li><li>'POSIXt'</li></ol>\n",
       "</dd>\n",
       "</dl>\n"
      ],
      "text/latex": [
       "\\begin{description}\n",
       "\\item[\\$year] 'integer'\n",
       "\\item[\\$month] 'integer'\n",
       "\\item[\\$day] 'integer'\n",
       "\\item[\\$dep\\_time] 'integer'\n",
       "\\item[\\$sched\\_dep\\_time] 'integer'\n",
       "\\item[\\$dep\\_delay] 'numeric'\n",
       "\\item[\\$arr\\_time] 'integer'\n",
       "\\item[\\$sched\\_arr\\_time] 'integer'\n",
       "\\item[\\$arr\\_delay] 'numeric'\n",
       "\\item[\\$carrier] 'character'\n",
       "\\item[\\$flight] 'integer'\n",
       "\\item[\\$tailnum] 'character'\n",
       "\\item[\\$origin] 'character'\n",
       "\\item[\\$dest] 'character'\n",
       "\\item[\\$air\\_time] 'numeric'\n",
       "\\item[\\$distance] 'numeric'\n",
       "\\item[\\$hour] 'numeric'\n",
       "\\item[\\$minute] 'numeric'\n",
       "\\item[\\$time\\_hour] \\begin{enumerate*}\n",
       "\\item 'POSIXct'\n",
       "\\item 'POSIXt'\n",
       "\\end{enumerate*}\n",
       "\n",
       "\\end{description}\n"
      ],
      "text/markdown": [
       "$year\n",
       ":   'integer'\n",
       "$month\n",
       ":   'integer'\n",
       "$day\n",
       ":   'integer'\n",
       "$dep_time\n",
       ":   'integer'\n",
       "$sched_dep_time\n",
       ":   'integer'\n",
       "$dep_delay\n",
       ":   'numeric'\n",
       "$arr_time\n",
       ":   'integer'\n",
       "$sched_arr_time\n",
       ":   'integer'\n",
       "$arr_delay\n",
       ":   'numeric'\n",
       "$carrier\n",
       ":   'character'\n",
       "$flight\n",
       ":   'integer'\n",
       "$tailnum\n",
       ":   'character'\n",
       "$origin\n",
       ":   'character'\n",
       "$dest\n",
       ":   'character'\n",
       "$air_time\n",
       ":   'numeric'\n",
       "$distance\n",
       ":   'numeric'\n",
       "$hour\n",
       ":   'numeric'\n",
       "$minute\n",
       ":   'numeric'\n",
       "$time_hour\n",
       ":   1. 'POSIXct'\n",
       "2. 'POSIXt'\n",
       "\n",
       "\n",
       "\n",
       "\n",
       "\n"
      ],
      "text/plain": [
       "$year\n",
       "[1] \"integer\"\n",
       "\n",
       "$month\n",
       "[1] \"integer\"\n",
       "\n",
       "$day\n",
       "[1] \"integer\"\n",
       "\n",
       "$dep_time\n",
       "[1] \"integer\"\n",
       "\n",
       "$sched_dep_time\n",
       "[1] \"integer\"\n",
       "\n",
       "$dep_delay\n",
       "[1] \"numeric\"\n",
       "\n",
       "$arr_time\n",
       "[1] \"integer\"\n",
       "\n",
       "$sched_arr_time\n",
       "[1] \"integer\"\n",
       "\n",
       "$arr_delay\n",
       "[1] \"numeric\"\n",
       "\n",
       "$carrier\n",
       "[1] \"character\"\n",
       "\n",
       "$flight\n",
       "[1] \"integer\"\n",
       "\n",
       "$tailnum\n",
       "[1] \"character\"\n",
       "\n",
       "$origin\n",
       "[1] \"character\"\n",
       "\n",
       "$dest\n",
       "[1] \"character\"\n",
       "\n",
       "$air_time\n",
       "[1] \"numeric\"\n",
       "\n",
       "$distance\n",
       "[1] \"numeric\"\n",
       "\n",
       "$hour\n",
       "[1] \"numeric\"\n",
       "\n",
       "$minute\n",
       "[1] \"numeric\"\n",
       "\n",
       "$time_hour\n",
       "[1] \"POSIXct\" \"POSIXt\" \n"
      ]
     },
     "metadata": {},
     "output_type": "display_data"
    }
   ],
   "source": [
    "# determine the type of each column in\n",
    "# nycflights13::flights\n",
    "output <- vector('list', ncol(nycflights13::flights))\n",
    "names(output) <- names(nycflights13::flights)\n",
    "for (i in names(nycflights13::flights)) {\n",
    "    output[[i]] <- class(nycflights13::flights[[i]])\n",
    "}\n",
    "output"
   ]
  },
  {
   "cell_type": "code",
   "execution_count": 22,
   "metadata": {},
   "outputs": [
    {
     "data": {
      "text/html": [
       "<style>\n",
       ".dl-inline {width: auto; margin:0; padding: 0}\n",
       ".dl-inline>dt, .dl-inline>dd {float: none; width: auto; display: inline-block}\n",
       ".dl-inline>dt::after {content: \":\\0020\"; padding-right: .5ex}\n",
       ".dl-inline>dt:not(:first-of-type) {padding-left: .5ex}\n",
       "</style><dl class=dl-inline><dt>Sepal.Length</dt><dd>35</dd><dt>Sepal.Width</dt><dd>35</dd><dt>Petal.Length</dt><dd>35</dd><dt>Petal.Width</dt><dd>35</dd><dt>Species</dt><dd>35</dd></dl>\n"
      ],
      "text/latex": [
       "\\begin{description*}\n",
       "\\item[Sepal.Length] 35\n",
       "\\item[Sepal.Width] 35\n",
       "\\item[Petal.Length] 35\n",
       "\\item[Petal.Width] 35\n",
       "\\item[Species] 35\n",
       "\\end{description*}\n"
      ],
      "text/markdown": [
       "Sepal.Length\n",
       ":   35Sepal.Width\n",
       ":   35Petal.Length\n",
       ":   35Petal.Width\n",
       ":   35Species\n",
       ":   35\n",
       "\n"
      ],
      "text/plain": [
       "Sepal.Length  Sepal.Width Petal.Length  Petal.Width      Species \n",
       "          35           35           35           35           35 "
      ]
     },
     "metadata": {},
     "output_type": "display_data"
    }
   ],
   "source": [
    "# compute the number of unique values in\n",
    "# each column in the iris dataset\n",
    "data('iris')\n",
    "iris_uniq <- vector('double', ncol(iris))\n",
    "names(iris_uniq) <- names(iris)\n",
    "for (i in names(iris)) {\n",
    "    iris_uniq[i] <- n_distinct(iris[[1]])\n",
    "}\n",
    "\n",
    "iris_uniq"
   ]
  },
  {
   "cell_type": "code",
   "execution_count": 23,
   "metadata": {},
   "outputs": [
    {
     "data": {
      "text/html": [
       "<ol>\n",
       "\t<li><style>\n",
       ".list-inline {list-style: none; margin:0; padding: 0}\n",
       ".list-inline>li {display: inline-block}\n",
       ".list-inline>li:not(:last-child)::after {content: \"\\00b7\"; padding: 0 .5ex}\n",
       "</style>\n",
       "<ol class=list-inline><li>-10.5573426979548</li><li>-9.17682339046212</li><li>-9.66594747190561</li><li>-10.010792221203</li><li>-9.89623846500456</li><li>-9.22548852562396</li><li>-9.16722756950641</li><li>-10.6575427807046</li><li>-9.61514700787864</li><li>-10.9418119742742</li></ol>\n",
       "</li>\n",
       "\t<li><style>\n",
       ".list-inline {list-style: none; margin:0; padding: 0}\n",
       ".list-inline>li {display: inline-block}\n",
       ".list-inline>li:not(:last-child)::after {content: \"\\00b7\"; padding: 0 .5ex}\n",
       "</style>\n",
       "<ol class=list-inline><li>0.508921304598224</li><li>0.417925492232241</li><li>-0.911249161476052</li><li>0.319846465014389</li><li>-0.0958249534218887</li><li>0.715821580714529</li><li>0.143508557674301</li><li>-1.08884093006415</li><li>-0.081806341395076</li><li>0.0331718302402514</li></ol>\n",
       "</li>\n",
       "\t<li><style>\n",
       ".list-inline {list-style: none; margin:0; padding: 0}\n",
       ".list-inline>li {display: inline-block}\n",
       ".list-inline>li:not(:last-child)::after {content: \"\\00b7\"; padding: 0 .5ex}\n",
       "</style>\n",
       "<ol class=list-inline><li>11.3452890454375</li><li>7.10225202243884</li><li>8.97318710708669</li><li>9.85006226935496</li><li>10.2284317407719</li><li>8.73338188319955</li><li>8.97448382116346</li><li>9.74995243366555</li><li>8.93271644661904</li><li>10.8132164015499</li></ol>\n",
       "</li>\n",
       "\t<li><style>\n",
       ".list-inline {list-style: none; margin:0; padding: 0}\n",
       ".list-inline>li {display: inline-block}\n",
       ".list-inline>li:not(:last-child)::after {content: \"\\00b7\"; padding: 0 .5ex}\n",
       "</style>\n",
       "<ol class=list-inline><li>98.9480840361169</li><li>98.7387239331943</li><li>99.9689647120798</li><li>99.4112146592396</li><li>100.055843423979</li><li>101.503085847434</li><li>99.9526274491617</li><li>99.5046063605657</li><li>100.451732921253</li><li>100.194172470115</li></ol>\n",
       "</li>\n",
       "</ol>\n"
      ],
      "text/latex": [
       "\\begin{enumerate}\n",
       "\\item \\begin{enumerate*}\n",
       "\\item -10.5573426979548\n",
       "\\item -9.17682339046212\n",
       "\\item -9.66594747190561\n",
       "\\item -10.010792221203\n",
       "\\item -9.89623846500456\n",
       "\\item -9.22548852562396\n",
       "\\item -9.16722756950641\n",
       "\\item -10.6575427807046\n",
       "\\item -9.61514700787864\n",
       "\\item -10.9418119742742\n",
       "\\end{enumerate*}\n",
       "\n",
       "\\item \\begin{enumerate*}\n",
       "\\item 0.508921304598224\n",
       "\\item 0.417925492232241\n",
       "\\item -0.911249161476052\n",
       "\\item 0.319846465014389\n",
       "\\item -0.0958249534218887\n",
       "\\item 0.715821580714529\n",
       "\\item 0.143508557674301\n",
       "\\item -1.08884093006415\n",
       "\\item -0.081806341395076\n",
       "\\item 0.0331718302402514\n",
       "\\end{enumerate*}\n",
       "\n",
       "\\item \\begin{enumerate*}\n",
       "\\item 11.3452890454375\n",
       "\\item 7.10225202243884\n",
       "\\item 8.97318710708669\n",
       "\\item 9.85006226935496\n",
       "\\item 10.2284317407719\n",
       "\\item 8.73338188319955\n",
       "\\item 8.97448382116346\n",
       "\\item 9.74995243366555\n",
       "\\item 8.93271644661904\n",
       "\\item 10.8132164015499\n",
       "\\end{enumerate*}\n",
       "\n",
       "\\item \\begin{enumerate*}\n",
       "\\item 98.9480840361169\n",
       "\\item 98.7387239331943\n",
       "\\item 99.9689647120798\n",
       "\\item 99.4112146592396\n",
       "\\item 100.055843423979\n",
       "\\item 101.503085847434\n",
       "\\item 99.9526274491617\n",
       "\\item 99.5046063605657\n",
       "\\item 100.451732921253\n",
       "\\item 100.194172470115\n",
       "\\end{enumerate*}\n",
       "\n",
       "\\end{enumerate}\n"
      ],
      "text/markdown": [
       "1. 1. -10.5573426979548\n",
       "2. -9.17682339046212\n",
       "3. -9.66594747190561\n",
       "4. -10.010792221203\n",
       "5. -9.89623846500456\n",
       "6. -9.22548852562396\n",
       "7. -9.16722756950641\n",
       "8. -10.6575427807046\n",
       "9. -9.61514700787864\n",
       "10. -10.9418119742742\n",
       "\n",
       "\n",
       "\n",
       "2. 1. 0.508921304598224\n",
       "2. 0.417925492232241\n",
       "3. -0.911249161476052\n",
       "4. 0.319846465014389\n",
       "5. -0.0958249534218887\n",
       "6. 0.715821580714529\n",
       "7. 0.143508557674301\n",
       "8. -1.08884093006415\n",
       "9. -0.081806341395076\n",
       "10. 0.0331718302402514\n",
       "\n",
       "\n",
       "\n",
       "3. 1. 11.3452890454375\n",
       "2. 7.10225202243884\n",
       "3. 8.97318710708669\n",
       "4. 9.85006226935496\n",
       "5. 10.2284317407719\n",
       "6. 8.73338188319955\n",
       "7. 8.97448382116346\n",
       "8. 9.74995243366555\n",
       "9. 8.93271644661904\n",
       "10. 10.8132164015499\n",
       "\n",
       "\n",
       "\n",
       "4. 1. 98.9480840361169\n",
       "2. 98.7387239331943\n",
       "3. 99.9689647120798\n",
       "4. 99.4112146592396\n",
       "5. 100.055843423979\n",
       "6. 101.503085847434\n",
       "7. 99.9526274491617\n",
       "8. 99.5046063605657\n",
       "9. 100.451732921253\n",
       "10. 100.194172470115\n",
       "\n",
       "\n",
       "\n",
       "\n",
       "\n"
      ],
      "text/plain": [
       "[[1]]\n",
       " [1] -10.557343  -9.176823  -9.665947 -10.010792  -9.896238  -9.225489\n",
       " [7]  -9.167228 -10.657543  -9.615147 -10.941812\n",
       "\n",
       "[[2]]\n",
       " [1]  0.50892130  0.41792549 -0.91124916  0.31984647 -0.09582495  0.71582158\n",
       " [7]  0.14350856 -1.08884093 -0.08180634  0.03317183\n",
       "\n",
       "[[3]]\n",
       " [1] 11.345289  7.102252  8.973187  9.850062 10.228432  8.733382  8.974484\n",
       " [8]  9.749952  8.932716 10.813216\n",
       "\n",
       "[[4]]\n",
       " [1]  98.94808  98.73872  99.96896  99.41121 100.05584 101.50309  99.95263\n",
       " [8]  99.50461 100.45173 100.19417\n"
      ]
     },
     "metadata": {},
     "output_type": "display_data"
    }
   ],
   "source": [
    "# generate 10 random normals for each mu\n",
    "n <- 10\n",
    "mu <- c(-10, 0, 10, 100)\n",
    "normals <- vector('list', length(mu))\n",
    "for (i in seq_along(normals)) {\n",
    "    normals[[i]] <- rnorm(n, mean = mu[i])\n",
    "}\n",
    "normals"
   ]
  },
  {
   "cell_type": "markdown",
   "metadata": {},
   "source": [
    "Excercise\n",
    "\n",
    "Eliminate the for loop in each of the following examples by taking advantage of an existing function that works with vectors:"
   ]
  },
  {
   "cell_type": "code",
   "execution_count": 29,
   "metadata": {},
   "outputs": [
    {
     "data": {
      "text/html": [
       "'abcdefghijklmnopqrstuvwxyz'"
      ],
      "text/latex": [
       "'abcdefghijklmnopqrstuvwxyz'"
      ],
      "text/markdown": [
       "'abcdefghijklmnopqrstuvwxyz'"
      ],
      "text/plain": [
       "[1] \"abcdefghijklmnopqrstuvwxyz\""
      ]
     },
     "metadata": {},
     "output_type": "display_data"
    }
   ],
   "source": [
    "out <- ''\n",
    "for (x in letters) {\n",
    "    out <- stringr::str_c(out, x)\n",
    "}\n",
    "out"
   ]
  },
  {
   "cell_type": "code",
   "execution_count": 30,
   "metadata": {},
   "outputs": [
    {
     "data": {
      "text/html": [
       "'abcdefghijklmnopqrstuvwxyz'"
      ],
      "text/latex": [
       "'abcdefghijklmnopqrstuvwxyz'"
      ],
      "text/markdown": [
       "'abcdefghijklmnopqrstuvwxyz'"
      ],
      "text/plain": [
       "[1] \"abcdefghijklmnopqrstuvwxyz\""
      ]
     },
     "metadata": {},
     "output_type": "display_data"
    }
   ],
   "source": [
    "str_c(letters, collapse = '')"
   ]
  },
  {
   "cell_type": "code",
   "execution_count": 32,
   "metadata": {},
   "outputs": [
    {
     "data": {
      "text/html": [
       "29.011491975882"
      ],
      "text/latex": [
       "29.011491975882"
      ],
      "text/markdown": [
       "29.011491975882"
      ],
      "text/plain": [
       "[1] 29.01149"
      ]
     },
     "metadata": {},
     "output_type": "display_data"
    }
   ],
   "source": [
    "x <- sample(100)\n",
    "sd <- 0\n",
    "for (i in seq_along(x)) {\n",
    "sd <- sd + (x[i] - mean(x)) ^ 2\n",
    "}\n",
    "sd <- sqrt(sd / (length(x) - 1))\n",
    "sd"
   ]
  },
  {
   "cell_type": "code",
   "execution_count": 33,
   "metadata": {},
   "outputs": [
    {
     "data": {
      "text/html": [
       "29.011491975882"
      ],
      "text/latex": [
       "29.011491975882"
      ],
      "text/markdown": [
       "29.011491975882"
      ],
      "text/plain": [
       "[1] 29.01149"
      ]
     },
     "metadata": {},
     "output_type": "display_data"
    }
   ],
   "source": [
    "sd(x)"
   ]
  },
  {
   "cell_type": "code",
   "execution_count": 34,
   "metadata": {},
   "outputs": [
    {
     "data": {
      "text/html": [
       "<style>\n",
       ".list-inline {list-style: none; margin:0; padding: 0}\n",
       ".list-inline>li {display: inline-block}\n",
       ".list-inline>li:not(:last-child)::after {content: \"\\00b7\"; padding: 0 .5ex}\n",
       "</style>\n",
       "<ol class=list-inline><li>0.488483875291422</li><li>1.08469258272089</li><li>1.54506029188633</li><li>2.306327651022</li><li>3.21180749568157</li><li>3.98723984323442</li><li>4.21211679559201</li><li>4.22549605253153</li><li>5.04635405703448</li><li>5.59605463268235</li><li>6.45176839153282</li><li>6.9711488969624</li><li>6.98800935759209</li><li>7.27693779906258</li><li>7.41002748231404</li><li>8.18027357244864</li><li>8.80038077104837</li><li>9.55434583453462</li><li>10.3519705114886</li><li>10.6523019818123</li><li>10.8182938299142</li><li>11.3893421534449</li><li>11.6655623654369</li><li>12.4666115697473</li><li>12.6813107307535</li><li>13.3184551990125</li><li>14.0245587152895</li><li>14.5530391805805</li><li>14.66232981137</li><li>14.711886420846</li><li>15.1586105215829</li><li>15.3655421801377</li><li>15.4835331123322</li><li>15.7123604291119</li><li>16.6979996408336</li><li>16.9096789252944</li><li>17.1340998413507</li><li>17.6691561096814</li><li>18.0177760892548</li><li>18.7846315810457</li><li>19.4680116611999</li><li>19.4680599588901</li><li>19.7200796306133</li><li>20.6920129924547</li><li>21.4953959158156</li><li>21.8934839351568</li><li>22.6387639422901</li><li>22.7330688363872</li><li>23.1966357566416</li><li>24.1053738107439</li><li>24.4940874283202</li><li>24.88535983162</li><li>24.9080471482594</li><li>25.1720209047198</li><li>26.0175691610202</li><li>26.2526192429941</li><li>26.6312745795585</li><li>26.7973759041633</li><li>27.0409461073577</li><li>27.7819950957783</li><li>28.5850640716963</li><li>29.0228170286864</li><li>29.4068205272779</li><li>29.6261937851086</li><li>30.3370967577212</li><li>30.6695184640121</li><li>30.8693573053461</li><li>30.9527548451442</li><li>31.686006066855</li><li>32.3366898386739</li><li>32.8889513434842</li><li>33.4486535498872</li><li>33.4982133312151</li><li>33.5914982496761</li><li>33.6971319545992</li><li>34.3058301392011</li><li>34.7963864917401</li><li>35.7173034814186</li><li>36.1029144516215</li><li>36.9976770961657</li><li>37.8830323868897</li><li>37.9571151712444</li><li>38.0516391324345</li><li>38.9856943669729</li><li>39.5606489875354</li><li>39.8801081285346</li><li>40.5351154152304</li><li>40.8750444625039</li><li>40.963539655786</li><li>41.3253754887264</li><li>42.1170517366845</li><li>42.8501696123276</li><li>43.3788000016939</li><li>43.7017613684293</li><li>44.3333438506816</li><li>45.3184388792142</li><li>46.1515187863261</li><li>46.8626976709347</li><li>47.4972473678645</li><li>48.3805184245575</li></ol>\n"
      ],
      "text/latex": [
       "\\begin{enumerate*}\n",
       "\\item 0.488483875291422\n",
       "\\item 1.08469258272089\n",
       "\\item 1.54506029188633\n",
       "\\item 2.306327651022\n",
       "\\item 3.21180749568157\n",
       "\\item 3.98723984323442\n",
       "\\item 4.21211679559201\n",
       "\\item 4.22549605253153\n",
       "\\item 5.04635405703448\n",
       "\\item 5.59605463268235\n",
       "\\item 6.45176839153282\n",
       "\\item 6.9711488969624\n",
       "\\item 6.98800935759209\n",
       "\\item 7.27693779906258\n",
       "\\item 7.41002748231404\n",
       "\\item 8.18027357244864\n",
       "\\item 8.80038077104837\n",
       "\\item 9.55434583453462\n",
       "\\item 10.3519705114886\n",
       "\\item 10.6523019818123\n",
       "\\item 10.8182938299142\n",
       "\\item 11.3893421534449\n",
       "\\item 11.6655623654369\n",
       "\\item 12.4666115697473\n",
       "\\item 12.6813107307535\n",
       "\\item 13.3184551990125\n",
       "\\item 14.0245587152895\n",
       "\\item 14.5530391805805\n",
       "\\item 14.66232981137\n",
       "\\item 14.711886420846\n",
       "\\item 15.1586105215829\n",
       "\\item 15.3655421801377\n",
       "\\item 15.4835331123322\n",
       "\\item 15.7123604291119\n",
       "\\item 16.6979996408336\n",
       "\\item 16.9096789252944\n",
       "\\item 17.1340998413507\n",
       "\\item 17.6691561096814\n",
       "\\item 18.0177760892548\n",
       "\\item 18.7846315810457\n",
       "\\item 19.4680116611999\n",
       "\\item 19.4680599588901\n",
       "\\item 19.7200796306133\n",
       "\\item 20.6920129924547\n",
       "\\item 21.4953959158156\n",
       "\\item 21.8934839351568\n",
       "\\item 22.6387639422901\n",
       "\\item 22.7330688363872\n",
       "\\item 23.1966357566416\n",
       "\\item 24.1053738107439\n",
       "\\item 24.4940874283202\n",
       "\\item 24.88535983162\n",
       "\\item 24.9080471482594\n",
       "\\item 25.1720209047198\n",
       "\\item 26.0175691610202\n",
       "\\item 26.2526192429941\n",
       "\\item 26.6312745795585\n",
       "\\item 26.7973759041633\n",
       "\\item 27.0409461073577\n",
       "\\item 27.7819950957783\n",
       "\\item 28.5850640716963\n",
       "\\item 29.0228170286864\n",
       "\\item 29.4068205272779\n",
       "\\item 29.6261937851086\n",
       "\\item 30.3370967577212\n",
       "\\item 30.6695184640121\n",
       "\\item 30.8693573053461\n",
       "\\item 30.9527548451442\n",
       "\\item 31.686006066855\n",
       "\\item 32.3366898386739\n",
       "\\item 32.8889513434842\n",
       "\\item 33.4486535498872\n",
       "\\item 33.4982133312151\n",
       "\\item 33.5914982496761\n",
       "\\item 33.6971319545992\n",
       "\\item 34.3058301392011\n",
       "\\item 34.7963864917401\n",
       "\\item 35.7173034814186\n",
       "\\item 36.1029144516215\n",
       "\\item 36.9976770961657\n",
       "\\item 37.8830323868897\n",
       "\\item 37.9571151712444\n",
       "\\item 38.0516391324345\n",
       "\\item 38.9856943669729\n",
       "\\item 39.5606489875354\n",
       "\\item 39.8801081285346\n",
       "\\item 40.5351154152304\n",
       "\\item 40.8750444625039\n",
       "\\item 40.963539655786\n",
       "\\item 41.3253754887264\n",
       "\\item 42.1170517366845\n",
       "\\item 42.8501696123276\n",
       "\\item 43.3788000016939\n",
       "\\item 43.7017613684293\n",
       "\\item 44.3333438506816\n",
       "\\item 45.3184388792142\n",
       "\\item 46.1515187863261\n",
       "\\item 46.8626976709347\n",
       "\\item 47.4972473678645\n",
       "\\item 48.3805184245575\n",
       "\\end{enumerate*}\n"
      ],
      "text/markdown": [
       "1. 0.488483875291422\n",
       "2. 1.08469258272089\n",
       "3. 1.54506029188633\n",
       "4. 2.306327651022\n",
       "5. 3.21180749568157\n",
       "6. 3.98723984323442\n",
       "7. 4.21211679559201\n",
       "8. 4.22549605253153\n",
       "9. 5.04635405703448\n",
       "10. 5.59605463268235\n",
       "11. 6.45176839153282\n",
       "12. 6.9711488969624\n",
       "13. 6.98800935759209\n",
       "14. 7.27693779906258\n",
       "15. 7.41002748231404\n",
       "16. 8.18027357244864\n",
       "17. 8.80038077104837\n",
       "18. 9.55434583453462\n",
       "19. 10.3519705114886\n",
       "20. 10.6523019818123\n",
       "21. 10.8182938299142\n",
       "22. 11.3893421534449\n",
       "23. 11.6655623654369\n",
       "24. 12.4666115697473\n",
       "25. 12.6813107307535\n",
       "26. 13.3184551990125\n",
       "27. 14.0245587152895\n",
       "28. 14.5530391805805\n",
       "29. 14.66232981137\n",
       "30. 14.711886420846\n",
       "31. 15.1586105215829\n",
       "32. 15.3655421801377\n",
       "33. 15.4835331123322\n",
       "34. 15.7123604291119\n",
       "35. 16.6979996408336\n",
       "36. 16.9096789252944\n",
       "37. 17.1340998413507\n",
       "38. 17.6691561096814\n",
       "39. 18.0177760892548\n",
       "40. 18.7846315810457\n",
       "41. 19.4680116611999\n",
       "42. 19.4680599588901\n",
       "43. 19.7200796306133\n",
       "44. 20.6920129924547\n",
       "45. 21.4953959158156\n",
       "46. 21.8934839351568\n",
       "47. 22.6387639422901\n",
       "48. 22.7330688363872\n",
       "49. 23.1966357566416\n",
       "50. 24.1053738107439\n",
       "51. 24.4940874283202\n",
       "52. 24.88535983162\n",
       "53. 24.9080471482594\n",
       "54. 25.1720209047198\n",
       "55. 26.0175691610202\n",
       "56. 26.2526192429941\n",
       "57. 26.6312745795585\n",
       "58. 26.7973759041633\n",
       "59. 27.0409461073577\n",
       "60. 27.7819950957783\n",
       "61. 28.5850640716963\n",
       "62. 29.0228170286864\n",
       "63. 29.4068205272779\n",
       "64. 29.6261937851086\n",
       "65. 30.3370967577212\n",
       "66. 30.6695184640121\n",
       "67. 30.8693573053461\n",
       "68. 30.9527548451442\n",
       "69. 31.686006066855\n",
       "70. 32.3366898386739\n",
       "71. 32.8889513434842\n",
       "72. 33.4486535498872\n",
       "73. 33.4982133312151\n",
       "74. 33.5914982496761\n",
       "75. 33.6971319545992\n",
       "76. 34.3058301392011\n",
       "77. 34.7963864917401\n",
       "78. 35.7173034814186\n",
       "79. 36.1029144516215\n",
       "80. 36.9976770961657\n",
       "81. 37.8830323868897\n",
       "82. 37.9571151712444\n",
       "83. 38.0516391324345\n",
       "84. 38.9856943669729\n",
       "85. 39.5606489875354\n",
       "86. 39.8801081285346\n",
       "87. 40.5351154152304\n",
       "88. 40.8750444625039\n",
       "89. 40.963539655786\n",
       "90. 41.3253754887264\n",
       "91. 42.1170517366845\n",
       "92. 42.8501696123276\n",
       "93. 43.3788000016939\n",
       "94. 43.7017613684293\n",
       "95. 44.3333438506816\n",
       "96. 45.3184388792142\n",
       "97. 46.1515187863261\n",
       "98. 46.8626976709347\n",
       "99. 47.4972473678645\n",
       "100. 48.3805184245575\n",
       "\n",
       "\n"
      ],
      "text/plain": [
       "  [1]  0.4884839  1.0846926  1.5450603  2.3063277  3.2118075  3.9872398\n",
       "  [7]  4.2121168  4.2254961  5.0463541  5.5960546  6.4517684  6.9711489\n",
       " [13]  6.9880094  7.2769378  7.4100275  8.1802736  8.8003808  9.5543458\n",
       " [19] 10.3519705 10.6523020 10.8182938 11.3893422 11.6655624 12.4666116\n",
       " [25] 12.6813107 13.3184552 14.0245587 14.5530392 14.6623298 14.7118864\n",
       " [31] 15.1586105 15.3655422 15.4835331 15.7123604 16.6979996 16.9096789\n",
       " [37] 17.1340998 17.6691561 18.0177761 18.7846316 19.4680117 19.4680600\n",
       " [43] 19.7200796 20.6920130 21.4953959 21.8934839 22.6387639 22.7330688\n",
       " [49] 23.1966358 24.1053738 24.4940874 24.8853598 24.9080471 25.1720209\n",
       " [55] 26.0175692 26.2526192 26.6312746 26.7973759 27.0409461 27.7819951\n",
       " [61] 28.5850641 29.0228170 29.4068205 29.6261938 30.3370968 30.6695185\n",
       " [67] 30.8693573 30.9527548 31.6860061 32.3366898 32.8889513 33.4486535\n",
       " [73] 33.4982133 33.5914982 33.6971320 34.3058301 34.7963865 35.7173035\n",
       " [79] 36.1029145 36.9976771 37.8830324 37.9571152 38.0516391 38.9856944\n",
       " [85] 39.5606490 39.8801081 40.5351154 40.8750445 40.9635397 41.3253755\n",
       " [91] 42.1170517 42.8501696 43.3788000 43.7017614 44.3333439 45.3184389\n",
       " [97] 46.1515188 46.8626977 47.4972474 48.3805184"
      ]
     },
     "metadata": {},
     "output_type": "display_data"
    }
   ],
   "source": [
    "x <- runif(100)\n",
    "out <- vector(\"numeric\", length(x))\n",
    "out[1] <- x[1]\n",
    "for (i in 2:length(x)) {\n",
    "out[i] <- out[i - 1] + x[i]\n",
    "}\n",
    "out"
   ]
  },
  {
   "cell_type": "code",
   "execution_count": 35,
   "metadata": {},
   "outputs": [
    {
     "data": {
      "text/html": [
       "<style>\n",
       ".list-inline {list-style: none; margin:0; padding: 0}\n",
       ".list-inline>li {display: inline-block}\n",
       ".list-inline>li:not(:last-child)::after {content: \"\\00b7\"; padding: 0 .5ex}\n",
       "</style>\n",
       "<ol class=list-inline><li>0.488483875291422</li><li>1.08469258272089</li><li>1.54506029188633</li><li>2.306327651022</li><li>3.21180749568157</li><li>3.98723984323442</li><li>4.21211679559201</li><li>4.22549605253153</li><li>5.04635405703448</li><li>5.59605463268235</li><li>6.45176839153282</li><li>6.9711488969624</li><li>6.98800935759209</li><li>7.27693779906258</li><li>7.41002748231404</li><li>8.18027357244864</li><li>8.80038077104837</li><li>9.55434583453462</li><li>10.3519705114886</li><li>10.6523019818123</li><li>10.8182938299142</li><li>11.3893421534449</li><li>11.6655623654369</li><li>12.4666115697473</li><li>12.6813107307535</li><li>13.3184551990125</li><li>14.0245587152895</li><li>14.5530391805805</li><li>14.66232981137</li><li>14.711886420846</li><li>15.1586105215829</li><li>15.3655421801377</li><li>15.4835331123322</li><li>15.7123604291119</li><li>16.6979996408336</li><li>16.9096789252944</li><li>17.1340998413507</li><li>17.6691561096814</li><li>18.0177760892548</li><li>18.7846315810457</li><li>19.4680116611999</li><li>19.4680599588901</li><li>19.7200796306133</li><li>20.6920129924547</li><li>21.4953959158156</li><li>21.8934839351568</li><li>22.6387639422901</li><li>22.7330688363872</li><li>23.1966357566416</li><li>24.1053738107439</li><li>24.4940874283202</li><li>24.88535983162</li><li>24.9080471482594</li><li>25.1720209047198</li><li>26.0175691610202</li><li>26.2526192429941</li><li>26.6312745795585</li><li>26.7973759041633</li><li>27.0409461073577</li><li>27.7819950957783</li><li>28.5850640716963</li><li>29.0228170286864</li><li>29.4068205272779</li><li>29.6261937851086</li><li>30.3370967577212</li><li>30.6695184640121</li><li>30.8693573053461</li><li>30.9527548451442</li><li>31.686006066855</li><li>32.3366898386739</li><li>32.8889513434842</li><li>33.4486535498872</li><li>33.4982133312151</li><li>33.5914982496761</li><li>33.6971319545992</li><li>34.3058301392011</li><li>34.7963864917401</li><li>35.7173034814186</li><li>36.1029144516215</li><li>36.9976770961657</li><li>37.8830323868897</li><li>37.9571151712444</li><li>38.0516391324345</li><li>38.9856943669729</li><li>39.5606489875354</li><li>39.8801081285346</li><li>40.5351154152304</li><li>40.8750444625039</li><li>40.963539655786</li><li>41.3253754887264</li><li>42.1170517366845</li><li>42.8501696123276</li><li>43.3788000016939</li><li>43.7017613684293</li><li>44.3333438506816</li><li>45.3184388792142</li><li>46.1515187863261</li><li>46.8626976709347</li><li>47.4972473678645</li><li>48.3805184245575</li></ol>\n"
      ],
      "text/latex": [
       "\\begin{enumerate*}\n",
       "\\item 0.488483875291422\n",
       "\\item 1.08469258272089\n",
       "\\item 1.54506029188633\n",
       "\\item 2.306327651022\n",
       "\\item 3.21180749568157\n",
       "\\item 3.98723984323442\n",
       "\\item 4.21211679559201\n",
       "\\item 4.22549605253153\n",
       "\\item 5.04635405703448\n",
       "\\item 5.59605463268235\n",
       "\\item 6.45176839153282\n",
       "\\item 6.9711488969624\n",
       "\\item 6.98800935759209\n",
       "\\item 7.27693779906258\n",
       "\\item 7.41002748231404\n",
       "\\item 8.18027357244864\n",
       "\\item 8.80038077104837\n",
       "\\item 9.55434583453462\n",
       "\\item 10.3519705114886\n",
       "\\item 10.6523019818123\n",
       "\\item 10.8182938299142\n",
       "\\item 11.3893421534449\n",
       "\\item 11.6655623654369\n",
       "\\item 12.4666115697473\n",
       "\\item 12.6813107307535\n",
       "\\item 13.3184551990125\n",
       "\\item 14.0245587152895\n",
       "\\item 14.5530391805805\n",
       "\\item 14.66232981137\n",
       "\\item 14.711886420846\n",
       "\\item 15.1586105215829\n",
       "\\item 15.3655421801377\n",
       "\\item 15.4835331123322\n",
       "\\item 15.7123604291119\n",
       "\\item 16.6979996408336\n",
       "\\item 16.9096789252944\n",
       "\\item 17.1340998413507\n",
       "\\item 17.6691561096814\n",
       "\\item 18.0177760892548\n",
       "\\item 18.7846315810457\n",
       "\\item 19.4680116611999\n",
       "\\item 19.4680599588901\n",
       "\\item 19.7200796306133\n",
       "\\item 20.6920129924547\n",
       "\\item 21.4953959158156\n",
       "\\item 21.8934839351568\n",
       "\\item 22.6387639422901\n",
       "\\item 22.7330688363872\n",
       "\\item 23.1966357566416\n",
       "\\item 24.1053738107439\n",
       "\\item 24.4940874283202\n",
       "\\item 24.88535983162\n",
       "\\item 24.9080471482594\n",
       "\\item 25.1720209047198\n",
       "\\item 26.0175691610202\n",
       "\\item 26.2526192429941\n",
       "\\item 26.6312745795585\n",
       "\\item 26.7973759041633\n",
       "\\item 27.0409461073577\n",
       "\\item 27.7819950957783\n",
       "\\item 28.5850640716963\n",
       "\\item 29.0228170286864\n",
       "\\item 29.4068205272779\n",
       "\\item 29.6261937851086\n",
       "\\item 30.3370967577212\n",
       "\\item 30.6695184640121\n",
       "\\item 30.8693573053461\n",
       "\\item 30.9527548451442\n",
       "\\item 31.686006066855\n",
       "\\item 32.3366898386739\n",
       "\\item 32.8889513434842\n",
       "\\item 33.4486535498872\n",
       "\\item 33.4982133312151\n",
       "\\item 33.5914982496761\n",
       "\\item 33.6971319545992\n",
       "\\item 34.3058301392011\n",
       "\\item 34.7963864917401\n",
       "\\item 35.7173034814186\n",
       "\\item 36.1029144516215\n",
       "\\item 36.9976770961657\n",
       "\\item 37.8830323868897\n",
       "\\item 37.9571151712444\n",
       "\\item 38.0516391324345\n",
       "\\item 38.9856943669729\n",
       "\\item 39.5606489875354\n",
       "\\item 39.8801081285346\n",
       "\\item 40.5351154152304\n",
       "\\item 40.8750444625039\n",
       "\\item 40.963539655786\n",
       "\\item 41.3253754887264\n",
       "\\item 42.1170517366845\n",
       "\\item 42.8501696123276\n",
       "\\item 43.3788000016939\n",
       "\\item 43.7017613684293\n",
       "\\item 44.3333438506816\n",
       "\\item 45.3184388792142\n",
       "\\item 46.1515187863261\n",
       "\\item 46.8626976709347\n",
       "\\item 47.4972473678645\n",
       "\\item 48.3805184245575\n",
       "\\end{enumerate*}\n"
      ],
      "text/markdown": [
       "1. 0.488483875291422\n",
       "2. 1.08469258272089\n",
       "3. 1.54506029188633\n",
       "4. 2.306327651022\n",
       "5. 3.21180749568157\n",
       "6. 3.98723984323442\n",
       "7. 4.21211679559201\n",
       "8. 4.22549605253153\n",
       "9. 5.04635405703448\n",
       "10. 5.59605463268235\n",
       "11. 6.45176839153282\n",
       "12. 6.9711488969624\n",
       "13. 6.98800935759209\n",
       "14. 7.27693779906258\n",
       "15. 7.41002748231404\n",
       "16. 8.18027357244864\n",
       "17. 8.80038077104837\n",
       "18. 9.55434583453462\n",
       "19. 10.3519705114886\n",
       "20. 10.6523019818123\n",
       "21. 10.8182938299142\n",
       "22. 11.3893421534449\n",
       "23. 11.6655623654369\n",
       "24. 12.4666115697473\n",
       "25. 12.6813107307535\n",
       "26. 13.3184551990125\n",
       "27. 14.0245587152895\n",
       "28. 14.5530391805805\n",
       "29. 14.66232981137\n",
       "30. 14.711886420846\n",
       "31. 15.1586105215829\n",
       "32. 15.3655421801377\n",
       "33. 15.4835331123322\n",
       "34. 15.7123604291119\n",
       "35. 16.6979996408336\n",
       "36. 16.9096789252944\n",
       "37. 17.1340998413507\n",
       "38. 17.6691561096814\n",
       "39. 18.0177760892548\n",
       "40. 18.7846315810457\n",
       "41. 19.4680116611999\n",
       "42. 19.4680599588901\n",
       "43. 19.7200796306133\n",
       "44. 20.6920129924547\n",
       "45. 21.4953959158156\n",
       "46. 21.8934839351568\n",
       "47. 22.6387639422901\n",
       "48. 22.7330688363872\n",
       "49. 23.1966357566416\n",
       "50. 24.1053738107439\n",
       "51. 24.4940874283202\n",
       "52. 24.88535983162\n",
       "53. 24.9080471482594\n",
       "54. 25.1720209047198\n",
       "55. 26.0175691610202\n",
       "56. 26.2526192429941\n",
       "57. 26.6312745795585\n",
       "58. 26.7973759041633\n",
       "59. 27.0409461073577\n",
       "60. 27.7819950957783\n",
       "61. 28.5850640716963\n",
       "62. 29.0228170286864\n",
       "63. 29.4068205272779\n",
       "64. 29.6261937851086\n",
       "65. 30.3370967577212\n",
       "66. 30.6695184640121\n",
       "67. 30.8693573053461\n",
       "68. 30.9527548451442\n",
       "69. 31.686006066855\n",
       "70. 32.3366898386739\n",
       "71. 32.8889513434842\n",
       "72. 33.4486535498872\n",
       "73. 33.4982133312151\n",
       "74. 33.5914982496761\n",
       "75. 33.6971319545992\n",
       "76. 34.3058301392011\n",
       "77. 34.7963864917401\n",
       "78. 35.7173034814186\n",
       "79. 36.1029144516215\n",
       "80. 36.9976770961657\n",
       "81. 37.8830323868897\n",
       "82. 37.9571151712444\n",
       "83. 38.0516391324345\n",
       "84. 38.9856943669729\n",
       "85. 39.5606489875354\n",
       "86. 39.8801081285346\n",
       "87. 40.5351154152304\n",
       "88. 40.8750444625039\n",
       "89. 40.963539655786\n",
       "90. 41.3253754887264\n",
       "91. 42.1170517366845\n",
       "92. 42.8501696123276\n",
       "93. 43.3788000016939\n",
       "94. 43.7017613684293\n",
       "95. 44.3333438506816\n",
       "96. 45.3184388792142\n",
       "97. 46.1515187863261\n",
       "98. 46.8626976709347\n",
       "99. 47.4972473678645\n",
       "100. 48.3805184245575\n",
       "\n",
       "\n"
      ],
      "text/plain": [
       "  [1]  0.4884839  1.0846926  1.5450603  2.3063277  3.2118075  3.9872398\n",
       "  [7]  4.2121168  4.2254961  5.0463541  5.5960546  6.4517684  6.9711489\n",
       " [13]  6.9880094  7.2769378  7.4100275  8.1802736  8.8003808  9.5543458\n",
       " [19] 10.3519705 10.6523020 10.8182938 11.3893422 11.6655624 12.4666116\n",
       " [25] 12.6813107 13.3184552 14.0245587 14.5530392 14.6623298 14.7118864\n",
       " [31] 15.1586105 15.3655422 15.4835331 15.7123604 16.6979996 16.9096789\n",
       " [37] 17.1340998 17.6691561 18.0177761 18.7846316 19.4680117 19.4680600\n",
       " [43] 19.7200796 20.6920130 21.4953959 21.8934839 22.6387639 22.7330688\n",
       " [49] 23.1966358 24.1053738 24.4940874 24.8853598 24.9080471 25.1720209\n",
       " [55] 26.0175692 26.2526192 26.6312746 26.7973759 27.0409461 27.7819951\n",
       " [61] 28.5850641 29.0228170 29.4068205 29.6261938 30.3370968 30.6695185\n",
       " [67] 30.8693573 30.9527548 31.6860061 32.3366898 32.8889513 33.4486535\n",
       " [73] 33.4982133 33.5914982 33.6971320 34.3058301 34.7963865 35.7173035\n",
       " [79] 36.1029145 36.9976771 37.8830324 37.9571152 38.0516391 38.9856944\n",
       " [85] 39.5606490 39.8801081 40.5351154 40.8750445 40.9635397 41.3253755\n",
       " [91] 42.1170517 42.8501696 43.3788000 43.7017614 44.3333439 45.3184389\n",
       " [97] 46.1515188 46.8626977 47.4972474 48.3805184"
      ]
     },
     "metadata": {},
     "output_type": "display_data"
    }
   ],
   "source": [
    "cumsum(x)"
   ]
  },
  {
   "cell_type": "code",
   "execution_count": 37,
   "metadata": {},
   "outputs": [
    {
     "data": {
      "text/html": [
       "TRUE"
      ],
      "text/latex": [
       "TRUE"
      ],
      "text/markdown": [
       "TRUE"
      ],
      "text/plain": [
       "[1] TRUE"
      ]
     },
     "metadata": {},
     "output_type": "display_data"
    }
   ],
   "source": [
    "all.equal(cumsum(x), out)"
   ]
  },
  {
   "cell_type": "markdown",
   "metadata": {},
   "source": [
    "It’s common to see for loops that don’t preallocate the output\n",
    "and instead increase the length of a vector at each step:"
   ]
  },
  {
   "cell_type": "code",
   "execution_count": 38,
   "metadata": {},
   "outputs": [
    {
     "data": {
      "text/html": [
       "<style>\n",
       ".list-inline {list-style: none; margin:0; padding: 0}\n",
       ".list-inline>li {display: inline-block}\n",
       ".list-inline>li:not(:last-child)::after {content: \"\\00b7\"; padding: 0 .5ex}\n",
       "</style>\n",
       "<ol class=list-inline><li>1</li><li>1</li><li>1</li><li>1</li><li>1</li><li>1</li><li>1</li><li>1</li><li>1</li><li>1</li><li>1</li><li>1</li><li>1</li><li>1</li><li>1</li><li>1</li><li>1</li><li>1</li><li>1</li><li>1</li><li>1</li><li>1</li><li>1</li><li>1</li><li>1</li><li>1</li><li>1</li><li>1</li><li>1</li><li>1</li><li>1</li><li>1</li><li>1</li><li>1</li><li>1</li><li>1</li><li>1</li><li>1</li><li>1</li><li>1</li><li>1</li><li>1</li><li>1</li><li>1</li><li>1</li><li>1</li><li>1</li><li>1</li><li>1</li><li>1</li><li>1</li><li>1</li><li>1</li><li>1</li><li>1</li><li>1</li><li>1</li><li>1</li><li>1</li><li>1</li><li>1</li><li>1</li><li>1</li><li>1</li><li>1</li><li>1</li><li>1</li><li>1</li><li>1</li><li>1</li><li>1</li><li>1</li><li>1</li><li>1</li><li>1</li><li>1</li><li>1</li><li>1</li><li>1</li><li>1</li><li>1</li><li>1</li><li>1</li><li>1</li><li>1</li><li>1</li><li>1</li><li>1</li><li>1</li><li>1</li><li>1</li><li>1</li><li>1</li><li>1</li><li>1</li><li>1</li><li>1</li><li>1</li><li>1</li><li>1</li></ol>\n"
      ],
      "text/latex": [
       "\\begin{enumerate*}\n",
       "\\item 1\n",
       "\\item 1\n",
       "\\item 1\n",
       "\\item 1\n",
       "\\item 1\n",
       "\\item 1\n",
       "\\item 1\n",
       "\\item 1\n",
       "\\item 1\n",
       "\\item 1\n",
       "\\item 1\n",
       "\\item 1\n",
       "\\item 1\n",
       "\\item 1\n",
       "\\item 1\n",
       "\\item 1\n",
       "\\item 1\n",
       "\\item 1\n",
       "\\item 1\n",
       "\\item 1\n",
       "\\item 1\n",
       "\\item 1\n",
       "\\item 1\n",
       "\\item 1\n",
       "\\item 1\n",
       "\\item 1\n",
       "\\item 1\n",
       "\\item 1\n",
       "\\item 1\n",
       "\\item 1\n",
       "\\item 1\n",
       "\\item 1\n",
       "\\item 1\n",
       "\\item 1\n",
       "\\item 1\n",
       "\\item 1\n",
       "\\item 1\n",
       "\\item 1\n",
       "\\item 1\n",
       "\\item 1\n",
       "\\item 1\n",
       "\\item 1\n",
       "\\item 1\n",
       "\\item 1\n",
       "\\item 1\n",
       "\\item 1\n",
       "\\item 1\n",
       "\\item 1\n",
       "\\item 1\n",
       "\\item 1\n",
       "\\item 1\n",
       "\\item 1\n",
       "\\item 1\n",
       "\\item 1\n",
       "\\item 1\n",
       "\\item 1\n",
       "\\item 1\n",
       "\\item 1\n",
       "\\item 1\n",
       "\\item 1\n",
       "\\item 1\n",
       "\\item 1\n",
       "\\item 1\n",
       "\\item 1\n",
       "\\item 1\n",
       "\\item 1\n",
       "\\item 1\n",
       "\\item 1\n",
       "\\item 1\n",
       "\\item 1\n",
       "\\item 1\n",
       "\\item 1\n",
       "\\item 1\n",
       "\\item 1\n",
       "\\item 1\n",
       "\\item 1\n",
       "\\item 1\n",
       "\\item 1\n",
       "\\item 1\n",
       "\\item 1\n",
       "\\item 1\n",
       "\\item 1\n",
       "\\item 1\n",
       "\\item 1\n",
       "\\item 1\n",
       "\\item 1\n",
       "\\item 1\n",
       "\\item 1\n",
       "\\item 1\n",
       "\\item 1\n",
       "\\item 1\n",
       "\\item 1\n",
       "\\item 1\n",
       "\\item 1\n",
       "\\item 1\n",
       "\\item 1\n",
       "\\item 1\n",
       "\\item 1\n",
       "\\item 1\n",
       "\\item 1\n",
       "\\end{enumerate*}\n"
      ],
      "text/markdown": [
       "1. 1\n",
       "2. 1\n",
       "3. 1\n",
       "4. 1\n",
       "5. 1\n",
       "6. 1\n",
       "7. 1\n",
       "8. 1\n",
       "9. 1\n",
       "10. 1\n",
       "11. 1\n",
       "12. 1\n",
       "13. 1\n",
       "14. 1\n",
       "15. 1\n",
       "16. 1\n",
       "17. 1\n",
       "18. 1\n",
       "19. 1\n",
       "20. 1\n",
       "21. 1\n",
       "22. 1\n",
       "23. 1\n",
       "24. 1\n",
       "25. 1\n",
       "26. 1\n",
       "27. 1\n",
       "28. 1\n",
       "29. 1\n",
       "30. 1\n",
       "31. 1\n",
       "32. 1\n",
       "33. 1\n",
       "34. 1\n",
       "35. 1\n",
       "36. 1\n",
       "37. 1\n",
       "38. 1\n",
       "39. 1\n",
       "40. 1\n",
       "41. 1\n",
       "42. 1\n",
       "43. 1\n",
       "44. 1\n",
       "45. 1\n",
       "46. 1\n",
       "47. 1\n",
       "48. 1\n",
       "49. 1\n",
       "50. 1\n",
       "51. 1\n",
       "52. 1\n",
       "53. 1\n",
       "54. 1\n",
       "55. 1\n",
       "56. 1\n",
       "57. 1\n",
       "58. 1\n",
       "59. 1\n",
       "60. 1\n",
       "61. 1\n",
       "62. 1\n",
       "63. 1\n",
       "64. 1\n",
       "65. 1\n",
       "66. 1\n",
       "67. 1\n",
       "68. 1\n",
       "69. 1\n",
       "70. 1\n",
       "71. 1\n",
       "72. 1\n",
       "73. 1\n",
       "74. 1\n",
       "75. 1\n",
       "76. 1\n",
       "77. 1\n",
       "78. 1\n",
       "79. 1\n",
       "80. 1\n",
       "81. 1\n",
       "82. 1\n",
       "83. 1\n",
       "84. 1\n",
       "85. 1\n",
       "86. 1\n",
       "87. 1\n",
       "88. 1\n",
       "89. 1\n",
       "90. 1\n",
       "91. 1\n",
       "92. 1\n",
       "93. 1\n",
       "94. 1\n",
       "95. 1\n",
       "96. 1\n",
       "97. 1\n",
       "98. 1\n",
       "99. 1\n",
       "100. 1\n",
       "\n",
       "\n"
      ],
      "text/plain": [
       "  [1] 1 1 1 1 1 1 1 1 1 1 1 1 1 1 1 1 1 1 1 1 1 1 1 1 1 1 1 1 1 1 1 1 1 1 1 1 1\n",
       " [38] 1 1 1 1 1 1 1 1 1 1 1 1 1 1 1 1 1 1 1 1 1 1 1 1 1 1 1 1 1 1 1 1 1 1 1 1 1\n",
       " [75] 1 1 1 1 1 1 1 1 1 1 1 1 1 1 1 1 1 1 1 1 1 1 1 1 1 1"
      ]
     },
     "metadata": {},
     "output_type": "display_data"
    }
   ],
   "source": [
    "output <- vector('integer', 0)\n",
    "for (i in seq_along(x)) {\n",
    "    output <- c(output, lengths(x[[i]]))\n",
    "}\n",
    "output"
   ]
  },
  {
   "cell_type": "markdown",
   "metadata": {},
   "source": [
    "## __For Loop Variations__"
   ]
  },
  {
   "cell_type": "markdown",
   "metadata": {},
   "source": [
    "Once you have the basic for loop under your belt, there are some\n",
    "variations that you should be aware of. These variations are impor‐\n",
    "tant regardless of how you do iteration, so don’t forget about them\n",
    "once you’ve mastered the FP techniques you’ll learn about in the\n",
    "next section.\n",
    "There are four variations on the basic theme of the for loop:\n",
    "\n",
    "* Modifying an existing object, instead of creating a new object.\n",
    "* Looping over names or values, instead of indices.\n",
    "* Handling outputs of unknown length.\n",
    "* Handling sequences of unknown length."
   ]
  },
  {
   "cell_type": "markdown",
   "metadata": {},
   "source": [
    "### Modifying an Existing Object"
   ]
  },
  {
   "cell_type": "markdown",
   "metadata": {},
   "source": [
    "Sometimes you want to use a for loop to modify an existing object.\n",
    "For example, remember our challenge from Chapter 15. We wanted\n",
    "to rescale every column in a data frame:"
   ]
  },
  {
   "cell_type": "code",
   "execution_count": 41,
   "metadata": {},
   "outputs": [],
   "source": [
    "df <- tibble(\n",
    "    a = rnorm(10),\n",
    "    b = rnorm(10),\n",
    "    c = rnorm(10),\n",
    "    d = rnorm(10)\n",
    ")"
   ]
  },
  {
   "cell_type": "code",
   "execution_count": 42,
   "metadata": {},
   "outputs": [],
   "source": [
    "rescale_01 <- function(x) {\n",
    "    rng <- range(x, na.rm = TRUE)\n",
    "    (x - rng[1]) / (rng[2] - rng[1])\n",
    "}"
   ]
  },
  {
   "cell_type": "code",
   "execution_count": 43,
   "metadata": {},
   "outputs": [],
   "source": [
    "df$a <- rescale_01(df$a)\n",
    "df$b <- rescale_01(df$b)\n",
    "df$c <- rescale_01(df$c)\n",
    "df$d <- rescale_01(df$d)"
   ]
  },
  {
   "cell_type": "markdown",
   "metadata": {},
   "source": [
    "To solve this with a for loop we again think about the three components:"
   ]
  },
  {
   "cell_type": "markdown",
   "metadata": {},
   "source": [
    "_Output_: We already have the output—it’s the same as the input!"
   ]
  },
  {
   "cell_type": "markdown",
   "metadata": {},
   "source": [
    "_Sequence_: We can think about a data frame as a list of columns, so we can\n",
    "iterate over each column with seq_along(df) ."
   ]
  },
  {
   "cell_type": "markdown",
   "metadata": {},
   "source": [
    "_Body_: Apply `rescale01()`."
   ]
  },
  {
   "cell_type": "code",
   "execution_count": 46,
   "metadata": {},
   "outputs": [],
   "source": [
    "for (i in seq_along(df)) {\n",
    "    df[[i]] <- rescale_01(df[[i]])\n",
    "}"
   ]
  },
  {
   "cell_type": "markdown",
   "metadata": {},
   "source": [
    "Typically you’ll be modifying a list or data frame with this sort of\n",
    "loop, so remember to use `[[` , not `[` . You might have spotted that I\n",
    "used `[[` in all my for loops: I think it’s better to use `[[` even for\n",
    "atomic vectors because it makes it clear that I want to work with a\n",
    "single element."
   ]
  },
  {
   "cell_type": "markdown",
   "metadata": {},
   "source": [
    "### Looping Patterns"
   ]
  },
  {
   "cell_type": "markdown",
   "metadata": {},
   "source": [
    "There are three basic ways to loop over a vector. So far I’ve shown\n",
    "you the most general: looping over the numeric indices with for (i\n",
    "in `seq_along(xs))` , and extracting the value with `x[[i]]` . There\n",
    "are two other forms:"
   ]
  },
  {
   "cell_type": "markdown",
   "metadata": {},
   "source": [
    "* Loop over the elements: for `(x in xs)` . This is most useful if\n",
    "you only care about side effects, like plotting or saving a file,\n",
    "because it’s difficult to save the output efficiently.\n",
    "\n",
    "* Loop over the names: `for (nm in names(xs))` . This gives you a\n",
    "name, which you can use to access the value with `x[[nm]]` . This\n",
    "is useful if you want to use the name in a plot title or a filename."
   ]
  },
  {
   "cell_type": "markdown",
   "metadata": {},
   "source": [
    "If you’re creating named output, make sure to name the results\n",
    "vector like so:"
   ]
  },
  {
   "cell_type": "code",
   "execution_count": 47,
   "metadata": {},
   "outputs": [],
   "source": [
    "results <- vector('list', length(x))\n",
    "names(results) <- names(x)"
   ]
  },
  {
   "cell_type": "markdown",
   "metadata": {},
   "source": [
    "Iteration over the numeric indices is the most general form, because\n",
    "given the position you can extract both the name and the value:"
   ]
  },
  {
   "cell_type": "code",
   "execution_count": 48,
   "metadata": {},
   "outputs": [],
   "source": [
    "for (i in seq_along(x)) {\n",
    "    name <- names(x)[[i]]\n",
    "    value <- x[[i]]\n",
    "}"
   ]
  },
  {
   "cell_type": "markdown",
   "metadata": {},
   "source": [
    "### Unknown Output Length"
   ]
  },
  {
   "cell_type": "markdown",
   "metadata": {},
   "source": [
    "Sometimes you might not know how long the output will be. For\n",
    "example, imagine you want to simulate some random vectors of\n",
    "random lengths. You might be tempted to solve this problem by\n",
    "progressively growing the vector:"
   ]
  },
  {
   "cell_type": "code",
   "execution_count": 49,
   "metadata": {},
   "outputs": [
    {
     "name": "stdout",
     "output_type": "stream",
     "text": [
      " num [1:234] -1.734 2.083 0.654 -0.538 1.081 ...\n"
     ]
    }
   ],
   "source": [
    "means <- c(0, 1, 2)\n",
    "\n",
    "output <- double()\n",
    "for (i in seq_along(means)) {\n",
    "    n <- sample(100, 1)\n",
    "    output <- c(output, rnorm(n, means[[i]]))\n",
    "}\n",
    "\n",
    "str(output)"
   ]
  },
  {
   "cell_type": "markdown",
   "metadata": {},
   "source": [
    "But this is not very efficient because in each iteration, R has to copy\n",
    "all the data from the previous iterations. In technical terms you get\n",
    "“quadratic” (O(n 2 )) behavior, which means that a loop with three\n",
    "times as many elements would take nine (3 2 ) times as long to run.\n",
    "A better solution is to save the results in a list, and then combine\n",
    "into a single vector after the loop is done:"
   ]
  },
  {
   "cell_type": "code",
   "execution_count": 50,
   "metadata": {},
   "outputs": [
    {
     "name": "stdout",
     "output_type": "stream",
     "text": [
      "List of 3\n",
      " $ : num [1:92] -0.47 0.439 0.138 0.755 -1.365 ...\n",
      " $ : num [1:47] 1.169 1.713 0.754 -1.016 2.13 ...\n",
      " $ : num [1:74] 4.226 1.462 1.92 0.801 1.213 ...\n"
     ]
    }
   ],
   "source": [
    "out <- vector('list', length(means))\n",
    "for (i in seq_along(means)) {\n",
    "    n <- sample(100, 1)\n",
    "    out[[i]] <- rnorm(n, means[[i]])\n",
    "}\n",
    "str(out)"
   ]
  },
  {
   "cell_type": "code",
   "execution_count": 51,
   "metadata": {},
   "outputs": [
    {
     "name": "stdout",
     "output_type": "stream",
     "text": [
      " num [1:213] -0.47 0.439 0.138 0.755 -1.365 ...\n"
     ]
    }
   ],
   "source": [
    "str(unlist(out))"
   ]
  },
  {
   "cell_type": "markdown",
   "metadata": {},
   "source": [
    "Here I’ve used `unlist()` to flatten a list of vectors into a single vec‐\n",
    "tor. A stricter option is to use `purrr::flatten_dbl()` —it will throw\n",
    "an error if the input isn’t a list of doubles."
   ]
  },
  {
   "cell_type": "markdown",
   "metadata": {},
   "source": [
    "This pattern occurs in other places too:\n",
    "\n",
    "* You might be generating a long string. Instead of `paste()` ing\n",
    "together each iteration with the previous, save the output in a\n",
    "character vector and then combine that vector into a single\n",
    "string with `paste(output, collapse = \"\")` .\n",
    "* You might be generating a big data frame. Instead of sequentially `rbind()` ing in each iteration, save the output in a list, then\n",
    "use `dplyr::bind_rows(output)` to combine the output into a\n",
    "single data frame.\n",
    "Watch out for this pattern. Whenever you see it, switch to a more\n",
    "complex result object, and then combine in one step at the end."
   ]
  },
  {
   "cell_type": "markdown",
   "metadata": {},
   "source": [
    "### Unknown Sequence Length"
   ]
  },
  {
   "cell_type": "markdown",
   "metadata": {},
   "source": [
    "Sometimes you don’t even know how long the input sequence\n",
    "should be. This is common when doing simulations. For example,\n",
    "you might want to loop until you get three heads in a row. You can’t\n",
    "do that sort of iteration with the `for` loop. Instead, you can use a\n",
    "`while` loop. A `while` loop is simpler than a for loop because it only\n",
    "has two components, a condition and a body:"
   ]
  },
  {
   "cell_type": "markdown",
   "metadata": {},
   "source": [
    "```r\n",
    "while (condition) {\n",
    "    # body...\n",
    "}\n",
    "```"
   ]
  },
  {
   "cell_type": "markdown",
   "metadata": {},
   "source": [
    "A while loop is also more general than a for loop, because you can\n",
    "rewrite any for loop as a while loop, but you can’t rewrite every\n",
    "while loop as a for loop:"
   ]
  },
  {
   "cell_type": "code",
   "execution_count": 52,
   "metadata": {},
   "outputs": [],
   "source": [
    "for (i in seq_along(x)) {\n",
    "    # body\n",
    "}"
   ]
  },
  {
   "cell_type": "code",
   "execution_count": 53,
   "metadata": {},
   "outputs": [],
   "source": [
    "# equivalent to\n",
    "i <- 1\n",
    "while (i <= length(x)) {\n",
    "    # body\n",
    "}"
   ]
  },
  {
   "cell_type": "markdown",
   "metadata": {},
   "source": [
    "Here’s how we could use a while loop to find how many tries it takes\n",
    "to get three heads in a row:"
   ]
  },
  {
   "cell_type": "code",
   "execution_count": 57,
   "metadata": {},
   "outputs": [
    {
     "data": {
      "text/html": [
       "4"
      ],
      "text/latex": [
       "4"
      ],
      "text/markdown": [
       "4"
      ],
      "text/plain": [
       "[1] 4"
      ]
     },
     "metadata": {},
     "output_type": "display_data"
    }
   ],
   "source": [
    "flip <- function() sample(c('T', 'H'), 1)\n",
    "\n",
    "flips <- 0\n",
    "n_heads <- 0\n",
    "\n",
    "while (n_heads < 3) {\n",
    "    if (flip() == 'H') {\n",
    "        n_heads <- n_heads + 1\n",
    "    } else {\n",
    "        n_heads <- 0\n",
    "    }\n",
    "    flips <- flips + 1\n",
    "}\n",
    "\n",
    "(flips)"
   ]
  },
  {
   "cell_type": "markdown",
   "metadata": {},
   "source": [
    "I mention while loops only briefly, because I hardly ever use them.\n",
    "They’re most often used for simulation, which is outside the scope\n",
    "of this book. However, it is good to know they exist so that you’re\n",
    "prepared for problems where the number of iterations is not known\n",
    "in advance."
   ]
  },
  {
   "cell_type": "markdown",
   "metadata": {},
   "source": [
    "Excercise\n",
    "\n",
    "What happens if you use for (nm in names(x)) and x has no names? What if only some of the elements are named? What if the names are not unique?"
   ]
  },
  {
   "cell_type": "markdown",
   "metadata": {},
   "source": [
    "Let’s try it out and see what happens. When there are no names for the vector, it does not run the code in the loop. In other words, it runs zero iterations of the loop."
   ]
  },
  {
   "cell_type": "code",
   "execution_count": 59,
   "metadata": {},
   "outputs": [
    {
     "name": "stdout",
     "output_type": "stream",
     "text": [
      "NULL\n"
     ]
    }
   ],
   "source": [
    "x <- c(11, 12, 13)\n",
    "print(names(x))"
   ]
  },
  {
   "cell_type": "code",
   "execution_count": 60,
   "metadata": {},
   "outputs": [],
   "source": [
    "for (nm in names(x)) {\n",
    "    print(nm)\n",
    "    print(x[[nm]])\n",
    "}"
   ]
  },
  {
   "cell_type": "markdown",
   "metadata": {},
   "source": [
    "Note that the length of NULL is zero:"
   ]
  },
  {
   "cell_type": "code",
   "execution_count": 61,
   "metadata": {},
   "outputs": [
    {
     "data": {
      "text/html": [
       "0"
      ],
      "text/latex": [
       "0"
      ],
      "text/markdown": [
       "0"
      ],
      "text/plain": [
       "[1] 0"
      ]
     },
     "metadata": {},
     "output_type": "display_data"
    }
   ],
   "source": [
    "length(NULL)"
   ]
  },
  {
   "cell_type": "markdown",
   "metadata": {},
   "source": [
    "If there only some names, then we get an error for trying to access an element without a name."
   ]
  },
  {
   "cell_type": "code",
   "execution_count": 62,
   "metadata": {},
   "outputs": [
    {
     "data": {
      "text/html": [
       "<style>\n",
       ".list-inline {list-style: none; margin:0; padding: 0}\n",
       ".list-inline>li {display: inline-block}\n",
       ".list-inline>li:not(:last-child)::after {content: \"\\00b7\"; padding: 0 .5ex}\n",
       "</style>\n",
       "<ol class=list-inline><li>'a'</li><li>''</li><li>'c'</li></ol>\n"
      ],
      "text/latex": [
       "\\begin{enumerate*}\n",
       "\\item 'a'\n",
       "\\item ''\n",
       "\\item 'c'\n",
       "\\end{enumerate*}\n"
      ],
      "text/markdown": [
       "1. 'a'\n",
       "2. ''\n",
       "3. 'c'\n",
       "\n",
       "\n"
      ],
      "text/plain": [
       "[1] \"a\" \"\"  \"c\""
      ]
     },
     "metadata": {},
     "output_type": "display_data"
    }
   ],
   "source": [
    "x <- c(a = 11, 12, c = 13)\n",
    "names(x)"
   ]
  },
  {
   "cell_type": "code",
   "execution_count": 63,
   "metadata": {},
   "outputs": [
    {
     "name": "stdout",
     "output_type": "stream",
     "text": [
      "[1] \"a\"\n",
      "[1] 11\n",
      "[1] \"\"\n"
     ]
    },
    {
     "ename": "ERROR",
     "evalue": "Error in x[[nm]]: subscript out of bounds\n",
     "output_type": "error",
     "traceback": [
      "Error in x[[nm]]: subscript out of bounds\nTraceback:\n",
      "1. print(x[[nm]])"
     ]
    }
   ],
   "source": [
    "for (nm in names(x)) {\n",
    "  print(nm)\n",
    "  print(x[[nm]])\n",
    "}"
   ]
  },
  {
   "cell_type": "markdown",
   "metadata": {},
   "source": [
    "Finally, if the vector contains duplicate names, then `x[[nm]]` returns the first element with that name."
   ]
  },
  {
   "cell_type": "code",
   "execution_count": 64,
   "metadata": {},
   "outputs": [
    {
     "data": {
      "text/html": [
       "<style>\n",
       ".list-inline {list-style: none; margin:0; padding: 0}\n",
       ".list-inline>li {display: inline-block}\n",
       ".list-inline>li:not(:last-child)::after {content: \"\\00b7\"; padding: 0 .5ex}\n",
       "</style>\n",
       "<ol class=list-inline><li>'a'</li><li>'a'</li><li>'c'</li></ol>\n"
      ],
      "text/latex": [
       "\\begin{enumerate*}\n",
       "\\item 'a'\n",
       "\\item 'a'\n",
       "\\item 'c'\n",
       "\\end{enumerate*}\n"
      ],
      "text/markdown": [
       "1. 'a'\n",
       "2. 'a'\n",
       "3. 'c'\n",
       "\n",
       "\n"
      ],
      "text/plain": [
       "[1] \"a\" \"a\" \"c\""
      ]
     },
     "metadata": {},
     "output_type": "display_data"
    }
   ],
   "source": [
    "x <- c(a = 11, a = 12, c = 13)\n",
    "names(x)"
   ]
  },
  {
   "cell_type": "code",
   "execution_count": 65,
   "metadata": {},
   "outputs": [
    {
     "name": "stdout",
     "output_type": "stream",
     "text": [
      "[1] \"a\"\n",
      "[1] 11\n",
      "[1] \"a\"\n",
      "[1] 11\n",
      "[1] \"c\"\n",
      "[1] 13\n"
     ]
    }
   ],
   "source": [
    "for (nm in names(x)) {\n",
    "  print(nm)\n",
    "  print(x[[nm]])\n",
    "}"
   ]
  },
  {
   "cell_type": "markdown",
   "metadata": {},
   "source": [
    "Excercise\n",
    "\n",
    "Write a function that prints the mean of each numeric column in a data frame, along with its name. For example, `show_mean(iris)` would print:"
   ]
  },
  {
   "cell_type": "markdown",
   "metadata": {},
   "source": [
    "```r\n",
    "show_mean(iris)\n",
    "# > Sepal.Length: 5.84\n",
    "# > Sepal.Width:  3.06\n",
    "# > Petal.Length: 3.76\n",
    "# > Petal.Width:  1.20\n",
    "```"
   ]
  },
  {
   "cell_type": "code",
   "execution_count": 74,
   "metadata": {},
   "outputs": [
    {
     "name": "stdout",
     "output_type": "stream",
     "text": [
      "Sepal.Length: 5.84 \n",
      "Sepal.Width:  3.06 \n",
      "Petal.Length: 3.76 \n",
      "Petal.Width:  1.20 \n"
     ]
    }
   ],
   "source": [
    "show_mean <- function(df, digits = 2) {\n",
    "  # Get max length of all variable names in the dataset\n",
    "  maxstr <- max(str_length(names(df)))\n",
    "  for (nm in names(df)) {\n",
    "    if (is.numeric(df[[nm]])) {\n",
    "      cat(\n",
    "        str_c(str_pad(str_c(nm, \":\"), maxstr + 1L, side = \"right\"),\n",
    "          format(mean(df[[nm]]), digits = digits, nsmall = digits),\n",
    "          sep = \" \"\n",
    "        ),\n",
    "        \"\\n\"\n",
    "      )\n",
    "    }\n",
    "  }\n",
    "}\n",
    "show_mean(iris)"
   ]
  },
  {
   "cell_type": "markdown",
   "metadata": {},
   "source": [
    "## For Loops Versus Functionals"
   ]
  },
  {
   "cell_type": "markdown",
   "metadata": {},
   "source": [
    "For loops are not as important in R as they are in other languages\n",
    "because R is a functional programming language. This means that\n",
    "it’s possible to wrap up for loops in a function, and call that function\n",
    "instead of using the for loop directly."
   ]
  },
  {
   "cell_type": "markdown",
   "metadata": {},
   "source": [
    "To see why this is important, consider (again) this simple data\n",
    "frame:"
   ]
  },
  {
   "cell_type": "code",
   "execution_count": 76,
   "metadata": {},
   "outputs": [],
   "source": [
    "df <- tibble(\n",
    "    a = rnorm(10),\n",
    "    b = rnorm(10),\n",
    "    c = rnorm(10),\n",
    "    d = rnorm(10)\n",
    ")"
   ]
  },
  {
   "cell_type": "markdown",
   "metadata": {},
   "source": [
    "Imagine you want to compute the mean of every column. You could\n",
    "do that with a for loop:"
   ]
  },
  {
   "cell_type": "code",
   "execution_count": 77,
   "metadata": {},
   "outputs": [
    {
     "data": {
      "text/html": [
       "<style>\n",
       ".list-inline {list-style: none; margin:0; padding: 0}\n",
       ".list-inline>li {display: inline-block}\n",
       ".list-inline>li:not(:last-child)::after {content: \"\\00b7\"; padding: 0 .5ex}\n",
       "</style>\n",
       "<ol class=list-inline><li>-0.271157885546006</li><li>0.0939120216049271</li><li>-0.0607766158149518</li><li>-0.322253773001772</li></ol>\n"
      ],
      "text/latex": [
       "\\begin{enumerate*}\n",
       "\\item -0.271157885546006\n",
       "\\item 0.0939120216049271\n",
       "\\item -0.0607766158149518\n",
       "\\item -0.322253773001772\n",
       "\\end{enumerate*}\n"
      ],
      "text/markdown": [
       "1. -0.271157885546006\n",
       "2. 0.0939120216049271\n",
       "3. -0.0607766158149518\n",
       "4. -0.322253773001772\n",
       "\n",
       "\n"
      ],
      "text/plain": [
       "[1] -0.27115789  0.09391202 -0.06077662 -0.32225377"
      ]
     },
     "metadata": {},
     "output_type": "display_data"
    }
   ],
   "source": [
    "output <- vector('double', length(df))\n",
    "for (i in seq_along(df)) {\n",
    "    output[[i]] <- mean(df[[i]])\n",
    "}\n",
    "output"
   ]
  },
  {
   "cell_type": "markdown",
   "metadata": {},
   "source": [
    "You realize that you’re going to want to compute the means of every\n",
    "column pretty frequently, so you extract it out into a function:"
   ]
  },
  {
   "cell_type": "code",
   "execution_count": 78,
   "metadata": {},
   "outputs": [],
   "source": [
    "col_mean <- function(df) {\n",
    "    output <- vector('double', length(df))\n",
    "    for (i in seq_along(df)) {\n",
    "        output[i] <- mean(df[[i]])\n",
    "    }\n",
    "    output\n",
    "}"
   ]
  },
  {
   "cell_type": "markdown",
   "metadata": {},
   "source": [
    "But then you think it’d also be helpful to be able to compute the\n",
    "median, and the standard deviation, so you copy and paste your\n",
    "`col_mean()` function and replace the `mean()` with `median()` and\n",
    "`sd()` :"
   ]
  },
  {
   "cell_type": "code",
   "execution_count": 79,
   "metadata": {},
   "outputs": [],
   "source": [
    "col_median <- function(df) {\n",
    "    output <- vector('double', length(df))\n",
    "    for (i in seq_along(df)) {\n",
    "        output[i] <- median(df[[i]])\n",
    "    }\n",
    "    output\n",
    "}"
   ]
  },
  {
   "cell_type": "code",
   "execution_count": 80,
   "metadata": {},
   "outputs": [],
   "source": [
    "col_sd <- function(df) {\n",
    "    output <- vector('double', length(df))\n",
    "    for (i in seq_along(df)) {\n",
    "        output[i] <- sd(df[[i]])\n",
    "    }\n",
    "    output\n",
    "}"
   ]
  },
  {
   "cell_type": "markdown",
   "metadata": {},
   "source": [
    "Uh oh! You’ve copied and pasted this code twice, so it’s time to think\n",
    "about how to generalize it. Notice that most of this code is for-loop\n",
    "boilerplate and it’s hard to see the one thing ( `mean()` , `median()` ,\n",
    "`sd()` ) that is different between the functions.\n",
    "What would you do if you saw a set of functions like this?"
   ]
  },
  {
   "cell_type": "code",
   "execution_count": 81,
   "metadata": {},
   "outputs": [],
   "source": [
    "f1 <- function(x) abs(x - mean(x)) ^ 1\n",
    "f2 <- function(x) abs(x - mean(x)) ^ 2\n",
    "f3 <- function(x) abs(x - mean(x)) ^ 3"
   ]
  },
  {
   "cell_type": "markdown",
   "metadata": {},
   "source": [
    "Hopefully, you’d notice that there’s a lot of duplication, and extract it\n",
    "out into an additional argument:"
   ]
  },
  {
   "cell_type": "code",
   "execution_count": 82,
   "metadata": {},
   "outputs": [],
   "source": [
    "f <- function(x, i) abs(x - mean(x)) ^ i"
   ]
  },
  {
   "cell_type": "markdown",
   "metadata": {},
   "source": [
    "You’ve reduced the chance of bugs (because you now have 1/3 less\n",
    "code), and made it easy to generalize to new situations.\n",
    "We can do exactly the same thing with `col_mean()` , `col_median()` ,\n",
    "and `col_sd()` by adding an argument that supplies the function to\n",
    "apply to each column"
   ]
  },
  {
   "cell_type": "code",
   "execution_count": 83,
   "metadata": {},
   "outputs": [],
   "source": [
    "col_summary <- function(df, fun) {\n",
    "    out <- vector('double', length(df))\n",
    "    for (i in seq_along(df)) {\n",
    "        out[i] <- fun(df[[i]])\n",
    "    }\n",
    "    out\n",
    "}"
   ]
  },
  {
   "cell_type": "code",
   "execution_count": 84,
   "metadata": {},
   "outputs": [
    {
     "data": {
      "text/html": [
       "<style>\n",
       ".list-inline {list-style: none; margin:0; padding: 0}\n",
       ".list-inline>li {display: inline-block}\n",
       ".list-inline>li:not(:last-child)::after {content: \"\\00b7\"; padding: 0 .5ex}\n",
       "</style>\n",
       "<ol class=list-inline><li>-0.122817635785696</li><li>0.292608756704333</li><li>0.293732882745965</li><li>-0.445469762310696</li></ol>\n"
      ],
      "text/latex": [
       "\\begin{enumerate*}\n",
       "\\item -0.122817635785696\n",
       "\\item 0.292608756704333\n",
       "\\item 0.293732882745965\n",
       "\\item -0.445469762310696\n",
       "\\end{enumerate*}\n"
      ],
      "text/markdown": [
       "1. -0.122817635785696\n",
       "2. 0.292608756704333\n",
       "3. 0.293732882745965\n",
       "4. -0.445469762310696\n",
       "\n",
       "\n"
      ],
      "text/plain": [
       "[1] -0.1228176  0.2926088  0.2937329 -0.4454698"
      ]
     },
     "metadata": {},
     "output_type": "display_data"
    }
   ],
   "source": [
    "col_summary(df, median)"
   ]
  },
  {
   "cell_type": "code",
   "execution_count": 85,
   "metadata": {},
   "outputs": [
    {
     "data": {
      "text/html": [
       "<style>\n",
       ".list-inline {list-style: none; margin:0; padding: 0}\n",
       ".list-inline>li {display: inline-block}\n",
       ".list-inline>li:not(:last-child)::after {content: \"\\00b7\"; padding: 0 .5ex}\n",
       "</style>\n",
       "<ol class=list-inline><li>-0.271157885546006</li><li>0.0939120216049271</li><li>-0.0607766158149518</li><li>-0.322253773001772</li></ol>\n"
      ],
      "text/latex": [
       "\\begin{enumerate*}\n",
       "\\item -0.271157885546006\n",
       "\\item 0.0939120216049271\n",
       "\\item -0.0607766158149518\n",
       "\\item -0.322253773001772\n",
       "\\end{enumerate*}\n"
      ],
      "text/markdown": [
       "1. -0.271157885546006\n",
       "2. 0.0939120216049271\n",
       "3. -0.0607766158149518\n",
       "4. -0.322253773001772\n",
       "\n",
       "\n"
      ],
      "text/plain": [
       "[1] -0.27115789  0.09391202 -0.06077662 -0.32225377"
      ]
     },
     "metadata": {},
     "output_type": "display_data"
    }
   ],
   "source": [
    "col_summary(df, mean)"
   ]
  },
  {
   "cell_type": "markdown",
   "metadata": {},
   "source": [
    "The idea of passing a function to another function is an extremely\n",
    "powerful idea, and it’s one of the behaviors that makes R a func‐\n",
    "tional programming language. It might take you a while to wrap\n",
    "your head around the idea, but it’s worth the investment. In the rest\n",
    "of the chapter, you’ll learn about and use the purrr package, which\n",
    "provides functions that eliminate the need for many common for\n",
    "loops. The apply family of functions in base R ( `apply()` , `lapply()` ,\n",
    "`tapply()` , etc.) solve a similar problem, but purrr is more consistent\n",
    "and thus is easier to learn.\n",
    "The goal of using purrr functions instead of for loops is to allow you\n",
    "to break common list manipulation challenges into independent\n",
    "pieces:\n",
    "\n",
    "* How can you solve the problem for a single element of the list?\n",
    "Once you’ve solved that problem, purrr takes care of generaliz‐\n",
    "ing your solution to every element in the list.\n",
    "* If you’re solving a complex problem, how can you break it down\n",
    "into bite-sized pieces that allow you to advance one small step\n",
    "toward a solution? With purrr, you get lots of small pieces that\n",
    "you can compose together with the pipe.\n",
    "This structure makes it easier to solve new problems. It also makes it\n",
    "easier to understand your solutions to old problems when you re-\n",
    "read your old code."
   ]
  },
  {
   "cell_type": "markdown",
   "metadata": {},
   "source": [
    "Excercise\n",
    "\n",
    "\n",
    "\n",
    "Read the documentation for apply(). In the 2nd case, what two for-loops does it generalize.\n"
   ]
  },
  {
   "cell_type": "markdown",
   "metadata": {},
   "source": [
    "For an object with two-dimensions, such as a matrix or data frame, `apply()` replaces looping over the rows or columns of a matrix or data-frame. The `apply()` function is used like `apply(X, MARGIN, FUN, ...)`, where X is a matrix or array, `FUN` is a function to apply, and ... are additional arguments passed to `FUN`.\n",
    "\n",
    "When `MARGIN = 1`, then the function is applied to each row. For example, the following example calculates the row means of a matrix."
   ]
  },
  {
   "cell_type": "code",
   "execution_count": 88,
   "metadata": {},
   "outputs": [
    {
     "data": {
      "text/html": [
       "<table>\n",
       "<caption>A matrix: 5 × 3 of type dbl</caption>\n",
       "<tbody>\n",
       "\t<tr><td>-1.1902592</td><td> 1.30288070</td><td> 0.5865743</td></tr>\n",
       "\t<tr><td>-1.0687685</td><td> 0.12366869</td><td>-1.0342500</td></tr>\n",
       "\t<tr><td>-0.6136274</td><td>-0.78680261</td><td> 0.5268122</td></tr>\n",
       "\t<tr><td>-2.4034874</td><td> 0.04724041</td><td> 0.7469081</td></tr>\n",
       "\t<tr><td> 0.2579339</td><td>-1.38771856</td><td> 0.5472409</td></tr>\n",
       "</tbody>\n",
       "</table>\n"
      ],
      "text/latex": [
       "A matrix: 5 × 3 of type dbl\n",
       "\\begin{tabular}{lll}\n",
       "\t -1.1902592 &  1.30288070 &  0.5865743\\\\\n",
       "\t -1.0687685 &  0.12366869 & -1.0342500\\\\\n",
       "\t -0.6136274 & -0.78680261 &  0.5268122\\\\\n",
       "\t -2.4034874 &  0.04724041 &  0.7469081\\\\\n",
       "\t  0.2579339 & -1.38771856 &  0.5472409\\\\\n",
       "\\end{tabular}\n"
      ],
      "text/markdown": [
       "\n",
       "A matrix: 5 × 3 of type dbl\n",
       "\n",
       "| -1.1902592 |  1.30288070 |  0.5865743 |\n",
       "| -1.0687685 |  0.12366869 | -1.0342500 |\n",
       "| -0.6136274 | -0.78680261 |  0.5268122 |\n",
       "| -2.4034874 |  0.04724041 |  0.7469081 |\n",
       "|  0.2579339 | -1.38771856 |  0.5472409 |\n",
       "\n"
      ],
      "text/plain": [
       "     [,1]       [,2]        [,3]      \n",
       "[1,] -1.1902592  1.30288070  0.5865743\n",
       "[2,] -1.0687685  0.12366869 -1.0342500\n",
       "[3,] -0.6136274 -0.78680261  0.5268122\n",
       "[4,] -2.4034874  0.04724041  0.7469081\n",
       "[5,]  0.2579339 -1.38771856  0.5472409"
      ]
     },
     "metadata": {},
     "output_type": "display_data"
    }
   ],
   "source": [
    "X <- matrix(rnorm(15), nrow = 5)\n",
    "X"
   ]
  },
  {
   "cell_type": "code",
   "execution_count": 89,
   "metadata": {},
   "outputs": [
    {
     "data": {
      "text/html": [
       "<style>\n",
       ".list-inline {list-style: none; margin:0; padding: 0}\n",
       ".list-inline>li {display: inline-block}\n",
       ".list-inline>li:not(:last-child)::after {content: \"\\00b7\"; padding: 0 .5ex}\n",
       "</style>\n",
       "<ol class=list-inline><li>0.233065275611725</li><li>-0.659783268473612</li><li>-0.291205918817224</li><li>-0.536446278486616</li><li>-0.194181250414777</li></ol>\n"
      ],
      "text/latex": [
       "\\begin{enumerate*}\n",
       "\\item 0.233065275611725\n",
       "\\item -0.659783268473612\n",
       "\\item -0.291205918817224\n",
       "\\item -0.536446278486616\n",
       "\\item -0.194181250414777\n",
       "\\end{enumerate*}\n"
      ],
      "text/markdown": [
       "1. 0.233065275611725\n",
       "2. -0.659783268473612\n",
       "3. -0.291205918817224\n",
       "4. -0.536446278486616\n",
       "5. -0.194181250414777\n",
       "\n",
       "\n"
      ],
      "text/plain": [
       "[1]  0.2330653 -0.6597833 -0.2912059 -0.5364463 -0.1941813"
      ]
     },
     "metadata": {},
     "output_type": "display_data"
    }
   ],
   "source": [
    "apply(X, 1, mean)"
   ]
  },
  {
   "cell_type": "markdown",
   "metadata": {},
   "source": [
    "That is equivalent to this for-loop."
   ]
  },
  {
   "cell_type": "code",
   "execution_count": 90,
   "metadata": {},
   "outputs": [
    {
     "data": {
      "text/html": [
       "<style>\n",
       ".list-inline {list-style: none; margin:0; padding: 0}\n",
       ".list-inline>li {display: inline-block}\n",
       ".list-inline>li:not(:last-child)::after {content: \"\\00b7\"; padding: 0 .5ex}\n",
       "</style>\n",
       "<ol class=list-inline><li>0.233065275611725</li><li>-0.659783268473612</li><li>-0.291205918817224</li><li>-0.536446278486616</li><li>-0.194181250414777</li></ol>\n"
      ],
      "text/latex": [
       "\\begin{enumerate*}\n",
       "\\item 0.233065275611725\n",
       "\\item -0.659783268473612\n",
       "\\item -0.291205918817224\n",
       "\\item -0.536446278486616\n",
       "\\item -0.194181250414777\n",
       "\\end{enumerate*}\n"
      ],
      "text/markdown": [
       "1. 0.233065275611725\n",
       "2. -0.659783268473612\n",
       "3. -0.291205918817224\n",
       "4. -0.536446278486616\n",
       "5. -0.194181250414777\n",
       "\n",
       "\n"
      ],
      "text/plain": [
       "[1]  0.2330653 -0.6597833 -0.2912059 -0.5364463 -0.1941813"
      ]
     },
     "metadata": {},
     "output_type": "display_data"
    }
   ],
   "source": [
    "X_row_means <- vector('numeric', length = nrow(X))\n",
    "for (i in seq_len(nrow(X))) {\n",
    "    X_row_means[[i]] <- mean(X[i, ])\n",
    "}\n",
    "X_row_means"
   ]
  },
  {
   "cell_type": "markdown",
   "metadata": {},
   "source": [
    "When `MARGIN = 2`, `apply()` is equivalent to a for-loop looping over columns."
   ]
  },
  {
   "cell_type": "code",
   "execution_count": 93,
   "metadata": {},
   "outputs": [
    {
     "data": {
      "text/html": [
       "<style>\n",
       ".list-inline {list-style: none; margin:0; padding: 0}\n",
       ".list-inline>li {display: inline-block}\n",
       ".list-inline>li:not(:last-child)::after {content: \"\\00b7\"; padding: 0 .5ex}\n",
       "</style>\n",
       "<ol class=list-inline><li>-0.205026619187635</li><li>0.431828701831485</li><li>-0.135326723407566</li></ol>\n"
      ],
      "text/latex": [
       "\\begin{enumerate*}\n",
       "\\item -0.205026619187635\n",
       "\\item 0.431828701831485\n",
       "\\item -0.135326723407566\n",
       "\\end{enumerate*}\n"
      ],
      "text/markdown": [
       "1. -0.205026619187635\n",
       "2. 0.431828701831485\n",
       "3. -0.135326723407566\n",
       "\n",
       "\n"
      ],
      "text/plain": [
       "[1] -0.2050266  0.4318287 -0.1353267"
      ]
     },
     "metadata": {},
     "output_type": "display_data"
    }
   ],
   "source": [
    "apply(X, 2, mean)"
   ]
  },
  {
   "cell_type": "code",
   "execution_count": 95,
   "metadata": {},
   "outputs": [
    {
     "data": {
      "text/html": [
       "<style>\n",
       ".list-inline {list-style: none; margin:0; padding: 0}\n",
       ".list-inline>li {display: inline-block}\n",
       ".list-inline>li:not(:last-child)::after {content: \"\\00b7\"; padding: 0 .5ex}\n",
       "</style>\n",
       "<ol class=list-inline><li>-0.205026619187635</li><li>0.431828701831485</li><li>-0.135326723407566</li></ol>\n"
      ],
      "text/latex": [
       "\\begin{enumerate*}\n",
       "\\item -0.205026619187635\n",
       "\\item 0.431828701831485\n",
       "\\item -0.135326723407566\n",
       "\\end{enumerate*}\n"
      ],
      "text/markdown": [
       "1. -0.205026619187635\n",
       "2. 0.431828701831485\n",
       "3. -0.135326723407566\n",
       "\n",
       "\n"
      ],
      "text/plain": [
       "[1] -0.2050266  0.4318287 -0.1353267"
      ]
     },
     "metadata": {},
     "output_type": "display_data"
    }
   ],
   "source": [
    "X_col_means <- vector('numeric', length = ncol(X))\n",
    "for (i in seq_len(ncol(X))) {\n",
    "    X_col_means[[i]] <- mean(X[, i])\n",
    "}\n",
    "X_col_means"
   ]
  },
  {
   "cell_type": "markdown",
   "metadata": {},
   "source": [
    "Excercise\n",
    "\n",
    "Adapt `col_summary()` so that it only applies to numeric col‐\n",
    "umns. You might want to start with an `is_numeric()` function\n",
    "that returns a logical vector that has a `TRUE` corresponding to\n",
    "each numeric column."
   ]
  },
  {
   "cell_type": "code",
   "execution_count": 107,
   "metadata": {},
   "outputs": [],
   "source": [
    "# as of Sep 2020 , is_numeric from purrr is deprecated\n",
    "col_summary_2 <- function(df, fun) {\n",
    "    # create an empty vector which will store\n",
    "    # whether each column is numeric\n",
    "    numeric_cols <- vector('logical', length(df))\n",
    "    # test whether each column is numeric\n",
    "    for (i in seq_along(df)) {\n",
    "        numeric_cols[[i]] <- is.numeric(df[[i]])\n",
    "    }\n",
    "    # find the indexes of the numeric columns\n",
    "    idxs <- which(numeric_cols)\n",
    "    # find the number of numeric columns\n",
    "    n <- sum(numeric_cols)\n",
    "    # create a vector to hold the results\n",
    "    out <- vector('double', n)\n",
    "    # apply the function only to numeric vectors\n",
    "    for (i in seq_along(idxs)) {\n",
    "        out[[i]] <- fun(df[[idxs[[i]]]])\n",
    "    }\n",
    "    # name the vector\n",
    "    names(out) <- names(df)[idxs]\n",
    "    out\n",
    "}"
   ]
  },
  {
   "cell_type": "code",
   "execution_count": 108,
   "metadata": {},
   "outputs": [
    {
     "data": {
      "text/html": [
       "<style>\n",
       ".dl-inline {width: auto; margin:0; padding: 0}\n",
       ".dl-inline>dt, .dl-inline>dd {float: none; width: auto; display: inline-block}\n",
       ".dl-inline>dt::after {content: \":\\0020\"; padding-right: .5ex}\n",
       ".dl-inline>dt:not(:first-of-type) {padding-left: .5ex}\n",
       "</style><dl class=dl-inline><dt>X1</dt><dd>2</dd><dt>X3</dt><dd>1.33333333333333</dd></dl>\n"
      ],
      "text/latex": [
       "\\begin{description*}\n",
       "\\item[X1] 2\n",
       "\\item[X3] 1.33333333333333\n",
       "\\end{description*}\n"
      ],
      "text/markdown": [
       "X1\n",
       ":   2X3\n",
       ":   1.33333333333333\n",
       "\n"
      ],
      "text/plain": [
       "      X1       X3 \n",
       "2.000000 1.333333 "
      ]
     },
     "metadata": {},
     "output_type": "display_data"
    }
   ],
   "source": [
    "df <- tibble(\n",
    "  X1 = c(1, 2, 3),\n",
    "  X2 = c(\"A\", \"B\", \"C\"),\n",
    "  X3 = c(0, -1, 5),\n",
    "  X4 = c(TRUE, FALSE, TRUE)\n",
    ")\n",
    "col_summary_2(df, mean)"
   ]
  },
  {
   "cell_type": "markdown",
   "metadata": {},
   "source": [
    "## The Map Functions"
   ]
  },
  {
   "cell_type": "markdown",
   "metadata": {},
   "source": [
    "The pattern of looping over a vector, doing something to each element, and saving the results is so common that the purrr package\n",
    "provides a family of functions to do it for you. There is one function\n",
    "for each type of output:"
   ]
  },
  {
   "cell_type": "markdown",
   "metadata": {},
   "source": [
    "* `map()` makes a list.\n",
    "* `map_lgl()` makes a logical vector.\n",
    "* `map_int()` makes an integer vector.\n",
    "* `map_dbl()` makes a double vector.\n",
    "* `map_chr()` makes a character vector."
   ]
  },
  {
   "cell_type": "markdown",
   "metadata": {},
   "source": [
    "Each function takes a vector as input, applies a function to each\n",
    "piece, and then returns a new vector that’s the same length (and has\n",
    "the same names) as the input. The type of the vector is determined\n",
    "by the suffix to the map function."
   ]
  },
  {
   "cell_type": "markdown",
   "metadata": {},
   "source": [
    "Once you master these functions, you’ll find it takes much less time\n",
    "to solve iteration problems. But you should never feel bad about\n",
    "using a for loop instead of a map function. The map functions are a\n",
    "step up a tower of abstraction, and it can take a long time to get your\n",
    "head around how they work. The important thing is that you solve\n",
    "the problem that you’re working on, not write the most concise and\n",
    "elegant code (although that’s definitely something you want to strive\n",
    "toward!)."
   ]
  },
  {
   "cell_type": "markdown",
   "metadata": {},
   "source": [
    "Some people will tell you to avoid for loops because they are slow.\n",
    "They’re wrong! (Well at least they’re rather out of date, as for loops\n",
    "haven’t been slow for many years). The chief benefit of using functions like `map()` is not speed, but clarity: they make your code easier\n",
    "to write and to read."
   ]
  },
  {
   "cell_type": "markdown",
   "metadata": {},
   "source": [
    "We can use these functions to perform the same computations as the\n",
    "last for loop. Those summary functions returned doubles, so we\n",
    "need to use `map_dbl()` :"
   ]
  },
  {
   "cell_type": "code",
   "execution_count": 135,
   "metadata": {},
   "outputs": [],
   "source": [
    "df <- tibble(\n",
    "  a = rnorm(10), \n",
    "  b = rnorm(10), \n",
    "  c = rnorm(10), \n",
    "  d = rnorm(10)\n",
    ")"
   ]
  },
  {
   "cell_type": "code",
   "execution_count": 136,
   "metadata": {},
   "outputs": [
    {
     "data": {
      "text/html": [
       "<style>\n",
       ".dl-inline {width: auto; margin:0; padding: 0}\n",
       ".dl-inline>dt, .dl-inline>dd {float: none; width: auto; display: inline-block}\n",
       ".dl-inline>dt::after {content: \":\\0020\"; padding-right: .5ex}\n",
       ".dl-inline>dt:not(:first-of-type) {padding-left: .5ex}\n",
       "</style><dl class=dl-inline><dt>a</dt><dd>-0.426513880056304</dd><dt>b</dt><dd>-0.00379685280114774</dd><dt>c</dt><dd>-0.0869671631571398</dd><dt>d</dt><dd>-0.238087313516819</dd></dl>\n"
      ],
      "text/latex": [
       "\\begin{description*}\n",
       "\\item[a] -0.426513880056304\n",
       "\\item[b] -0.00379685280114774\n",
       "\\item[c] -0.0869671631571398\n",
       "\\item[d] -0.238087313516819\n",
       "\\end{description*}\n"
      ],
      "text/markdown": [
       "a\n",
       ":   -0.426513880056304b\n",
       ":   -0.00379685280114774c\n",
       ":   -0.0869671631571398d\n",
       ":   -0.238087313516819\n",
       "\n"
      ],
      "text/plain": [
       "           a            b            c            d \n",
       "-0.426513880 -0.003796853 -0.086967163 -0.238087314 "
      ]
     },
     "metadata": {},
     "output_type": "display_data"
    }
   ],
   "source": [
    "map_dbl(df, mean)"
   ]
  },
  {
   "cell_type": "code",
   "execution_count": 137,
   "metadata": {},
   "outputs": [
    {
     "data": {
      "text/html": [
       "<style>\n",
       ".dl-inline {width: auto; margin:0; padding: 0}\n",
       ".dl-inline>dt, .dl-inline>dd {float: none; width: auto; display: inline-block}\n",
       ".dl-inline>dt::after {content: \":\\0020\"; padding-right: .5ex}\n",
       ".dl-inline>dt:not(:first-of-type) {padding-left: .5ex}\n",
       "</style><dl class=dl-inline><dt>a</dt><dd>-0.336146411468029</dd><dt>b</dt><dd>-0.0705210804418669</dd><dt>c</dt><dd>0.204352548727001</dd><dt>d</dt><dd>-0.142895905950737</dd></dl>\n"
      ],
      "text/latex": [
       "\\begin{description*}\n",
       "\\item[a] -0.336146411468029\n",
       "\\item[b] -0.0705210804418669\n",
       "\\item[c] 0.204352548727001\n",
       "\\item[d] -0.142895905950737\n",
       "\\end{description*}\n"
      ],
      "text/markdown": [
       "a\n",
       ":   -0.336146411468029b\n",
       ":   -0.0705210804418669c\n",
       ":   0.204352548727001d\n",
       ":   -0.142895905950737\n",
       "\n"
      ],
      "text/plain": [
       "          a           b           c           d \n",
       "-0.33614641 -0.07052108  0.20435255 -0.14289591 "
      ]
     },
     "metadata": {},
     "output_type": "display_data"
    }
   ],
   "source": [
    "map_dbl(df, median)"
   ]
  },
  {
   "cell_type": "code",
   "execution_count": 140,
   "metadata": {},
   "outputs": [
    {
     "data": {
      "text/html": [
       "<style>\n",
       ".dl-inline {width: auto; margin:0; padding: 0}\n",
       ".dl-inline>dt, .dl-inline>dd {float: none; width: auto; display: inline-block}\n",
       ".dl-inline>dt::after {content: \":\\0020\"; padding-right: .5ex}\n",
       ".dl-inline>dt:not(:first-of-type) {padding-left: .5ex}\n",
       "</style><dl class=dl-inline><dt>a</dt><dd>-0.426513880056304</dd><dt>b</dt><dd>-0.00379685280114774</dd><dt>c</dt><dd>-0.0869671631571398</dd><dt>d</dt><dd>-0.238087313516819</dd></dl>\n"
      ],
      "text/latex": [
       "\\begin{description*}\n",
       "\\item[a] -0.426513880056304\n",
       "\\item[b] -0.00379685280114774\n",
       "\\item[c] -0.0869671631571398\n",
       "\\item[d] -0.238087313516819\n",
       "\\end{description*}\n"
      ],
      "text/markdown": [
       "a\n",
       ":   -0.426513880056304b\n",
       ":   -0.00379685280114774c\n",
       ":   -0.0869671631571398d\n",
       ":   -0.238087313516819\n",
       "\n"
      ],
      "text/plain": [
       "           a            b            c            d \n",
       "-0.426513880 -0.003796853 -0.086967163 -0.238087314 "
      ]
     },
     "metadata": {},
     "output_type": "display_data"
    }
   ],
   "source": [
    "df %>% map_dbl(mean)"
   ]
  },
  {
   "cell_type": "code",
   "execution_count": 141,
   "metadata": {},
   "outputs": [
    {
     "data": {
      "text/html": [
       "<style>\n",
       ".dl-inline {width: auto; margin:0; padding: 0}\n",
       ".dl-inline>dt, .dl-inline>dd {float: none; width: auto; display: inline-block}\n",
       ".dl-inline>dt::after {content: \":\\0020\"; padding-right: .5ex}\n",
       ".dl-inline>dt:not(:first-of-type) {padding-left: .5ex}\n",
       "</style><dl class=dl-inline><dt>a</dt><dd>-0.336146411468029</dd><dt>b</dt><dd>-0.0705210804418669</dd><dt>c</dt><dd>0.204352548727001</dd><dt>d</dt><dd>-0.142895905950737</dd></dl>\n"
      ],
      "text/latex": [
       "\\begin{description*}\n",
       "\\item[a] -0.336146411468029\n",
       "\\item[b] -0.0705210804418669\n",
       "\\item[c] 0.204352548727001\n",
       "\\item[d] -0.142895905950737\n",
       "\\end{description*}\n"
      ],
      "text/markdown": [
       "a\n",
       ":   -0.336146411468029b\n",
       ":   -0.0705210804418669c\n",
       ":   0.204352548727001d\n",
       ":   -0.142895905950737\n",
       "\n"
      ],
      "text/plain": [
       "          a           b           c           d \n",
       "-0.33614641 -0.07052108  0.20435255 -0.14289591 "
      ]
     },
     "metadata": {},
     "output_type": "display_data"
    }
   ],
   "source": [
    "df %>% map_dbl(median)"
   ]
  },
  {
   "cell_type": "markdown",
   "metadata": {},
   "source": [
    "There are a few differences between `map_*()` and `col_summary()` :\n",
    "* All purrr functions are implemented in C. This makes them a\n",
    "little faster at the expense of readability.\n",
    "* The second argument, `.f` , the function to apply, can be a formula, a character vector, or an integer vector. You’ll learn about\n",
    "those handy shortcuts in the next section"
   ]
  },
  {
   "cell_type": "markdown",
   "metadata": {},
   "source": [
    "* `map_*()` uses ... (“Dot-Dot-Dot `(...)`\") to pass along\n",
    "additional arguments to `.f` each time it’s called:"
   ]
  },
  {
   "cell_type": "code",
   "execution_count": 143,
   "metadata": {},
   "outputs": [
    {
     "data": {
      "text/html": [
       "<style>\n",
       ".dl-inline {width: auto; margin:0; padding: 0}\n",
       ".dl-inline>dt, .dl-inline>dd {float: none; width: auto; display: inline-block}\n",
       ".dl-inline>dt::after {content: \":\\0020\"; padding-right: .5ex}\n",
       ".dl-inline>dt:not(:first-of-type) {padding-left: .5ex}\n",
       "</style><dl class=dl-inline><dt>a</dt><dd>-0.336146411468029</dd><dt>b</dt><dd>-0.0705210804418669</dd><dt>c</dt><dd>0.204352548727001</dd><dt>d</dt><dd>-0.142895905950737</dd></dl>\n"
      ],
      "text/latex": [
       "\\begin{description*}\n",
       "\\item[a] -0.336146411468029\n",
       "\\item[b] -0.0705210804418669\n",
       "\\item[c] 0.204352548727001\n",
       "\\item[d] -0.142895905950737\n",
       "\\end{description*}\n"
      ],
      "text/markdown": [
       "a\n",
       ":   -0.336146411468029b\n",
       ":   -0.0705210804418669c\n",
       ":   0.204352548727001d\n",
       ":   -0.142895905950737\n",
       "\n"
      ],
      "text/plain": [
       "          a           b           c           d \n",
       "-0.33614641 -0.07052108  0.20435255 -0.14289591 "
      ]
     },
     "metadata": {},
     "output_type": "display_data"
    }
   ],
   "source": [
    "map_dbl(df, mean, trim = 0.4)"
   ]
  },
  {
   "cell_type": "markdown",
   "metadata": {},
   "source": [
    "- The map functions also preserve names:"
   ]
  },
  {
   "cell_type": "code",
   "execution_count": 144,
   "metadata": {},
   "outputs": [
    {
     "data": {
      "text/html": [
       "<style>\n",
       ".dl-inline {width: auto; margin:0; padding: 0}\n",
       ".dl-inline>dt, .dl-inline>dd {float: none; width: auto; display: inline-block}\n",
       ".dl-inline>dt::after {content: \":\\0020\"; padding-right: .5ex}\n",
       ".dl-inline>dt:not(:first-of-type) {padding-left: .5ex}\n",
       "</style><dl class=dl-inline><dt>x</dt><dd>3</dd><dt>y</dt><dd>2</dd></dl>\n"
      ],
      "text/latex": [
       "\\begin{description*}\n",
       "\\item[x] 3\n",
       "\\item[y] 2\n",
       "\\end{description*}\n"
      ],
      "text/markdown": [
       "x\n",
       ":   3y\n",
       ":   2\n",
       "\n"
      ],
      "text/plain": [
       "x y \n",
       "3 2 "
      ]
     },
     "metadata": {},
     "output_type": "display_data"
    }
   ],
   "source": [
    "z <- list(x = 1:3, y = 4:5)\n",
    "map_int(z, length)"
   ]
  },
  {
   "cell_type": "markdown",
   "metadata": {},
   "source": [
    "## Shortcuts"
   ]
  },
  {
   "cell_type": "markdown",
   "metadata": {},
   "source": [
    "There are a few shortcuts that you can use with .f in order to save a\n",
    "little typing. Imagine you want to fit a linear model to each group in\n",
    "a dataset. The following toy example splits up the mtcars dataset\n",
    "into three pieces (one for each value of cylinder) and fits the same\n",
    "linear model to each piece:"
   ]
  },
  {
   "cell_type": "code",
   "execution_count": 145,
   "metadata": {},
   "outputs": [],
   "source": [
    "models <- mtcars %>%\n",
    "    split(.$cyl) %>%\n",
    "    map(function(df) lm(mpg ~ wt, data = df))"
   ]
  },
  {
   "cell_type": "markdown",
   "metadata": {},
   "source": [
    "The syntax for creating an anonymous function in R is quite verbose\n",
    "so purrr provides a convenient shortcut—a one-sided formula:"
   ]
  },
  {
   "cell_type": "code",
   "execution_count": 146,
   "metadata": {},
   "outputs": [],
   "source": [
    "models <- mtcars %>%\n",
    "    split(.$cyl) %>%\n",
    "    map(~lm(mpg ~ wt, data = .))"
   ]
  },
  {
   "cell_type": "markdown",
   "metadata": {},
   "source": [
    "Here I’ve used `.` as a pronoun: it refers to the current list element (in\n",
    "the same way that i referred to the current index in the for loop)."
   ]
  },
  {
   "cell_type": "markdown",
   "metadata": {},
   "source": [
    "When you’re looking at many models, you might want to extract a\n",
    "summary statistic like the R 2 . To do that we need to first run `summary()`\n",
    "and then extract the component called `r.squared` . We could\n",
    "do that using the shorthand for anonymous functions:"
   ]
  },
  {
   "cell_type": "code",
   "execution_count": 147,
   "metadata": {},
   "outputs": [
    {
     "data": {
      "text/html": [
       "<style>\n",
       ".dl-inline {width: auto; margin:0; padding: 0}\n",
       ".dl-inline>dt, .dl-inline>dd {float: none; width: auto; display: inline-block}\n",
       ".dl-inline>dt::after {content: \":\\0020\"; padding-right: .5ex}\n",
       ".dl-inline>dt:not(:first-of-type) {padding-left: .5ex}\n",
       "</style><dl class=dl-inline><dt>4</dt><dd>0.50863259632314</dd><dt>6</dt><dd>0.464510150550548</dd><dt>8</dt><dd>0.422965536496111</dd></dl>\n"
      ],
      "text/latex": [
       "\\begin{description*}\n",
       "\\item[4] 0.50863259632314\n",
       "\\item[6] 0.464510150550548\n",
       "\\item[8] 0.422965536496111\n",
       "\\end{description*}\n"
      ],
      "text/markdown": [
       "4\n",
       ":   0.508632596323146\n",
       ":   0.4645101505505488\n",
       ":   0.422965536496111\n",
       "\n"
      ],
      "text/plain": [
       "        4         6         8 \n",
       "0.5086326 0.4645102 0.4229655 "
      ]
     },
     "metadata": {},
     "output_type": "display_data"
    }
   ],
   "source": [
    "models %>%\n",
    "    map(summary) %>%\n",
    "    map_dbl(~.$r.squared)"
   ]
  },
  {
   "cell_type": "markdown",
   "metadata": {},
   "source": [
    "But extracting named components is a common operation, so purrr\n",
    "provides an even shorter shortcut: you can use a string."
   ]
  },
  {
   "cell_type": "code",
   "execution_count": 148,
   "metadata": {},
   "outputs": [
    {
     "data": {
      "text/html": [
       "<style>\n",
       ".dl-inline {width: auto; margin:0; padding: 0}\n",
       ".dl-inline>dt, .dl-inline>dd {float: none; width: auto; display: inline-block}\n",
       ".dl-inline>dt::after {content: \":\\0020\"; padding-right: .5ex}\n",
       ".dl-inline>dt:not(:first-of-type) {padding-left: .5ex}\n",
       "</style><dl class=dl-inline><dt>4</dt><dd>0.50863259632314</dd><dt>6</dt><dd>0.464510150550548</dd><dt>8</dt><dd>0.422965536496111</dd></dl>\n"
      ],
      "text/latex": [
       "\\begin{description*}\n",
       "\\item[4] 0.50863259632314\n",
       "\\item[6] 0.464510150550548\n",
       "\\item[8] 0.422965536496111\n",
       "\\end{description*}\n"
      ],
      "text/markdown": [
       "4\n",
       ":   0.508632596323146\n",
       ":   0.4645101505505488\n",
       ":   0.422965536496111\n",
       "\n"
      ],
      "text/plain": [
       "        4         6         8 \n",
       "0.5086326 0.4645102 0.4229655 "
      ]
     },
     "metadata": {},
     "output_type": "display_data"
    }
   ],
   "source": [
    "models %>%\n",
    "    map(summary) %>%\n",
    "    map_dbl('r.squared')"
   ]
  },
  {
   "cell_type": "markdown",
   "metadata": {},
   "source": [
    "You can also use an integer to select elements by position:"
   ]
  },
  {
   "cell_type": "code",
   "execution_count": 149,
   "metadata": {},
   "outputs": [
    {
     "data": {
      "text/html": [
       "<style>\n",
       ".list-inline {list-style: none; margin:0; padding: 0}\n",
       ".list-inline>li {display: inline-block}\n",
       ".list-inline>li:not(:last-child)::after {content: \"\\00b7\"; padding: 0 .5ex}\n",
       "</style>\n",
       "<ol class=list-inline><li>2</li><li>5</li><li>8</li></ol>\n"
      ],
      "text/latex": [
       "\\begin{enumerate*}\n",
       "\\item 2\n",
       "\\item 5\n",
       "\\item 8\n",
       "\\end{enumerate*}\n"
      ],
      "text/markdown": [
       "1. 2\n",
       "2. 5\n",
       "3. 8\n",
       "\n",
       "\n"
      ],
      "text/plain": [
       "[1] 2 5 8"
      ]
     },
     "metadata": {},
     "output_type": "display_data"
    }
   ],
   "source": [
    "x <- list(list(1, 2, 3), list(4, 5, 6), list(7, 8, 9))\n",
    "x %>% map_dbl(2)"
   ]
  },
  {
   "cell_type": "markdown",
   "metadata": {},
   "source": [
    "## Base R"
   ]
  },
  {
   "cell_type": "markdown",
   "metadata": {},
   "source": [
    "If you’re familiar with the apply family of functions in base R, you\n",
    "might have noticed some similarities with the purrr functions:\n",
    "* `lapply()` is basically identical to `map()` , except that `map()` is\n",
    "consistent with all the other functions in purrr, and you can use\n",
    "the shortcuts for `.f` ."
   ]
  },
  {
   "cell_type": "markdown",
   "metadata": {},
   "source": [
    "* Base `sapply()` is a wrapper around `lapply()` that automatically\n",
    "simplifies the output. This is useful for interactive work but is\n",
    "problematic in a function because you never know what sort of\n",
    "output you’ll get:"
   ]
  },
  {
   "cell_type": "code",
   "execution_count": 150,
   "metadata": {},
   "outputs": [],
   "source": [
    "x1 <- list(\n",
    "    c(0.27, 0.37, 0.91, 0.20),\n",
    "    c(0.90, 0.94, 0.66, 0.63),\n",
    "    c(0.21, 0.18, 0.69, 0.38)\n",
    ")\n",
    "\n",
    "x2 <- list(\n",
    "    c(0.50, 0.72, 0.99, 0.38, 0.78),\n",
    "    c(0.93, 0.21, 0.65, 0.13, 0.27),\n",
    "    c(0.39, 0.01, 0.38, 0.87, 0.34)\n",
    ")"
   ]
  },
  {
   "cell_type": "code",
   "execution_count": 151,
   "metadata": {},
   "outputs": [
    {
     "name": "stdout",
     "output_type": "stream",
     "text": [
      "List of 3\n",
      " $ : num 0.91\n",
      " $ : num [1:2] 0.9 0.94\n",
      " $ : num(0) \n"
     ]
    }
   ],
   "source": [
    "threshold <- function(x, cutoff = 0.8) x[x > cutoff]\n",
    "x1 %>% sapply(threshold) %>% str()"
   ]
  },
  {
   "cell_type": "code",
   "execution_count": 152,
   "metadata": {},
   "outputs": [
    {
     "name": "stdout",
     "output_type": "stream",
     "text": [
      " num [1:3] 0.99 0.93 0.87\n"
     ]
    }
   ],
   "source": [
    "x2 %>% sapply(threshold) %>% str()"
   ]
  },
  {
   "cell_type": "markdown",
   "metadata": {},
   "source": [
    "* `vapply()` is a safe alternative to `sapply()` because you supply\n",
    "an additional argument that defines the type. The only problem\n",
    "with `vapply()` is that it’s a lot of typing: `vapply(df,\n",
    "is.numeric, logical(1))` is equivalent to `map_lgl(df,\n",
    "is.numeric)` . One advantage of `vapply()` over purrr’s map\n",
    "functions is that it can also produce matrices—the map funcions only ever produce vectors."
   ]
  },
  {
   "cell_type": "markdown",
   "metadata": {},
   "source": [
    "Excercise\n",
    "\n",
    "Write code that uses one of the map functions to:\n",
    "\n",
    "    Compute the mean of every column in mtcars.\n",
    "    Determine the type of each column in nycflights13::flights.\n",
    "    Compute the number of unique values in each column of iris.\n",
    "    Generate 10 random normals for each of μ=−10, 0, 10, and 100."
   ]
  },
  {
   "cell_type": "code",
   "execution_count": 157,
   "metadata": {},
   "outputs": [
    {
     "data": {
      "text/html": [
       "<style>\n",
       ".dl-inline {width: auto; margin:0; padding: 0}\n",
       ".dl-inline>dt, .dl-inline>dd {float: none; width: auto; display: inline-block}\n",
       ".dl-inline>dt::after {content: \":\\0020\"; padding-right: .5ex}\n",
       ".dl-inline>dt:not(:first-of-type) {padding-left: .5ex}\n",
       "</style><dl class=dl-inline><dt>mpg</dt><dd>20.090625</dd><dt>cyl</dt><dd>6.1875</dd><dt>disp</dt><dd>230.721875</dd><dt>hp</dt><dd>146.6875</dd><dt>drat</dt><dd>3.5965625</dd><dt>wt</dt><dd>3.21725</dd><dt>qsec</dt><dd>17.84875</dd><dt>vs</dt><dd>0.4375</dd><dt>am</dt><dd>0.40625</dd><dt>gear</dt><dd>3.6875</dd><dt>carb</dt><dd>2.8125</dd></dl>\n"
      ],
      "text/latex": [
       "\\begin{description*}\n",
       "\\item[mpg] 20.090625\n",
       "\\item[cyl] 6.1875\n",
       "\\item[disp] 230.721875\n",
       "\\item[hp] 146.6875\n",
       "\\item[drat] 3.5965625\n",
       "\\item[wt] 3.21725\n",
       "\\item[qsec] 17.84875\n",
       "\\item[vs] 0.4375\n",
       "\\item[am] 0.40625\n",
       "\\item[gear] 3.6875\n",
       "\\item[carb] 2.8125\n",
       "\\end{description*}\n"
      ],
      "text/markdown": [
       "mpg\n",
       ":   20.090625cyl\n",
       ":   6.1875disp\n",
       ":   230.721875hp\n",
       ":   146.6875drat\n",
       ":   3.5965625wt\n",
       ":   3.21725qsec\n",
       ":   17.84875vs\n",
       ":   0.4375am\n",
       ":   0.40625gear\n",
       ":   3.6875carb\n",
       ":   2.8125\n",
       "\n"
      ],
      "text/plain": [
       "       mpg        cyl       disp         hp       drat         wt       qsec \n",
       " 20.090625   6.187500 230.721875 146.687500   3.596563   3.217250  17.848750 \n",
       "        vs         am       gear       carb \n",
       "  0.437500   0.406250   3.687500   2.812500 "
      ]
     },
     "metadata": {},
     "output_type": "display_data"
    },
    {
     "data": {
      "text/html": [
       "'double'"
      ],
      "text/latex": [
       "'double'"
      ],
      "text/markdown": [
       "'double'"
      ],
      "text/plain": [
       "[1] \"double\""
      ]
     },
     "metadata": {},
     "output_type": "display_data"
    }
   ],
   "source": [
    "map_dbl(mtcars, mean)\n",
    "typeof(map_dbl(mtcars, mean))"
   ]
  },
  {
   "cell_type": "code",
   "execution_count": 158,
   "metadata": {},
   "outputs": [
    {
     "data": {
      "text/html": [
       "<dl>\n",
       "\t<dt>$mpg</dt>\n",
       "\t\t<dd>20.090625</dd>\n",
       "\t<dt>$cyl</dt>\n",
       "\t\t<dd>6.1875</dd>\n",
       "\t<dt>$disp</dt>\n",
       "\t\t<dd>230.721875</dd>\n",
       "\t<dt>$hp</dt>\n",
       "\t\t<dd>146.6875</dd>\n",
       "\t<dt>$drat</dt>\n",
       "\t\t<dd>3.5965625</dd>\n",
       "\t<dt>$wt</dt>\n",
       "\t\t<dd>3.21725</dd>\n",
       "\t<dt>$qsec</dt>\n",
       "\t\t<dd>17.84875</dd>\n",
       "\t<dt>$vs</dt>\n",
       "\t\t<dd>0.4375</dd>\n",
       "\t<dt>$am</dt>\n",
       "\t\t<dd>0.40625</dd>\n",
       "\t<dt>$gear</dt>\n",
       "\t\t<dd>3.6875</dd>\n",
       "\t<dt>$carb</dt>\n",
       "\t\t<dd>2.8125</dd>\n",
       "</dl>\n"
      ],
      "text/latex": [
       "\\begin{description}\n",
       "\\item[\\$mpg] 20.090625\n",
       "\\item[\\$cyl] 6.1875\n",
       "\\item[\\$disp] 230.721875\n",
       "\\item[\\$hp] 146.6875\n",
       "\\item[\\$drat] 3.5965625\n",
       "\\item[\\$wt] 3.21725\n",
       "\\item[\\$qsec] 17.84875\n",
       "\\item[\\$vs] 0.4375\n",
       "\\item[\\$am] 0.40625\n",
       "\\item[\\$gear] 3.6875\n",
       "\\item[\\$carb] 2.8125\n",
       "\\end{description}\n"
      ],
      "text/markdown": [
       "$mpg\n",
       ":   20.090625\n",
       "$cyl\n",
       ":   6.1875\n",
       "$disp\n",
       ":   230.721875\n",
       "$hp\n",
       ":   146.6875\n",
       "$drat\n",
       ":   3.5965625\n",
       "$wt\n",
       ":   3.21725\n",
       "$qsec\n",
       ":   17.84875\n",
       "$vs\n",
       ":   0.4375\n",
       "$am\n",
       ":   0.40625\n",
       "$gear\n",
       ":   3.6875\n",
       "$carb\n",
       ":   2.8125\n",
       "\n",
       "\n"
      ],
      "text/plain": [
       "$mpg\n",
       "[1] 20.09062\n",
       "\n",
       "$cyl\n",
       "[1] 6.1875\n",
       "\n",
       "$disp\n",
       "[1] 230.7219\n",
       "\n",
       "$hp\n",
       "[1] 146.6875\n",
       "\n",
       "$drat\n",
       "[1] 3.596563\n",
       "\n",
       "$wt\n",
       "[1] 3.21725\n",
       "\n",
       "$qsec\n",
       "[1] 17.84875\n",
       "\n",
       "$vs\n",
       "[1] 0.4375\n",
       "\n",
       "$am\n",
       "[1] 0.40625\n",
       "\n",
       "$gear\n",
       "[1] 3.6875\n",
       "\n",
       "$carb\n",
       "[1] 2.8125\n"
      ]
     },
     "metadata": {},
     "output_type": "display_data"
    },
    {
     "data": {
      "text/html": [
       "'list'"
      ],
      "text/latex": [
       "'list'"
      ],
      "text/markdown": [
       "'list'"
      ],
      "text/plain": [
       "[1] \"list\""
      ]
     },
     "metadata": {},
     "output_type": "display_data"
    }
   ],
   "source": [
    "(map(mtcars, mean))\n",
    "typeof(map(mtcars, mean))"
   ]
  },
  {
   "cell_type": "code",
   "execution_count": 159,
   "metadata": {},
   "outputs": [
    {
     "data": {
      "text/html": [
       "<style>\n",
       ".dl-inline {width: auto; margin:0; padding: 0}\n",
       ".dl-inline>dt, .dl-inline>dd {float: none; width: auto; display: inline-block}\n",
       ".dl-inline>dt::after {content: \":\\0020\"; padding-right: .5ex}\n",
       ".dl-inline>dt:not(:first-of-type) {padding-left: .5ex}\n",
       "</style><dl class=dl-inline><dt>year</dt><dd>'integer'</dd><dt>month</dt><dd>'integer'</dd><dt>day</dt><dd>'integer'</dd><dt>dep_time</dt><dd>'integer'</dd><dt>sched_dep_time</dt><dd>'integer'</dd><dt>dep_delay</dt><dd>'double'</dd><dt>arr_time</dt><dd>'integer'</dd><dt>sched_arr_time</dt><dd>'integer'</dd><dt>arr_delay</dt><dd>'double'</dd><dt>carrier</dt><dd>'character'</dd><dt>flight</dt><dd>'integer'</dd><dt>tailnum</dt><dd>'character'</dd><dt>origin</dt><dd>'character'</dd><dt>dest</dt><dd>'character'</dd><dt>air_time</dt><dd>'double'</dd><dt>distance</dt><dd>'double'</dd><dt>hour</dt><dd>'double'</dd><dt>minute</dt><dd>'double'</dd><dt>time_hour</dt><dd>'double'</dd></dl>\n"
      ],
      "text/latex": [
       "\\begin{description*}\n",
       "\\item[year] 'integer'\n",
       "\\item[month] 'integer'\n",
       "\\item[day] 'integer'\n",
       "\\item[dep\\textbackslash{}\\_time] 'integer'\n",
       "\\item[sched\\textbackslash{}\\_dep\\textbackslash{}\\_time] 'integer'\n",
       "\\item[dep\\textbackslash{}\\_delay] 'double'\n",
       "\\item[arr\\textbackslash{}\\_time] 'integer'\n",
       "\\item[sched\\textbackslash{}\\_arr\\textbackslash{}\\_time] 'integer'\n",
       "\\item[arr\\textbackslash{}\\_delay] 'double'\n",
       "\\item[carrier] 'character'\n",
       "\\item[flight] 'integer'\n",
       "\\item[tailnum] 'character'\n",
       "\\item[origin] 'character'\n",
       "\\item[dest] 'character'\n",
       "\\item[air\\textbackslash{}\\_time] 'double'\n",
       "\\item[distance] 'double'\n",
       "\\item[hour] 'double'\n",
       "\\item[minute] 'double'\n",
       "\\item[time\\textbackslash{}\\_hour] 'double'\n",
       "\\end{description*}\n"
      ],
      "text/markdown": [
       "year\n",
       ":   'integer'month\n",
       ":   'integer'day\n",
       ":   'integer'dep_time\n",
       ":   'integer'sched_dep_time\n",
       ":   'integer'dep_delay\n",
       ":   'double'arr_time\n",
       ":   'integer'sched_arr_time\n",
       ":   'integer'arr_delay\n",
       ":   'double'carrier\n",
       ":   'character'flight\n",
       ":   'integer'tailnum\n",
       ":   'character'origin\n",
       ":   'character'dest\n",
       ":   'character'air_time\n",
       ":   'double'distance\n",
       ":   'double'hour\n",
       ":   'double'minute\n",
       ":   'double'time_hour\n",
       ":   'double'\n",
       "\n"
      ],
      "text/plain": [
       "          year          month            day       dep_time sched_dep_time \n",
       "     \"integer\"      \"integer\"      \"integer\"      \"integer\"      \"integer\" \n",
       "     dep_delay       arr_time sched_arr_time      arr_delay        carrier \n",
       "      \"double\"      \"integer\"      \"integer\"       \"double\"    \"character\" \n",
       "        flight        tailnum         origin           dest       air_time \n",
       "     \"integer\"    \"character\"    \"character\"    \"character\"       \"double\" \n",
       "      distance           hour         minute      time_hour \n",
       "      \"double\"       \"double\"       \"double\"       \"double\" "
      ]
     },
     "metadata": {},
     "output_type": "display_data"
    }
   ],
   "source": [
    "map_chr(nycflights13::flights, typeof)"
   ]
  },
  {
   "cell_type": "code",
   "execution_count": 160,
   "metadata": {},
   "outputs": [
    {
     "data": {
      "text/html": [
       "<style>\n",
       ".dl-inline {width: auto; margin:0; padding: 0}\n",
       ".dl-inline>dt, .dl-inline>dd {float: none; width: auto; display: inline-block}\n",
       ".dl-inline>dt::after {content: \":\\0020\"; padding-right: .5ex}\n",
       ".dl-inline>dt:not(:first-of-type) {padding-left: .5ex}\n",
       "</style><dl class=dl-inline><dt>Sepal.Length</dt><dd>35</dd><dt>Sepal.Width</dt><dd>23</dd><dt>Petal.Length</dt><dd>43</dd><dt>Petal.Width</dt><dd>22</dd><dt>Species</dt><dd>3</dd></dl>\n"
      ],
      "text/latex": [
       "\\begin{description*}\n",
       "\\item[Sepal.Length] 35\n",
       "\\item[Sepal.Width] 23\n",
       "\\item[Petal.Length] 43\n",
       "\\item[Petal.Width] 22\n",
       "\\item[Species] 3\n",
       "\\end{description*}\n"
      ],
      "text/markdown": [
       "Sepal.Length\n",
       ":   35Sepal.Width\n",
       ":   23Petal.Length\n",
       ":   43Petal.Width\n",
       ":   22Species\n",
       ":   3\n",
       "\n"
      ],
      "text/plain": [
       "Sepal.Length  Sepal.Width Petal.Length  Petal.Width      Species \n",
       "          35           23           43           22            3 "
      ]
     },
     "metadata": {},
     "output_type": "display_data"
    }
   ],
   "source": [
    "map_int(iris, n_distinct)"
   ]
  },
  {
   "cell_type": "code",
   "execution_count": 162,
   "metadata": {},
   "outputs": [
    {
     "data": {
      "text/html": [
       "<ol>\n",
       "\t<li><style>\n",
       ".list-inline {list-style: none; margin:0; padding: 0}\n",
       ".list-inline>li {display: inline-block}\n",
       ".list-inline>li:not(:last-child)::after {content: \"\\00b7\"; padding: 0 .5ex}\n",
       "</style>\n",
       "<ol class=list-inline><li>-10.1191776434807</li><li>-11.2451371949926</li><li>-9.90834649205835</li><li>-9.07668388658846</li><li>-9.46320304293367</li><li>-9.37477324183918</li><li>-9.70560088704556</li><li>-9.47468628090026</li><li>-9.73237622919367</li><li>-8.56556332881958</li></ol>\n",
       "</li>\n",
       "\t<li><style>\n",
       ".list-inline {list-style: none; margin:0; padding: 0}\n",
       ".list-inline>li {display: inline-block}\n",
       ".list-inline>li:not(:last-child)::after {content: \"\\00b7\"; padding: 0 .5ex}\n",
       "</style>\n",
       "<ol class=list-inline><li>-0.864400542769039</li><li>-0.803543251600666</li><li>-0.43413850814126</li><li>-0.236976635943812</li><li>-0.0951421248582128</li><li>0.560801149331051</li><li>0.98700366306263</li><li>-1.90172586759096</li><li>0.35193885801042</li><li>1.23904463105971</li></ol>\n",
       "</li>\n",
       "\t<li><style>\n",
       ".list-inline {list-style: none; margin:0; padding: 0}\n",
       ".list-inline>li {display: inline-block}\n",
       ".list-inline>li:not(:last-child)::after {content: \"\\00b7\"; padding: 0 .5ex}\n",
       "</style>\n",
       "<ol class=list-inline><li>8.93630914915571</li><li>10.18300903919</li><li>10.1933933296621</li><li>9.64418149384335</li><li>10.368700844621</li><li>10.6746899752177</li><li>9.59026902855873</li><li>8.74884052301393</li><li>10.6684503159347</li><li>10.0222346317055</li></ol>\n",
       "</li>\n",
       "\t<li><style>\n",
       ".list-inline {list-style: none; margin:0; padding: 0}\n",
       ".list-inline>li {display: inline-block}\n",
       ".list-inline>li:not(:last-child)::after {content: \"\\00b7\"; padding: 0 .5ex}\n",
       "</style>\n",
       "<ol class=list-inline><li>99.3310116872441</li><li>100.786269159009</li><li>100.332335630945</li><li>101.081567030277</li><li>100.618425639697</li><li>100.785653302332</li><li>98.9222550046441</li><li>100.925460543034</li><li>100.638522692688</li><li>101.665859371228</li></ol>\n",
       "</li>\n",
       "</ol>\n"
      ],
      "text/latex": [
       "\\begin{enumerate}\n",
       "\\item \\begin{enumerate*}\n",
       "\\item -10.1191776434807\n",
       "\\item -11.2451371949926\n",
       "\\item -9.90834649205835\n",
       "\\item -9.07668388658846\n",
       "\\item -9.46320304293367\n",
       "\\item -9.37477324183918\n",
       "\\item -9.70560088704556\n",
       "\\item -9.47468628090026\n",
       "\\item -9.73237622919367\n",
       "\\item -8.56556332881958\n",
       "\\end{enumerate*}\n",
       "\n",
       "\\item \\begin{enumerate*}\n",
       "\\item -0.864400542769039\n",
       "\\item -0.803543251600666\n",
       "\\item -0.43413850814126\n",
       "\\item -0.236976635943812\n",
       "\\item -0.0951421248582128\n",
       "\\item 0.560801149331051\n",
       "\\item 0.98700366306263\n",
       "\\item -1.90172586759096\n",
       "\\item 0.35193885801042\n",
       "\\item 1.23904463105971\n",
       "\\end{enumerate*}\n",
       "\n",
       "\\item \\begin{enumerate*}\n",
       "\\item 8.93630914915571\n",
       "\\item 10.18300903919\n",
       "\\item 10.1933933296621\n",
       "\\item 9.64418149384335\n",
       "\\item 10.368700844621\n",
       "\\item 10.6746899752177\n",
       "\\item 9.59026902855873\n",
       "\\item 8.74884052301393\n",
       "\\item 10.6684503159347\n",
       "\\item 10.0222346317055\n",
       "\\end{enumerate*}\n",
       "\n",
       "\\item \\begin{enumerate*}\n",
       "\\item 99.3310116872441\n",
       "\\item 100.786269159009\n",
       "\\item 100.332335630945\n",
       "\\item 101.081567030277\n",
       "\\item 100.618425639697\n",
       "\\item 100.785653302332\n",
       "\\item 98.9222550046441\n",
       "\\item 100.925460543034\n",
       "\\item 100.638522692688\n",
       "\\item 101.665859371228\n",
       "\\end{enumerate*}\n",
       "\n",
       "\\end{enumerate}\n"
      ],
      "text/markdown": [
       "1. 1. -10.1191776434807\n",
       "2. -11.2451371949926\n",
       "3. -9.90834649205835\n",
       "4. -9.07668388658846\n",
       "5. -9.46320304293367\n",
       "6. -9.37477324183918\n",
       "7. -9.70560088704556\n",
       "8. -9.47468628090026\n",
       "9. -9.73237622919367\n",
       "10. -8.56556332881958\n",
       "\n",
       "\n",
       "\n",
       "2. 1. -0.864400542769039\n",
       "2. -0.803543251600666\n",
       "3. -0.43413850814126\n",
       "4. -0.236976635943812\n",
       "5. -0.0951421248582128\n",
       "6. 0.560801149331051\n",
       "7. 0.98700366306263\n",
       "8. -1.90172586759096\n",
       "9. 0.35193885801042\n",
       "10. 1.23904463105971\n",
       "\n",
       "\n",
       "\n",
       "3. 1. 8.93630914915571\n",
       "2. 10.18300903919\n",
       "3. 10.1933933296621\n",
       "4. 9.64418149384335\n",
       "5. 10.368700844621\n",
       "6. 10.6746899752177\n",
       "7. 9.59026902855873\n",
       "8. 8.74884052301393\n",
       "9. 10.6684503159347\n",
       "10. 10.0222346317055\n",
       "\n",
       "\n",
       "\n",
       "4. 1. 99.3310116872441\n",
       "2. 100.786269159009\n",
       "3. 100.332335630945\n",
       "4. 101.081567030277\n",
       "5. 100.618425639697\n",
       "6. 100.785653302332\n",
       "7. 98.9222550046441\n",
       "8. 100.925460543034\n",
       "9. 100.638522692688\n",
       "10. 101.665859371228\n",
       "\n",
       "\n",
       "\n",
       "\n",
       "\n"
      ],
      "text/plain": [
       "[[1]]\n",
       " [1] -10.119178 -11.245137  -9.908346  -9.076684  -9.463203  -9.374773\n",
       " [7]  -9.705601  -9.474686  -9.732376  -8.565563\n",
       "\n",
       "[[2]]\n",
       " [1] -0.86440054 -0.80354325 -0.43413851 -0.23697664 -0.09514212  0.56080115\n",
       " [7]  0.98700366 -1.90172587  0.35193886  1.23904463\n",
       "\n",
       "[[3]]\n",
       " [1]  8.936309 10.183009 10.193393  9.644181 10.368701 10.674690  9.590269\n",
       " [8]  8.748841 10.668450 10.022235\n",
       "\n",
       "[[4]]\n",
       " [1]  99.33101 100.78627 100.33234 101.08157 100.61843 100.78565  98.92226\n",
       " [8] 100.92546 100.63852 101.66586\n"
      ]
     },
     "metadata": {},
     "output_type": "display_data"
    }
   ],
   "source": [
    "map(c(-10, 0, 10, 100), ~rnorm(n = 10, mean = .))"
   ]
  },
  {
   "cell_type": "markdown",
   "metadata": {},
   "source": [
    "Excercise\n",
    "\n",
    "How can you create a single vector that for each column in a data frame indicates whether or not it’s a factor?"
   ]
  },
  {
   "cell_type": "code",
   "execution_count": 163,
   "metadata": {},
   "outputs": [
    {
     "data": {
      "text/html": [
       "<style>\n",
       ".dl-inline {width: auto; margin:0; padding: 0}\n",
       ".dl-inline>dt, .dl-inline>dd {float: none; width: auto; display: inline-block}\n",
       ".dl-inline>dt::after {content: \":\\0020\"; padding-right: .5ex}\n",
       ".dl-inline>dt:not(:first-of-type) {padding-left: .5ex}\n",
       "</style><dl class=dl-inline><dt>carat</dt><dd>FALSE</dd><dt>cut</dt><dd>TRUE</dd><dt>color</dt><dd>TRUE</dd><dt>clarity</dt><dd>TRUE</dd><dt>depth</dt><dd>FALSE</dd><dt>table</dt><dd>FALSE</dd><dt>price</dt><dd>FALSE</dd><dt>x</dt><dd>FALSE</dd><dt>y</dt><dd>FALSE</dd><dt>z</dt><dd>FALSE</dd></dl>\n"
      ],
      "text/latex": [
       "\\begin{description*}\n",
       "\\item[carat] FALSE\n",
       "\\item[cut] TRUE\n",
       "\\item[color] TRUE\n",
       "\\item[clarity] TRUE\n",
       "\\item[depth] FALSE\n",
       "\\item[table] FALSE\n",
       "\\item[price] FALSE\n",
       "\\item[x] FALSE\n",
       "\\item[y] FALSE\n",
       "\\item[z] FALSE\n",
       "\\end{description*}\n"
      ],
      "text/markdown": [
       "carat\n",
       ":   FALSEcut\n",
       ":   TRUEcolor\n",
       ":   TRUEclarity\n",
       ":   TRUEdepth\n",
       ":   FALSEtable\n",
       ":   FALSEprice\n",
       ":   FALSEx\n",
       ":   FALSEy\n",
       ":   FALSEz\n",
       ":   FALSE\n",
       "\n"
      ],
      "text/plain": [
       "  carat     cut   color clarity   depth   table   price       x       y       z \n",
       "  FALSE    TRUE    TRUE    TRUE   FALSE   FALSE   FALSE   FALSE   FALSE   FALSE "
      ]
     },
     "metadata": {},
     "output_type": "display_data"
    }
   ],
   "source": [
    "map_lgl(diamonds, is.factor)"
   ]
  },
  {
   "cell_type": "markdown",
   "metadata": {},
   "source": [
    "Excercise\n",
    "\n",
    "What happens when you use the map functions on vectors that aren’t lists? What does map(1:5, runif) do? Why?"
   ]
  },
  {
   "cell_type": "code",
   "execution_count": 164,
   "metadata": {},
   "outputs": [
    {
     "data": {
      "text/html": [
       "<ol>\n",
       "\t<li>FALSE</li>\n",
       "\t<li>TRUE</li>\n",
       "\t<li>FALSE</li>\n",
       "</ol>\n"
      ],
      "text/latex": [
       "\\begin{enumerate}\n",
       "\\item FALSE\n",
       "\\item TRUE\n",
       "\\item FALSE\n",
       "\\end{enumerate}\n"
      ],
      "text/markdown": [
       "1. FALSE\n",
       "2. TRUE\n",
       "3. FALSE\n",
       "\n",
       "\n"
      ],
      "text/plain": [
       "[[1]]\n",
       "[1] FALSE\n",
       "\n",
       "[[2]]\n",
       "[1] TRUE\n",
       "\n",
       "[[3]]\n",
       "[1] FALSE\n"
      ]
     },
     "metadata": {},
     "output_type": "display_data"
    }
   ],
   "source": [
    "map(c(TRUE, FALSE, TRUE), ~ !.)"
   ]
  },
  {
   "cell_type": "code",
   "execution_count": 165,
   "metadata": {},
   "outputs": [
    {
     "data": {
      "text/html": [
       "<ol>\n",
       "\t<li>'HELLO'</li>\n",
       "\t<li>'WORLD'</li>\n",
       "</ol>\n"
      ],
      "text/latex": [
       "\\begin{enumerate}\n",
       "\\item 'HELLO'\n",
       "\\item 'WORLD'\n",
       "\\end{enumerate}\n"
      ],
      "text/markdown": [
       "1. 'HELLO'\n",
       "2. 'WORLD'\n",
       "\n",
       "\n"
      ],
      "text/plain": [
       "[[1]]\n",
       "[1] \"HELLO\"\n",
       "\n",
       "[[2]]\n",
       "[1] \"WORLD\"\n"
      ]
     },
     "metadata": {},
     "output_type": "display_data"
    }
   ],
   "source": [
    "map(c(\"Hello\", \"World\"), str_to_upper)"
   ]
  },
  {
   "cell_type": "code",
   "execution_count": 166,
   "metadata": {},
   "outputs": [
    {
     "data": {
      "text/html": [
       "<ol>\n",
       "\t<li>-0.01554622263085</li>\n",
       "\t<li><style>\n",
       ".list-inline {list-style: none; margin:0; padding: 0}\n",
       ".list-inline>li {display: inline-block}\n",
       ".list-inline>li:not(:last-child)::after {content: \"\\00b7\"; padding: 0 .5ex}\n",
       "</style>\n",
       "<ol class=list-inline><li>-1.4867187228834</li><li>1.1165084957502</li></ol>\n",
       "</li>\n",
       "\t<li><style>\n",
       ".list-inline {list-style: none; margin:0; padding: 0}\n",
       ".list-inline>li {display: inline-block}\n",
       ".list-inline>li:not(:last-child)::after {content: \"\\00b7\"; padding: 0 .5ex}\n",
       "</style>\n",
       "<ol class=list-inline><li>1.85478893555374</li><li>0.27155845802255</li><li>0.00477186776085891</li></ol>\n",
       "</li>\n",
       "\t<li><style>\n",
       ".list-inline {list-style: none; margin:0; padding: 0}\n",
       ".list-inline>li {display: inline-block}\n",
       ".list-inline>li:not(:last-child)::after {content: \"\\00b7\"; padding: 0 .5ex}\n",
       "</style>\n",
       "<ol class=list-inline><li>1.20764214996587</li><li>0.0344717398938041</li><li>-0.0870555941010089</li><li>1.9591106006641</li></ol>\n",
       "</li>\n",
       "\t<li><style>\n",
       ".list-inline {list-style: none; margin:0; padding: 0}\n",
       ".list-inline>li {display: inline-block}\n",
       ".list-inline>li:not(:last-child)::after {content: \"\\00b7\"; padding: 0 .5ex}\n",
       "</style>\n",
       "<ol class=list-inline><li>0.408887157878063</li><li>-0.92648236216945</li><li>0.138938683960763</li><li>-1.5743955867813</li><li>0.216210487810371</li></ol>\n",
       "</li>\n",
       "</ol>\n"
      ],
      "text/latex": [
       "\\begin{enumerate}\n",
       "\\item -0.01554622263085\n",
       "\\item \\begin{enumerate*}\n",
       "\\item -1.4867187228834\n",
       "\\item 1.1165084957502\n",
       "\\end{enumerate*}\n",
       "\n",
       "\\item \\begin{enumerate*}\n",
       "\\item 1.85478893555374\n",
       "\\item 0.27155845802255\n",
       "\\item 0.00477186776085891\n",
       "\\end{enumerate*}\n",
       "\n",
       "\\item \\begin{enumerate*}\n",
       "\\item 1.20764214996587\n",
       "\\item 0.0344717398938041\n",
       "\\item -0.0870555941010089\n",
       "\\item 1.9591106006641\n",
       "\\end{enumerate*}\n",
       "\n",
       "\\item \\begin{enumerate*}\n",
       "\\item 0.408887157878063\n",
       "\\item -0.92648236216945\n",
       "\\item 0.138938683960763\n",
       "\\item -1.5743955867813\n",
       "\\item 0.216210487810371\n",
       "\\end{enumerate*}\n",
       "\n",
       "\\end{enumerate}\n"
      ],
      "text/markdown": [
       "1. -0.01554622263085\n",
       "2. 1. -1.4867187228834\n",
       "2. 1.1165084957502\n",
       "\n",
       "\n",
       "\n",
       "3. 1. 1.85478893555374\n",
       "2. 0.27155845802255\n",
       "3. 0.00477186776085891\n",
       "\n",
       "\n",
       "\n",
       "4. 1. 1.20764214996587\n",
       "2. 0.0344717398938041\n",
       "3. -0.0870555941010089\n",
       "4. 1.9591106006641\n",
       "\n",
       "\n",
       "\n",
       "5. 1. 0.408887157878063\n",
       "2. -0.92648236216945\n",
       "3. 0.138938683960763\n",
       "4. -1.5743955867813\n",
       "5. 0.216210487810371\n",
       "\n",
       "\n",
       "\n",
       "\n",
       "\n"
      ],
      "text/plain": [
       "[[1]]\n",
       "[1] -0.01554622\n",
       "\n",
       "[[2]]\n",
       "[1] -1.486719  1.116508\n",
       "\n",
       "[[3]]\n",
       "[1] 1.854788936 0.271558458 0.004771868\n",
       "\n",
       "[[4]]\n",
       "[1]  1.20764215  0.03447174 -0.08705559  1.95911060\n",
       "\n",
       "[[5]]\n",
       "[1]  0.4088872 -0.9264824  0.1389387 -1.5743956  0.2162105\n"
      ]
     },
     "metadata": {},
     "output_type": "display_data"
    }
   ],
   "source": [
    "map(1:5, ~ rnorm(.))"
   ]
  },
  {
   "cell_type": "code",
   "execution_count": 167,
   "metadata": {},
   "outputs": [
    {
     "data": {
      "text/html": [
       "<ol>\n",
       "\t<li>-0.920147139997291</li>\n",
       "\t<li>-0.172905112079715</li>\n",
       "\t<li>2.19132130346699</li>\n",
       "</ol>\n"
      ],
      "text/latex": [
       "\\begin{enumerate}\n",
       "\\item -0.920147139997291\n",
       "\\item -0.172905112079715\n",
       "\\item 2.19132130346699\n",
       "\\end{enumerate}\n"
      ],
      "text/markdown": [
       "1. -0.920147139997291\n",
       "2. -0.172905112079715\n",
       "3. 2.19132130346699\n",
       "\n",
       "\n"
      ],
      "text/plain": [
       "[[1]]\n",
       "[1] -0.9201471\n",
       "\n",
       "[[2]]\n",
       "[1] -0.1729051\n",
       "\n",
       "[[3]]\n",
       "[1] 2.191321\n"
      ]
     },
     "metadata": {},
     "output_type": "display_data"
    }
   ],
   "source": [
    "map(c(-0.5, 0, 1), ~ rnorm(1, mean = .))"
   ]
  },
  {
   "cell_type": "markdown",
   "metadata": {},
   "source": [
    "It is important to be aware that while the input of `map()` can be any vector, the output is always a `list`."
   ]
  },
  {
   "cell_type": "code",
   "execution_count": 168,
   "metadata": {},
   "outputs": [
    {
     "data": {
      "text/html": [
       "<ol>\n",
       "\t<li>0.0572794354520738</li>\n",
       "\t<li><style>\n",
       ".list-inline {list-style: none; margin:0; padding: 0}\n",
       ".list-inline>li {display: inline-block}\n",
       ".list-inline>li:not(:last-child)::after {content: \"\\00b7\"; padding: 0 .5ex}\n",
       "</style>\n",
       "<ol class=list-inline><li>0.56164924101904</li><li>0.3806779878214</li></ol>\n",
       "</li>\n",
       "\t<li><style>\n",
       ".list-inline {list-style: none; margin:0; padding: 0}\n",
       ".list-inline>li {display: inline-block}\n",
       ".list-inline>li:not(:last-child)::after {content: \"\\00b7\"; padding: 0 .5ex}\n",
       "</style>\n",
       "<ol class=list-inline><li>0.63311678590253</li><li>0.838471440132707</li><li>0.135744245955721</li></ol>\n",
       "</li>\n",
       "\t<li><style>\n",
       ".list-inline {list-style: none; margin:0; padding: 0}\n",
       ".list-inline>li {display: inline-block}\n",
       ".list-inline>li:not(:last-child)::after {content: \"\\00b7\"; padding: 0 .5ex}\n",
       "</style>\n",
       "<ol class=list-inline><li>0.251938801491633</li><li>0.75515822507441</li><li>0.220933109056205</li><li>0.00418328167870641</li></ol>\n",
       "</li>\n",
       "\t<li><style>\n",
       ".list-inline {list-style: none; margin:0; padding: 0}\n",
       ".list-inline>li {display: inline-block}\n",
       ".list-inline>li:not(:last-child)::after {content: \"\\00b7\"; padding: 0 .5ex}\n",
       "</style>\n",
       "<ol class=list-inline><li>0.51112134498544</li><li>0.760672791628167</li><li>0.649953603046015</li><li>0.758913916535676</li><li>0.110024911584333</li></ol>\n",
       "</li>\n",
       "</ol>\n"
      ],
      "text/latex": [
       "\\begin{enumerate}\n",
       "\\item 0.0572794354520738\n",
       "\\item \\begin{enumerate*}\n",
       "\\item 0.56164924101904\n",
       "\\item 0.3806779878214\n",
       "\\end{enumerate*}\n",
       "\n",
       "\\item \\begin{enumerate*}\n",
       "\\item 0.63311678590253\n",
       "\\item 0.838471440132707\n",
       "\\item 0.135744245955721\n",
       "\\end{enumerate*}\n",
       "\n",
       "\\item \\begin{enumerate*}\n",
       "\\item 0.251938801491633\n",
       "\\item 0.75515822507441\n",
       "\\item 0.220933109056205\n",
       "\\item 0.00418328167870641\n",
       "\\end{enumerate*}\n",
       "\n",
       "\\item \\begin{enumerate*}\n",
       "\\item 0.51112134498544\n",
       "\\item 0.760672791628167\n",
       "\\item 0.649953603046015\n",
       "\\item 0.758913916535676\n",
       "\\item 0.110024911584333\n",
       "\\end{enumerate*}\n",
       "\n",
       "\\end{enumerate}\n"
      ],
      "text/markdown": [
       "1. 0.0572794354520738\n",
       "2. 1. 0.56164924101904\n",
       "2. 0.3806779878214\n",
       "\n",
       "\n",
       "\n",
       "3. 1. 0.63311678590253\n",
       "2. 0.838471440132707\n",
       "3. 0.135744245955721\n",
       "\n",
       "\n",
       "\n",
       "4. 1. 0.251938801491633\n",
       "2. 0.75515822507441\n",
       "3. 0.220933109056205\n",
       "4. 0.00418328167870641\n",
       "\n",
       "\n",
       "\n",
       "5. 1. 0.51112134498544\n",
       "2. 0.760672791628167\n",
       "3. 0.649953603046015\n",
       "4. 0.758913916535676\n",
       "5. 0.110024911584333\n",
       "\n",
       "\n",
       "\n",
       "\n",
       "\n"
      ],
      "text/plain": [
       "[[1]]\n",
       "[1] 0.05727944\n",
       "\n",
       "[[2]]\n",
       "[1] 0.5616492 0.3806780\n",
       "\n",
       "[[3]]\n",
       "[1] 0.6331168 0.8384714 0.1357442\n",
       "\n",
       "[[4]]\n",
       "[1] 0.251938801 0.755158225 0.220933109 0.004183282\n",
       "\n",
       "[[5]]\n",
       "[1] 0.5111213 0.7606728 0.6499536 0.7589139 0.1100249\n"
      ]
     },
     "metadata": {},
     "output_type": "display_data"
    }
   ],
   "source": [
    "map(1:5, runif)"
   ]
  },
  {
   "cell_type": "markdown",
   "metadata": {},
   "source": [
    "Excercise\n",
    "\n",
    "\n",
    "\n",
    "What does map(-2:2, rnorm, n = 5) do? Why?\n",
    "\n",
    "What does map_dbl(-2:2, rnorm, n = 5) do? Why?\n"
   ]
  },
  {
   "cell_type": "code",
   "execution_count": 169,
   "metadata": {},
   "outputs": [
    {
     "data": {
      "text/html": [
       "<ol>\n",
       "\t<li><style>\n",
       ".list-inline {list-style: none; margin:0; padding: 0}\n",
       ".list-inline>li {display: inline-block}\n",
       ".list-inline>li:not(:last-child)::after {content: \"\\00b7\"; padding: 0 .5ex}\n",
       "</style>\n",
       "<ol class=list-inline><li>-1.17889632067237</li><li>-1.42334411856847</li><li>-2.08652335322596</li><li>-1.64599111922825</li><li>-0.952363257080808</li></ol>\n",
       "</li>\n",
       "\t<li><style>\n",
       ".list-inline {list-style: none; margin:0; padding: 0}\n",
       ".list-inline>li {display: inline-block}\n",
       ".list-inline>li:not(:last-child)::after {content: \"\\00b7\"; padding: 0 .5ex}\n",
       "</style>\n",
       "<ol class=list-inline><li>-1.64389501534789</li><li>-1.02073973858416</li><li>-1.55788641674174</li><li>-0.702424873534214</li><li>-0.58043938817654</li></ol>\n",
       "</li>\n",
       "\t<li><style>\n",
       ".list-inline {list-style: none; margin:0; padding: 0}\n",
       ".list-inline>li {display: inline-block}\n",
       ".list-inline>li:not(:last-child)::after {content: \"\\00b7\"; padding: 0 .5ex}\n",
       "</style>\n",
       "<ol class=list-inline><li>-0.099868010216796</li><li>0.99015988336657</li><li>0.686807530921273</li><li>0.739519426242506</li><li>0.332022989105539</li></ol>\n",
       "</li>\n",
       "\t<li><style>\n",
       ".list-inline {list-style: none; margin:0; padding: 0}\n",
       ".list-inline>li {display: inline-block}\n",
       ".list-inline>li:not(:last-child)::after {content: \"\\00b7\"; padding: 0 .5ex}\n",
       "</style>\n",
       "<ol class=list-inline><li>0.04123452202641</li><li>-0.0326340178248066</li><li>0.843142249855066</li><li>3.17944043218546</li><li>2.07935269831364</li></ol>\n",
       "</li>\n",
       "\t<li><style>\n",
       ".list-inline {list-style: none; margin:0; padding: 0}\n",
       ".list-inline>li {display: inline-block}\n",
       ".list-inline>li:not(:last-child)::after {content: \"\\00b7\"; padding: 0 .5ex}\n",
       "</style>\n",
       "<ol class=list-inline><li>2.52858955440665</li><li>2.44658933955292</li><li>2.53561327074722</li><li>1.16960765428324</li><li>1.49396551245599</li></ol>\n",
       "</li>\n",
       "</ol>\n"
      ],
      "text/latex": [
       "\\begin{enumerate}\n",
       "\\item \\begin{enumerate*}\n",
       "\\item -1.17889632067237\n",
       "\\item -1.42334411856847\n",
       "\\item -2.08652335322596\n",
       "\\item -1.64599111922825\n",
       "\\item -0.952363257080808\n",
       "\\end{enumerate*}\n",
       "\n",
       "\\item \\begin{enumerate*}\n",
       "\\item -1.64389501534789\n",
       "\\item -1.02073973858416\n",
       "\\item -1.55788641674174\n",
       "\\item -0.702424873534214\n",
       "\\item -0.58043938817654\n",
       "\\end{enumerate*}\n",
       "\n",
       "\\item \\begin{enumerate*}\n",
       "\\item -0.099868010216796\n",
       "\\item 0.99015988336657\n",
       "\\item 0.686807530921273\n",
       "\\item 0.739519426242506\n",
       "\\item 0.332022989105539\n",
       "\\end{enumerate*}\n",
       "\n",
       "\\item \\begin{enumerate*}\n",
       "\\item 0.04123452202641\n",
       "\\item -0.0326340178248066\n",
       "\\item 0.843142249855066\n",
       "\\item 3.17944043218546\n",
       "\\item 2.07935269831364\n",
       "\\end{enumerate*}\n",
       "\n",
       "\\item \\begin{enumerate*}\n",
       "\\item 2.52858955440665\n",
       "\\item 2.44658933955292\n",
       "\\item 2.53561327074722\n",
       "\\item 1.16960765428324\n",
       "\\item 1.49396551245599\n",
       "\\end{enumerate*}\n",
       "\n",
       "\\end{enumerate}\n"
      ],
      "text/markdown": [
       "1. 1. -1.17889632067237\n",
       "2. -1.42334411856847\n",
       "3. -2.08652335322596\n",
       "4. -1.64599111922825\n",
       "5. -0.952363257080808\n",
       "\n",
       "\n",
       "\n",
       "2. 1. -1.64389501534789\n",
       "2. -1.02073973858416\n",
       "3. -1.55788641674174\n",
       "4. -0.702424873534214\n",
       "5. -0.58043938817654\n",
       "\n",
       "\n",
       "\n",
       "3. 1. -0.099868010216796\n",
       "2. 0.99015988336657\n",
       "3. 0.686807530921273\n",
       "4. 0.739519426242506\n",
       "5. 0.332022989105539\n",
       "\n",
       "\n",
       "\n",
       "4. 1. 0.04123452202641\n",
       "2. -0.0326340178248066\n",
       "3. 0.843142249855066\n",
       "4. 3.17944043218546\n",
       "5. 2.07935269831364\n",
       "\n",
       "\n",
       "\n",
       "5. 1. 2.52858955440665\n",
       "2. 2.44658933955292\n",
       "3. 2.53561327074722\n",
       "4. 1.16960765428324\n",
       "5. 1.49396551245599\n",
       "\n",
       "\n",
       "\n",
       "\n",
       "\n"
      ],
      "text/plain": [
       "[[1]]\n",
       "[1] -1.1788963 -1.4233441 -2.0865234 -1.6459911 -0.9523633\n",
       "\n",
       "[[2]]\n",
       "[1] -1.6438950 -1.0207397 -1.5578864 -0.7024249 -0.5804394\n",
       "\n",
       "[[3]]\n",
       "[1] -0.09986801  0.99015988  0.68680753  0.73951943  0.33202299\n",
       "\n",
       "[[4]]\n",
       "[1]  0.04123452 -0.03263402  0.84314225  3.17944043  2.07935270\n",
       "\n",
       "[[5]]\n",
       "[1] 2.528590 2.446589 2.535613 1.169608 1.493966\n"
      ]
     },
     "metadata": {},
     "output_type": "display_data"
    }
   ],
   "source": [
    "map(-2:2, rnorm, n = 5)"
   ]
  },
  {
   "cell_type": "markdown",
   "metadata": {},
   "source": [
    "This expression takes samples of size five from five normal distributions, with means of (-2, -1, 0, 1, and 2), but the same standard deviation (1). It returns a list with each element a numeric vectors of length 5.\n",
    "\n",
    "However, if instead, we use `map_dbl()`, the expression raises an error."
   ]
  },
  {
   "cell_type": "code",
   "execution_count": 170,
   "metadata": {},
   "outputs": [
    {
     "ename": "ERROR",
     "evalue": "Error: Result 1 must be a single double, not a double vector of length 5\n",
     "output_type": "error",
     "traceback": [
      "Error: Result 1 must be a single double, not a double vector of length 5\nTraceback:\n",
      "1. map_dbl(-2:2, rnorm, n = 5)",
      "2. purrr:::stop_bad_element_vector(c(-0.427813679144952, -1.37900656440915, \n . -2.34663095139158, -0.413288380901416, -0.620727384678572), 1, \n .     numeric(0), 1, what = \"Result\", arg = NULL, recycle = FALSE)",
      "3. stop_bad_vector(x, expected_ptype, expected_length, what = what, \n .     arg = arg, index = index, ..., recycle = recycle, message = message, \n .     .subclass = c(.subclass, \"purrr_error_bad_element_vector\"))",
      "4. stop_bad_type(x, expected, actual = actual, what = what, arg = arg, \n .     recycle = recycle, message = message, .subclass = c(.subclass, \n .         \"purrr_error_bad_vector\"))",
      "5. abort(message, x = x, expected = expected, actual = actual, what = what, \n .     arg = arg, ..., .subclass = c(.subclass, \"purrr_error_bad_type\"))",
      "6. signal_abort(cnd)"
     ]
    }
   ],
   "source": [
    "map_dbl(-2:2, rnorm, n = 5)"
   ]
  },
  {
   "cell_type": "markdown",
   "metadata": {},
   "source": [
    "\n",
    "\n",
    "This is because the `map_dbl()` function requires the function it applies to each element to return a numeric vector of length one. If the function returns either a non-numeric vector or a numeric vector with a length greater than one, `map_dbl()` will raise an error. The reason for this strictness is that `map_dbl()` guarantees that it will return a numeric vector of the same length as its input vector.\n",
    "\n",
    "This concept applies to the other `map_*()` functions. The function `map_chr()` requires that the function always return a character vector of length one; map_int() requires that the function always return an integer vector of length one; `map_lgl()` requires that the function always return an logical vector of length one. Use the `map()` function if the function will return values of varying types or lengths.\n",
    "\n",
    "To return a numeric vector, use `flatten_dbl()` to coerce the list returned by `map()` to a numeric vector."
   ]
  },
  {
   "cell_type": "code",
   "execution_count": 171,
   "metadata": {},
   "outputs": [
    {
     "data": {
      "text/html": [
       "<style>\n",
       ".list-inline {list-style: none; margin:0; padding: 0}\n",
       ".list-inline>li {display: inline-block}\n",
       ".list-inline>li:not(:last-child)::after {content: \"\\00b7\"; padding: 0 .5ex}\n",
       "</style>\n",
       "<ol class=list-inline><li>-1.30925238091419</li><li>-1.03788981647664</li><li>-0.345998474064724</li><li>-3.10470260616715</li><li>-1.73111874052742</li><li>-2.58152406113239</li><li>-0.147076251238436</li><li>0.0834039870447179</li><li>0.585022684803263</li><li>-2.7003152726199</li><li>-0.342486817927665</li><li>1.31263164728922</li><li>1.0257122403641</li><li>0.510224985988053</li><li>0.213810255308947</li><li>0.425536522945552</li><li>1.65680254511645</li><li>2.64850449603481</li><li>0.618147427956255</li><li>2.10873947925858</li><li>1.01216657651647</li><li>2.31064025394996</li><li>1.49969880018327</li><li>0.420460323830852</li><li>1.75678416458814</li></ol>\n"
      ],
      "text/latex": [
       "\\begin{enumerate*}\n",
       "\\item -1.30925238091419\n",
       "\\item -1.03788981647664\n",
       "\\item -0.345998474064724\n",
       "\\item -3.10470260616715\n",
       "\\item -1.73111874052742\n",
       "\\item -2.58152406113239\n",
       "\\item -0.147076251238436\n",
       "\\item 0.0834039870447179\n",
       "\\item 0.585022684803263\n",
       "\\item -2.7003152726199\n",
       "\\item -0.342486817927665\n",
       "\\item 1.31263164728922\n",
       "\\item 1.0257122403641\n",
       "\\item 0.510224985988053\n",
       "\\item 0.213810255308947\n",
       "\\item 0.425536522945552\n",
       "\\item 1.65680254511645\n",
       "\\item 2.64850449603481\n",
       "\\item 0.618147427956255\n",
       "\\item 2.10873947925858\n",
       "\\item 1.01216657651647\n",
       "\\item 2.31064025394996\n",
       "\\item 1.49969880018327\n",
       "\\item 0.420460323830852\n",
       "\\item 1.75678416458814\n",
       "\\end{enumerate*}\n"
      ],
      "text/markdown": [
       "1. -1.30925238091419\n",
       "2. -1.03788981647664\n",
       "3. -0.345998474064724\n",
       "4. -3.10470260616715\n",
       "5. -1.73111874052742\n",
       "6. -2.58152406113239\n",
       "7. -0.147076251238436\n",
       "8. 0.0834039870447179\n",
       "9. 0.585022684803263\n",
       "10. -2.7003152726199\n",
       "11. -0.342486817927665\n",
       "12. 1.31263164728922\n",
       "13. 1.0257122403641\n",
       "14. 0.510224985988053\n",
       "15. 0.213810255308947\n",
       "16. 0.425536522945552\n",
       "17. 1.65680254511645\n",
       "18. 2.64850449603481\n",
       "19. 0.618147427956255\n",
       "20. 2.10873947925858\n",
       "21. 1.01216657651647\n",
       "22. 2.31064025394996\n",
       "23. 1.49969880018327\n",
       "24. 0.420460323830852\n",
       "25. 1.75678416458814\n",
       "\n",
       "\n"
      ],
      "text/plain": [
       " [1] -1.30925238 -1.03788982 -0.34599847 -3.10470261 -1.73111874 -2.58152406\n",
       " [7] -0.14707625  0.08340399  0.58502268 -2.70031527 -0.34248682  1.31263165\n",
       "[13]  1.02571224  0.51022499  0.21381026  0.42553652  1.65680255  2.64850450\n",
       "[19]  0.61814743  2.10873948  1.01216658  2.31064025  1.49969880  0.42046032\n",
       "[25]  1.75678416"
      ]
     },
     "metadata": {},
     "output_type": "display_data"
    }
   ],
   "source": [
    "map(-2:2, rnorm, n = 5) %>%\n",
    "  flatten_dbl()"
   ]
  },
  {
   "cell_type": "markdown",
   "metadata": {},
   "source": [
    "## Dealing with Failure"
   ]
  },
  {
   "cell_type": "markdown",
   "metadata": {},
   "source": [
    "When you use the map functions to repeat many operations, the\n",
    "chances are much higher that one of those operations will fail.\n",
    "When this happens, you’ll get an error message, and no output. This\n",
    "is annoying: why does one failure prevent you from accessing all the\n",
    "other successes? How do you ensure that one bad apple doesn’t ruin\n",
    "the whole barrel?\n",
    "\n",
    "In this section you’ll learn how to deal with this situation with a new\n",
    "function: `safely()` . `safely()` is an adverb: it takes a function (a\n",
    "verb) and returns a modified version. In this case, the modified\n",
    "function will never throw an error. Instead, it always returns a list\n",
    "with two elements:"
   ]
  },
  {
   "cell_type": "markdown",
   "metadata": {},
   "source": [
    "`result`\n",
    "The original result. If there was an error, this will be NULL ."
   ]
  },
  {
   "cell_type": "markdown",
   "metadata": {},
   "source": [
    "`error` An error object. If the operation was successful, this will be\n",
    "NULL"
   ]
  },
  {
   "cell_type": "code",
   "execution_count": 172,
   "metadata": {},
   "outputs": [
    {
     "name": "stdout",
     "output_type": "stream",
     "text": [
      "List of 2\n",
      " $ result: num 2.3\n",
      " $ error : NULL\n"
     ]
    }
   ],
   "source": [
    "safe_log <- safely(log)\n",
    "str(safe_log(10))"
   ]
  },
  {
   "cell_type": "code",
   "execution_count": 173,
   "metadata": {},
   "outputs": [
    {
     "name": "stdout",
     "output_type": "stream",
     "text": [
      "List of 2\n",
      " $ result: NULL\n",
      " $ error :List of 2\n",
      "  ..$ message: chr \"non-numeric argument to mathematical function\"\n",
      "  ..$ call   : language .Primitive(\"log\")(x, base)\n",
      "  ..- attr(*, \"class\")= chr [1:3] \"simpleError\" \"error\" \"condition\"\n"
     ]
    }
   ],
   "source": [
    "str(safe_log('a'))"
   ]
  },
  {
   "cell_type": "markdown",
   "metadata": {},
   "source": [
    "When the function succeeds the result element contains the result\n",
    "and the error element is NULL . When the function fails, the result\n",
    "element is NULL and the error element contains an error object."
   ]
  },
  {
   "cell_type": "markdown",
   "metadata": {},
   "source": [
    "`safely()` is designed to work with map :"
   ]
  },
  {
   "cell_type": "code",
   "execution_count": 174,
   "metadata": {},
   "outputs": [],
   "source": [
    "x <- list(1, 10, 'a')\n",
    "y <- x %>% map(safely(log))"
   ]
  },
  {
   "cell_type": "code",
   "execution_count": 175,
   "metadata": {},
   "outputs": [
    {
     "name": "stdout",
     "output_type": "stream",
     "text": [
      "List of 3\n",
      " $ :List of 2\n",
      "  ..$ result: num 0\n",
      "  ..$ error : NULL\n",
      " $ :List of 2\n",
      "  ..$ result: num 2.3\n",
      "  ..$ error : NULL\n",
      " $ :List of 2\n",
      "  ..$ result: NULL\n",
      "  ..$ error :List of 2\n",
      "  .. ..$ message: chr \"non-numeric argument to mathematical function\"\n",
      "  .. ..$ call   : language .Primitive(\"log\")(x, base)\n",
      "  .. ..- attr(*, \"class\")= chr [1:3] \"simpleError\" \"error\" \"condition\"\n"
     ]
    }
   ],
   "source": [
    "str(y)"
   ]
  },
  {
   "cell_type": "markdown",
   "metadata": {},
   "source": [
    "This would be easier to work with if we had two lists: one of all the\n",
    "errors and one of all the output. That’s easy to get with\n",
    "`purrr::transpose()` :"
   ]
  },
  {
   "cell_type": "code",
   "execution_count": 176,
   "metadata": {},
   "outputs": [],
   "source": [
    "y <- y %>% transpose()"
   ]
  },
  {
   "cell_type": "code",
   "execution_count": 177,
   "metadata": {},
   "outputs": [
    {
     "name": "stdout",
     "output_type": "stream",
     "text": [
      "List of 2\n",
      " $ result:List of 3\n",
      "  ..$ : num 0\n",
      "  ..$ : num 2.3\n",
      "  ..$ : NULL\n",
      " $ error :List of 3\n",
      "  ..$ : NULL\n",
      "  ..$ : NULL\n",
      "  ..$ :List of 2\n",
      "  .. ..$ message: chr \"non-numeric argument to mathematical function\"\n",
      "  .. ..$ call   : language .Primitive(\"log\")(x, base)\n",
      "  .. ..- attr(*, \"class\")= chr [1:3] \"simpleError\" \"error\" \"condition\"\n"
     ]
    }
   ],
   "source": [
    "str(y)"
   ]
  },
  {
   "cell_type": "markdown",
   "metadata": {},
   "source": [
    "It’s up to you how to deal with the errors, but typically you’ll either\n",
    "look at the values of `x` where `y` is an error, or work with the values of\n",
    "`y` that are OK:"
   ]
  },
  {
   "cell_type": "code",
   "execution_count": 178,
   "metadata": {},
   "outputs": [
    {
     "data": {
      "text/html": [
       "<ol>\n",
       "\t<li>'a'</li>\n",
       "</ol>\n"
      ],
      "text/latex": [
       "\\begin{enumerate}\n",
       "\\item 'a'\n",
       "\\end{enumerate}\n"
      ],
      "text/markdown": [
       "1. 'a'\n",
       "\n",
       "\n"
      ],
      "text/plain": [
       "[[1]]\n",
       "[1] \"a\"\n"
      ]
     },
     "metadata": {},
     "output_type": "display_data"
    }
   ],
   "source": [
    "is_ok <- y$error %>%\n",
    "    map_lgl(is_null)\n",
    "x[!is_ok]"
   ]
  },
  {
   "cell_type": "code",
   "execution_count": 179,
   "metadata": {},
   "outputs": [
    {
     "data": {
      "text/html": [
       "<style>\n",
       ".list-inline {list-style: none; margin:0; padding: 0}\n",
       ".list-inline>li {display: inline-block}\n",
       ".list-inline>li:not(:last-child)::after {content: \"\\00b7\"; padding: 0 .5ex}\n",
       "</style>\n",
       "<ol class=list-inline><li>0</li><li>2.30258509299405</li></ol>\n"
      ],
      "text/latex": [
       "\\begin{enumerate*}\n",
       "\\item 0\n",
       "\\item 2.30258509299405\n",
       "\\end{enumerate*}\n"
      ],
      "text/markdown": [
       "1. 0\n",
       "2. 2.30258509299405\n",
       "\n",
       "\n"
      ],
      "text/plain": [
       "[1] 0.000000 2.302585"
      ]
     },
     "metadata": {},
     "output_type": "display_data"
    }
   ],
   "source": [
    "y$result[is_ok] %>%\n",
    "    flatten_dbl()"
   ]
  },
  {
   "cell_type": "markdown",
   "metadata": {},
   "source": [
    "purrr provides two other useful adverbs:"
   ]
  },
  {
   "cell_type": "markdown",
   "metadata": {},
   "source": [
    "Like `safely()` , `possibly()` always succeeds. It’s simpler than\n",
    "`safely()` , because you give it a default value to return when\n",
    "there is an error:"
   ]
  },
  {
   "cell_type": "code",
   "execution_count": 180,
   "metadata": {},
   "outputs": [
    {
     "data": {
      "text/html": [
       "<style>\n",
       ".list-inline {list-style: none; margin:0; padding: 0}\n",
       ".list-inline>li {display: inline-block}\n",
       ".list-inline>li:not(:last-child)::after {content: \"\\00b7\"; padding: 0 .5ex}\n",
       "</style>\n",
       "<ol class=list-inline><li>0</li><li>2.30258509299405</li><li>&lt;NA&gt;</li></ol>\n"
      ],
      "text/latex": [
       "\\begin{enumerate*}\n",
       "\\item 0\n",
       "\\item 2.30258509299405\n",
       "\\item <NA>\n",
       "\\end{enumerate*}\n"
      ],
      "text/markdown": [
       "1. 0\n",
       "2. 2.30258509299405\n",
       "3. &lt;NA&gt;\n",
       "\n",
       "\n"
      ],
      "text/plain": [
       "[1] 0.000000 2.302585       NA"
      ]
     },
     "metadata": {},
     "output_type": "display_data"
    }
   ],
   "source": [
    "x <- list(1, 10, 'a')\n",
    "x %>% map_dbl(possibly(log, NA_real_))"
   ]
  },
  {
   "cell_type": "markdown",
   "metadata": {},
   "source": [
    "`quietly()` performs a similar role to `safely()` , but instead of\n",
    "capturing errors, it captures printed output, messages, and\n",
    "warnings:"
   ]
  },
  {
   "cell_type": "code",
   "execution_count": 181,
   "metadata": {},
   "outputs": [
    {
     "name": "stdout",
     "output_type": "stream",
     "text": [
      "List of 2\n",
      " $ :List of 4\n",
      "  ..$ result  : num 0\n",
      "  ..$ output  : chr \"\"\n",
      "  ..$ warnings: chr(0) \n",
      "  ..$ messages: chr(0) \n",
      " $ :List of 4\n",
      "  ..$ result  : num NaN\n",
      "  ..$ output  : chr \"\"\n",
      "  ..$ warnings: chr \"NaNs produced\"\n",
      "  ..$ messages: chr(0) \n"
     ]
    }
   ],
   "source": [
    "x <- list(1, -1)\n",
    "x %>% map(quietly(log)) %>% str()"
   ]
  },
  {
   "cell_type": "markdown",
   "metadata": {},
   "source": [
    "## Mapping over Multiple Arguments"
   ]
  },
  {
   "cell_type": "markdown",
   "metadata": {},
   "source": [
    "So far we’ve mapped along a single input. But often you have multiple related inputs that you need to iterate along in parallel. That’s the\n",
    "job of the `map2()` and `pmap()` functions. For example, imagine you\n",
    "want to simulate some random normals with different means. You\n",
    "know how to do that with `map()` :"
   ]
  },
  {
   "cell_type": "code",
   "execution_count": 182,
   "metadata": {},
   "outputs": [],
   "source": [
    "mu <- list(5, 10, -3)"
   ]
  },
  {
   "cell_type": "code",
   "execution_count": 183,
   "metadata": {},
   "outputs": [
    {
     "name": "stdout",
     "output_type": "stream",
     "text": [
      "List of 3\n",
      " $ : num [1:5] 6.72 5.54 5.02 5.83 4.54\n",
      " $ : num [1:5] 9.5 9.2 10.07 10.94 9.72\n",
      " $ : num [1:5] -3.45 -4.31 -3.44 -3.55 -2.04\n"
     ]
    }
   ],
   "source": [
    "mu %>%\n",
    "    map(rnorm, n = 5) %>%\n",
    "    str()"
   ]
  },
  {
   "cell_type": "markdown",
   "metadata": {},
   "source": [
    "What if you also want to vary the standard deviation? One way to do\n",
    "that would be to iterate over the indices and index into vectors of\n",
    "means and sds:"
   ]
  },
  {
   "cell_type": "code",
   "execution_count": 184,
   "metadata": {},
   "outputs": [
    {
     "name": "stdout",
     "output_type": "stream",
     "text": [
      "List of 3\n",
      " $ : num [1:5] 4.85 4.13 4.58 4.02 5.99\n",
      " $ : num [1:5] 17.7 9.77 11.29 2.49 17.61\n",
      " $ : num [1:5] -6.29 -9.48 23.75 -1.61 -1.97\n"
     ]
    }
   ],
   "source": [
    "sigma <- list(1, 5, 10)\n",
    "seq_along(mu) %>%\n",
    "    map(~rnorm(5, mu[[.]], sigma[[.]])) %>%\n",
    "    str()"
   ]
  },
  {
   "cell_type": "markdown",
   "metadata": {},
   "source": [
    "But that obfuscates the intent of the code. Instead we could use\n",
    "`map2()` , which iterates over two vectors in parallel:"
   ]
  },
  {
   "cell_type": "code",
   "execution_count": 185,
   "metadata": {},
   "outputs": [
    {
     "name": "stdout",
     "output_type": "stream",
     "text": [
      "List of 3\n",
      " $ : num [1:5] 4.93 3.63 2.29 4.88 4.99\n",
      " $ : num [1:5] 13.16 4.8 14.65 16.55 5.37\n",
      " $ : num [1:5] -7.18 -7.58 -4.26 -5.26 20.16\n"
     ]
    }
   ],
   "source": [
    "map2(mu, sigma, rnorm, n = 5) %>%\n",
    "    str()"
   ]
  },
  {
   "cell_type": "markdown",
   "metadata": {},
   "source": [
    "Like `map()` , `map2()` is just a wrapper around a for loop:\n",
    "```r\n",
    "map2 <- function(x, y, f, ...) {\n",
    "    out <- vector('list', length(x))\n",
    "    for (i in seq_along(x)) {\n",
    "        out[[i]] <- f(x[[i]], y[[i]], ...)\n",
    "    }\n",
    "    out\n",
    "}\n",
    "```"
   ]
  },
  {
   "cell_type": "markdown",
   "metadata": {},
   "source": [
    "You could also imagine `map3()` , `map4()` , `map5()` , `map6()` , etc., but\n",
    "that would get tedious quickly. Instead, purrr provides `pmap()` ,\n",
    "which takes a list of arguments. You might use that if you wanted to\n",
    "vary the mean, standard deviation, and number of samples:"
   ]
  },
  {
   "cell_type": "code",
   "execution_count": 186,
   "metadata": {},
   "outputs": [
    {
     "name": "stdout",
     "output_type": "stream",
     "text": [
      "List of 3\n",
      " $ : num 4.4\n",
      " $ : num [1:3] 5.79 17.71 7.52\n",
      " $ : num [1:5] 0.444 -7.26 2.842 11.07 -3.872\n"
     ]
    }
   ],
   "source": [
    "n <- list(1, 3, 5)\n",
    "args1 <- list(n, mu, sigma)\n",
    "args1 %>%\n",
    "    pmap(rnorm) %>%\n",
    "    str()"
   ]
  },
  {
   "cell_type": "markdown",
   "metadata": {},
   "source": [
    "If you don’t name the elements of list, `pmap()` will use positional\n",
    "matching when calling the function. That’s a little fragile, and makes\n",
    "the code harder to read, so it’s better to name the arguments:"
   ]
  },
  {
   "cell_type": "code",
   "execution_count": 187,
   "metadata": {},
   "outputs": [
    {
     "name": "stdout",
     "output_type": "stream",
     "text": [
      "List of 3\n",
      " $ : num 5.84\n",
      " $ : num [1:3] 12.7 13.9 23.1\n",
      " $ : num [1:5] -7.16 -6.96 -6.86 -16.69 4.45\n"
     ]
    }
   ],
   "source": [
    "args2 <- list(mean = mu, sd = sigma, n = n)\n",
    "args2 %>%\n",
    "    pmap(rnorm) %>%\n",
    "    str()"
   ]
  },
  {
   "cell_type": "markdown",
   "metadata": {},
   "source": [
    "Since the arguments are all the same length, it makes sense to store\n",
    "them in a data frame:"
   ]
  },
  {
   "cell_type": "code",
   "execution_count": 188,
   "metadata": {},
   "outputs": [
    {
     "data": {
      "text/html": [
       "<ol>\n",
       "\t<li>5.26908941756708</li>\n",
       "\t<li><style>\n",
       ".list-inline {list-style: none; margin:0; padding: 0}\n",
       ".list-inline>li {display: inline-block}\n",
       ".list-inline>li:not(:last-child)::after {content: \"\\00b7\"; padding: 0 .5ex}\n",
       "</style>\n",
       "<ol class=list-inline><li>6.62048560887943</li><li>13.3519278343249</li><li>-4.74098196128672</li></ol>\n",
       "</li>\n",
       "\t<li><style>\n",
       ".list-inline {list-style: none; margin:0; padding: 0}\n",
       ".list-inline>li {display: inline-block}\n",
       ".list-inline>li:not(:last-child)::after {content: \"\\00b7\"; padding: 0 .5ex}\n",
       "</style>\n",
       "<ol class=list-inline><li>4.97501473964323</li><li>-4.77823703527664</li><li>-18.6320016588549</li><li>5.01888857199933</li><li>8.7148569005773</li></ol>\n",
       "</li>\n",
       "</ol>\n"
      ],
      "text/latex": [
       "\\begin{enumerate}\n",
       "\\item 5.26908941756708\n",
       "\\item \\begin{enumerate*}\n",
       "\\item 6.62048560887943\n",
       "\\item 13.3519278343249\n",
       "\\item -4.74098196128672\n",
       "\\end{enumerate*}\n",
       "\n",
       "\\item \\begin{enumerate*}\n",
       "\\item 4.97501473964323\n",
       "\\item -4.77823703527664\n",
       "\\item -18.6320016588549\n",
       "\\item 5.01888857199933\n",
       "\\item 8.7148569005773\n",
       "\\end{enumerate*}\n",
       "\n",
       "\\end{enumerate}\n"
      ],
      "text/markdown": [
       "1. 5.26908941756708\n",
       "2. 1. 6.62048560887943\n",
       "2. 13.3519278343249\n",
       "3. -4.74098196128672\n",
       "\n",
       "\n",
       "\n",
       "3. 1. 4.97501473964323\n",
       "2. -4.77823703527664\n",
       "3. -18.6320016588549\n",
       "4. 5.01888857199933\n",
       "5. 8.7148569005773\n",
       "\n",
       "\n",
       "\n",
       "\n",
       "\n"
      ],
      "text/plain": [
       "[[1]]\n",
       "[1] 5.269089\n",
       "\n",
       "[[2]]\n",
       "[1]  6.620486 13.351928 -4.740982\n",
       "\n",
       "[[3]]\n",
       "[1]   4.975015  -4.778237 -18.632002   5.018889   8.714857\n"
      ]
     },
     "metadata": {},
     "output_type": "display_data"
    }
   ],
   "source": [
    "params <- tribble(\n",
    "    ~mean, ~sd, ~n,\n",
    "    5, 1, 1,\n",
    "    10, 5, 3,\n",
    "    -3, 10, 5\n",
    ")\n",
    "\n",
    "params %>%\n",
    "    pmap(rnorm)"
   ]
  },
  {
   "cell_type": "markdown",
   "metadata": {},
   "source": [
    "As soon as your code gets complicated, I think a data frame is a\n",
    "good approach because it ensures that each column has a name and\n",
    "is the same length as all the other columns."
   ]
  },
  {
   "cell_type": "markdown",
   "metadata": {},
   "source": [
    "## Invoking Different Functions"
   ]
  },
  {
   "cell_type": "markdown",
   "metadata": {},
   "source": [
    "There’s one more step up in complexity—as well as varying the\n",
    "arguments to the function you might also vary the function itself:"
   ]
  },
  {
   "cell_type": "code",
   "execution_count": 189,
   "metadata": {},
   "outputs": [],
   "source": [
    "f <- c('runif', 'rnorm', 'rpois')\n",
    "param <- list(\n",
    "    list(min = -1, max = 1),\n",
    "    list(sd = 5),\n",
    "    list(lambda = 10)\n",
    ")"
   ]
  },
  {
   "cell_type": "markdown",
   "metadata": {},
   "source": [
    "To handle this case, you can use `invoke_map()` :"
   ]
  },
  {
   "cell_type": "code",
   "execution_count": 190,
   "metadata": {},
   "outputs": [
    {
     "name": "stdout",
     "output_type": "stream",
     "text": [
      "List of 3\n",
      " $ : num [1:5] -0.454 -0.683 0.718 -0.671 0.568\n",
      " $ : num [1:5] -3.418 2.05 1.153 2.553 0.701\n",
      " $ : int [1:5] 15 7 9 12 9\n"
     ]
    }
   ],
   "source": [
    "invoke_map(f, param, n = 5) %>%\n",
    "    str()"
   ]
  },
  {
   "cell_type": "markdown",
   "metadata": {},
   "source": [
    "The first argument is a list of functions or a character vector of function names. The second argument is a list of lists giving the arguments that vary for each function. The subsequent arguments are\n",
    "passed on to every function."
   ]
  },
  {
   "cell_type": "markdown",
   "metadata": {},
   "source": [
    "And again, you can use `tribble()` to make creating these matching\n",
    "pairs a little easier:"
   ]
  },
  {
   "cell_type": "code",
   "execution_count": 191,
   "metadata": {},
   "outputs": [
    {
     "data": {
      "text/html": [
       "<table>\n",
       "<caption>A tibble: 3 × 3</caption>\n",
       "<thead>\n",
       "\t<tr><th scope=col>f</th><th scope=col>params</th><th scope=col>sim</th></tr>\n",
       "\t<tr><th scope=col>&lt;chr&gt;</th><th scope=col>&lt;list&gt;</th><th scope=col>&lt;list&gt;</th></tr>\n",
       "</thead>\n",
       "<tbody>\n",
       "\t<tr><td>runif</td><td>-1, 1</td><td>0.6418576, 0.4270354, 0.1707565, 0.9633596, -0.6784058, -0.1566551, -0.2001263, -0.8362209, -0.1078683, -0.4953311</td></tr>\n",
       "\t<tr><td>rnorm</td><td>5</td><td>-1.65927346, -4.13028336, -2.22735888, -0.84661681, -4.52464737, 4.51057010, 0.06553342, -6.59964444, 1.22340575, 1.99553023</td></tr>\n",
       "\t<tr><td>rpois</td><td>10</td><td>15, 9, 10, 11, 17, 7, 6, 9, 11, 9</td></tr>\n",
       "</tbody>\n",
       "</table>\n"
      ],
      "text/latex": [
       "A tibble: 3 × 3\n",
       "\\begin{tabular}{lll}\n",
       " f & params & sim\\\\\n",
       " <chr> & <list> & <list>\\\\\n",
       "\\hline\n",
       "\t runif & -1, 1 & 0.6418576, 0.4270354, 0.1707565, 0.9633596, -0.6784058, -0.1566551, -0.2001263, -0.8362209, -0.1078683, -0.4953311\\\\\n",
       "\t rnorm & 5 & -1.65927346, -4.13028336, -2.22735888, -0.84661681, -4.52464737, 4.51057010, 0.06553342, -6.59964444, 1.22340575, 1.99553023\\\\\n",
       "\t rpois & 10 & 15, 9, 10, 11, 17, 7, 6, 9, 11, 9\\\\\n",
       "\\end{tabular}\n"
      ],
      "text/markdown": [
       "\n",
       "A tibble: 3 × 3\n",
       "\n",
       "| f &lt;chr&gt; | params &lt;list&gt; | sim &lt;list&gt; |\n",
       "|---|---|---|\n",
       "| runif | -1, 1 | 0.6418576, 0.4270354, 0.1707565, 0.9633596, -0.6784058, -0.1566551, -0.2001263, -0.8362209, -0.1078683, -0.4953311 |\n",
       "| rnorm | 5 | -1.65927346, -4.13028336, -2.22735888, -0.84661681, -4.52464737, 4.51057010, 0.06553342, -6.59964444, 1.22340575, 1.99553023 |\n",
       "| rpois | 10 | 15, 9, 10, 11, 17, 7, 6, 9, 11, 9 |\n",
       "\n"
      ],
      "text/plain": [
       "  f     params\n",
       "1 runif -1, 1 \n",
       "2 rnorm 5     \n",
       "3 rpois 10    \n",
       "  sim                                                                                                                         \n",
       "1 0.6418576, 0.4270354, 0.1707565, 0.9633596, -0.6784058, -0.1566551, -0.2001263, -0.8362209, -0.1078683, -0.4953311          \n",
       "2 -1.65927346, -4.13028336, -2.22735888, -0.84661681, -4.52464737, 4.51057010, 0.06553342, -6.59964444, 1.22340575, 1.99553023\n",
       "3 15, 9, 10, 11, 17, 7, 6, 9, 11, 9                                                                                           "
      ]
     },
     "metadata": {},
     "output_type": "display_data"
    }
   ],
   "source": [
    "sim <- tribble(\n",
    "    ~f,     ~params,\n",
    "    'runif', list(min = -1, max = 1),\n",
    "    'rnorm', list(sd = 5),\n",
    "    'rpois', list(lambda = 10)\n",
    ")\n",
    "\n",
    "sim %>%\n",
    "    mutate(sim = invoke_map(f, params, n = 10))"
   ]
  },
  {
   "cell_type": "markdown",
   "metadata": {},
   "source": [
    "## Walk"
   ]
  },
  {
   "cell_type": "markdown",
   "metadata": {},
   "source": [
    "Walk is an alternative to map that you use when you want to call a\n",
    "function for its side effects, rather than for its return value. You typically do this because you want to render output to the screen or save\n",
    "files to disk—the important thing is the action, not the return value.\n",
    "Here’s a very simple example:"
   ]
  },
  {
   "cell_type": "code",
   "execution_count": 192,
   "metadata": {},
   "outputs": [
    {
     "name": "stdout",
     "output_type": "stream",
     "text": [
      "[1] 1\n",
      "[1] \"a\"\n",
      "[1] 4\n"
     ]
    }
   ],
   "source": [
    "x <- list(1, 'a', 4)\n",
    "x %>%\n",
    "    walk(print)"
   ]
  },
  {
   "cell_type": "markdown",
   "metadata": {},
   "source": [
    "`walk()` is generally not that useful compared to `walk2()` or `pwalk()` .\n",
    "For example, if you had a list of plots and a vector of filenames, you\n",
    "could use `pwalk()` to save each file to the corresponding location on\n",
    "disk:"
   ]
  },
  {
   "cell_type": "code",
   "execution_count": 193,
   "metadata": {},
   "outputs": [
    {
     "name": "stderr",
     "output_type": "stream",
     "text": [
      "Saving 6.67 x 6.67 in image\n",
      "\n",
      "Saving 6.67 x 6.67 in image\n",
      "\n",
      "Saving 6.67 x 6.67 in image\n",
      "\n"
     ]
    }
   ],
   "source": [
    "library(ggplot2)\n",
    "plots <- mtcars %>%\n",
    "    split(.$cyl) %>%\n",
    "    map(~ggplot(., aes(mpg, wt)) + geom_point())\n",
    "\n",
    "paths <- str_c(names(plots), '.pdf')\n",
    "\n",
    "pwalk(list(paths, plots), ggsave, path = tempdir())"
   ]
  },
  {
   "cell_type": "markdown",
   "metadata": {},
   "source": [
    "## Other Patterns of For Loops"
   ]
  },
  {
   "cell_type": "markdown",
   "metadata": {},
   "source": [
    "purrr provides a number of other functions that abstract over other\n",
    "types of for loops. You’ll use them less frequently than the map functions, but they’re useful to know about. The goal here is to briefly\n",
    "illustrate each function, so hopefully it will come to mind if you see\n",
    "a similar problem in the future. Then you can go look up the documentation for more details."
   ]
  },
  {
   "cell_type": "markdown",
   "metadata": {},
   "source": [
    "### Predicate Functions"
   ]
  },
  {
   "cell_type": "markdown",
   "metadata": {},
   "source": [
    "A number of functions work with predicate functions that return\n",
    "either a single TRUE or FALSE .\n",
    "`keep()` and `discard()` keep elements of the input where the predicate is TRUE or FALSE , respectively:"
   ]
  },
  {
   "cell_type": "code",
   "execution_count": 194,
   "metadata": {},
   "outputs": [
    {
     "name": "stdout",
     "output_type": "stream",
     "text": [
      "'data.frame':\t150 obs. of  1 variable:\n",
      " $ Species: Factor w/ 3 levels \"setosa\",\"versicolor\",..: 1 1 1 1 1 1 1 1 1 1 ...\n"
     ]
    }
   ],
   "source": [
    "iris %>%\n",
    "    keep(is.factor) %>%\n",
    "    str()"
   ]
  },
  {
   "cell_type": "code",
   "execution_count": 195,
   "metadata": {},
   "outputs": [
    {
     "name": "stdout",
     "output_type": "stream",
     "text": [
      "'data.frame':\t150 obs. of  4 variables:\n",
      " $ Sepal.Length: num  5.1 4.9 4.7 4.6 5 5.4 4.6 5 4.4 4.9 ...\n",
      " $ Sepal.Width : num  3.5 3 3.2 3.1 3.6 3.9 3.4 3.4 2.9 3.1 ...\n",
      " $ Petal.Length: num  1.4 1.4 1.3 1.5 1.4 1.7 1.4 1.5 1.4 1.5 ...\n",
      " $ Petal.Width : num  0.2 0.2 0.2 0.2 0.2 0.4 0.3 0.2 0.2 0.1 ...\n"
     ]
    }
   ],
   "source": [
    "iris %>%\n",
    "    discard(is.factor) %>%\n",
    "    str()"
   ]
  },
  {
   "cell_type": "markdown",
   "metadata": {},
   "source": [
    "`some()` and `every()` determine if the predicate is true for any or for\n",
    "all of the elements:"
   ]
  },
  {
   "cell_type": "code",
   "execution_count": 196,
   "metadata": {},
   "outputs": [],
   "source": [
    "x <- list(1:5, letters, list(10))"
   ]
  },
  {
   "cell_type": "code",
   "execution_count": 197,
   "metadata": {},
   "outputs": [
    {
     "data": {
      "text/html": [
       "TRUE"
      ],
      "text/latex": [
       "TRUE"
      ],
      "text/markdown": [
       "TRUE"
      ],
      "text/plain": [
       "[1] TRUE"
      ]
     },
     "metadata": {},
     "output_type": "display_data"
    }
   ],
   "source": [
    "x %>%\n",
    "    some(is_character)"
   ]
  },
  {
   "cell_type": "code",
   "execution_count": 198,
   "metadata": {},
   "outputs": [
    {
     "data": {
      "text/html": [
       "TRUE"
      ],
      "text/latex": [
       "TRUE"
      ],
      "text/markdown": [
       "TRUE"
      ],
      "text/plain": [
       "[1] TRUE"
      ]
     },
     "metadata": {},
     "output_type": "display_data"
    }
   ],
   "source": [
    "x %>%\n",
    "    every(is_vector)"
   ]
  },
  {
   "cell_type": "markdown",
   "metadata": {},
   "source": [
    "`detect()` finds the first element where the predicate is true;\n",
    "`detect_index()` returns its position:\n"
   ]
  },
  {
   "cell_type": "code",
   "execution_count": 210,
   "metadata": {},
   "outputs": [
    {
     "data": {
      "text/html": [
       "<style>\n",
       ".list-inline {list-style: none; margin:0; padding: 0}\n",
       ".list-inline>li {display: inline-block}\n",
       ".list-inline>li:not(:last-child)::after {content: \"\\00b7\"; padding: 0 .5ex}\n",
       "</style>\n",
       "<ol class=list-inline><li>6</li><li>8</li><li>7</li><li>1</li><li>5</li><li>2</li><li>10</li><li>4</li><li>3</li><li>9</li></ol>\n"
      ],
      "text/latex": [
       "\\begin{enumerate*}\n",
       "\\item 6\n",
       "\\item 8\n",
       "\\item 7\n",
       "\\item 1\n",
       "\\item 5\n",
       "\\item 2\n",
       "\\item 10\n",
       "\\item 4\n",
       "\\item 3\n",
       "\\item 9\n",
       "\\end{enumerate*}\n"
      ],
      "text/markdown": [
       "1. 6\n",
       "2. 8\n",
       "3. 7\n",
       "4. 1\n",
       "5. 5\n",
       "6. 2\n",
       "7. 10\n",
       "8. 4\n",
       "9. 3\n",
       "10. 9\n",
       "\n",
       "\n"
      ],
      "text/plain": [
       " [1]  6  8  7  1  5  2 10  4  3  9"
      ]
     },
     "metadata": {},
     "output_type": "display_data"
    }
   ],
   "source": [
    "x <- sample(10)\n",
    "x"
   ]
  },
  {
   "cell_type": "code",
   "execution_count": 211,
   "metadata": {},
   "outputs": [
    {
     "data": {
      "text/html": [
       "6"
      ],
      "text/latex": [
       "6"
      ],
      "text/markdown": [
       "6"
      ],
      "text/plain": [
       "[1] 6"
      ]
     },
     "metadata": {},
     "output_type": "display_data"
    }
   ],
   "source": [
    "x %>%\n",
    "    detect(~ . > 5)"
   ]
  },
  {
   "cell_type": "code",
   "execution_count": 212,
   "metadata": {},
   "outputs": [
    {
     "data": {
      "text/html": [
       "1"
      ],
      "text/latex": [
       "1"
      ],
      "text/markdown": [
       "1"
      ],
      "text/plain": [
       "[1] 1"
      ]
     },
     "metadata": {},
     "output_type": "display_data"
    }
   ],
   "source": [
    "x %>%\n",
    "    detect_index(~ . > 5)"
   ]
  },
  {
   "cell_type": "markdown",
   "metadata": {},
   "source": [
    "`head_while()` and `tail_while()` take elements from the start or\n",
    "end of a vector while a predicate is true:"
   ]
  },
  {
   "cell_type": "code",
   "execution_count": 213,
   "metadata": {},
   "outputs": [
    {
     "data": {
      "text/html": [
       "<style>\n",
       ".list-inline {list-style: none; margin:0; padding: 0}\n",
       ".list-inline>li {display: inline-block}\n",
       ".list-inline>li:not(:last-child)::after {content: \"\\00b7\"; padding: 0 .5ex}\n",
       "</style>\n",
       "<ol class=list-inline><li>6</li><li>8</li><li>7</li></ol>\n"
      ],
      "text/latex": [
       "\\begin{enumerate*}\n",
       "\\item 6\n",
       "\\item 8\n",
       "\\item 7\n",
       "\\end{enumerate*}\n"
      ],
      "text/markdown": [
       "1. 6\n",
       "2. 8\n",
       "3. 7\n",
       "\n",
       "\n"
      ],
      "text/plain": [
       "[1] 6 8 7"
      ]
     },
     "metadata": {},
     "output_type": "display_data"
    }
   ],
   "source": [
    "x %>%\n",
    "    head_while(~ . > 5)"
   ]
  },
  {
   "cell_type": "code",
   "execution_count": 214,
   "metadata": {},
   "outputs": [
    {
     "data": {
      "text/html": [
       "9"
      ],
      "text/latex": [
       "9"
      ],
      "text/markdown": [
       "9"
      ],
      "text/plain": [
       "[1] 9"
      ]
     },
     "metadata": {},
     "output_type": "display_data"
    }
   ],
   "source": [
    "x %>%\n",
    "    tail_while(~ . > 5)"
   ]
  },
  {
   "cell_type": "markdown",
   "metadata": {},
   "source": [
    "## Reduce and Accumulate"
   ]
  },
  {
   "cell_type": "markdown",
   "metadata": {},
   "source": [
    "Sometimes you have a complex list that you want to reduce to a sim‐\n",
    "ple list by repeatedly applying a function that reduces a pair to a sin‐\n",
    "gleton. This is useful if you want to apply a two-table __dplyr__ verb to\n",
    "multiple tables. For example, you might have a list of data frames,\n",
    "and you want to reduce to a single data frame by joining the ele‐\n",
    "ments together:"
   ]
  },
  {
   "cell_type": "code",
   "execution_count": 215,
   "metadata": {},
   "outputs": [],
   "source": [
    "dfs <- list(\n",
    "    age = tibble(name = 'John', age = 30),\n",
    "    sex = tibble(name = c('John', 'Mary'), sex = c('M', 'F')),\n",
    "    trt = tibble(name = 'Mary', treatment = 'A')\n",
    ")"
   ]
  },
  {
   "cell_type": "code",
   "execution_count": 216,
   "metadata": {},
   "outputs": [
    {
     "name": "stderr",
     "output_type": "stream",
     "text": [
      "Joining, by = \"name\"\n",
      "\n",
      "Joining, by = \"name\"\n",
      "\n"
     ]
    },
    {
     "data": {
      "text/html": [
       "<table>\n",
       "<caption>A tibble: 2 × 4</caption>\n",
       "<thead>\n",
       "\t<tr><th scope=col>name</th><th scope=col>age</th><th scope=col>sex</th><th scope=col>treatment</th></tr>\n",
       "\t<tr><th scope=col>&lt;chr&gt;</th><th scope=col>&lt;dbl&gt;</th><th scope=col>&lt;chr&gt;</th><th scope=col>&lt;chr&gt;</th></tr>\n",
       "</thead>\n",
       "<tbody>\n",
       "\t<tr><td>John</td><td>30</td><td>M</td><td>NA</td></tr>\n",
       "\t<tr><td>Mary</td><td>NA</td><td>F</td><td>A </td></tr>\n",
       "</tbody>\n",
       "</table>\n"
      ],
      "text/latex": [
       "A tibble: 2 × 4\n",
       "\\begin{tabular}{llll}\n",
       " name & age & sex & treatment\\\\\n",
       " <chr> & <dbl> & <chr> & <chr>\\\\\n",
       "\\hline\n",
       "\t John & 30 & M & NA\\\\\n",
       "\t Mary & NA & F & A \\\\\n",
       "\\end{tabular}\n"
      ],
      "text/markdown": [
       "\n",
       "A tibble: 2 × 4\n",
       "\n",
       "| name &lt;chr&gt; | age &lt;dbl&gt; | sex &lt;chr&gt; | treatment &lt;chr&gt; |\n",
       "|---|---|---|---|\n",
       "| John | 30 | M | NA |\n",
       "| Mary | NA | F | A  |\n",
       "\n"
      ],
      "text/plain": [
       "  name age sex treatment\n",
       "1 John 30  M   NA       \n",
       "2 Mary NA  F   A        "
      ]
     },
     "metadata": {},
     "output_type": "display_data"
    }
   ],
   "source": [
    "dfs %>%\n",
    "    reduce(full_join)"
   ]
  },
  {
   "cell_type": "markdown",
   "metadata": {},
   "source": [
    "Or maybe you have a list of vectors, and want to find the intersection:"
   ]
  },
  {
   "cell_type": "code",
   "execution_count": 217,
   "metadata": {},
   "outputs": [
    {
     "data": {
      "text/html": [
       "<style>\n",
       ".list-inline {list-style: none; margin:0; padding: 0}\n",
       ".list-inline>li {display: inline-block}\n",
       ".list-inline>li:not(:last-child)::after {content: \"\\00b7\"; padding: 0 .5ex}\n",
       "</style>\n",
       "<ol class=list-inline><li>1</li><li>3</li><li>10</li></ol>\n"
      ],
      "text/latex": [
       "\\begin{enumerate*}\n",
       "\\item 1\n",
       "\\item 3\n",
       "\\item 10\n",
       "\\end{enumerate*}\n"
      ],
      "text/markdown": [
       "1. 1\n",
       "2. 3\n",
       "3. 10\n",
       "\n",
       "\n"
      ],
      "text/plain": [
       "[1]  1  3 10"
      ]
     },
     "metadata": {},
     "output_type": "display_data"
    }
   ],
   "source": [
    "vs <- list(\n",
    "    c(1, 3, 5, 6, 10),\n",
    "    c(1, 2, 3, 7, 8, 10),\n",
    "    c(1, 2, 3, 4, 8, 9, 10)\n",
    ")\n",
    "\n",
    "vs %>%\n",
    "    reduce(intersect)"
   ]
  },
  {
   "cell_type": "markdown",
   "metadata": {},
   "source": [
    "The reduce function takes a “binary” function (i.e., a function with\n",
    "two primary inputs), and applies it repeatedly to a list until there is\n",
    "only a single element left.\n",
    "\n",
    "`accumulate` is similar but it keeps all the interim results. You could\n",
    "use it to implement a cumulative sum:"
   ]
  },
  {
   "cell_type": "code",
   "execution_count": 218,
   "metadata": {},
   "outputs": [
    {
     "data": {
      "text/html": [
       "<style>\n",
       ".list-inline {list-style: none; margin:0; padding: 0}\n",
       ".list-inline>li {display: inline-block}\n",
       ".list-inline>li:not(:last-child)::after {content: \"\\00b7\"; padding: 0 .5ex}\n",
       "</style>\n",
       "<ol class=list-inline><li>10</li><li>9</li><li>6</li><li>1</li><li>2</li><li>5</li><li>3</li><li>7</li><li>8</li><li>4</li></ol>\n"
      ],
      "text/latex": [
       "\\begin{enumerate*}\n",
       "\\item 10\n",
       "\\item 9\n",
       "\\item 6\n",
       "\\item 1\n",
       "\\item 2\n",
       "\\item 5\n",
       "\\item 3\n",
       "\\item 7\n",
       "\\item 8\n",
       "\\item 4\n",
       "\\end{enumerate*}\n"
      ],
      "text/markdown": [
       "1. 10\n",
       "2. 9\n",
       "3. 6\n",
       "4. 1\n",
       "5. 2\n",
       "6. 5\n",
       "7. 3\n",
       "8. 7\n",
       "9. 8\n",
       "10. 4\n",
       "\n",
       "\n"
      ],
      "text/plain": [
       " [1] 10  9  6  1  2  5  3  7  8  4"
      ]
     },
     "metadata": {},
     "output_type": "display_data"
    }
   ],
   "source": [
    "x <- sample(10)\n",
    "x"
   ]
  },
  {
   "cell_type": "code",
   "execution_count": 219,
   "metadata": {},
   "outputs": [
    {
     "data": {
      "text/html": [
       "<style>\n",
       ".list-inline {list-style: none; margin:0; padding: 0}\n",
       ".list-inline>li {display: inline-block}\n",
       ".list-inline>li:not(:last-child)::after {content: \"\\00b7\"; padding: 0 .5ex}\n",
       "</style>\n",
       "<ol class=list-inline><li>10</li><li>19</li><li>25</li><li>26</li><li>28</li><li>33</li><li>36</li><li>43</li><li>51</li><li>55</li></ol>\n"
      ],
      "text/latex": [
       "\\begin{enumerate*}\n",
       "\\item 10\n",
       "\\item 19\n",
       "\\item 25\n",
       "\\item 26\n",
       "\\item 28\n",
       "\\item 33\n",
       "\\item 36\n",
       "\\item 43\n",
       "\\item 51\n",
       "\\item 55\n",
       "\\end{enumerate*}\n"
      ],
      "text/markdown": [
       "1. 10\n",
       "2. 19\n",
       "3. 25\n",
       "4. 26\n",
       "5. 28\n",
       "6. 33\n",
       "7. 36\n",
       "8. 43\n",
       "9. 51\n",
       "10. 55\n",
       "\n",
       "\n"
      ],
      "text/plain": [
       " [1] 10 19 25 26 28 33 36 43 51 55"
      ]
     },
     "metadata": {},
     "output_type": "display_data"
    }
   ],
   "source": [
    "x %>%\n",
    "    accumulate(`+`)"
   ]
  },
  {
   "cell_type": "code",
   "execution_count": null,
   "metadata": {},
   "outputs": [],
   "source": []
  }
 ],
 "metadata": {
  "kernelspec": {
   "display_name": "R",
   "language": "R",
   "name": "ir"
  },
  "language_info": {
   "codemirror_mode": "r",
   "file_extension": ".r",
   "mimetype": "text/x-r-source",
   "name": "R",
   "pygments_lexer": "r",
   "version": "4.0.2"
  }
 },
 "nbformat": 4,
 "nbformat_minor": 4
}
