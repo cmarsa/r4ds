{
 "cells": [
  {
   "cell_type": "markdown",
   "metadata": {},
   "source": [
    "# <div style=\"text-align: right\"> Chapter __16__</div>"
   ]
  },
  {
   "cell_type": "markdown",
   "metadata": {},
   "source": [
    "# __Vectors__"
   ]
  },
  {
   "cell_type": "code",
   "execution_count": 110,
   "metadata": {},
   "outputs": [],
   "source": [
    "# config\n",
    "repr_html.tbl_df <- function(obj, ..., rows = 6) repr:::repr_html.data.frame(obj, ..., rows = rows)\n",
    "options(dplyr.summarise.inform = FALSE)"
   ]
  },
  {
   "cell_type": "code",
   "execution_count": 4,
   "metadata": {},
   "outputs": [
    {
     "name": "stderr",
     "output_type": "stream",
     "text": [
      "── \u001b[1mAttaching packages\u001b[22m ─────────────────────────────────────── tidyverse 1.3.0 ──\n",
      "\n",
      "\u001b[32m✔\u001b[39m \u001b[34mggplot2\u001b[39m 3.3.2     \u001b[32m✔\u001b[39m \u001b[34mpurrr  \u001b[39m 0.3.4\n",
      "\u001b[32m✔\u001b[39m \u001b[34mtibble \u001b[39m 3.0.3     \u001b[32m✔\u001b[39m \u001b[34mdplyr  \u001b[39m 1.0.1\n",
      "\u001b[32m✔\u001b[39m \u001b[34mtidyr  \u001b[39m 1.1.1     \u001b[32m✔\u001b[39m \u001b[34mstringr\u001b[39m 1.4.0\n",
      "\u001b[32m✔\u001b[39m \u001b[34mreadr  \u001b[39m 1.3.1     \u001b[32m✔\u001b[39m \u001b[34mforcats\u001b[39m 0.5.0\n",
      "\n",
      "── \u001b[1mConflicts\u001b[22m ────────────────────────────────────────── tidyverse_conflicts() ──\n",
      "\u001b[31m✖\u001b[39m \u001b[34mdplyr\u001b[39m::\u001b[32mfilter()\u001b[39m masks \u001b[34mstats\u001b[39m::filter()\n",
      "\u001b[31m✖\u001b[39m \u001b[34mdplyr\u001b[39m::\u001b[32mlag()\u001b[39m    masks \u001b[34mstats\u001b[39m::lag()\n",
      "\n"
     ]
    }
   ],
   "source": [
    "library(tidyverse)"
   ]
  },
  {
   "cell_type": "markdown",
   "metadata": {},
   "source": [
    "## __Vector Basics__"
   ]
  },
  {
   "cell_type": "markdown",
   "metadata": {},
   "source": [
    "There are two types of vectors:\n",
    "* Atomic vectors, of which there are six types: logical, integer, dou‐\n",
    "ble, character, complex, and raw. Integer and double vectors are\n",
    "collectively known as numeric vectors.\n",
    "* Lists, which are sometimes called recursive vectors because lists\n",
    "can contain other lists."
   ]
  },
  {
   "cell_type": "markdown",
   "metadata": {},
   "source": [
    "__The chief difference between atomic vectors and lists is that atomic\n",
    "vectors are homogeneous, while lists can be heterogeneous. There’s\n",
    "one other related object:__\n",
    "\n",
    "__NULL . NULL is often used to represent the\n",
    "absence of a vector (as opposed to NA , which is used to represent the\n",
    "absence of a value in a vector). NULL typically behaves like a vector of\n",
    "length 0.__"
   ]
  },
  {
   "cell_type": "markdown",
   "metadata": {},
   "source": [
    "Every vector has two key properties:"
   ]
  },
  {
   "cell_type": "markdown",
   "metadata": {},
   "source": [
    "* Its type, which you can determine with `typeof()` :"
   ]
  },
  {
   "cell_type": "code",
   "execution_count": 5,
   "metadata": {},
   "outputs": [
    {
     "data": {
      "text/html": [
       "'character'"
      ],
      "text/latex": [
       "'character'"
      ],
      "text/markdown": [
       "'character'"
      ],
      "text/plain": [
       "[1] \"character\""
      ]
     },
     "metadata": {},
     "output_type": "display_data"
    }
   ],
   "source": [
    "typeof(letters)"
   ]
  },
  {
   "cell_type": "code",
   "execution_count": 6,
   "metadata": {},
   "outputs": [
    {
     "data": {
      "text/html": [
       "'integer'"
      ],
      "text/latex": [
       "'integer'"
      ],
      "text/markdown": [
       "'integer'"
      ],
      "text/plain": [
       "[1] \"integer\""
      ]
     },
     "metadata": {},
     "output_type": "display_data"
    }
   ],
   "source": [
    "typeof(1:10)"
   ]
  },
  {
   "cell_type": "markdown",
   "metadata": {},
   "source": [
    "* Its length, which you can determine with `length()` :"
   ]
  },
  {
   "cell_type": "code",
   "execution_count": 7,
   "metadata": {},
   "outputs": [
    {
     "data": {
      "text/html": [
       "3"
      ],
      "text/latex": [
       "3"
      ],
      "text/markdown": [
       "3"
      ],
      "text/plain": [
       "[1] 3"
      ]
     },
     "metadata": {},
     "output_type": "display_data"
    }
   ],
   "source": [
    "x <- list('a', 'b', 1:10)\n",
    "length(x)"
   ]
  },
  {
   "cell_type": "markdown",
   "metadata": {},
   "source": [
    "Vectors can also contain arbitrary additional metadata in the form\n",
    "of attributes. These attributes are used to create augmented vectors,\n",
    "which build on additional behavior. There are four important types\n",
    "of augmented vector:"
   ]
  },
  {
   "cell_type": "markdown",
   "metadata": {},
   "source": [
    "* Factors are built on top of integer vectors.\n",
    "* Dates and date-times are built on top of numeric vectors.\n",
    "* Data frames and tibbles are built on top of lists."
   ]
  },
  {
   "cell_type": "markdown",
   "metadata": {},
   "source": [
    "## Important Types of Atomic Vector"
   ]
  },
  {
   "cell_type": "markdown",
   "metadata": {},
   "source": [
    "The four most important types of atomic vector are logical, integer,\n",
    "double, and character. Raw and complex are rarely used during a\n",
    "data analysis."
   ]
  },
  {
   "cell_type": "markdown",
   "metadata": {},
   "source": [
    "### Logical"
   ]
  },
  {
   "cell_type": "markdown",
   "metadata": {},
   "source": [
    "Logical vectors are the simplest type of atomic vector because they\n",
    "can take only three possible values: FALSE , TRUE , and NA . Logical vectors are usually constructed with comparison operators."
   ]
  },
  {
   "cell_type": "code",
   "execution_count": 8,
   "metadata": {},
   "outputs": [
    {
     "data": {
      "text/html": [
       "<style>\n",
       ".list-inline {list-style: none; margin:0; padding: 0}\n",
       ".list-inline>li {display: inline-block}\n",
       ".list-inline>li:not(:last-child)::after {content: \"\\00b7\"; padding: 0 .5ex}\n",
       "</style>\n",
       "<ol class=list-inline><li>FALSE</li><li>FALSE</li><li>TRUE</li><li>FALSE</li><li>FALSE</li><li>TRUE</li><li>FALSE</li><li>FALSE</li><li>TRUE</li><li>FALSE</li></ol>\n"
      ],
      "text/latex": [
       "\\begin{enumerate*}\n",
       "\\item FALSE\n",
       "\\item FALSE\n",
       "\\item TRUE\n",
       "\\item FALSE\n",
       "\\item FALSE\n",
       "\\item TRUE\n",
       "\\item FALSE\n",
       "\\item FALSE\n",
       "\\item TRUE\n",
       "\\item FALSE\n",
       "\\end{enumerate*}\n"
      ],
      "text/markdown": [
       "1. FALSE\n",
       "2. FALSE\n",
       "3. TRUE\n",
       "4. FALSE\n",
       "5. FALSE\n",
       "6. TRUE\n",
       "7. FALSE\n",
       "8. FALSE\n",
       "9. TRUE\n",
       "10. FALSE\n",
       "\n",
       "\n"
      ],
      "text/plain": [
       " [1] FALSE FALSE  TRUE FALSE FALSE  TRUE FALSE FALSE  TRUE FALSE"
      ]
     },
     "metadata": {},
     "output_type": "display_data"
    }
   ],
   "source": [
    "1:10 %% 3 == 0"
   ]
  },
  {
   "cell_type": "code",
   "execution_count": 9,
   "metadata": {},
   "outputs": [
    {
     "data": {
      "text/html": [
       "<style>\n",
       ".list-inline {list-style: none; margin:0; padding: 0}\n",
       ".list-inline>li {display: inline-block}\n",
       ".list-inline>li:not(:last-child)::after {content: \"\\00b7\"; padding: 0 .5ex}\n",
       "</style>\n",
       "<ol class=list-inline><li>TRUE</li><li>TRUE</li><li>FALSE</li><li>&lt;NA&gt;</li></ol>\n"
      ],
      "text/latex": [
       "\\begin{enumerate*}\n",
       "\\item TRUE\n",
       "\\item TRUE\n",
       "\\item FALSE\n",
       "\\item <NA>\n",
       "\\end{enumerate*}\n"
      ],
      "text/markdown": [
       "1. TRUE\n",
       "2. TRUE\n",
       "3. FALSE\n",
       "4. &lt;NA&gt;\n",
       "\n",
       "\n"
      ],
      "text/plain": [
       "[1]  TRUE  TRUE FALSE    NA"
      ]
     },
     "metadata": {},
     "output_type": "display_data"
    }
   ],
   "source": [
    "c(TRUE, TRUE, FALSE, NA)"
   ]
  },
  {
   "cell_type": "markdown",
   "metadata": {},
   "source": [
    "### Numeric"
   ]
  },
  {
   "cell_type": "markdown",
   "metadata": {},
   "source": [
    "Integer and double vectors are known collectively as numeric vectors. In R, numbers are doubles by default. To make an integer, place\n",
    "a L after the number:"
   ]
  },
  {
   "cell_type": "code",
   "execution_count": 10,
   "metadata": {},
   "outputs": [
    {
     "data": {
      "text/html": [
       "'double'"
      ],
      "text/latex": [
       "'double'"
      ],
      "text/markdown": [
       "'double'"
      ],
      "text/plain": [
       "[1] \"double\""
      ]
     },
     "metadata": {},
     "output_type": "display_data"
    }
   ],
   "source": [
    "typeof(1)"
   ]
  },
  {
   "cell_type": "code",
   "execution_count": 11,
   "metadata": {},
   "outputs": [
    {
     "data": {
      "text/html": [
       "'integer'"
      ],
      "text/latex": [
       "'integer'"
      ],
      "text/markdown": [
       "'integer'"
      ],
      "text/plain": [
       "[1] \"integer\""
      ]
     },
     "metadata": {},
     "output_type": "display_data"
    }
   ],
   "source": [
    "typeof(1L)"
   ]
  },
  {
   "cell_type": "markdown",
   "metadata": {},
   "source": [
    "The distinction between integers and doubles is not usually impor‐\n",
    "tant, but there are two important differences that you should be\n",
    "aware of:\n",
    "\n",
    "* Doubles are approximations. Doubles represent floating-point\n",
    "numbers that cannot always be precisely represented with a\n",
    "fixed amount of memory. This means that you should consider\n",
    "all doubles to be approximations. For example, what is square of\n",
    "the square root of two?"
   ]
  },
  {
   "cell_type": "code",
   "execution_count": 12,
   "metadata": {},
   "outputs": [
    {
     "data": {
      "text/html": [
       "2"
      ],
      "text/latex": [
       "2"
      ],
      "text/markdown": [
       "2"
      ],
      "text/plain": [
       "[1] 2"
      ]
     },
     "metadata": {},
     "output_type": "display_data"
    }
   ],
   "source": [
    "x <- sqrt(2) ^ 2\n",
    "x"
   ]
  },
  {
   "cell_type": "code",
   "execution_count": 13,
   "metadata": {},
   "outputs": [
    {
     "data": {
      "text/html": [
       "4.44089209850063e-16"
      ],
      "text/latex": [
       "4.44089209850063e-16"
      ],
      "text/markdown": [
       "4.44089209850063e-16"
      ],
      "text/plain": [
       "[1] 4.440892e-16"
      ]
     },
     "metadata": {},
     "output_type": "display_data"
    }
   ],
   "source": [
    "x - 2"
   ]
  },
  {
   "cell_type": "markdown",
   "metadata": {},
   "source": [
    "This behavior is common when working with floating-point\n",
    "numbers: most calculations include some approximation error.\n",
    "Instead of comparing floating-point numbers using `==` , you\n",
    "should use `dplyr::near()` , which allows for some numerical\n",
    "tolerance."
   ]
  },
  {
   "cell_type": "markdown",
   "metadata": {},
   "source": [
    "* Integers have one special value, NA , while doubles have four, NA ,\n",
    "NaN , Inf , and -Inf . All three special values can arise during\n",
    "division:"
   ]
  },
  {
   "cell_type": "code",
   "execution_count": 14,
   "metadata": {},
   "outputs": [
    {
     "data": {
      "text/html": [
       "<style>\n",
       ".list-inline {list-style: none; margin:0; padding: 0}\n",
       ".list-inline>li {display: inline-block}\n",
       ".list-inline>li:not(:last-child)::after {content: \"\\00b7\"; padding: 0 .5ex}\n",
       "</style>\n",
       "<ol class=list-inline><li>-Inf</li><li>NaN</li><li>Inf</li></ol>\n"
      ],
      "text/latex": [
       "\\begin{enumerate*}\n",
       "\\item -Inf\n",
       "\\item NaN\n",
       "\\item Inf\n",
       "\\end{enumerate*}\n"
      ],
      "text/markdown": [
       "1. -Inf\n",
       "2. NaN\n",
       "3. Inf\n",
       "\n",
       "\n"
      ],
      "text/plain": [
       "[1] -Inf  NaN  Inf"
      ]
     },
     "metadata": {},
     "output_type": "display_data"
    }
   ],
   "source": [
    "c(-1, 0, 1) / 0"
   ]
  },
  {
   "cell_type": "markdown",
   "metadata": {},
   "source": [
    "Avoid using `==` to check for these other special values. Instead\n",
    "use the helper functions  `is.finite()` , `is.infinite()` , and\n",
    "`is.nan()` :"
   ]
  },
  {
   "cell_type": "markdown",
   "metadata": {},
   "source": [
    "### Missing Values"
   ]
  },
  {
   "cell_type": "code",
   "execution_count": 17,
   "metadata": {},
   "outputs": [
    {
     "data": {
      "text/html": [
       "&lt;NA&gt;"
      ],
      "text/latex": [
       "<NA>"
      ],
      "text/markdown": [
       "&lt;NA&gt;"
      ],
      "text/plain": [
       "[1] NA"
      ]
     },
     "metadata": {},
     "output_type": "display_data"
    },
    {
     "data": {
      "text/html": [
       "&lt;NA&gt;"
      ],
      "text/latex": [
       "<NA>"
      ],
      "text/markdown": [
       "&lt;NA&gt;"
      ],
      "text/plain": [
       "[1] NA"
      ]
     },
     "metadata": {},
     "output_type": "display_data"
    },
    {
     "data": {
      "text/html": [
       "&lt;NA&gt;"
      ],
      "text/latex": [
       "<NA>"
      ],
      "text/markdown": [
       "&lt;NA&gt;"
      ],
      "text/plain": [
       "[1] NA"
      ]
     },
     "metadata": {},
     "output_type": "display_data"
    },
    {
     "data": {
      "text/html": [
       "NA"
      ],
      "text/latex": [
       "NA"
      ],
      "text/markdown": [
       "NA"
      ],
      "text/plain": [
       "[1] NA"
      ]
     },
     "metadata": {},
     "output_type": "display_data"
    }
   ],
   "source": [
    "(NA) # logical\n",
    "(NA_integer_) # integer\n",
    "(NA_real_) # double\n",
    "(NA_character_) # character"
   ]
  },
  {
   "cell_type": "markdown",
   "metadata": {},
   "source": [
    "## Using Atomic Vectors"
   ]
  },
  {
   "cell_type": "markdown",
   "metadata": {},
   "source": [
    "Now that you understand the different types of atomic vector, it’s\n",
    "useful to review some of the important tools for working with them.\n",
    "These include:\n",
    "* How to convert from one type to another, and when that hap‐\n",
    "pens automatically.\n",
    "* How to tell if an object is a specific type of vector.\n",
    "* What happens when you work with vectors of different lengths.\n",
    "* How to name the elements of a vector.\n",
    "* How to pull out elements of interest."
   ]
  },
  {
   "cell_type": "markdown",
   "metadata": {},
   "source": [
    "### Coercion"
   ]
  },
  {
   "cell_type": "markdown",
   "metadata": {},
   "source": [
    "There are two ways to convert, or coerce, one type of vector to\n",
    "another:"
   ]
  },
  {
   "cell_type": "markdown",
   "metadata": {},
   "source": [
    "* Explicit coercion happens when you call a function like \n",
    "`as.logical()` , `as.integer()` , `as.double()` , or `as.character()` . Whenever you find yourself using explicit coercion, you should\n",
    "always check whether you can make the fix upstream, so that\n",
    "the vector never had the wrong type in the first place. For example, you may need to tweak your readr `col_types` specification.\n",
    "\n",
    "* Implicit coercion happens when you use a vector in a specific\n",
    "context that expects a certain type of vector. For example, when\n",
    "you use a logical vector with a numeric summary function, or\n",
    "when you use a double vector where an integer vector is\n",
    "expected."
   ]
  },
  {
   "cell_type": "markdown",
   "metadata": {},
   "source": [
    "You’ve already seen the most important type of implicit coercion:\n",
    "using a logical vector in a numeric context. In this case TRUE is converted to 1 and FALSE is converted to 0. That means the sum of a\n",
    "logical vector is the number of trues, and the mean of a logical vector is the proportion of trues:"
   ]
  },
  {
   "cell_type": "code",
   "execution_count": 18,
   "metadata": {},
   "outputs": [],
   "source": [
    "x <- sample(20, 100, replace = TRUE)\n",
    "y <- x > 10"
   ]
  },
  {
   "cell_type": "code",
   "execution_count": 19,
   "metadata": {},
   "outputs": [
    {
     "data": {
      "text/html": [
       "47"
      ],
      "text/latex": [
       "47"
      ],
      "text/markdown": [
       "47"
      ],
      "text/plain": [
       "[1] 47"
      ]
     },
     "metadata": {},
     "output_type": "display_data"
    }
   ],
   "source": [
    "sum(y)"
   ]
  },
  {
   "cell_type": "code",
   "execution_count": 20,
   "metadata": {},
   "outputs": [
    {
     "data": {
      "text/html": [
       "0.47"
      ],
      "text/latex": [
       "0.47"
      ],
      "text/markdown": [
       "0.47"
      ],
      "text/plain": [
       "[1] 0.47"
      ]
     },
     "metadata": {},
     "output_type": "display_data"
    }
   ],
   "source": [
    "mean(y)"
   ]
  },
  {
   "cell_type": "markdown",
   "metadata": {},
   "source": [
    "It’s also important to understand what happens when you try and\n",
    "create a vector containing multiple types with `c()` —the most com‐\n",
    "plex type always wins:"
   ]
  },
  {
   "cell_type": "code",
   "execution_count": 21,
   "metadata": {},
   "outputs": [
    {
     "data": {
      "text/html": [
       "'integer'"
      ],
      "text/latex": [
       "'integer'"
      ],
      "text/markdown": [
       "'integer'"
      ],
      "text/plain": [
       "[1] \"integer\""
      ]
     },
     "metadata": {},
     "output_type": "display_data"
    }
   ],
   "source": [
    "typeof(c(TRUE, 1L))"
   ]
  },
  {
   "cell_type": "code",
   "execution_count": 22,
   "metadata": {},
   "outputs": [
    {
     "data": {
      "text/html": [
       "'double'"
      ],
      "text/latex": [
       "'double'"
      ],
      "text/markdown": [
       "'double'"
      ],
      "text/plain": [
       "[1] \"double\""
      ]
     },
     "metadata": {},
     "output_type": "display_data"
    }
   ],
   "source": [
    "typeof(c(1L, 1.5))"
   ]
  },
  {
   "cell_type": "code",
   "execution_count": 23,
   "metadata": {},
   "outputs": [
    {
     "data": {
      "text/html": [
       "'character'"
      ],
      "text/latex": [
       "'character'"
      ],
      "text/markdown": [
       "'character'"
      ],
      "text/plain": [
       "[1] \"character\""
      ]
     },
     "metadata": {},
     "output_type": "display_data"
    }
   ],
   "source": [
    "typeof(c(1.5, 'a'))"
   ]
  },
  {
   "cell_type": "markdown",
   "metadata": {},
   "source": [
    "An atomic vector cannot have a mix of different types because the\n",
    "type is a property of the complete vector, not the individual elements. If you need to mix multiple types in the same vector, you\n",
    "should use a list, which you’ll learn about shortly"
   ]
  },
  {
   "cell_type": "markdown",
   "metadata": {},
   "source": [
    "### Test Functions"
   ]
  },
  {
   "cell_type": "markdown",
   "metadata": {},
   "source": [
    "Sometimes you want to do different things based on the type of vec‐\n",
    "tor. One option is to use `typeof()` . Another is to use a test function\n",
    "that returns a `TRUE` or `FALSE` . Base R provides many functions like\n",
    "`is.vector()` and `is.atomic()` , but they often return surprising\n",
    "results. Instead, it’s safer to use the `is_*` functions provided by\n",
    "__purrr__"
   ]
  },
  {
   "cell_type": "markdown",
   "metadata": {},
   "source": [
    "### Scalars and Recycling Rules"
   ]
  },
  {
   "cell_type": "markdown",
   "metadata": {},
   "source": [
    "As well as implicitly coercing the types of vectors to be compatible,\n",
    "R will also implicitly coerce the length of vectors. This is called vector recycling, because the shorter vector is repeated, or recycled, to\n",
    "the same length as the longer vector.\n",
    "This is generally most useful when you are mixing vectors and\n",
    "“scalars.” I put scalars in quotes because R doesn’t actually have\n",
    "scalars: instead, a single number is a vector of length 1. Because\n",
    "there are no scalars, most built-in functions are vectorized, meaning\n",
    "that they will operate on a vector of numbers. That’s why, for example, this code works:"
   ]
  },
  {
   "cell_type": "code",
   "execution_count": 26,
   "metadata": {},
   "outputs": [
    {
     "data": {
      "text/html": [
       "<style>\n",
       ".list-inline {list-style: none; margin:0; padding: 0}\n",
       ".list-inline>li {display: inline-block}\n",
       ".list-inline>li:not(:last-child)::after {content: \"\\00b7\"; padding: 0 .5ex}\n",
       "</style>\n",
       "<ol class=list-inline><li>101</li><li>108</li><li>106</li><li>104</li><li>107</li><li>103</li><li>110</li><li>102</li><li>105</li><li>109</li></ol>\n"
      ],
      "text/latex": [
       "\\begin{enumerate*}\n",
       "\\item 101\n",
       "\\item 108\n",
       "\\item 106\n",
       "\\item 104\n",
       "\\item 107\n",
       "\\item 103\n",
       "\\item 110\n",
       "\\item 102\n",
       "\\item 105\n",
       "\\item 109\n",
       "\\end{enumerate*}\n"
      ],
      "text/markdown": [
       "1. 101\n",
       "2. 108\n",
       "3. 106\n",
       "4. 104\n",
       "5. 107\n",
       "6. 103\n",
       "7. 110\n",
       "8. 102\n",
       "9. 105\n",
       "10. 109\n",
       "\n",
       "\n"
      ],
      "text/plain": [
       " [1] 101 108 106 104 107 103 110 102 105 109"
      ]
     },
     "metadata": {},
     "output_type": "display_data"
    }
   ],
   "source": [
    "sample(10) + 100"
   ]
  },
  {
   "cell_type": "code",
   "execution_count": 27,
   "metadata": {},
   "outputs": [
    {
     "data": {
      "text/html": [
       "<style>\n",
       ".list-inline {list-style: none; margin:0; padding: 0}\n",
       ".list-inline>li {display: inline-block}\n",
       ".list-inline>li:not(:last-child)::after {content: \"\\00b7\"; padding: 0 .5ex}\n",
       "</style>\n",
       "<ol class=list-inline><li>TRUE</li><li>TRUE</li><li>FALSE</li><li>FALSE</li><li>TRUE</li><li>FALSE</li><li>FALSE</li><li>TRUE</li><li>TRUE</li><li>FALSE</li></ol>\n"
      ],
      "text/latex": [
       "\\begin{enumerate*}\n",
       "\\item TRUE\n",
       "\\item TRUE\n",
       "\\item FALSE\n",
       "\\item FALSE\n",
       "\\item TRUE\n",
       "\\item FALSE\n",
       "\\item FALSE\n",
       "\\item TRUE\n",
       "\\item TRUE\n",
       "\\item FALSE\n",
       "\\end{enumerate*}\n"
      ],
      "text/markdown": [
       "1. TRUE\n",
       "2. TRUE\n",
       "3. FALSE\n",
       "4. FALSE\n",
       "5. TRUE\n",
       "6. FALSE\n",
       "7. FALSE\n",
       "8. TRUE\n",
       "9. TRUE\n",
       "10. FALSE\n",
       "\n",
       "\n"
      ],
      "text/plain": [
       " [1]  TRUE  TRUE FALSE FALSE  TRUE FALSE FALSE  TRUE  TRUE FALSE"
      ]
     },
     "metadata": {},
     "output_type": "display_data"
    }
   ],
   "source": [
    "runif(10) > 0.5"
   ]
  },
  {
   "cell_type": "markdown",
   "metadata": {},
   "source": [
    "In R, basic mathematical operations work with vectors. That means\n",
    "that you should never need to perform explicit iteration when performing simple mathematical computations.\n",
    "\n",
    "It’s intuitive what should happen if you add two vectors of the same\n",
    "length, or a vector and a “scalar,” but what happens if you add two\n",
    "vectors of different lengths?"
   ]
  },
  {
   "cell_type": "code",
   "execution_count": 28,
   "metadata": {},
   "outputs": [
    {
     "data": {
      "text/html": [
       "<style>\n",
       ".list-inline {list-style: none; margin:0; padding: 0}\n",
       ".list-inline>li {display: inline-block}\n",
       ".list-inline>li:not(:last-child)::after {content: \"\\00b7\"; padding: 0 .5ex}\n",
       "</style>\n",
       "<ol class=list-inline><li>2</li><li>4</li><li>4</li><li>6</li><li>6</li><li>8</li><li>8</li><li>10</li><li>10</li><li>12</li></ol>\n"
      ],
      "text/latex": [
       "\\begin{enumerate*}\n",
       "\\item 2\n",
       "\\item 4\n",
       "\\item 4\n",
       "\\item 6\n",
       "\\item 6\n",
       "\\item 8\n",
       "\\item 8\n",
       "\\item 10\n",
       "\\item 10\n",
       "\\item 12\n",
       "\\end{enumerate*}\n"
      ],
      "text/markdown": [
       "1. 2\n",
       "2. 4\n",
       "3. 4\n",
       "4. 6\n",
       "5. 6\n",
       "6. 8\n",
       "7. 8\n",
       "8. 10\n",
       "9. 10\n",
       "10. 12\n",
       "\n",
       "\n"
      ],
      "text/plain": [
       " [1]  2  4  4  6  6  8  8 10 10 12"
      ]
     },
     "metadata": {},
     "output_type": "display_data"
    }
   ],
   "source": [
    "1:10 + 1:2"
   ]
  },
  {
   "cell_type": "markdown",
   "metadata": {},
   "source": [
    "Here, R will expand the shortest vector to the same length as the\n",
    "longest, so-called recycling. This is silent except when the length of\n",
    "the longer is not an integer multiple of the length of the shorter:"
   ]
  },
  {
   "cell_type": "code",
   "execution_count": 30,
   "metadata": {},
   "outputs": [
    {
     "name": "stderr",
     "output_type": "stream",
     "text": [
      "Warning message in 1:10 + 1:3:\n",
      "“longer object length is not a multiple of shorter object length”\n"
     ]
    },
    {
     "data": {
      "text/html": [
       "<style>\n",
       ".list-inline {list-style: none; margin:0; padding: 0}\n",
       ".list-inline>li {display: inline-block}\n",
       ".list-inline>li:not(:last-child)::after {content: \"\\00b7\"; padding: 0 .5ex}\n",
       "</style>\n",
       "<ol class=list-inline><li>2</li><li>4</li><li>6</li><li>5</li><li>7</li><li>9</li><li>8</li><li>10</li><li>12</li><li>11</li></ol>\n"
      ],
      "text/latex": [
       "\\begin{enumerate*}\n",
       "\\item 2\n",
       "\\item 4\n",
       "\\item 6\n",
       "\\item 5\n",
       "\\item 7\n",
       "\\item 9\n",
       "\\item 8\n",
       "\\item 10\n",
       "\\item 12\n",
       "\\item 11\n",
       "\\end{enumerate*}\n"
      ],
      "text/markdown": [
       "1. 2\n",
       "2. 4\n",
       "3. 6\n",
       "4. 5\n",
       "5. 7\n",
       "6. 9\n",
       "7. 8\n",
       "8. 10\n",
       "9. 12\n",
       "10. 11\n",
       "\n",
       "\n"
      ],
      "text/plain": [
       " [1]  2  4  6  5  7  9  8 10 12 11"
      ]
     },
     "metadata": {},
     "output_type": "display_data"
    }
   ],
   "source": [
    "1:10 + 1:3"
   ]
  },
  {
   "cell_type": "markdown",
   "metadata": {},
   "source": [
    "While vector recycling can be used to create very succinct, clever\n",
    "code, it can also silently conceal problems. For this reason, the vectorized functions in tidyverse will throw errors when you recycle\n",
    "anything other than a scalar. If you do want to recycle, you’ll need to\n",
    "do it yourself with `rep()` :"
   ]
  },
  {
   "cell_type": "code",
   "execution_count": 31,
   "metadata": {},
   "outputs": [
    {
     "ename": "ERROR",
     "evalue": "Error: Tibble columns must have compatible sizes.\n* Size 4: Existing data.\n* Size 2: Column `y`.\n\u001b[34mℹ\u001b[39m Only values of size one are recycled.\n",
     "output_type": "error",
     "traceback": [
      "Error: Tibble columns must have compatible sizes.\n* Size 4: Existing data.\n* Size 2: Column `y`.\n\u001b[34mℹ\u001b[39m Only values of size one are recycled.\nTraceback:\n",
      "1. tibble(x = 1:4, y = 1:2)",
      "2. tibble_quos(xs[!is.null], .rows, .name_repair)",
      "3. vectbl_recycle_rows(res, first_size, j, given_col_names[[j]])",
      "4. cnd_signal(error_incompatible_size(n, name, size, \"Existing data\"))",
      "5. signal_abort(cnd)"
     ]
    }
   ],
   "source": [
    "tibble(x = 1:4, y = 1:2)"
   ]
  },
  {
   "cell_type": "code",
   "execution_count": 32,
   "metadata": {},
   "outputs": [
    {
     "data": {
      "text/html": [
       "<table>\n",
       "<caption>A tibble: 4 × 2</caption>\n",
       "<thead>\n",
       "\t<tr><th scope=col>1:4</th><th scope=col>y</th></tr>\n",
       "\t<tr><th scope=col>&lt;int&gt;</th><th scope=col>&lt;int&gt;</th></tr>\n",
       "</thead>\n",
       "<tbody>\n",
       "\t<tr><td>1</td><td>1</td></tr>\n",
       "\t<tr><td>2</td><td>2</td></tr>\n",
       "\t<tr><td>3</td><td>1</td></tr>\n",
       "\t<tr><td>4</td><td>2</td></tr>\n",
       "</tbody>\n",
       "</table>\n"
      ],
      "text/latex": [
       "A tibble: 4 × 2\n",
       "\\begin{tabular}{ll}\n",
       " 1:4 & y\\\\\n",
       " <int> & <int>\\\\\n",
       "\\hline\n",
       "\t 1 & 1\\\\\n",
       "\t 2 & 2\\\\\n",
       "\t 3 & 1\\\\\n",
       "\t 4 & 2\\\\\n",
       "\\end{tabular}\n"
      ],
      "text/markdown": [
       "\n",
       "A tibble: 4 × 2\n",
       "\n",
       "| 1:4 &lt;int&gt; | y &lt;int&gt; |\n",
       "|---|---|\n",
       "| 1 | 1 |\n",
       "| 2 | 2 |\n",
       "| 3 | 1 |\n",
       "| 4 | 2 |\n",
       "\n"
      ],
      "text/plain": [
       "  1:4 y\n",
       "1 1   1\n",
       "2 2   2\n",
       "3 3   1\n",
       "4 4   2"
      ]
     },
     "metadata": {},
     "output_type": "display_data"
    }
   ],
   "source": [
    "tibble(1:4, y = rep(1:2, 2))"
   ]
  },
  {
   "cell_type": "code",
   "execution_count": 33,
   "metadata": {},
   "outputs": [
    {
     "data": {
      "text/html": [
       "<table>\n",
       "<caption>A tibble: 4 × 2</caption>\n",
       "<thead>\n",
       "\t<tr><th scope=col>x</th><th scope=col>y</th></tr>\n",
       "\t<tr><th scope=col>&lt;int&gt;</th><th scope=col>&lt;int&gt;</th></tr>\n",
       "</thead>\n",
       "<tbody>\n",
       "\t<tr><td>1</td><td>1</td></tr>\n",
       "\t<tr><td>2</td><td>1</td></tr>\n",
       "\t<tr><td>3</td><td>2</td></tr>\n",
       "\t<tr><td>4</td><td>2</td></tr>\n",
       "</tbody>\n",
       "</table>\n"
      ],
      "text/latex": [
       "A tibble: 4 × 2\n",
       "\\begin{tabular}{ll}\n",
       " x & y\\\\\n",
       " <int> & <int>\\\\\n",
       "\\hline\n",
       "\t 1 & 1\\\\\n",
       "\t 2 & 1\\\\\n",
       "\t 3 & 2\\\\\n",
       "\t 4 & 2\\\\\n",
       "\\end{tabular}\n"
      ],
      "text/markdown": [
       "\n",
       "A tibble: 4 × 2\n",
       "\n",
       "| x &lt;int&gt; | y &lt;int&gt; |\n",
       "|---|---|\n",
       "| 1 | 1 |\n",
       "| 2 | 1 |\n",
       "| 3 | 2 |\n",
       "| 4 | 2 |\n",
       "\n"
      ],
      "text/plain": [
       "  x y\n",
       "1 1 1\n",
       "2 2 1\n",
       "3 3 2\n",
       "4 4 2"
      ]
     },
     "metadata": {},
     "output_type": "display_data"
    }
   ],
   "source": [
    "tibble(x = 1:4, y = rep(1:2, each = 2))"
   ]
  },
  {
   "cell_type": "markdown",
   "metadata": {},
   "source": [
    "All types of vectors can be named. You can name them during cre‐\n",
    "ation with `c()` :"
   ]
  },
  {
   "cell_type": "code",
   "execution_count": 34,
   "metadata": {},
   "outputs": [
    {
     "data": {
      "text/html": [
       "<style>\n",
       ".dl-inline {width: auto; margin:0; padding: 0}\n",
       ".dl-inline>dt, .dl-inline>dd {float: none; width: auto; display: inline-block}\n",
       ".dl-inline>dt::after {content: \":\\0020\"; padding-right: .5ex}\n",
       ".dl-inline>dt:not(:first-of-type) {padding-left: .5ex}\n",
       "</style><dl class=dl-inline><dt>x</dt><dd>1</dd><dt>y</dt><dd>2</dd><dt>z</dt><dd>4</dd></dl>\n"
      ],
      "text/latex": [
       "\\begin{description*}\n",
       "\\item[x] 1\n",
       "\\item[y] 2\n",
       "\\item[z] 4\n",
       "\\end{description*}\n"
      ],
      "text/markdown": [
       "x\n",
       ":   1y\n",
       ":   2z\n",
       ":   4\n",
       "\n"
      ],
      "text/plain": [
       "x y z \n",
       "1 2 4 "
      ]
     },
     "metadata": {},
     "output_type": "display_data"
    }
   ],
   "source": [
    "c(x = 1, y = 2, z = 4)"
   ]
  },
  {
   "cell_type": "markdown",
   "metadata": {},
   "source": [
    "Or after the fact with `purrr::set_names()` :"
   ]
  },
  {
   "cell_type": "code",
   "execution_count": 35,
   "metadata": {},
   "outputs": [
    {
     "data": {
      "text/html": [
       "<style>\n",
       ".dl-inline {width: auto; margin:0; padding: 0}\n",
       ".dl-inline>dt, .dl-inline>dd {float: none; width: auto; display: inline-block}\n",
       ".dl-inline>dt::after {content: \":\\0020\"; padding-right: .5ex}\n",
       ".dl-inline>dt:not(:first-of-type) {padding-left: .5ex}\n",
       "</style><dl class=dl-inline><dt>a</dt><dd>1</dd><dt>b</dt><dd>2</dd><dt>c</dt><dd>3</dd></dl>\n"
      ],
      "text/latex": [
       "\\begin{description*}\n",
       "\\item[a] 1\n",
       "\\item[b] 2\n",
       "\\item[c] 3\n",
       "\\end{description*}\n"
      ],
      "text/markdown": [
       "a\n",
       ":   1b\n",
       ":   2c\n",
       ":   3\n",
       "\n"
      ],
      "text/plain": [
       "a b c \n",
       "1 2 3 "
      ]
     },
     "metadata": {},
     "output_type": "display_data"
    }
   ],
   "source": [
    "set_names(1:3, c('a', 'b', 'c'))"
   ]
  },
  {
   "cell_type": "markdown",
   "metadata": {},
   "source": [
    "## __Subsetting__"
   ]
  },
  {
   "cell_type": "markdown",
   "metadata": {},
   "source": [
    "So far we’ve used `dplyr::filter()` to filter the rows in a tibble. fil\n",
    "ter() only works with tibble, so we’ll need a new tool for vectors: \\[ .\n",
    "\\[ is the subsetting function, and is called like x\\[a\\] . There are four\n",
    "types of things that you can subset a vector with:"
   ]
  },
  {
   "cell_type": "markdown",
   "metadata": {},
   "source": [
    "* A numeric vector containing only integers. The integers must\n",
    "either be all positive, all negative, or zero.\n",
    "Subsetting with positive integers keeps the elements at those\n",
    "positions:"
   ]
  },
  {
   "cell_type": "code",
   "execution_count": 36,
   "metadata": {},
   "outputs": [
    {
     "data": {
      "text/html": [
       "<style>\n",
       ".list-inline {list-style: none; margin:0; padding: 0}\n",
       ".list-inline>li {display: inline-block}\n",
       ".list-inline>li:not(:last-child)::after {content: \"\\00b7\"; padding: 0 .5ex}\n",
       "</style>\n",
       "<ol class=list-inline><li>'three'</li><li>'two'</li><li>'five'</li></ol>\n"
      ],
      "text/latex": [
       "\\begin{enumerate*}\n",
       "\\item 'three'\n",
       "\\item 'two'\n",
       "\\item 'five'\n",
       "\\end{enumerate*}\n"
      ],
      "text/markdown": [
       "1. 'three'\n",
       "2. 'two'\n",
       "3. 'five'\n",
       "\n",
       "\n"
      ],
      "text/plain": [
       "[1] \"three\" \"two\"   \"five\" "
      ]
     },
     "metadata": {},
     "output_type": "display_data"
    }
   ],
   "source": [
    "x <- c('one', 'two', 'three', 'four', 'five')\n",
    "x[c(3, 2, 5)]"
   ]
  },
  {
   "cell_type": "markdown",
   "metadata": {},
   "source": [
    "By repeating a position, you can actually make a longer output\n",
    "than input:"
   ]
  },
  {
   "cell_type": "code",
   "execution_count": 37,
   "metadata": {},
   "outputs": [
    {
     "data": {
      "text/html": [
       "<style>\n",
       ".list-inline {list-style: none; margin:0; padding: 0}\n",
       ".list-inline>li {display: inline-block}\n",
       ".list-inline>li:not(:last-child)::after {content: \"\\00b7\"; padding: 0 .5ex}\n",
       "</style>\n",
       "<ol class=list-inline><li>'one'</li><li>'one'</li><li>'five'</li><li>'five'</li><li>'five'</li><li>'two'</li></ol>\n"
      ],
      "text/latex": [
       "\\begin{enumerate*}\n",
       "\\item 'one'\n",
       "\\item 'one'\n",
       "\\item 'five'\n",
       "\\item 'five'\n",
       "\\item 'five'\n",
       "\\item 'two'\n",
       "\\end{enumerate*}\n"
      ],
      "text/markdown": [
       "1. 'one'\n",
       "2. 'one'\n",
       "3. 'five'\n",
       "4. 'five'\n",
       "5. 'five'\n",
       "6. 'two'\n",
       "\n",
       "\n"
      ],
      "text/plain": [
       "[1] \"one\"  \"one\"  \"five\" \"five\" \"five\" \"two\" "
      ]
     },
     "metadata": {},
     "output_type": "display_data"
    }
   ],
   "source": [
    "x[c(1, 1, 5, 5, 5, 2)]"
   ]
  },
  {
   "cell_type": "markdown",
   "metadata": {},
   "source": [
    "Negative values drop the elements at the specified positions:"
   ]
  },
  {
   "cell_type": "code",
   "execution_count": 38,
   "metadata": {},
   "outputs": [
    {
     "data": {
      "text/html": [
       "<style>\n",
       ".list-inline {list-style: none; margin:0; padding: 0}\n",
       ".list-inline>li {display: inline-block}\n",
       ".list-inline>li:not(:last-child)::after {content: \"\\00b7\"; padding: 0 .5ex}\n",
       "</style>\n",
       "<ol class=list-inline><li>'two'</li><li>'four'</li></ol>\n"
      ],
      "text/latex": [
       "\\begin{enumerate*}\n",
       "\\item 'two'\n",
       "\\item 'four'\n",
       "\\end{enumerate*}\n"
      ],
      "text/markdown": [
       "1. 'two'\n",
       "2. 'four'\n",
       "\n",
       "\n"
      ],
      "text/plain": [
       "[1] \"two\"  \"four\""
      ]
     },
     "metadata": {},
     "output_type": "display_data"
    }
   ],
   "source": [
    "x[c(-1, -3, -5)]"
   ]
  },
  {
   "cell_type": "markdown",
   "metadata": {},
   "source": [
    "It’s an error to mix positive and negative values:"
   ]
  },
  {
   "cell_type": "code",
   "execution_count": 40,
   "metadata": {},
   "outputs": [
    {
     "ename": "ERROR",
     "evalue": "Error in x[c(1, -1)]: only 0's may be mixed with negative subscripts\n",
     "output_type": "error",
     "traceback": [
      "Error in x[c(1, -1)]: only 0's may be mixed with negative subscripts\nTraceback:\n"
     ]
    }
   ],
   "source": [
    "x[c(1, -1)]"
   ]
  },
  {
   "cell_type": "markdown",
   "metadata": {},
   "source": [
    "The error message mentions subsetting with zero, which returns\n",
    "no values"
   ]
  },
  {
   "cell_type": "code",
   "execution_count": 42,
   "metadata": {},
   "outputs": [
    {
     "data": {
      "text/html": [],
      "text/latex": [],
      "text/markdown": [],
      "text/plain": [
       "character(0)"
      ]
     },
     "metadata": {},
     "output_type": "display_data"
    }
   ],
   "source": [
    "x[0]"
   ]
  },
  {
   "cell_type": "markdown",
   "metadata": {},
   "source": [
    "Subsetting with a logical vector keeps all values corresponding\n",
    "to a TRUE value. This is most often useful in conjunction with\n",
    "the comparison functions:"
   ]
  },
  {
   "cell_type": "code",
   "execution_count": 43,
   "metadata": {},
   "outputs": [
    {
     "data": {
      "text/html": [
       "<style>\n",
       ".list-inline {list-style: none; margin:0; padding: 0}\n",
       ".list-inline>li {display: inline-block}\n",
       ".list-inline>li:not(:last-child)::after {content: \"\\00b7\"; padding: 0 .5ex}\n",
       "</style>\n",
       "<ol class=list-inline><li>10</li><li>3</li><li>5</li><li>8</li><li>1</li></ol>\n"
      ],
      "text/latex": [
       "\\begin{enumerate*}\n",
       "\\item 10\n",
       "\\item 3\n",
       "\\item 5\n",
       "\\item 8\n",
       "\\item 1\n",
       "\\end{enumerate*}\n"
      ],
      "text/markdown": [
       "1. 10\n",
       "2. 3\n",
       "3. 5\n",
       "4. 8\n",
       "5. 1\n",
       "\n",
       "\n"
      ],
      "text/plain": [
       "[1] 10  3  5  8  1"
      ]
     },
     "metadata": {},
     "output_type": "display_data"
    }
   ],
   "source": [
    "x <- c(10, 3, NA, 5, 8, 1, NA)\n",
    "\n",
    "# all non-missing values of x\n",
    "x[!is.na(x)]"
   ]
  },
  {
   "cell_type": "code",
   "execution_count": 44,
   "metadata": {},
   "outputs": [
    {
     "data": {
      "text/html": [
       "<style>\n",
       ".list-inline {list-style: none; margin:0; padding: 0}\n",
       ".list-inline>li {display: inline-block}\n",
       ".list-inline>li:not(:last-child)::after {content: \"\\00b7\"; padding: 0 .5ex}\n",
       "</style>\n",
       "<ol class=list-inline><li>10</li><li>&lt;NA&gt;</li><li>8</li><li>&lt;NA&gt;</li></ol>\n"
      ],
      "text/latex": [
       "\\begin{enumerate*}\n",
       "\\item 10\n",
       "\\item <NA>\n",
       "\\item 8\n",
       "\\item <NA>\n",
       "\\end{enumerate*}\n"
      ],
      "text/markdown": [
       "1. 10\n",
       "2. &lt;NA&gt;\n",
       "3. 8\n",
       "4. &lt;NA&gt;\n",
       "\n",
       "\n"
      ],
      "text/plain": [
       "[1] 10 NA  8 NA"
      ]
     },
     "metadata": {},
     "output_type": "display_data"
    }
   ],
   "source": [
    "# all even (or missing!) values of x\n",
    "x[x %% 2 == 0]"
   ]
  },
  {
   "cell_type": "markdown",
   "metadata": {},
   "source": [
    "If you have a named vector, you can subset it with a character\n",
    "vector:"
   ]
  },
  {
   "cell_type": "code",
   "execution_count": 45,
   "metadata": {},
   "outputs": [
    {
     "data": {
      "text/html": [
       "<style>\n",
       ".dl-inline {width: auto; margin:0; padding: 0}\n",
       ".dl-inline>dt, .dl-inline>dd {float: none; width: auto; display: inline-block}\n",
       ".dl-inline>dt::after {content: \":\\0020\"; padding-right: .5ex}\n",
       ".dl-inline>dt:not(:first-of-type) {padding-left: .5ex}\n",
       "</style><dl class=dl-inline><dt>xyz</dt><dd>5</dd><dt>2</dt><dd>&lt;NA&gt;</dd></dl>\n"
      ],
      "text/latex": [
       "\\begin{description*}\n",
       "\\item[xyz] 5\n",
       "\\item[2] <NA>\n",
       "\\end{description*}\n"
      ],
      "text/markdown": [
       "xyz\n",
       ":   52\n",
       ":   &lt;NA&gt;\n",
       "\n"
      ],
      "text/plain": [
       " xyz <NA> \n",
       "   5   NA "
      ]
     },
     "metadata": {},
     "output_type": "display_data"
    }
   ],
   "source": [
    "x <- c(abc = 1, def = 2, xyz = 5)\n",
    "x[c('xyz', 'deg')]"
   ]
  },
  {
   "cell_type": "markdown",
   "metadata": {},
   "source": [
    "Like with positive integers, you can also use a character vector\n",
    "to duplicate individual entries."
   ]
  },
  {
   "cell_type": "markdown",
   "metadata": {},
   "source": [
    "The simplest type of subsetting is nothing, `x[]` , which returns\n",
    "the complete x . This is not useful for subsetting vectors, but it is\n",
    "useful when subsetting matrices (and other high-dimensional\n",
    "structures) because it lets you select all the rows or all the columns, by leaving that index blank. For example, if x is 2D, `x[1, ]` selects the first row and all the columns, and `x[, -1]`\n",
    "selects all rows and all columns except the first.\n"
   ]
  },
  {
   "cell_type": "markdown",
   "metadata": {},
   "source": [
    "There is an important variation of `[` called `[[` . `[[` only ever extracts a\n",
    "single element, and always drops names. It’s a good idea to use it\n",
    "whenever you want to make it clear that you’re extracting a single\n",
    "item, as in a for loop. The distinction between `[` and `[[` is most\n",
    "important for lists, as we’ll see shortly."
   ]
  },
  {
   "cell_type": "markdown",
   "metadata": {},
   "source": [
    " "
   ]
  },
  {
   "cell_type": "markdown",
   "metadata": {},
   "source": [
    "Excerciese\n",
    "\n",
    "\n",
    "\n",
    "What does mean(is.na(x)) tell you about a vector x? What about sum(!is.finite(x))?"
   ]
  },
  {
   "cell_type": "code",
   "execution_count": 47,
   "metadata": {},
   "outputs": [
    {
     "data": {
      "text/html": [
       "0.285714285714286"
      ],
      "text/latex": [
       "0.285714285714286"
      ],
      "text/markdown": [
       "0.285714285714286"
      ],
      "text/plain": [
       "[1] 0.2857143"
      ]
     },
     "metadata": {},
     "output_type": "display_data"
    },
    {
     "data": {
      "text/html": [
       "4"
      ],
      "text/latex": [
       "4"
      ],
      "text/markdown": [
       "4"
      ],
      "text/plain": [
       "[1] 4"
      ]
     },
     "metadata": {},
     "output_type": "display_data"
    }
   ],
   "source": [
    "x <- c(-Inf, -1, 0, 1, Inf, NA, NaN)\n",
    "(mean(is.na(x)))\n",
    "(sum(!is.finite(x)))"
   ]
  },
  {
   "cell_type": "markdown",
   "metadata": {},
   "source": [
    "Excercise\n",
    "\n",
    "Carefully read the documentation of `is.vector()`. What does it actually test for? Why does `is.atomic()` not agree with the definition of atomic vectors above?"
   ]
  },
  {
   "cell_type": "markdown",
   "metadata": {},
   "source": [
    "The function `is.vector()` only checks whether the object has no attributes other than names. Thus a `list` is a vector:"
   ]
  },
  {
   "cell_type": "code",
   "execution_count": 49,
   "metadata": {},
   "outputs": [
    {
     "data": {
      "text/html": [
       "TRUE"
      ],
      "text/latex": [
       "TRUE"
      ],
      "text/markdown": [
       "TRUE"
      ],
      "text/plain": [
       "[1] TRUE"
      ]
     },
     "metadata": {},
     "output_type": "display_data"
    }
   ],
   "source": [
    "is.vector(list(a = 1, b = 2))"
   ]
  },
  {
   "cell_type": "markdown",
   "metadata": {},
   "source": [
    "But any object that has an attribute (other than names) is not:"
   ]
  },
  {
   "cell_type": "code",
   "execution_count": 50,
   "metadata": {},
   "outputs": [
    {
     "data": {
      "text/html": [
       "FALSE"
      ],
      "text/latex": [
       "FALSE"
      ],
      "text/markdown": [
       "FALSE"
      ],
      "text/plain": [
       "[1] FALSE"
      ]
     },
     "metadata": {},
     "output_type": "display_data"
    }
   ],
   "source": [
    "x <- 1:10\n",
    "attr(x, 'something') <- TRUE\n",
    "is.vector(x)"
   ]
  },
  {
   "cell_type": "markdown",
   "metadata": {},
   "source": [
    "The idea behind this is that object oriented classes will include attributes, including, but not limited to `\"class\"`."
   ]
  },
  {
   "cell_type": "markdown",
   "metadata": {},
   "source": [
    "The function `is.atomic()` explicitly checks whether an object is one of the atomic types (“logical”, “integer”, “numeric”, “complex”, “character”, and “raw”) or NULL"
   ]
  },
  {
   "cell_type": "code",
   "execution_count": 52,
   "metadata": {},
   "outputs": [
    {
     "data": {
      "text/html": [
       "TRUE"
      ],
      "text/latex": [
       "TRUE"
      ],
      "text/markdown": [
       "TRUE"
      ],
      "text/plain": [
       "[1] TRUE"
      ]
     },
     "metadata": {},
     "output_type": "display_data"
    }
   ],
   "source": [
    "is.atomic(1:10)"
   ]
  },
  {
   "cell_type": "code",
   "execution_count": 54,
   "metadata": {},
   "outputs": [
    {
     "data": {
      "text/html": [
       "FALSE"
      ],
      "text/latex": [
       "FALSE"
      ],
      "text/markdown": [
       "FALSE"
      ],
      "text/plain": [
       "[1] FALSE"
      ]
     },
     "metadata": {},
     "output_type": "display_data"
    }
   ],
   "source": [
    "is.atomic(list(A = 1))"
   ]
  },
  {
   "cell_type": "markdown",
   "metadata": {},
   "source": [
    "The function `is.atomic()` will consider objects to be atomic even if they have extra attributes."
   ]
  },
  {
   "cell_type": "code",
   "execution_count": 55,
   "metadata": {},
   "outputs": [
    {
     "data": {
      "text/html": [
       "TRUE"
      ],
      "text/latex": [
       "TRUE"
      ],
      "text/markdown": [
       "TRUE"
      ],
      "text/plain": [
       "[1] TRUE"
      ]
     },
     "metadata": {},
     "output_type": "display_data"
    }
   ],
   "source": [
    "is.atomic(x)"
   ]
  },
  {
   "cell_type": "markdown",
   "metadata": {},
   "source": [
    "Excercise\n",
    "\n",
    "\n",
    "\n",
    "Compare and contrast `setNames()` with `purrr::set_names()`.\n"
   ]
  },
  {
   "cell_type": "markdown",
   "metadata": {},
   "source": [
    "The function `setNames()` takes two arguments, a vector to be named and a vector of names to apply to its elements."
   ]
  },
  {
   "cell_type": "code",
   "execution_count": 56,
   "metadata": {},
   "outputs": [
    {
     "data": {
      "text/html": [
       "<style>\n",
       ".dl-inline {width: auto; margin:0; padding: 0}\n",
       ".dl-inline>dt, .dl-inline>dd {float: none; width: auto; display: inline-block}\n",
       ".dl-inline>dt::after {content: \":\\0020\"; padding-right: .5ex}\n",
       ".dl-inline>dt:not(:first-of-type) {padding-left: .5ex}\n",
       "</style><dl class=dl-inline><dt>a</dt><dd>1</dd><dt>b</dt><dd>2</dd><dt>c</dt><dd>3</dd><dt>d</dt><dd>4</dd></dl>\n"
      ],
      "text/latex": [
       "\\begin{description*}\n",
       "\\item[a] 1\n",
       "\\item[b] 2\n",
       "\\item[c] 3\n",
       "\\item[d] 4\n",
       "\\end{description*}\n"
      ],
      "text/markdown": [
       "a\n",
       ":   1b\n",
       ":   2c\n",
       ":   3d\n",
       ":   4\n",
       "\n"
      ],
      "text/plain": [
       "a b c d \n",
       "1 2 3 4 "
      ]
     },
     "metadata": {},
     "output_type": "display_data"
    }
   ],
   "source": [
    "setNames(1:4, c('a', 'b', 'c', 'd'))"
   ]
  },
  {
   "cell_type": "markdown",
   "metadata": {},
   "source": [
    "You can use the values of the vector as its names if the nm argument is used."
   ]
  },
  {
   "cell_type": "code",
   "execution_count": 57,
   "metadata": {},
   "outputs": [
    {
     "data": {
      "text/html": [
       "<style>\n",
       ".dl-inline {width: auto; margin:0; padding: 0}\n",
       ".dl-inline>dt, .dl-inline>dd {float: none; width: auto; display: inline-block}\n",
       ".dl-inline>dt::after {content: \":\\0020\"; padding-right: .5ex}\n",
       ".dl-inline>dt:not(:first-of-type) {padding-left: .5ex}\n",
       "</style><dl class=dl-inline><dt>a</dt><dd>'a'</dd><dt>b</dt><dd>'b'</dd><dt>c</dt><dd>'c'</dd><dt>d</dt><dd>'d'</dd></dl>\n"
      ],
      "text/latex": [
       "\\begin{description*}\n",
       "\\item[a] 'a'\n",
       "\\item[b] 'b'\n",
       "\\item[c] 'c'\n",
       "\\item[d] 'd'\n",
       "\\end{description*}\n"
      ],
      "text/markdown": [
       "a\n",
       ":   'a'b\n",
       ":   'b'c\n",
       ":   'c'd\n",
       ":   'd'\n",
       "\n"
      ],
      "text/plain": [
       "  a   b   c   d \n",
       "\"a\" \"b\" \"c\" \"d\" "
      ]
     },
     "metadata": {},
     "output_type": "display_data"
    }
   ],
   "source": [
    "setNames(nm = c('a', 'b', 'c', 'd'))"
   ]
  },
  {
   "cell_type": "markdown",
   "metadata": {},
   "source": [
    "The function `set_names()` has more ways to set the names than `setNames()`. The names can be specified in the same manner as `setNames()`"
   ]
  },
  {
   "cell_type": "code",
   "execution_count": 58,
   "metadata": {},
   "outputs": [
    {
     "data": {
      "text/html": [
       "<style>\n",
       ".dl-inline {width: auto; margin:0; padding: 0}\n",
       ".dl-inline>dt, .dl-inline>dd {float: none; width: auto; display: inline-block}\n",
       ".dl-inline>dt::after {content: \":\\0020\"; padding-right: .5ex}\n",
       ".dl-inline>dt:not(:first-of-type) {padding-left: .5ex}\n",
       "</style><dl class=dl-inline><dt>a</dt><dd>1</dd><dt>b</dt><dd>2</dd><dt>c</dt><dd>3</dd><dt>d</dt><dd>4</dd></dl>\n"
      ],
      "text/latex": [
       "\\begin{description*}\n",
       "\\item[a] 1\n",
       "\\item[b] 2\n",
       "\\item[c] 3\n",
       "\\item[d] 4\n",
       "\\end{description*}\n"
      ],
      "text/markdown": [
       "a\n",
       ":   1b\n",
       ":   2c\n",
       ":   3d\n",
       ":   4\n",
       "\n"
      ],
      "text/plain": [
       "a b c d \n",
       "1 2 3 4 "
      ]
     },
     "metadata": {},
     "output_type": "display_data"
    }
   ],
   "source": [
    "set_names(1:4, c('a', 'b', 'c', 'd'))"
   ]
  },
  {
   "cell_type": "markdown",
   "metadata": {},
   "source": [
    "The names can also be specified as unnamed arguments,"
   ]
  },
  {
   "cell_type": "code",
   "execution_count": 59,
   "metadata": {},
   "outputs": [
    {
     "data": {
      "text/html": [
       "<style>\n",
       ".dl-inline {width: auto; margin:0; padding: 0}\n",
       ".dl-inline>dt, .dl-inline>dd {float: none; width: auto; display: inline-block}\n",
       ".dl-inline>dt::after {content: \":\\0020\"; padding-right: .5ex}\n",
       ".dl-inline>dt:not(:first-of-type) {padding-left: .5ex}\n",
       "</style><dl class=dl-inline><dt>a</dt><dd>1</dd><dt>b</dt><dd>2</dd><dt>c</dt><dd>3</dd><dt>d</dt><dd>4</dd></dl>\n"
      ],
      "text/latex": [
       "\\begin{description*}\n",
       "\\item[a] 1\n",
       "\\item[b] 2\n",
       "\\item[c] 3\n",
       "\\item[d] 4\n",
       "\\end{description*}\n"
      ],
      "text/markdown": [
       "a\n",
       ":   1b\n",
       ":   2c\n",
       ":   3d\n",
       ":   4\n",
       "\n"
      ],
      "text/plain": [
       "a b c d \n",
       "1 2 3 4 "
      ]
     },
     "metadata": {},
     "output_type": "display_data"
    }
   ],
   "source": [
    "set_names(1:4, 'a', 'b', 'c', 'd')"
   ]
  },
  {
   "cell_type": "markdown",
   "metadata": {},
   "source": [
    "The function `set_names()` will name an object with itself if no nm argument is provided (the opposite of `setNames()` behavior)."
   ]
  },
  {
   "cell_type": "code",
   "execution_count": 60,
   "metadata": {},
   "outputs": [
    {
     "data": {
      "text/html": [
       "<style>\n",
       ".dl-inline {width: auto; margin:0; padding: 0}\n",
       ".dl-inline>dt, .dl-inline>dd {float: none; width: auto; display: inline-block}\n",
       ".dl-inline>dt::after {content: \":\\0020\"; padding-right: .5ex}\n",
       ".dl-inline>dt:not(:first-of-type) {padding-left: .5ex}\n",
       "</style><dl class=dl-inline><dt>a</dt><dd>'a'</dd><dt>b</dt><dd>'b'</dd><dt>c</dt><dd>'c'</dd><dt>d</dt><dd>'d'</dd></dl>\n"
      ],
      "text/latex": [
       "\\begin{description*}\n",
       "\\item[a] 'a'\n",
       "\\item[b] 'b'\n",
       "\\item[c] 'c'\n",
       "\\item[d] 'd'\n",
       "\\end{description*}\n"
      ],
      "text/markdown": [
       "a\n",
       ":   'a'b\n",
       ":   'b'c\n",
       ":   'c'd\n",
       ":   'd'\n",
       "\n"
      ],
      "text/plain": [
       "  a   b   c   d \n",
       "\"a\" \"b\" \"c\" \"d\" "
      ]
     },
     "metadata": {},
     "output_type": "display_data"
    }
   ],
   "source": [
    "set_names(c('a', 'b', 'c', 'd'))"
   ]
  },
  {
   "cell_type": "markdown",
   "metadata": {},
   "source": [
    "The biggest difference between `set_names()` and `setNames()` is that `set_names()` allows for using a function or formula to transform the existing names."
   ]
  },
  {
   "cell_type": "code",
   "execution_count": 61,
   "metadata": {},
   "outputs": [
    {
     "data": {
      "text/html": [
       "<style>\n",
       ".dl-inline {width: auto; margin:0; padding: 0}\n",
       ".dl-inline>dt, .dl-inline>dd {float: none; width: auto; display: inline-block}\n",
       ".dl-inline>dt::after {content: \":\\0020\"; padding-right: .5ex}\n",
       ".dl-inline>dt:not(:first-of-type) {padding-left: .5ex}\n",
       "</style><dl class=dl-inline><dt>A</dt><dd>1</dd><dt>B</dt><dd>2</dd><dt>C</dt><dd>3</dd></dl>\n"
      ],
      "text/latex": [
       "\\begin{description*}\n",
       "\\item[A] 1\n",
       "\\item[B] 2\n",
       "\\item[C] 3\n",
       "\\end{description*}\n"
      ],
      "text/markdown": [
       "A\n",
       ":   1B\n",
       ":   2C\n",
       ":   3\n",
       "\n"
      ],
      "text/plain": [
       "A B C \n",
       "1 2 3 "
      ]
     },
     "metadata": {},
     "output_type": "display_data"
    }
   ],
   "source": [
    "set_names(c(a = 1, b = 2, c = 3), toupper)"
   ]
  },
  {
   "cell_type": "code",
   "execution_count": 63,
   "metadata": {},
   "outputs": [
    {
     "data": {
      "text/html": [
       "<style>\n",
       ".dl-inline {width: auto; margin:0; padding: 0}\n",
       ".dl-inline>dt, .dl-inline>dd {float: none; width: auto; display: inline-block}\n",
       ".dl-inline>dt::after {content: \":\\0020\"; padding-right: .5ex}\n",
       ".dl-inline>dt:not(:first-of-type) {padding-left: .5ex}\n",
       "</style><dl class=dl-inline><dt>A</dt><dd>1</dd><dt>B</dt><dd>2</dd><dt>C</dt><dd>3</dd></dl>\n"
      ],
      "text/latex": [
       "\\begin{description*}\n",
       "\\item[A] 1\n",
       "\\item[B] 2\n",
       "\\item[C] 3\n",
       "\\end{description*}\n"
      ],
      "text/markdown": [
       "A\n",
       ":   1B\n",
       ":   2C\n",
       ":   3\n",
       "\n"
      ],
      "text/plain": [
       "A B C \n",
       "1 2 3 "
      ]
     },
     "metadata": {},
     "output_type": "display_data"
    }
   ],
   "source": [
    "set_names(c(a = 1, b = 2, c = 3), ~toupper(.))"
   ]
  },
  {
   "cell_type": "markdown",
   "metadata": {},
   "source": [
    "The `set_names()` function also checks that the length of the names argument is the same length as the vector that is being named, and will raise an error if it is not."
   ]
  },
  {
   "cell_type": "code",
   "execution_count": 64,
   "metadata": {},
   "outputs": [
    {
     "ename": "ERROR",
     "evalue": "Error: `nm` must be `NULL` or a character vector the same length as `x`\n",
     "output_type": "error",
     "traceback": [
      "Error: `nm` must be `NULL` or a character vector the same length as `x`\nTraceback:\n",
      "1. set_names(1:4, c(\"a\", \"b\"))",
      "2. rlang::abort(x)",
      "3. signal_abort(cnd)"
     ]
    }
   ],
   "source": [
    "set_names(1:4, c('a', 'b'))"
   ]
  },
  {
   "cell_type": "markdown",
   "metadata": {},
   "source": [
    "The `setNames()` function will allow the names to be shorter than the vector being named, and will set the missing names to `NA`."
   ]
  },
  {
   "cell_type": "markdown",
   "metadata": {},
   "source": [
    "Excercise\n",
    "\n",
    "\n",
    "\n",
    "Create functions that take a vector as input and returns:\n",
    "\n",
    "    The last value. Should you use [ or [[?\n",
    "    The elements at even numbered positions.\n",
    "    Every element except the last value.\n",
    "    Only even numbers (and no missing values).\n",
    "\n"
   ]
  },
  {
   "cell_type": "code",
   "execution_count": 68,
   "metadata": {},
   "outputs": [
    {
     "data": {
      "text/html": [
       "4"
      ],
      "text/latex": [
       "4"
      ],
      "text/markdown": [
       "4"
      ],
      "text/plain": [
       "[1] 4"
      ]
     },
     "metadata": {},
     "output_type": "display_data"
    }
   ],
   "source": [
    "# this function finds the last value in a vector\n",
    "last_value <- function(x) {\n",
    "    # check for case with no length\n",
    "    if (length(x) > 0) {\n",
    "        x[[length(x)]]\n",
    "    } else {\n",
    "        x\n",
    "    }\n",
    "}\n",
    "\n",
    "last_value(c(1, 2, 3, 4, 5, 4, 3, 4, 5, 6, 5, 6, 5, 4))"
   ]
  },
  {
   "cell_type": "code",
   "execution_count": 69,
   "metadata": {},
   "outputs": [
    {
     "data": {
      "text/html": [
       "<style>\n",
       ".list-inline {list-style: none; margin:0; padding: 0}\n",
       ".list-inline>li {display: inline-block}\n",
       ".list-inline>li:not(:last-child)::after {content: \"\\00b7\"; padding: 0 .5ex}\n",
       "</style>\n",
       "<ol class=list-inline><li>'b'</li><li>'d'</li><li>'f'</li><li>'h'</li><li>'j'</li><li>'l'</li><li>'n'</li><li>'p'</li><li>'r'</li><li>'t'</li><li>'v'</li><li>'x'</li><li>'z'</li></ol>\n"
      ],
      "text/latex": [
       "\\begin{enumerate*}\n",
       "\\item 'b'\n",
       "\\item 'd'\n",
       "\\item 'f'\n",
       "\\item 'h'\n",
       "\\item 'j'\n",
       "\\item 'l'\n",
       "\\item 'n'\n",
       "\\item 'p'\n",
       "\\item 'r'\n",
       "\\item 't'\n",
       "\\item 'v'\n",
       "\\item 'x'\n",
       "\\item 'z'\n",
       "\\end{enumerate*}\n"
      ],
      "text/markdown": [
       "1. 'b'\n",
       "2. 'd'\n",
       "3. 'f'\n",
       "4. 'h'\n",
       "5. 'j'\n",
       "6. 'l'\n",
       "7. 'n'\n",
       "8. 'p'\n",
       "9. 'r'\n",
       "10. 't'\n",
       "11. 'v'\n",
       "12. 'x'\n",
       "13. 'z'\n",
       "\n",
       "\n"
      ],
      "text/plain": [
       " [1] \"b\" \"d\" \"f\" \"h\" \"j\" \"l\" \"n\" \"p\" \"r\" \"t\" \"v\" \"x\" \"z\""
      ]
     },
     "metadata": {},
     "output_type": "display_data"
    }
   ],
   "source": [
    "# this function returns the elements at event number\n",
    "# positions\n",
    "even_indices <- function(x) {\n",
    "    if (length(x) > 0) {\n",
    "        x[seq_along(x) %% 2 == 0]\n",
    "    } else {\n",
    "        x\n",
    "    }\n",
    "}\n",
    "\n",
    "even_indices(letters)"
   ]
  },
  {
   "cell_type": "code",
   "execution_count": 70,
   "metadata": {},
   "outputs": [
    {
     "data": {
      "text/html": [
       "<style>\n",
       ".list-inline {list-style: none; margin:0; padding: 0}\n",
       ".list-inline>li {display: inline-block}\n",
       ".list-inline>li:not(:last-child)::after {content: \"\\00b7\"; padding: 0 .5ex}\n",
       "</style>\n",
       "<ol class=list-inline><li>1</li><li>2</li></ol>\n"
      ],
      "text/latex": [
       "\\begin{enumerate*}\n",
       "\\item 1\n",
       "\\item 2\n",
       "\\end{enumerate*}\n"
      ],
      "text/markdown": [
       "1. 1\n",
       "2. 2\n",
       "\n",
       "\n"
      ],
      "text/plain": [
       "[1] 1 2"
      ]
     },
     "metadata": {},
     "output_type": "display_data"
    }
   ],
   "source": [
    "# this function returns a vector with every\n",
    "# element except the last\n",
    "not_last <- function(x) {\n",
    "    n <- length(x)\n",
    "    if (n) {\n",
    "        x[-n]\n",
    "    } else {\n",
    "        x\n",
    "    }\n",
    "}\n",
    "\n",
    "not_last(1:3)"
   ]
  },
  {
   "cell_type": "code",
   "execution_count": 71,
   "metadata": {},
   "outputs": [
    {
     "data": {
      "text/html": [
       "<style>\n",
       ".list-inline {list-style: none; margin:0; padding: 0}\n",
       ".list-inline>li {display: inline-block}\n",
       ".list-inline>li:not(:last-child)::after {content: \"\\00b7\"; padding: 0 .5ex}\n",
       "</style>\n",
       "<ol class=list-inline><li>-4</li><li>-2</li><li>0</li><li>2</li><li>4</li></ol>\n"
      ],
      "text/latex": [
       "\\begin{enumerate*}\n",
       "\\item -4\n",
       "\\item -2\n",
       "\\item 0\n",
       "\\item 2\n",
       "\\item 4\n",
       "\\end{enumerate*}\n"
      ],
      "text/markdown": [
       "1. -4\n",
       "2. -2\n",
       "3. 0\n",
       "4. 2\n",
       "5. 4\n",
       "\n",
       "\n"
      ],
      "text/plain": [
       "[1] -4 -2  0  2  4"
      ]
     },
     "metadata": {},
     "output_type": "display_data"
    }
   ],
   "source": [
    "# this function returns the elements\n",
    "# of a vector that are even numbers\n",
    "even_numbers <- function(x) {\n",
    "    x[x %% 2 == 0]\n",
    "}\n",
    "\n",
    "even_numbers(-4:4)"
   ]
  },
  {
   "cell_type": "markdown",
   "metadata": {},
   "source": [
    "Excercise\n",
    "\n",
    "\n",
    "\n",
    "Why is `x[-which(x > 0)] ` not the same as ` x[x <= 0]` ?\n"
   ]
  },
  {
   "cell_type": "markdown",
   "metadata": {},
   "source": [
    "These expressions differ in the way that they treat missing values. Let’s test how they work by creating a vector with positive and negative integers, and special values `(NA, NaN, and Inf)`. These values should encompass all relevant types of values that these expressions would encounter."
   ]
  },
  {
   "cell_type": "code",
   "execution_count": 72,
   "metadata": {},
   "outputs": [
    {
     "data": {
      "text/html": [
       "<style>\n",
       ".list-inline {list-style: none; margin:0; padding: 0}\n",
       ".list-inline>li {display: inline-block}\n",
       ".list-inline>li:not(:last-child)::after {content: \"\\00b7\"; padding: 0 .5ex}\n",
       "</style>\n",
       "<ol class=list-inline><li>-1</li><li>0</li><li>-Inf</li><li>NaN</li><li>&lt;NA&gt;</li></ol>\n"
      ],
      "text/latex": [
       "\\begin{enumerate*}\n",
       "\\item -1\n",
       "\\item 0\n",
       "\\item -Inf\n",
       "\\item NaN\n",
       "\\item <NA>\n",
       "\\end{enumerate*}\n"
      ],
      "text/markdown": [
       "1. -1\n",
       "2. 0\n",
       "3. -Inf\n",
       "4. NaN\n",
       "5. &lt;NA&gt;\n",
       "\n",
       "\n"
      ],
      "text/plain": [
       "[1]   -1    0 -Inf  NaN   NA"
      ]
     },
     "metadata": {},
     "output_type": "display_data"
    }
   ],
   "source": [
    "x <- c(-1:1, Inf, -Inf, NaN, NA)\n",
    "x[-which(x > 0)]"
   ]
  },
  {
   "cell_type": "code",
   "execution_count": 73,
   "metadata": {},
   "outputs": [
    {
     "data": {
      "text/html": [
       "<style>\n",
       ".list-inline {list-style: none; margin:0; padding: 0}\n",
       ".list-inline>li {display: inline-block}\n",
       ".list-inline>li:not(:last-child)::after {content: \"\\00b7\"; padding: 0 .5ex}\n",
       "</style>\n",
       "<ol class=list-inline><li>-1</li><li>0</li><li>-Inf</li><li>&lt;NA&gt;</li><li>&lt;NA&gt;</li></ol>\n"
      ],
      "text/latex": [
       "\\begin{enumerate*}\n",
       "\\item -1\n",
       "\\item 0\n",
       "\\item -Inf\n",
       "\\item <NA>\n",
       "\\item <NA>\n",
       "\\end{enumerate*}\n"
      ],
      "text/markdown": [
       "1. -1\n",
       "2. 0\n",
       "3. -Inf\n",
       "4. &lt;NA&gt;\n",
       "5. &lt;NA&gt;\n",
       "\n",
       "\n"
      ],
      "text/plain": [
       "[1]   -1    0 -Inf   NA   NA"
      ]
     },
     "metadata": {},
     "output_type": "display_data"
    }
   ],
   "source": [
    "x[x <= 0]"
   ]
  },
  {
   "cell_type": "markdown",
   "metadata": {},
   "source": [
    "The expressions `x[-which(x > 0)]` and `x[x <= 0]` return the same values except for a `NaN` instead of an `NA` in the expression using which."
   ]
  },
  {
   "cell_type": "markdown",
   "metadata": {},
   "source": [
    "## Recursive Vectors (Lists)"
   ]
  },
  {
   "cell_type": "markdown",
   "metadata": {},
   "source": [
    "Lists are a step up in complexity from atomic vectors, because lists\n",
    "can contain other lists. This makes them suitable for representing\n",
    "hierarchical or tree-like structures. You create a list with `list()`:"
   ]
  },
  {
   "cell_type": "code",
   "execution_count": 74,
   "metadata": {},
   "outputs": [
    {
     "data": {
      "text/html": [
       "<ol>\n",
       "\t<li>1</li>\n",
       "\t<li>2</li>\n",
       "\t<li>3</li>\n",
       "</ol>\n"
      ],
      "text/latex": [
       "\\begin{enumerate}\n",
       "\\item 1\n",
       "\\item 2\n",
       "\\item 3\n",
       "\\end{enumerate}\n"
      ],
      "text/markdown": [
       "1. 1\n",
       "2. 2\n",
       "3. 3\n",
       "\n",
       "\n"
      ],
      "text/plain": [
       "[[1]]\n",
       "[1] 1\n",
       "\n",
       "[[2]]\n",
       "[1] 2\n",
       "\n",
       "[[3]]\n",
       "[1] 3\n"
      ]
     },
     "metadata": {},
     "output_type": "display_data"
    }
   ],
   "source": [
    "x <- list(1, 2, 3)\n",
    "x"
   ]
  },
  {
   "cell_type": "markdown",
   "metadata": {},
   "source": [
    "A very useful tool for working with lists is `str()` because it focuses\n",
    "on the structure, not the contents:"
   ]
  },
  {
   "cell_type": "code",
   "execution_count": 75,
   "metadata": {},
   "outputs": [
    {
     "name": "stdout",
     "output_type": "stream",
     "text": [
      "List of 3\n",
      " $ : num 1\n",
      " $ : num 2\n",
      " $ : num 3\n"
     ]
    }
   ],
   "source": [
    "str(x)"
   ]
  },
  {
   "cell_type": "code",
   "execution_count": 77,
   "metadata": {},
   "outputs": [
    {
     "name": "stdout",
     "output_type": "stream",
     "text": [
      "List of 3\n",
      " $ a: num 1\n",
      " $ b: num 2\n",
      " $ c: num 3\n"
     ]
    }
   ],
   "source": [
    "x_named <- list(a = 1, b = 2, c = 3)\n",
    "str(x_named)"
   ]
  },
  {
   "cell_type": "markdown",
   "metadata": {},
   "source": [
    "Unlike atomic vectors, `lists()` can contain a mix of objects:"
   ]
  },
  {
   "cell_type": "code",
   "execution_count": 78,
   "metadata": {},
   "outputs": [
    {
     "name": "stdout",
     "output_type": "stream",
     "text": [
      "List of 4\n",
      " $ : chr \"a\"\n",
      " $ : int 1\n",
      " $ : num 1.5\n",
      " $ : logi TRUE\n"
     ]
    }
   ],
   "source": [
    "y <- list('a', 1L, 1.5, TRUE)\n",
    "str(y)"
   ]
  },
  {
   "cell_type": "markdown",
   "metadata": {},
   "source": [
    "Lists can even contain other lists!"
   ]
  },
  {
   "cell_type": "code",
   "execution_count": 79,
   "metadata": {},
   "outputs": [
    {
     "name": "stdout",
     "output_type": "stream",
     "text": [
      "List of 2\n",
      " $ :List of 2\n",
      "  ..$ : num 1\n",
      "  ..$ : num 2\n",
      " $ :List of 2\n",
      "  ..$ : num 3\n",
      "  ..$ : num 4\n"
     ]
    }
   ],
   "source": [
    "z <- list(list(1, 2), list(3, 4))\n",
    "str(z)"
   ]
  },
  {
   "cell_type": "markdown",
   "metadata": {},
   "source": [
    "### Subsetting"
   ]
  },
  {
   "cell_type": "markdown",
   "metadata": {},
   "source": [
    "There are three ways to subset a list, which I’ll illustrate with `a` :"
   ]
  },
  {
   "cell_type": "code",
   "execution_count": 80,
   "metadata": {},
   "outputs": [],
   "source": [
    "a <- list(a = 1:3, b = 'a string', c = pi, d = list(-1, -5))"
   ]
  },
  {
   "cell_type": "markdown",
   "metadata": {},
   "source": [
    "`[` extracts a sublist. The result will always be a list:"
   ]
  },
  {
   "cell_type": "code",
   "execution_count": 82,
   "metadata": {},
   "outputs": [
    {
     "name": "stdout",
     "output_type": "stream",
     "text": [
      "List of 2\n",
      " $ a: int [1:3] 1 2 3\n",
      " $ b: chr \"a string\"\n"
     ]
    }
   ],
   "source": [
    "str(a[1:2])"
   ]
  },
  {
   "cell_type": "code",
   "execution_count": 83,
   "metadata": {},
   "outputs": [
    {
     "name": "stdout",
     "output_type": "stream",
     "text": [
      "List of 1\n",
      " $ d:List of 2\n",
      "  ..$ : num -1\n",
      "  ..$ : num -5\n"
     ]
    }
   ],
   "source": [
    "str(a[4])"
   ]
  },
  {
   "cell_type": "markdown",
   "metadata": {},
   "source": [
    "Like with vectors, you can subset with a logical, integer, or character vector."
   ]
  },
  {
   "cell_type": "markdown",
   "metadata": {},
   "source": [
    "`[[` extracts a single component from a list. It removes a level of\n",
    "hierarchy from the list:"
   ]
  },
  {
   "cell_type": "code",
   "execution_count": 84,
   "metadata": {},
   "outputs": [
    {
     "name": "stdout",
     "output_type": "stream",
     "text": [
      " chr \"a\"\n"
     ]
    }
   ],
   "source": [
    "str(y[[1]])"
   ]
  },
  {
   "cell_type": "code",
   "execution_count": 85,
   "metadata": {},
   "outputs": [
    {
     "name": "stdout",
     "output_type": "stream",
     "text": [
      " logi TRUE\n"
     ]
    }
   ],
   "source": [
    "str(y[[4]])"
   ]
  },
  {
   "cell_type": "code",
   "execution_count": 86,
   "metadata": {},
   "outputs": [
    {
     "name": "stdout",
     "output_type": "stream",
     "text": [
      " int [1:3] 1 2 3\n"
     ]
    }
   ],
   "source": [
    "str(a[[1]])"
   ]
  },
  {
   "cell_type": "markdown",
   "metadata": {},
   "source": [
    "`$` is a shorthand for extracting named elements of a list. It works\n",
    "similarly to `[[` except that you don’t need to use quotes:"
   ]
  },
  {
   "cell_type": "code",
   "execution_count": 87,
   "metadata": {},
   "outputs": [
    {
     "data": {
      "text/html": [
       "<style>\n",
       ".list-inline {list-style: none; margin:0; padding: 0}\n",
       ".list-inline>li {display: inline-block}\n",
       ".list-inline>li:not(:last-child)::after {content: \"\\00b7\"; padding: 0 .5ex}\n",
       "</style>\n",
       "<ol class=list-inline><li>1</li><li>2</li><li>3</li></ol>\n"
      ],
      "text/latex": [
       "\\begin{enumerate*}\n",
       "\\item 1\n",
       "\\item 2\n",
       "\\item 3\n",
       "\\end{enumerate*}\n"
      ],
      "text/markdown": [
       "1. 1\n",
       "2. 2\n",
       "3. 3\n",
       "\n",
       "\n"
      ],
      "text/plain": [
       "[1] 1 2 3"
      ]
     },
     "metadata": {},
     "output_type": "display_data"
    }
   ],
   "source": [
    "a$a"
   ]
  },
  {
   "cell_type": "code",
   "execution_count": 88,
   "metadata": {},
   "outputs": [
    {
     "data": {
      "text/html": [
       "<style>\n",
       ".list-inline {list-style: none; margin:0; padding: 0}\n",
       ".list-inline>li {display: inline-block}\n",
       ".list-inline>li:not(:last-child)::after {content: \"\\00b7\"; padding: 0 .5ex}\n",
       "</style>\n",
       "<ol class=list-inline><li>1</li><li>2</li><li>3</li></ol>\n"
      ],
      "text/latex": [
       "\\begin{enumerate*}\n",
       "\\item 1\n",
       "\\item 2\n",
       "\\item 3\n",
       "\\end{enumerate*}\n"
      ],
      "text/markdown": [
       "1. 1\n",
       "2. 2\n",
       "3. 3\n",
       "\n",
       "\n"
      ],
      "text/plain": [
       "[1] 1 2 3"
      ]
     },
     "metadata": {},
     "output_type": "display_data"
    }
   ],
   "source": [
    "a[['a']]"
   ]
  },
  {
   "cell_type": "markdown",
   "metadata": {},
   "source": [
    "The distinction between `[`and `[[` is really important for lists `[[` is really important for lists[[ is really important for lists,\n",
    "because `[[` `d`rills down into the list while [ returns a new, smaller\n",
    "list."
   ]
  },
  {
   "cell_type": "markdown",
   "metadata": {},
   "source": [
    "## Attributes"
   ]
  },
  {
   "cell_type": "markdown",
   "metadata": {},
   "source": [
    "Any vector can contain arbitrary additional metadata through its\n",
    "attributes. You can think of attributes as a named list of vectors that\n",
    "can be attached to any object. You can get and set individual\n",
    "attribute values with `attr()` or see them all at once with\n",
    "`attributes()` :"
   ]
  },
  {
   "cell_type": "code",
   "execution_count": 89,
   "metadata": {},
   "outputs": [
    {
     "data": {
      "text/plain": [
       "NULL"
      ]
     },
     "metadata": {},
     "output_type": "display_data"
    }
   ],
   "source": [
    "x <- 1:10\n",
    "attr(x, 'greeting')"
   ]
  },
  {
   "cell_type": "code",
   "execution_count": 90,
   "metadata": {},
   "outputs": [
    {
     "data": {
      "text/html": [
       "<dl>\n",
       "\t<dt>$greeting</dt>\n",
       "\t\t<dd>'Hi!'</dd>\n",
       "\t<dt>$farewell</dt>\n",
       "\t\t<dd>'Bye!'</dd>\n",
       "</dl>\n"
      ],
      "text/latex": [
       "\\begin{description}\n",
       "\\item[\\$greeting] 'Hi!'\n",
       "\\item[\\$farewell] 'Bye!'\n",
       "\\end{description}\n"
      ],
      "text/markdown": [
       "$greeting\n",
       ":   'Hi!'\n",
       "$farewell\n",
       ":   'Bye!'\n",
       "\n",
       "\n"
      ],
      "text/plain": [
       "$greeting\n",
       "[1] \"Hi!\"\n",
       "\n",
       "$farewell\n",
       "[1] \"Bye!\"\n"
      ]
     },
     "metadata": {},
     "output_type": "display_data"
    }
   ],
   "source": [
    "attr(x, 'greeting') <- 'Hi!'\n",
    "attr(x, 'farewell') <- 'Bye!'\n",
    "attributes(x)"
   ]
  },
  {
   "cell_type": "markdown",
   "metadata": {},
   "source": [
    "There are three very important attributes that are used to implement\n",
    "fundamental parts of R:"
   ]
  },
  {
   "cell_type": "markdown",
   "metadata": {},
   "source": [
    "* _Names_ are used to name the elements of a vector.\n",
    "* _Dimensions_ (dims, for short) make a vector behave like a matrix\n",
    "or array.\n",
    "* _Class_ is used to implement the S3 object-oriented system."
   ]
  },
  {
   "cell_type": "markdown",
   "metadata": {},
   "source": [
    "You’ve seen names earlier, and we won’t cover dimensions because\n",
    "we don’t use matrices in this book. It remains to describe the class,\n",
    "which controls how generic functions work. Generic functions are\n",
    "key to object-oriented programming in R, because they make functions behave differently for different classes of input."
   ]
  },
  {
   "cell_type": "code",
   "execution_count": 91,
   "metadata": {},
   "outputs": [
    {
     "data": {
      "text/html": [
       "<pre class=language-r><code>function (x, ...) \n",
       "UseMethod(\"as.Date\")</code></pre>"
      ],
      "text/latex": [
       "\\begin{minted}{r}\n",
       "function (x, ...) \n",
       "UseMethod(\"as.Date\")\n",
       "\\end{minted}"
      ],
      "text/markdown": [
       "```r\n",
       "function (x, ...) \n",
       "UseMethod(\"as.Date\")\n",
       "```"
      ],
      "text/plain": [
       "function (x, ...) \n",
       "UseMethod(\"as.Date\")\n",
       "<bytecode: 0x561cc91ad9a8>\n",
       "<environment: namespace:base>"
      ]
     },
     "metadata": {},
     "output_type": "display_data"
    }
   ],
   "source": [
    "as.Date"
   ]
  },
  {
   "cell_type": "markdown",
   "metadata": {},
   "source": [
    "The call to “UseMethod” means that this is a generic function, and it\n",
    "will call a specific method, a function, based on the class of the first\n",
    "argument. (All methods are functions; not all functions are meth‐\n",
    "ods.) You can list all the methods for a generic with `methods()` :"
   ]
  },
  {
   "cell_type": "code",
   "execution_count": 92,
   "metadata": {},
   "outputs": [
    {
     "data": {
      "text/plain": [
       "[1] as.Date.character   as.Date.default     as.Date.factor     \n",
       "[4] as.Date.numeric     as.Date.POSIXct     as.Date.POSIXlt    \n",
       "[7] as.Date.vctrs_sclr* as.Date.vctrs_vctr*\n",
       "see '?methods' for accessing help and source code"
      ]
     },
     "metadata": {},
     "output_type": "display_data"
    }
   ],
   "source": [
    "methods('as.Date')"
   ]
  },
  {
   "cell_type": "markdown",
   "metadata": {},
   "source": [
    "For example, if x is a character vector, `as.Date()` will call\n",
    "`as.Date.character()` ; if it’s a factor, it’ll call `as.Date.factor()` ."
   ]
  },
  {
   "cell_type": "markdown",
   "metadata": {},
   "source": [
    "You can see the specific implementation of a method with\n",
    "`getS3method()` :"
   ]
  },
  {
   "cell_type": "code",
   "execution_count": 93,
   "metadata": {},
   "outputs": [
    {
     "data": {
      "text/html": [
       "<pre class=language-r><code>function (x, ...) \n",
       "{\n",
       "<span style=white-space:pre-wrap>    if (inherits(x, \"Date\")) </span>\n",
       "<span style=white-space:pre-wrap>        x</span>\n",
       "<span style=white-space:pre-wrap>    else if (is.null(x)) </span>\n",
       "<span style=white-space:pre-wrap>        .Date(numeric())</span>\n",
       "<span style=white-space:pre-wrap>    else if (is.logical(x) &amp;&amp; all(is.na(x))) </span>\n",
       "<span style=white-space:pre-wrap>        .Date(as.numeric(x))</span>\n",
       "<span style=white-space:pre-wrap>    else stop(gettextf(\"do not know how to convert '%s' to class %s\", </span>\n",
       "<span style=white-space:pre-wrap>        deparse1(substitute(x)), dQuote(\"Date\")), domain = NA)</span>\n",
       "}</code></pre>"
      ],
      "text/latex": [
       "\\begin{minted}{r}\n",
       "function (x, ...) \n",
       "\\{\n",
       "    if (inherits(x, \"Date\")) \n",
       "        x\n",
       "    else if (is.null(x)) \n",
       "        .Date(numeric())\n",
       "    else if (is.logical(x) \\&\\& all(is.na(x))) \n",
       "        .Date(as.numeric(x))\n",
       "    else stop(gettextf(\"do not know how to convert '\\%s' to class \\%s\", \n",
       "        deparse1(substitute(x)), dQuote(\"Date\")), domain = NA)\n",
       "\\}\n",
       "\\end{minted}"
      ],
      "text/markdown": [
       "```r\n",
       "function (x, ...) \n",
       "{\n",
       "    if (inherits(x, \"Date\")) \n",
       "        x\n",
       "    else if (is.null(x)) \n",
       "        .Date(numeric())\n",
       "    else if (is.logical(x) && all(is.na(x))) \n",
       "        .Date(as.numeric(x))\n",
       "    else stop(gettextf(\"do not know how to convert '%s' to class %s\", \n",
       "        deparse1(substitute(x)), dQuote(\"Date\")), domain = NA)\n",
       "}\n",
       "```"
      ],
      "text/plain": [
       "function (x, ...) \n",
       "{\n",
       "    if (inherits(x, \"Date\")) \n",
       "        x\n",
       "    else if (is.null(x)) \n",
       "        .Date(numeric())\n",
       "    else if (is.logical(x) && all(is.na(x))) \n",
       "        .Date(as.numeric(x))\n",
       "    else stop(gettextf(\"do not know how to convert '%s' to class %s\", \n",
       "        deparse1(substitute(x)), dQuote(\"Date\")), domain = NA)\n",
       "}\n",
       "<bytecode: 0x561cca0f47c8>\n",
       "<environment: namespace:base>"
      ]
     },
     "metadata": {},
     "output_type": "display_data"
    }
   ],
   "source": [
    "getS3method('as.Date', 'default')"
   ]
  },
  {
   "cell_type": "code",
   "execution_count": 94,
   "metadata": {},
   "outputs": [
    {
     "data": {
      "text/html": [
       "<pre class=language-r><code>function (x, origin, ...) \n",
       "{\n",
       "<span style=white-space:pre-wrap>    if (missing(origin)) {</span>\n",
       "<span style=white-space:pre-wrap>        if (!length(x)) </span>\n",
       "<span style=white-space:pre-wrap>            return(.Date(numeric()))</span>\n",
       "<span style=white-space:pre-wrap>        if (!any(is.finite(x))) </span>\n",
       "<span style=white-space:pre-wrap>            return(.Date(x))</span>\n",
       "<span style=white-space:pre-wrap>        stop(\"'origin' must be supplied\")</span>\n",
       "<span style=white-space:pre-wrap>    }</span>\n",
       "<span style=white-space:pre-wrap>    as.Date(origin, ...) + x</span>\n",
       "}</code></pre>"
      ],
      "text/latex": [
       "\\begin{minted}{r}\n",
       "function (x, origin, ...) \n",
       "\\{\n",
       "    if (missing(origin)) \\{\n",
       "        if (!length(x)) \n",
       "            return(.Date(numeric()))\n",
       "        if (!any(is.finite(x))) \n",
       "            return(.Date(x))\n",
       "        stop(\"'origin' must be supplied\")\n",
       "    \\}\n",
       "    as.Date(origin, ...) + x\n",
       "\\}\n",
       "\\end{minted}"
      ],
      "text/markdown": [
       "```r\n",
       "function (x, origin, ...) \n",
       "{\n",
       "    if (missing(origin)) {\n",
       "        if (!length(x)) \n",
       "            return(.Date(numeric()))\n",
       "        if (!any(is.finite(x))) \n",
       "            return(.Date(x))\n",
       "        stop(\"'origin' must be supplied\")\n",
       "    }\n",
       "    as.Date(origin, ...) + x\n",
       "}\n",
       "```"
      ],
      "text/plain": [
       "function (x, origin, ...) \n",
       "{\n",
       "    if (missing(origin)) {\n",
       "        if (!length(x)) \n",
       "            return(.Date(numeric()))\n",
       "        if (!any(is.finite(x))) \n",
       "            return(.Date(x))\n",
       "        stop(\"'origin' must be supplied\")\n",
       "    }\n",
       "    as.Date(origin, ...) + x\n",
       "}\n",
       "<bytecode: 0x561ccd871a48>\n",
       "<environment: namespace:base>"
      ]
     },
     "metadata": {},
     "output_type": "display_data"
    }
   ],
   "source": [
    "getS3method('as.Date', 'numeric')"
   ]
  },
  {
   "cell_type": "markdown",
   "metadata": {},
   "source": [
    "The most important S3 generic is `print()` : it controls how the\n",
    "object is printed when you type its name at the console. Other\n",
    "important generics are the subsetting functions `[ , [[ , and $ `."
   ]
  },
  {
   "cell_type": "markdown",
   "metadata": {},
   "source": [
    "## Augmented Vectors"
   ]
  },
  {
   "cell_type": "markdown",
   "metadata": {},
   "source": [
    "Atomic vectors and lists are the building blocks for other important\n",
    "vector types like factors and dates. I call these augmented vectors,\n",
    "because they are vectors with additional attributes, including class.\n",
    "Because augmented vectors have a class, they behave differently to\n",
    "the atomic vector on which they are built."
   ]
  },
  {
   "cell_type": "markdown",
   "metadata": {},
   "source": [
    "### Factors\n",
    "Factors are designed to represent categorical data that can take a\n",
    "fixed set of possible values. Factors are built on top of integers, and\n",
    "have a levels attribute:"
   ]
  },
  {
   "cell_type": "code",
   "execution_count": 95,
   "metadata": {},
   "outputs": [
    {
     "data": {
      "text/html": [
       "'integer'"
      ],
      "text/latex": [
       "'integer'"
      ],
      "text/markdown": [
       "'integer'"
      ],
      "text/plain": [
       "[1] \"integer\""
      ]
     },
     "metadata": {},
     "output_type": "display_data"
    }
   ],
   "source": [
    "x <- factor(c('ab', 'cd', 'ab'), levels = c('ab', 'cd', 'ef'))\n",
    "typeof(x)"
   ]
  },
  {
   "cell_type": "code",
   "execution_count": 96,
   "metadata": {},
   "outputs": [
    {
     "data": {
      "text/html": [
       "<dl>\n",
       "\t<dt>$levels</dt>\n",
       "\t\t<dd><style>\n",
       ".list-inline {list-style: none; margin:0; padding: 0}\n",
       ".list-inline>li {display: inline-block}\n",
       ".list-inline>li:not(:last-child)::after {content: \"\\00b7\"; padding: 0 .5ex}\n",
       "</style>\n",
       "<ol class=list-inline><li>'ab'</li><li>'cd'</li><li>'ef'</li></ol>\n",
       "</dd>\n",
       "\t<dt>$class</dt>\n",
       "\t\t<dd>'factor'</dd>\n",
       "</dl>\n"
      ],
      "text/latex": [
       "\\begin{description}\n",
       "\\item[\\$levels] \\begin{enumerate*}\n",
       "\\item 'ab'\n",
       "\\item 'cd'\n",
       "\\item 'ef'\n",
       "\\end{enumerate*}\n",
       "\n",
       "\\item[\\$class] 'factor'\n",
       "\\end{description}\n"
      ],
      "text/markdown": [
       "$levels\n",
       ":   1. 'ab'\n",
       "2. 'cd'\n",
       "3. 'ef'\n",
       "\n",
       "\n",
       "\n",
       "$class\n",
       ":   'factor'\n",
       "\n",
       "\n"
      ],
      "text/plain": [
       "$levels\n",
       "[1] \"ab\" \"cd\" \"ef\"\n",
       "\n",
       "$class\n",
       "[1] \"factor\"\n"
      ]
     },
     "metadata": {},
     "output_type": "display_data"
    }
   ],
   "source": [
    "attributes(x)"
   ]
  },
  {
   "cell_type": "markdown",
   "metadata": {},
   "source": [
    "### Dates and Date-Times"
   ]
  },
  {
   "cell_type": "markdown",
   "metadata": {},
   "source": [
    "Dates in R are numeric vectors that represent the number of days\n",
    "since 1 January 1970:"
   ]
  },
  {
   "cell_type": "code",
   "execution_count": 97,
   "metadata": {},
   "outputs": [
    {
     "data": {
      "text/html": [
       "365"
      ],
      "text/latex": [
       "365"
      ],
      "text/markdown": [
       "365"
      ],
      "text/plain": [
       "[1] 365"
      ]
     },
     "metadata": {},
     "output_type": "display_data"
    }
   ],
   "source": [
    "x <- as.Date('1971-01-01')\n",
    "unclass(x)"
   ]
  },
  {
   "cell_type": "code",
   "execution_count": 98,
   "metadata": {},
   "outputs": [
    {
     "data": {
      "text/html": [
       "'double'"
      ],
      "text/latex": [
       "'double'"
      ],
      "text/markdown": [
       "'double'"
      ],
      "text/plain": [
       "[1] \"double\""
      ]
     },
     "metadata": {},
     "output_type": "display_data"
    }
   ],
   "source": [
    "typeof(x)"
   ]
  },
  {
   "cell_type": "code",
   "execution_count": 99,
   "metadata": {},
   "outputs": [
    {
     "data": {
      "text/html": [
       "<strong>$class</strong> = 'Date'"
      ],
      "text/latex": [
       "\\textbf{\\$class} = 'Date'"
      ],
      "text/markdown": [
       "**$class** = 'Date'"
      ],
      "text/plain": [
       "$class\n",
       "[1] \"Date\"\n"
      ]
     },
     "metadata": {},
     "output_type": "display_data"
    }
   ],
   "source": [
    "attributes(x)"
   ]
  },
  {
   "cell_type": "markdown",
   "metadata": {},
   "source": [
    "Date-times are numeric vectors with class POSIXct that represent\n",
    "the number of seconds since 1 January 1970. (In case you were wondering, “POSIXct” stands for “Portable Operating System Interface,”\n",
    "calendar time.)"
   ]
  },
  {
   "cell_type": "code",
   "execution_count": 100,
   "metadata": {},
   "outputs": [],
   "source": [
    "x <- lubridate::ymd_hm('1970-01-01 01:00')"
   ]
  },
  {
   "cell_type": "code",
   "execution_count": 101,
   "metadata": {},
   "outputs": [
    {
     "data": {
      "text/html": [
       "3600"
      ],
      "text/latex": [
       "3600"
      ],
      "text/markdown": [
       "3600"
      ],
      "text/plain": [
       "[1] 3600\n",
       "attr(,\"tzone\")\n",
       "[1] \"UTC\""
      ]
     },
     "metadata": {},
     "output_type": "display_data"
    }
   ],
   "source": [
    "unclass(x)"
   ]
  },
  {
   "cell_type": "code",
   "execution_count": 102,
   "metadata": {},
   "outputs": [
    {
     "data": {
      "text/html": [
       "'double'"
      ],
      "text/latex": [
       "'double'"
      ],
      "text/markdown": [
       "'double'"
      ],
      "text/plain": [
       "[1] \"double\""
      ]
     },
     "metadata": {},
     "output_type": "display_data"
    }
   ],
   "source": [
    "typeof(x)"
   ]
  },
  {
   "cell_type": "code",
   "execution_count": 103,
   "metadata": {},
   "outputs": [
    {
     "data": {
      "text/html": [
       "<dl>\n",
       "\t<dt>$class</dt>\n",
       "\t\t<dd><style>\n",
       ".list-inline {list-style: none; margin:0; padding: 0}\n",
       ".list-inline>li {display: inline-block}\n",
       ".list-inline>li:not(:last-child)::after {content: \"\\00b7\"; padding: 0 .5ex}\n",
       "</style>\n",
       "<ol class=list-inline><li>'POSIXct'</li><li>'POSIXt'</li></ol>\n",
       "</dd>\n",
       "\t<dt>$tzone</dt>\n",
       "\t\t<dd>'UTC'</dd>\n",
       "</dl>\n"
      ],
      "text/latex": [
       "\\begin{description}\n",
       "\\item[\\$class] \\begin{enumerate*}\n",
       "\\item 'POSIXct'\n",
       "\\item 'POSIXt'\n",
       "\\end{enumerate*}\n",
       "\n",
       "\\item[\\$tzone] 'UTC'\n",
       "\\end{description}\n"
      ],
      "text/markdown": [
       "$class\n",
       ":   1. 'POSIXct'\n",
       "2. 'POSIXt'\n",
       "\n",
       "\n",
       "\n",
       "$tzone\n",
       ":   'UTC'\n",
       "\n",
       "\n"
      ],
      "text/plain": [
       "$class\n",
       "[1] \"POSIXct\" \"POSIXt\" \n",
       "\n",
       "$tzone\n",
       "[1] \"UTC\"\n"
      ]
     },
     "metadata": {},
     "output_type": "display_data"
    }
   ],
   "source": [
    "attributes(x)"
   ]
  },
  {
   "cell_type": "markdown",
   "metadata": {},
   "source": [
    "The `tzone` attribute is optional. It controls how the time is printed,\n",
    "not what absolute time it refers to:"
   ]
  },
  {
   "cell_type": "code",
   "execution_count": 104,
   "metadata": {},
   "outputs": [
    {
     "data": {
      "text/plain": [
       "[1] \"1969-12-31 17:00:00 PST\""
      ]
     },
     "metadata": {},
     "output_type": "display_data"
    }
   ],
   "source": [
    "attr(x, 'tzone') <- 'US/Pacific'\n",
    "x"
   ]
  },
  {
   "cell_type": "code",
   "execution_count": 106,
   "metadata": {},
   "outputs": [
    {
     "data": {
      "text/plain": [
       "[1] \"1969-12-31 20:00:00 EST\""
      ]
     },
     "metadata": {},
     "output_type": "display_data"
    }
   ],
   "source": [
    "attr(x, 'tzone') <- 'US/Eastern'\n",
    "x"
   ]
  },
  {
   "cell_type": "markdown",
   "metadata": {},
   "source": [
    "### Tibbles"
   ]
  },
  {
   "cell_type": "markdown",
   "metadata": {},
   "source": [
    "Tibbles are augmented lists. They have three classes: `tbl_df` , `tbl` ,\n",
    "and `data.frame` . They have two attributes: (column) `names` and\n",
    "`row.names` ."
   ]
  },
  {
   "cell_type": "code",
   "execution_count": 107,
   "metadata": {},
   "outputs": [
    {
     "data": {
      "text/html": [
       "'list'"
      ],
      "text/latex": [
       "'list'"
      ],
      "text/markdown": [
       "'list'"
      ],
      "text/plain": [
       "[1] \"list\""
      ]
     },
     "metadata": {},
     "output_type": "display_data"
    },
    {
     "data": {
      "text/html": [
       "<dl>\n",
       "\t<dt>$names</dt>\n",
       "\t\t<dd><style>\n",
       ".list-inline {list-style: none; margin:0; padding: 0}\n",
       ".list-inline>li {display: inline-block}\n",
       ".list-inline>li:not(:last-child)::after {content: \"\\00b7\"; padding: 0 .5ex}\n",
       "</style>\n",
       "<ol class=list-inline><li>'x'</li><li>'y'</li></ol>\n",
       "</dd>\n",
       "\t<dt>$row.names</dt>\n",
       "\t\t<dd><style>\n",
       ".list-inline {list-style: none; margin:0; padding: 0}\n",
       ".list-inline>li {display: inline-block}\n",
       ".list-inline>li:not(:last-child)::after {content: \"\\00b7\"; padding: 0 .5ex}\n",
       "</style>\n",
       "<ol class=list-inline><li>1</li><li>2</li><li>3</li><li>4</li><li>5</li></ol>\n",
       "</dd>\n",
       "\t<dt>$class</dt>\n",
       "\t\t<dd><style>\n",
       ".list-inline {list-style: none; margin:0; padding: 0}\n",
       ".list-inline>li {display: inline-block}\n",
       ".list-inline>li:not(:last-child)::after {content: \"\\00b7\"; padding: 0 .5ex}\n",
       "</style>\n",
       "<ol class=list-inline><li>'tbl_df'</li><li>'tbl'</li><li>'data.frame'</li></ol>\n",
       "</dd>\n",
       "</dl>\n"
      ],
      "text/latex": [
       "\\begin{description}\n",
       "\\item[\\$names] \\begin{enumerate*}\n",
       "\\item 'x'\n",
       "\\item 'y'\n",
       "\\end{enumerate*}\n",
       "\n",
       "\\item[\\$row.names] \\begin{enumerate*}\n",
       "\\item 1\n",
       "\\item 2\n",
       "\\item 3\n",
       "\\item 4\n",
       "\\item 5\n",
       "\\end{enumerate*}\n",
       "\n",
       "\\item[\\$class] \\begin{enumerate*}\n",
       "\\item 'tbl\\_df'\n",
       "\\item 'tbl'\n",
       "\\item 'data.frame'\n",
       "\\end{enumerate*}\n",
       "\n",
       "\\end{description}\n"
      ],
      "text/markdown": [
       "$names\n",
       ":   1. 'x'\n",
       "2. 'y'\n",
       "\n",
       "\n",
       "\n",
       "$row.names\n",
       ":   1. 1\n",
       "2. 2\n",
       "3. 3\n",
       "4. 4\n",
       "5. 5\n",
       "\n",
       "\n",
       "\n",
       "$class\n",
       ":   1. 'tbl_df'\n",
       "2. 'tbl'\n",
       "3. 'data.frame'\n",
       "\n",
       "\n",
       "\n",
       "\n",
       "\n"
      ],
      "text/plain": [
       "$names\n",
       "[1] \"x\" \"y\"\n",
       "\n",
       "$row.names\n",
       "[1] 1 2 3 4 5\n",
       "\n",
       "$class\n",
       "[1] \"tbl_df\"     \"tbl\"        \"data.frame\"\n"
      ]
     },
     "metadata": {},
     "output_type": "display_data"
    }
   ],
   "source": [
    "tb <- tibble::tibble(x = 1:5, y = 5:1)\n",
    "typeof(tb)\n",
    "attributes(tb)"
   ]
  },
  {
   "cell_type": "markdown",
   "metadata": {},
   "source": [
    "Traditional `data.frames` have a very similar structure:"
   ]
  },
  {
   "cell_type": "code",
   "execution_count": 108,
   "metadata": {},
   "outputs": [
    {
     "data": {
      "text/html": [
       "'list'"
      ],
      "text/latex": [
       "'list'"
      ],
      "text/markdown": [
       "'list'"
      ],
      "text/plain": [
       "[1] \"list\""
      ]
     },
     "metadata": {},
     "output_type": "display_data"
    },
    {
     "data": {
      "text/html": [
       "<dl>\n",
       "\t<dt>$names</dt>\n",
       "\t\t<dd><style>\n",
       ".list-inline {list-style: none; margin:0; padding: 0}\n",
       ".list-inline>li {display: inline-block}\n",
       ".list-inline>li:not(:last-child)::after {content: \"\\00b7\"; padding: 0 .5ex}\n",
       "</style>\n",
       "<ol class=list-inline><li>'x'</li><li>'y'</li></ol>\n",
       "</dd>\n",
       "\t<dt>$class</dt>\n",
       "\t\t<dd>'data.frame'</dd>\n",
       "\t<dt>$row.names</dt>\n",
       "\t\t<dd><style>\n",
       ".list-inline {list-style: none; margin:0; padding: 0}\n",
       ".list-inline>li {display: inline-block}\n",
       ".list-inline>li:not(:last-child)::after {content: \"\\00b7\"; padding: 0 .5ex}\n",
       "</style>\n",
       "<ol class=list-inline><li>1</li><li>2</li><li>3</li><li>4</li><li>5</li></ol>\n",
       "</dd>\n",
       "</dl>\n"
      ],
      "text/latex": [
       "\\begin{description}\n",
       "\\item[\\$names] \\begin{enumerate*}\n",
       "\\item 'x'\n",
       "\\item 'y'\n",
       "\\end{enumerate*}\n",
       "\n",
       "\\item[\\$class] 'data.frame'\n",
       "\\item[\\$row.names] \\begin{enumerate*}\n",
       "\\item 1\n",
       "\\item 2\n",
       "\\item 3\n",
       "\\item 4\n",
       "\\item 5\n",
       "\\end{enumerate*}\n",
       "\n",
       "\\end{description}\n"
      ],
      "text/markdown": [
       "$names\n",
       ":   1. 'x'\n",
       "2. 'y'\n",
       "\n",
       "\n",
       "\n",
       "$class\n",
       ":   'data.frame'\n",
       "$row.names\n",
       ":   1. 1\n",
       "2. 2\n",
       "3. 3\n",
       "4. 4\n",
       "5. 5\n",
       "\n",
       "\n",
       "\n",
       "\n",
       "\n"
      ],
      "text/plain": [
       "$names\n",
       "[1] \"x\" \"y\"\n",
       "\n",
       "$class\n",
       "[1] \"data.frame\"\n",
       "\n",
       "$row.names\n",
       "[1] 1 2 3 4 5\n"
      ]
     },
     "metadata": {},
     "output_type": "display_data"
    }
   ],
   "source": [
    "df <- data.frame(x = 1:5, y = 5:1)\n",
    "typeof(df)\n",
    "attributes(df)"
   ]
  },
  {
   "cell_type": "code",
   "execution_count": null,
   "metadata": {},
   "outputs": [],
   "source": []
  }
 ],
 "metadata": {
  "kernelspec": {
   "display_name": "R",
   "language": "R",
   "name": "ir"
  },
  "language_info": {
   "codemirror_mode": "r",
   "file_extension": ".r",
   "mimetype": "text/x-r-source",
   "name": "R",
   "pygments_lexer": "r",
   "version": "4.0.2"
  }
 },
 "nbformat": 4,
 "nbformat_minor": 4
}
