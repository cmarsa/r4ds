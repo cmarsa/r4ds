{
 "cells": [
  {
   "cell_type": "markdown",
   "metadata": {},
   "source": [
    "# <div style=\"text-align: right\"> Chapter __14__</div>"
   ]
  },
  {
   "cell_type": "markdown",
   "metadata": {},
   "source": [
    "# __Pipes with magrittr__"
   ]
  },
  {
   "cell_type": "code",
   "execution_count": 1,
   "metadata": {},
   "outputs": [],
   "source": [
    "# config\n",
    "repr_html.tbl_df <- function(obj, ..., rows = 6) repr:::repr_html.data.frame(obj, ..., rows = rows)\n",
    "options(dplyr.summarise.inform = FALSE)"
   ]
  },
  {
   "cell_type": "code",
   "execution_count": 2,
   "metadata": {},
   "outputs": [],
   "source": [
    "library(magrittr)"
   ]
  },
  {
   "cell_type": "markdown",
   "metadata": {},
   "source": [
    "First,\n",
    "note that proactively worrying about memory is not a useful way to\n",
    "spend your time: worry about it when it becomes a problem (i.e.,\n",
    "you run out of memory), not before. Second, R isn’t stupid, and it\n",
    "will share columns across data frames, where possible. Let’s take a\n",
    "look at an actual data manipulation pipeline where we add a new\n",
    "column to ggplot2::diamonds :"
   ]
  },
  {
   "cell_type": "code",
   "execution_count": 3,
   "metadata": {},
   "outputs": [],
   "source": [
    "diamonds <- ggplot2::diamonds\n",
    "diamonds2 <- diamonds %>%\n",
    "    dplyr::mutate(price_per_carat = price / carat)"
   ]
  },
  {
   "cell_type": "code",
   "execution_count": 4,
   "metadata": {},
   "outputs": [
    {
     "name": "stderr",
     "output_type": "stream",
     "text": [
      "Registered S3 method overwritten by 'pryr':\n",
      "  method      from\n",
      "  print.bytes Rcpp\n",
      "\n"
     ]
    },
    {
     "data": {
      "text/plain": [
       "3.46 MB"
      ]
     },
     "metadata": {},
     "output_type": "display_data"
    }
   ],
   "source": [
    "pryr::object_size(diamonds)"
   ]
  },
  {
   "cell_type": "code",
   "execution_count": 5,
   "metadata": {},
   "outputs": [
    {
     "data": {
      "text/plain": [
       "3.89 MB"
      ]
     },
     "metadata": {},
     "output_type": "display_data"
    }
   ],
   "source": [
    "pryr::object_size(diamonds2)"
   ]
  },
  {
   "cell_type": "code",
   "execution_count": 6,
   "metadata": {},
   "outputs": [
    {
     "data": {
      "text/plain": [
       "3.89 MB"
      ]
     },
     "metadata": {},
     "output_type": "display_data"
    }
   ],
   "source": [
    "pryr::object_size(diamonds, diamonds2)"
   ]
  },
  {
   "cell_type": "markdown",
   "metadata": {},
   "source": [
    "`pryr::object_size()` gives the memory occupied by all of its argu‐\n",
    "ments. The results seem counterintuitive at first:\n",
    "* diamonds takes up 3.46 MB.\n",
    "* diamonds2 takes up 3.89 MB.\n",
    "* diamonds and diamonds2 together take up 3.89 MB!"
   ]
  },
  {
   "cell_type": "markdown",
   "metadata": {},
   "source": [
    "How can that work? Well, `diamonds2` has 10 columns in common\n",
    "with diamonds : there’s no need to duplicate all that data, so the two\n",
    "data frames have variables in common. These variables will only get\n",
    "copied if you modify one of them. In the following example, we\n",
    "modify a single value in `diamonds$carat` . That means the carat\n",
    "variable can no longer be shared between the two data frames, and a\n",
    "copy must be made. The size of each data frame is unchanged, but\n",
    "the collective size increases:"
   ]
  },
  {
   "cell_type": "code",
   "execution_count": 7,
   "metadata": {},
   "outputs": [
    {
     "data": {
      "text/plain": [
       "3.46 MB"
      ]
     },
     "metadata": {},
     "output_type": "display_data"
    }
   ],
   "source": [
    "diamonds$carat[1] <- NA\n",
    "pryr::object_size(diamonds)"
   ]
  },
  {
   "cell_type": "code",
   "execution_count": 8,
   "metadata": {},
   "outputs": [
    {
     "data": {
      "text/plain": [
       "3.89 MB"
      ]
     },
     "metadata": {},
     "output_type": "display_data"
    }
   ],
   "source": [
    "pryr::object_size(diamonds2)"
   ]
  },
  {
   "cell_type": "code",
   "execution_count": 9,
   "metadata": {},
   "outputs": [
    {
     "data": {
      "text/plain": [
       "4.32 MB"
      ]
     },
     "metadata": {},
     "output_type": "display_data"
    }
   ],
   "source": [
    "pryr::object_size(diamonds, diamonds2)"
   ]
  },
  {
   "cell_type": "markdown",
   "metadata": {},
   "source": [
    "(Note that we use `pryr::object_size()` here, not the built-in\n",
    "`object.size()` . `object.size()` only takes a single object so it can’t\n",
    "compute how data is shared across multiple objects.)"
   ]
  },
  {
   "cell_type": "markdown",
   "metadata": {},
   "source": [
    "The pipe works by performing a “lexical transformation”: behind the\n",
    "scenes,` magrittr` reassembles the code in the pipe to a form that\n",
    "works by overwriting an intermediate object. When you run a pipe\n",
    "like the preceding one, magrittr does something like this:"
   ]
  },
  {
   "cell_type": "markdown",
   "metadata": {},
   "source": [
    "```r\n",
    "my_pipe <- function(.) {\n",
    "    . <- hop(., through = forest)\n",
    "    . <- scoop(., up = field_mice)\n",
    "    bop(., on = head)\n",
    "}\n",
    "my_pipe(foo_foo)\n",
    "```"
   ]
  },
  {
   "cell_type": "markdown",
   "metadata": {},
   "source": [
    "This means that the pipe won’t work for two classes of functions:"
   ]
  },
  {
   "cell_type": "markdown",
   "metadata": {},
   "source": [
    "* Functions that use the current environment. For example,\n",
    "`assign()` will create a new variable with the given name in the\n",
    "current environment:"
   ]
  },
  {
   "cell_type": "markdown",
   "metadata": {},
   "source": [
    "```r\n",
    "assign('x', 10)\n",
    "x\n",
    "#> [1] 10\n",
    "\n",
    "'x' %>% assign(100)\n",
    "x\n",
    "#> [1] 10\n",
    "```"
   ]
  },
  {
   "cell_type": "markdown",
   "metadata": {},
   "source": [
    "The use of assign with the pipe does not work because it\n",
    "assigns it to a temporary environment used by %>% . If you do\n",
    "want to use assign with the pipe, you must be explicit about the\n",
    "environment:"
   ]
  },
  {
   "cell_type": "code",
   "execution_count": 13,
   "metadata": {},
   "outputs": [
    {
     "data": {
      "text/html": [
       "100"
      ],
      "text/latex": [
       "100"
      ],
      "text/markdown": [
       "100"
      ],
      "text/plain": [
       "[1] 100"
      ]
     },
     "metadata": {},
     "output_type": "display_data"
    }
   ],
   "source": [
    "env <- environment()\n",
    "'x' %>%\n",
    "    assign(100, envir = env)\n",
    "x"
   ]
  },
  {
   "cell_type": "markdown",
   "metadata": {},
   "source": [
    "Other functions with this problem include `get()` and load`()` .``"
   ]
  },
  {
   "cell_type": "markdown",
   "metadata": {},
   "source": [
    "Functions that use lazy evaluation. In R, function arguments are\n",
    "only computed when the function uses them, not prior to calling the function. The pipe computes each element in turn, so\n",
    "you can’t rely on this behavior.\n",
    "One place that this is a problem is `tryCatch()` , which lets you\n",
    "capture and handle errors:"
   ]
  },
  {
   "cell_type": "code",
   "execution_count": 14,
   "metadata": {},
   "outputs": [
    {
     "data": {
      "text/html": [
       "'An error'"
      ],
      "text/latex": [
       "'An error'"
      ],
      "text/markdown": [
       "'An error'"
      ],
      "text/plain": [
       "[1] \"An error\""
      ]
     },
     "metadata": {},
     "output_type": "display_data"
    }
   ],
   "source": [
    "tryCatch(stop('!'), error = function(e) 'An error')"
   ]
  },
  {
   "cell_type": "code",
   "execution_count": 15,
   "metadata": {},
   "outputs": [
    {
     "ename": "ERROR",
     "evalue": "Error in eval(lhs, parent, parent): !\n",
     "output_type": "error",
     "traceback": [
      "Error in eval(lhs, parent, parent): !\nTraceback:\n",
      "1. stop(\"!\") %>% tryCatch(error = function(e) \"An error\")",
      "2. eval(lhs, parent, parent)",
      "3. eval(lhs, parent, parent)",
      "4. stop(\"!\")"
     ]
    }
   ],
   "source": [
    "stop('!') %>%\n",
    "    tryCatch(error = function(e) 'An error')"
   ]
  },
  {
   "cell_type": "markdown",
   "metadata": {},
   "source": [
    "## When not to use the Pipe\n",
    "The pipe is a powerful tool, but it’s not the only tool at your disposal,\n",
    "and it doesn’t solve every problem! Pipes are most useful for rewrit‐\n",
    "ing a fairly short linear sequence of operations. I think you should\n",
    "reach for another tool when:\n",
    "* Your pipes are longer than (say) 10 steps. In that case, create\n",
    "intermediate objects with meaningful names. That will make\n",
    "debugging easier, because you can more easily check the inter‐\n",
    "mediate results, and it makes it easier to understand your code,\n",
    "because the variable names can help communicate intent.\n",
    "* You have multiple inputs or outputs. If there isn’t one primary\n",
    "object being transformed, but two or more objects being com‐\n",
    "bined together, don’t use the pipe.\n",
    "* You are starting to think about a directed graph with a complex\n",
    "dependency structure. Pipes are fundamentally linear and\n",
    "expressing complex relationships with them will typically yield\n",
    "confusing code."
   ]
  },
  {
   "cell_type": "markdown",
   "metadata": {},
   "source": [
    "## Other Tools from magrittr\n",
    "All packages in the tidyverse automatically make %>% available for\n",
    "you, so you don’t normally load magrittr explicitly. However, there\n",
    "are some other useful tools inside magrittr that you might want to\n",
    "try out:\n",
    "* When working with more complex pipes, it’s sometimes useful\n",
    "to call a function for its side effects. Maybe you want to print\n",
    "out the current object, or plot it, or save it to disk. Many times,\n",
    "such functions don’t return anything, effectively terminating the\n",
    "pipe.\n",
    "To work around this problem, you can use the “tee” pipe. %T>%\n",
    "works like %>% except that it returns the lefthand side instead of\n",
    "the righthand side. It’s called “tee” because it’s like a literal T-\n",
    "shaped pipe:"
   ]
  },
  {
   "cell_type": "code",
   "execution_count": 16,
   "metadata": {},
   "outputs": [
    {
     "name": "stdout",
     "output_type": "stream",
     "text": [
      " NULL\n"
     ]
    },
    {
     "data": {
      "image/png": "[encoded data removed]",
      "text/plain": [
       "plot without title"
      ]
     },
     "metadata": {
      "image/png": {
       "height": 420,
       "width": 420
      }
     },
     "output_type": "display_data"
    }
   ],
   "source": [
    "rnorm(100) %>%\n",
    "    matrix(ncol = 2) %>%\n",
    "    plot() %>%\n",
    "    str()"
   ]
  },
  {
   "cell_type": "code",
   "execution_count": 18,
   "metadata": {},
   "outputs": [
    {
     "name": "stdout",
     "output_type": "stream",
     "text": [
      " num [1:50, 1:2] -0.294 -0.035 0.23 -0.965 -0.32 ...\n"
     ]
    },
    {
     "data": {
      "image/png": "[encoded data removed]",
      "text/plain": [
       "plot without title"
      ]
     },
     "metadata": {
      "image/png": {
       "height": 420,
       "width": 420
      }
     },
     "output_type": "display_data"
    }
   ],
   "source": [
    "rnorm(100) %>%\n",
    "    matrix(ncol = 2) %T>%\n",
    "    plot() %>%\n",
    "    str()"
   ]
  },
  {
   "cell_type": "markdown",
   "metadata": {},
   "source": [
    "If you’re working with functions that don’t have a data frame–\n",
    "based API (i.e., you pass them individual vectors, not a data\n",
    "frame and expressions to be evaluated in the context of that data\n",
    "frame), you might find %$% useful. It “explodes” out the variables\n",
    "in a data frame so that you can refer to them explicitly. This is\n",
    "useful when working with many functions in base R:"
   ]
  },
  {
   "cell_type": "code",
   "execution_count": 20,
   "metadata": {},
   "outputs": [
    {
     "data": {
      "text/html": [
       "-0.847551379262479"
      ],
      "text/latex": [
       "-0.847551379262479"
      ],
      "text/markdown": [
       "-0.847551379262479"
      ],
      "text/plain": [
       "[1] -0.8475514"
      ]
     },
     "metadata": {},
     "output_type": "display_data"
    }
   ],
   "source": [
    "cor(mtcars$disp, mtcars$mpg)"
   ]
  },
  {
   "cell_type": "code",
   "execution_count": 21,
   "metadata": {},
   "outputs": [
    {
     "data": {
      "text/html": [
       "-0.847551379262479"
      ],
      "text/latex": [
       "-0.847551379262479"
      ],
      "text/markdown": [
       "-0.847551379262479"
      ],
      "text/plain": [
       "[1] -0.8475514"
      ]
     },
     "metadata": {},
     "output_type": "display_data"
    }
   ],
   "source": [
    "mtcars %$%\n",
    "    cor(disp, mpg)"
   ]
  },
  {
   "cell_type": "code",
   "execution_count": 22,
   "metadata": {},
   "outputs": [
    {
     "ename": "ERROR",
     "evalue": "Error in pmatch(use, c(\"all.obs\", \"complete.obs\", \"pairwise.complete.obs\", : object 'mpg' not found\n",
     "output_type": "error",
     "traceback": [
      "Error in pmatch(use, c(\"all.obs\", \"complete.obs\", \"pairwise.complete.obs\", : object 'mpg' not found\nTraceback:\n",
      "1. mtcars %>% cor(disp, mpg)",
      "2. withVisible(eval(quote(`_fseq`(`_lhs`)), env, env))",
      "3. eval(quote(`_fseq`(`_lhs`)), env, env)",
      "4. eval(quote(`_fseq`(`_lhs`)), env, env)",
      "5. `_fseq`(`_lhs`)",
      "6. freduce(value, `_function_list`)",
      "7. withVisible(function_list[[k]](value))",
      "8. function_list[[k]](value)",
      "9. cor(., disp, mpg)",
      "10. pmatch(use, c(\"all.obs\", \"complete.obs\", \"pairwise.complete.obs\", \n  .     \"everything\", \"na.or.complete\"))"
     ]
    }
   ],
   "source": [
    "mtcars %>%\n",
    "    cor(disp, mpg)"
   ]
  },
  {
   "cell_type": "markdown",
   "metadata": {},
   "source": [
    "For assignment magrittr provides the %<>% operator, which\n",
    "allows you to replace code like:"
   ]
  },
  {
   "cell_type": "code",
   "execution_count": 23,
   "metadata": {},
   "outputs": [],
   "source": [
    "mtcars <- mtcars %>%\n",
    "    transform(cyl = cyl * 2)"
   ]
  },
  {
   "cell_type": "code",
   "execution_count": 24,
   "metadata": {},
   "outputs": [],
   "source": [
    "# with\n",
    "mtcars %<>% transform(cyl = cyl * 2)"
   ]
  },
  {
   "cell_type": "markdown",
   "metadata": {},
   "source": [
    "I’m not a fan of this operator because I think assignment is such\n",
    "a special operation that it should always be clear when it’s occurring. In my opinion, a little bit of duplication (i.e., repeating the\n",
    "name of the object twice) is fine in return for making assignment more explicit."
   ]
  },
  {
   "cell_type": "code",
   "execution_count": null,
   "metadata": {},
   "outputs": [],
   "source": []
  }
 ],
 "metadata": {
  "kernelspec": {
   "display_name": "R",
   "language": "R",
   "name": "ir"
  },
  "language_info": {
   "codemirror_mode": "r",
   "file_extension": ".r",
   "mimetype": "text/x-r-source",
   "name": "R",
   "pygments_lexer": "r",
   "version": "4.0.2"
  }
 },
 "nbformat": 4,
 "nbformat_minor": 4
}
